{
  "nbformat": 4,
  "nbformat_minor": 0,
  "metadata": {
    "colab": {
      "name": "create_named_entity_recognition_model.ipynb",
      "provenance": [],
      "collapsed_sections": [
        "yVtwNZUlv6EA",
        "GGBFLhxXv1V-",
        "DWe9npLYv-JG",
        "ZynP3aFloe2A",
        "EeSDJHXuohfz",
        "3wrqxnNjOes8",
        "MJu3hUhXPOML",
        "QvaqJZ1tP27-",
        "04tP0mfjLPXE",
        "q5xASUbwDf3O",
        "9A1qEenxM5CN",
        "Z5RlV1WdNj6t"
      ],
      "machine_shape": "hm",
      "background_execution": "on"
    },
    "kernelspec": {
      "name": "python3",
      "display_name": "Python 3"
    },
    "language_info": {
      "name": "python"
    },
    "accelerator": "TPU",
    "gpuClass": "standard"
  },
  "cells": [
    {
      "cell_type": "markdown",
      "source": [
        "# 개체명 인식 정리 "
      ],
      "metadata": {
        "id": "yVtwNZUlv6EA"
      }
    },
    {
      "cell_type": "markdown",
      "source": [
        "개체명인식 필요대상\n",
        "\n",
        "\n",
        "---\n",
        "\n",
        "\n",
        "| NAMED ENTITY | LABEL | 적용여부\n",
        "|---|---|---|\n",
        "| 부대명 | B-TROOPS | O |\n",
        "| 시간 | B-DATES | O |\n",
        "| 도서명 | B-BOOKS | O |\n",
        "| 저자명 | B-PERSON | O |\n",
        "| 직급 | B-RANK | O |\n",
        "| 급여 | B-PAY | O |\n",
        "| 시설 | B-FAC | O |\n",
        "| 지역 | B-LOC| O |\n",
        "| 주택 | B-HOUSE | O |\n",
        "| 군구분 | B-MILTYPE | O |"
      ],
      "metadata": {
        "id": "6jBzmJJ9Ajfq"
      }
    },
    {
      "cell_type": "markdown",
      "source": [
        "# jupyter git clone"
      ],
      "metadata": {
        "id": "GGBFLhxXv1V-"
      }
    },
    {
      "cell_type": "code",
      "source": [
        "rm -rf 2022Military-Chatbot-jupyter"
      ],
      "metadata": {
        "id": "uxwTZgHXJ9mm"
      },
      "execution_count": null,
      "outputs": []
    },
    {
      "cell_type": "code",
      "source": [
        "!git clone  https://github.com/koscomcop/2022Military-Chatbot-jupyter.git"
      ],
      "metadata": {
        "colab": {
          "base_uri": "https://localhost:8080/"
        },
        "id": "babvDh0vuvwn",
        "outputId": "2c19bfbd-eb4c-4c34-a8dd-9370041f6872"
      },
      "execution_count": null,
      "outputs": [
        {
          "output_type": "stream",
          "name": "stdout",
          "text": [
            "Cloning into '2022Military-Chatbot-jupyter'...\n",
            "remote: Enumerating objects: 265, done.\u001b[K\n",
            "remote: Counting objects: 100% (7/7), done.\u001b[K\n",
            "remote: Compressing objects: 100% (7/7), done.\u001b[K\n",
            "remote: Total 265 (delta 0), reused 3 (delta 0), pack-reused 258\u001b[K\n",
            "Receiving objects: 100% (265/265), 113.07 MiB | 42.27 MiB/s, done.\n",
            "Resolving deltas: 100% (113/113), done.\n"
          ]
        }
      ]
    },
    {
      "cell_type": "code",
      "source": [
        "from google.colab import drive\n",
        "drive.mount('/content/drive')"
      ],
      "metadata": {
        "colab": {
          "base_uri": "https://localhost:8080/"
        },
        "id": "MuZo5det1jF4",
        "outputId": "65e6ef2d-fd48-42c9-e202-1a1d2b915bfb"
      },
      "execution_count": null,
      "outputs": [
        {
          "output_type": "stream",
          "name": "stdout",
          "text": [
            "Mounted at /content/drive\n"
          ]
        }
      ]
    },
    {
      "cell_type": "markdown",
      "source": [
        "#jupyter file 복제"
      ],
      "metadata": {
        "id": "DWe9npLYv-JG"
      }
    },
    {
      "cell_type": "code",
      "source": [
        "HOME_PATH='/content/drive/MyDrive'\n",
        "WORK_DIR=HOME_PATH+'/military-chatbot'\n",
        "MODEL_DIR=HOME_PATH+'/model'\n",
        "FILES_DIR=WORK_DIR+'/files'"
      ],
      "metadata": {
        "id": "xoxMGZNkwSOn"
      },
      "execution_count": null,
      "outputs": []
    },
    {
      "cell_type": "code",
      "source": [
        "!mkdir {MODEL_DIR}"
      ],
      "metadata": {
        "colab": {
          "base_uri": "https://localhost:8080/"
        },
        "id": "1OksdUTwZlHu",
        "outputId": "04d26996-808a-4ca3-85f5-4275afe248a6"
      },
      "execution_count": null,
      "outputs": [
        {
          "output_type": "stream",
          "name": "stdout",
          "text": [
            "mkdir: cannot create directory ‘/content/drive/MyDrive/model’: File exists\n"
          ]
        }
      ]
    },
    {
      "cell_type": "code",
      "source": [
        "!rm -rf {FILES_DIR}"
      ],
      "metadata": {
        "id": "qc6StNxKGgxA"
      },
      "execution_count": null,
      "outputs": []
    },
    {
      "cell_type": "code",
      "source": [
        "!mkdir {FILES_DIR}"
      ],
      "metadata": {
        "id": "r_R6hlRaGncA"
      },
      "execution_count": null,
      "outputs": []
    },
    {
      "cell_type": "code",
      "source": [
        "!ls {FILES_DIR}"
      ],
      "metadata": {
        "id": "7vyDaeYKGwyV"
      },
      "execution_count": null,
      "outputs": []
    },
    {
      "cell_type": "code",
      "source": [
        "!cp -R '/content/2022Military-Chatbot-jupyter/files' {WORK_DIR}"
      ],
      "metadata": {
        "id": "k4SGLy1vwBnq"
      },
      "execution_count": null,
      "outputs": []
    },
    {
      "cell_type": "code",
      "source": [
        "!ls -al /content/2022Military-Chatbot-jupyter/files"
      ],
      "metadata": {
        "colab": {
          "base_uri": "https://localhost:8080/"
        },
        "id": "YOpvl65131dj",
        "outputId": "c1b5ebd3-f105-4894-ebfd-b5ac17aa3e6d"
      },
      "execution_count": null,
      "outputs": [
        {
          "output_type": "stream",
          "name": "stdout",
          "text": [
            "total 52364\n",
            "drwxr-xr-x 2 root root     4096 Aug  4 04:21  .\n",
            "drwxr-xr-x 7 root root     4096 Aug  4 04:21  ..\n",
            "-rw-r--r-- 1 root root    71680 Aug  4 04:21 '참가신청서 양식_서비스 개발 부문(2022).hwp'\n",
            "-rw-r--r-- 1 root root    19456 Aug  4 04:21 '사업계획서 양식_서비스 개발 부문(2022).hwp'\n",
            "-rw-r--r-- 1 root root    17001 Aug  4 04:21 \"22'챗봇_질의설계서_v1.0.xlsx\"\n",
            "-rw-r--r-- 1 root root 15153452 Aug  4 04:21  호국체Bold_TTF.ttf\n",
            "-rw-r--r-- 1 root root      570 Aug  4 04:21  config_bert.json\n",
            "-rw-r--r-- 1 root root      539 Aug  4 04:21  config_bertseqclassification.json\n",
            "-rw-r--r-- 1 root root  1096708 Aug  4 04:21  저자.csv\n",
            "-rw-r--r-- 1 root root     3991 Aug  4 04:21  시설.csv\n",
            "-rw-r--r-- 1 root root   227679 Aug  4 04:21  부대.csv\n",
            "-rw-r--r-- 1 root root    55840 Aug  4 04:21  주택.csv\n",
            "-rw-r--r-- 1 root root      245 Aug  4 04:21  식단.csv\n",
            "-rw-r--r-- 1 root root      169 Aug  4 04:21  직급.csv\n",
            "-rw-r--r-- 1 root root     2781 Aug  4 04:21  지역.csv\n",
            "-rw-r--r-- 1 root root      121 Aug  4 04:21  계급.csv\n",
            "-rw-r--r-- 1 root root  4014018 Aug  4 04:21  도서명.csv\n",
            "-rw-r--r-- 1 root root       33 Aug  4 04:21  군구분.csv\n",
            "-rw-r--r-- 1 root root     2342 Aug  4 04:21  부대번호.csv\n",
            "-rw-r--r-- 1 root root     2289 Aug  4 04:21  식단제공부대.csv\n",
            "-rw-r--r-- 1 root root   811797 Aug  4 04:21  intent_tokenizer.pickle\n",
            "-rw-r--r-- 1 root root      134 Aug  4 04:21  nnp.csv\n",
            "-rw-r--r-- 1 root root  5286314 Aug  4 04:21  raw_chat.csv\n",
            "-rw-r--r-- 1 root root 13637868 Aug  4 04:21  호국체Std_TTF.ttf\n",
            "-rw-r--r-- 1 root root   454223 Aug  4 04:21  train_book.csv\n",
            "-rw-r--r-- 1 root root   424018 Aug  4 04:21  train_chat.csv\n",
            "-rw-r--r-- 1 root root   411718 Aug  4 04:21  train_housing.csv\n",
            "-rw-r--r-- 1 root root   193674 Aug  4 04:21  train_menu.csv\n",
            "-rw-r--r-- 1 root root   169083 Aug  4 04:21  train_pay.csv\n",
            "-rw-r--r-- 1 root root    25036 Aug  4 04:21  train_personnel.csv\n",
            "-rw-r--r-- 1 root root   373686 Aug  4 04:21  train_welfare.csv\n",
            "-rw-r--r-- 1 root root 11102250 Aug  4 04:21  user_nnp.csv\n"
          ]
        }
      ]
    },
    {
      "cell_type": "code",
      "source": [
        "FILES_DIR"
      ],
      "metadata": {
        "colab": {
          "base_uri": "https://localhost:8080/",
          "height": 35
        },
        "id": "eEKf6OzyF8GE",
        "outputId": "28337d0f-e6c6-4046-ca59-a46904a9c00d"
      },
      "execution_count": null,
      "outputs": [
        {
          "output_type": "execute_result",
          "data": {
            "text/plain": [
              "'/content/drive/MyDrive/military-chatbot/files'"
            ],
            "application/vnd.google.colaboratory.intrinsic+json": {
              "type": "string"
            }
          },
          "metadata": {},
          "execution_count": 9
        }
      ]
    },
    {
      "cell_type": "markdown",
      "source": [
        "#mecab 테스트"
      ],
      "metadata": {
        "id": "57jvA88Nl4fr"
      }
    },
    {
      "cell_type": "code",
      "source": [
        "!pip uninstall keras-nightly\n",
        "!pip uninstall -y tensorflow\n",
        "!pip install tensorflow==1.14.0\n",
        "!pip install keras==2.2.4\n",
        "!pip install tensorflow-gpu==1.14.0\n",
        "!pip install h5py==2.10.0"
      ],
      "metadata": {
        "colab": {
          "base_uri": "https://localhost:8080/"
        },
        "id": "RtTgYI-lzEfA",
        "outputId": "bafa7617-4136-48e3-d6fe-eaceeaf97017"
      },
      "execution_count": null,
      "outputs": [
        {
          "output_type": "stream",
          "name": "stdout",
          "text": [
            "\u001b[33mWARNING: Skipping keras-nightly as it is not installed.\u001b[0m\n",
            "Found existing installation: tensorflow 2.8.2+zzzcolab20220719082949\n",
            "Uninstalling tensorflow-2.8.2+zzzcolab20220719082949:\n",
            "  Successfully uninstalled tensorflow-2.8.2+zzzcolab20220719082949\n",
            "Looking in indexes: https://pypi.org/simple, https://us-python.pkg.dev/colab-wheels/public/simple/\n",
            "Collecting tensorflow==1.14.0\n",
            "  Downloading tensorflow-1.14.0-cp37-cp37m-manylinux1_x86_64.whl (109.3 MB)\n",
            "\u001b[K     |████████████████████████████████| 109.3 MB 121.6 MB/s \n",
            "\u001b[?25hRequirement already satisfied: astor>=0.6.0 in /usr/local/lib/python3.7/dist-packages (from tensorflow==1.14.0) (0.8.1)\n",
            "Requirement already satisfied: gast>=0.2.0 in /usr/local/lib/python3.7/dist-packages (from tensorflow==1.14.0) (0.5.3)\n",
            "Requirement already satisfied: six>=1.10.0 in /usr/local/lib/python3.7/dist-packages (from tensorflow==1.14.0) (1.15.0)\n",
            "Requirement already satisfied: google-pasta>=0.1.6 in /usr/local/lib/python3.7/dist-packages (from tensorflow==1.14.0) (0.2.0)\n",
            "Requirement already satisfied: keras-preprocessing>=1.0.5 in /usr/local/lib/python3.7/dist-packages (from tensorflow==1.14.0) (1.1.2)\n",
            "Requirement already satisfied: termcolor>=1.1.0 in /usr/local/lib/python3.7/dist-packages (from tensorflow==1.14.0) (1.1.0)\n",
            "Requirement already satisfied: wheel>=0.26 in /usr/local/lib/python3.7/dist-packages (from tensorflow==1.14.0) (0.37.1)\n",
            "Requirement already satisfied: absl-py>=0.7.0 in /usr/local/lib/python3.7/dist-packages (from tensorflow==1.14.0) (1.2.0)\n",
            "Requirement already satisfied: numpy<2.0,>=1.14.5 in /usr/local/lib/python3.7/dist-packages (from tensorflow==1.14.0) (1.21.6)\n",
            "Requirement already satisfied: grpcio>=1.8.6 in /usr/local/lib/python3.7/dist-packages (from tensorflow==1.14.0) (1.47.0)\n",
            "Requirement already satisfied: wrapt>=1.11.1 in /usr/local/lib/python3.7/dist-packages (from tensorflow==1.14.0) (1.14.1)\n",
            "Collecting tensorboard<1.15.0,>=1.14.0\n",
            "  Downloading tensorboard-1.14.0-py3-none-any.whl (3.1 MB)\n",
            "\u001b[K     |████████████████████████████████| 3.1 MB 69.1 MB/s \n",
            "\u001b[?25hCollecting tensorflow-estimator<1.15.0rc0,>=1.14.0rc0\n",
            "  Downloading tensorflow_estimator-1.14.0-py2.py3-none-any.whl (488 kB)\n",
            "\u001b[K     |████████████████████████████████| 488 kB 80.4 MB/s \n",
            "\u001b[?25hRequirement already satisfied: protobuf>=3.6.1 in /usr/local/lib/python3.7/dist-packages (from tensorflow==1.14.0) (3.17.3)\n",
            "Collecting keras-applications>=1.0.6\n",
            "  Downloading Keras_Applications-1.0.8-py3-none-any.whl (50 kB)\n",
            "\u001b[K     |████████████████████████████████| 50 kB 7.5 MB/s \n",
            "\u001b[?25hRequirement already satisfied: h5py in /usr/local/lib/python3.7/dist-packages (from keras-applications>=1.0.6->tensorflow==1.14.0) (3.1.0)\n",
            "Requirement already satisfied: setuptools>=41.0.0 in /usr/local/lib/python3.7/dist-packages (from tensorboard<1.15.0,>=1.14.0->tensorflow==1.14.0) (57.4.0)\n",
            "Requirement already satisfied: markdown>=2.6.8 in /usr/local/lib/python3.7/dist-packages (from tensorboard<1.15.0,>=1.14.0->tensorflow==1.14.0) (3.4.1)\n",
            "Requirement already satisfied: werkzeug>=0.11.15 in /usr/local/lib/python3.7/dist-packages (from tensorboard<1.15.0,>=1.14.0->tensorflow==1.14.0) (1.0.1)\n",
            "Requirement already satisfied: importlib-metadata>=4.4 in /usr/local/lib/python3.7/dist-packages (from markdown>=2.6.8->tensorboard<1.15.0,>=1.14.0->tensorflow==1.14.0) (4.12.0)\n",
            "Requirement already satisfied: typing-extensions>=3.6.4 in /usr/local/lib/python3.7/dist-packages (from importlib-metadata>=4.4->markdown>=2.6.8->tensorboard<1.15.0,>=1.14.0->tensorflow==1.14.0) (4.1.1)\n",
            "Requirement already satisfied: zipp>=0.5 in /usr/local/lib/python3.7/dist-packages (from importlib-metadata>=4.4->markdown>=2.6.8->tensorboard<1.15.0,>=1.14.0->tensorflow==1.14.0) (3.8.1)\n",
            "Requirement already satisfied: cached-property in /usr/local/lib/python3.7/dist-packages (from h5py->keras-applications>=1.0.6->tensorflow==1.14.0) (1.5.2)\n",
            "Installing collected packages: tensorflow-estimator, tensorboard, keras-applications, tensorflow\n",
            "  Attempting uninstall: tensorflow-estimator\n",
            "    Found existing installation: tensorflow-estimator 2.8.0\n",
            "    Uninstalling tensorflow-estimator-2.8.0:\n",
            "      Successfully uninstalled tensorflow-estimator-2.8.0\n",
            "  Attempting uninstall: tensorboard\n",
            "    Found existing installation: tensorboard 2.8.0\n",
            "    Uninstalling tensorboard-2.8.0:\n",
            "      Successfully uninstalled tensorboard-2.8.0\n",
            "\u001b[31mERROR: pip's dependency resolver does not currently take into account all the packages that are installed. This behaviour is the source of the following dependency conflicts.\n",
            "kapre 0.3.7 requires tensorflow>=2.0.0, but you have tensorflow 1.14.0 which is incompatible.\u001b[0m\n",
            "Successfully installed keras-applications-1.0.8 tensorboard-1.14.0 tensorflow-1.14.0 tensorflow-estimator-1.14.0\n",
            "Looking in indexes: https://pypi.org/simple, https://us-python.pkg.dev/colab-wheels/public/simple/\n",
            "Collecting keras==2.2.4\n",
            "  Downloading Keras-2.2.4-py2.py3-none-any.whl (312 kB)\n",
            "\u001b[K     |████████████████████████████████| 312 kB 4.7 MB/s \n",
            "\u001b[?25hRequirement already satisfied: keras-applications>=1.0.6 in /usr/local/lib/python3.7/dist-packages (from keras==2.2.4) (1.0.8)\n",
            "Requirement already satisfied: h5py in /usr/local/lib/python3.7/dist-packages (from keras==2.2.4) (3.1.0)\n",
            "Requirement already satisfied: keras-preprocessing>=1.0.5 in /usr/local/lib/python3.7/dist-packages (from keras==2.2.4) (1.1.2)\n",
            "Requirement already satisfied: pyyaml in /usr/local/lib/python3.7/dist-packages (from keras==2.2.4) (3.13)\n",
            "Requirement already satisfied: scipy>=0.14 in /usr/local/lib/python3.7/dist-packages (from keras==2.2.4) (1.7.3)\n",
            "Requirement already satisfied: numpy>=1.9.1 in /usr/local/lib/python3.7/dist-packages (from keras==2.2.4) (1.21.6)\n",
            "Requirement already satisfied: six>=1.9.0 in /usr/local/lib/python3.7/dist-packages (from keras==2.2.4) (1.15.0)\n",
            "Requirement already satisfied: cached-property in /usr/local/lib/python3.7/dist-packages (from h5py->keras==2.2.4) (1.5.2)\n",
            "Installing collected packages: keras\n",
            "  Attempting uninstall: keras\n",
            "    Found existing installation: keras 2.8.0\n",
            "    Uninstalling keras-2.8.0:\n",
            "      Successfully uninstalled keras-2.8.0\n",
            "Successfully installed keras-2.2.4\n",
            "Looking in indexes: https://pypi.org/simple, https://us-python.pkg.dev/colab-wheels/public/simple/\n",
            "Collecting tensorflow-gpu==1.14.0\n",
            "  Downloading tensorflow_gpu-1.14.0-cp37-cp37m-manylinux1_x86_64.whl (377.1 MB)\n",
            "\u001b[K     |████████████████████████████████| 377.1 MB 7.1 kB/s \n",
            "\u001b[?25hRequirement already satisfied: keras-preprocessing>=1.0.5 in /usr/local/lib/python3.7/dist-packages (from tensorflow-gpu==1.14.0) (1.1.2)\n",
            "Requirement already satisfied: tensorflow-estimator<1.15.0rc0,>=1.14.0rc0 in /usr/local/lib/python3.7/dist-packages (from tensorflow-gpu==1.14.0) (1.14.0)\n",
            "Requirement already satisfied: absl-py>=0.7.0 in /usr/local/lib/python3.7/dist-packages (from tensorflow-gpu==1.14.0) (1.2.0)\n",
            "Requirement already satisfied: google-pasta>=0.1.6 in /usr/local/lib/python3.7/dist-packages (from tensorflow-gpu==1.14.0) (0.2.0)\n",
            "Requirement already satisfied: protobuf>=3.6.1 in /usr/local/lib/python3.7/dist-packages (from tensorflow-gpu==1.14.0) (3.17.3)\n",
            "Requirement already satisfied: tensorboard<1.15.0,>=1.14.0 in /usr/local/lib/python3.7/dist-packages (from tensorflow-gpu==1.14.0) (1.14.0)\n",
            "Requirement already satisfied: grpcio>=1.8.6 in /usr/local/lib/python3.7/dist-packages (from tensorflow-gpu==1.14.0) (1.47.0)\n",
            "Requirement already satisfied: wheel>=0.26 in /usr/local/lib/python3.7/dist-packages (from tensorflow-gpu==1.14.0) (0.37.1)\n",
            "Requirement already satisfied: keras-applications>=1.0.6 in /usr/local/lib/python3.7/dist-packages (from tensorflow-gpu==1.14.0) (1.0.8)\n",
            "Requirement already satisfied: six>=1.10.0 in /usr/local/lib/python3.7/dist-packages (from tensorflow-gpu==1.14.0) (1.15.0)\n",
            "Requirement already satisfied: astor>=0.6.0 in /usr/local/lib/python3.7/dist-packages (from tensorflow-gpu==1.14.0) (0.8.1)\n",
            "Requirement already satisfied: termcolor>=1.1.0 in /usr/local/lib/python3.7/dist-packages (from tensorflow-gpu==1.14.0) (1.1.0)\n",
            "Requirement already satisfied: numpy<2.0,>=1.14.5 in /usr/local/lib/python3.7/dist-packages (from tensorflow-gpu==1.14.0) (1.21.6)\n",
            "Requirement already satisfied: gast>=0.2.0 in /usr/local/lib/python3.7/dist-packages (from tensorflow-gpu==1.14.0) (0.5.3)\n",
            "Requirement already satisfied: wrapt>=1.11.1 in /usr/local/lib/python3.7/dist-packages (from tensorflow-gpu==1.14.0) (1.14.1)\n",
            "Requirement already satisfied: h5py in /usr/local/lib/python3.7/dist-packages (from keras-applications>=1.0.6->tensorflow-gpu==1.14.0) (3.1.0)\n",
            "Requirement already satisfied: setuptools>=41.0.0 in /usr/local/lib/python3.7/dist-packages (from tensorboard<1.15.0,>=1.14.0->tensorflow-gpu==1.14.0) (57.4.0)\n",
            "Requirement already satisfied: markdown>=2.6.8 in /usr/local/lib/python3.7/dist-packages (from tensorboard<1.15.0,>=1.14.0->tensorflow-gpu==1.14.0) (3.4.1)\n",
            "Requirement already satisfied: werkzeug>=0.11.15 in /usr/local/lib/python3.7/dist-packages (from tensorboard<1.15.0,>=1.14.0->tensorflow-gpu==1.14.0) (1.0.1)\n",
            "Requirement already satisfied: importlib-metadata>=4.4 in /usr/local/lib/python3.7/dist-packages (from markdown>=2.6.8->tensorboard<1.15.0,>=1.14.0->tensorflow-gpu==1.14.0) (4.12.0)\n",
            "Requirement already satisfied: zipp>=0.5 in /usr/local/lib/python3.7/dist-packages (from importlib-metadata>=4.4->markdown>=2.6.8->tensorboard<1.15.0,>=1.14.0->tensorflow-gpu==1.14.0) (3.8.1)\n",
            "Requirement already satisfied: typing-extensions>=3.6.4 in /usr/local/lib/python3.7/dist-packages (from importlib-metadata>=4.4->markdown>=2.6.8->tensorboard<1.15.0,>=1.14.0->tensorflow-gpu==1.14.0) (4.1.1)\n",
            "Requirement already satisfied: cached-property in /usr/local/lib/python3.7/dist-packages (from h5py->keras-applications>=1.0.6->tensorflow-gpu==1.14.0) (1.5.2)\n",
            "Installing collected packages: tensorflow-gpu\n",
            "Successfully installed tensorflow-gpu-1.14.0\n",
            "Looking in indexes: https://pypi.org/simple, https://us-python.pkg.dev/colab-wheels/public/simple/\n",
            "Collecting h5py==2.10.0\n",
            "  Downloading h5py-2.10.0-cp37-cp37m-manylinux1_x86_64.whl (2.9 MB)\n",
            "\u001b[K     |████████████████████████████████| 2.9 MB 4.9 MB/s \n",
            "\u001b[?25hRequirement already satisfied: six in /usr/local/lib/python3.7/dist-packages (from h5py==2.10.0) (1.15.0)\n",
            "Requirement already satisfied: numpy>=1.7 in /usr/local/lib/python3.7/dist-packages (from h5py==2.10.0) (1.21.6)\n",
            "Installing collected packages: h5py\n",
            "  Attempting uninstall: h5py\n",
            "    Found existing installation: h5py 3.1.0\n",
            "    Uninstalling h5py-3.1.0:\n",
            "      Successfully uninstalled h5py-3.1.0\n",
            "Successfully installed h5py-2.10.0\n"
          ]
        }
      ]
    },
    {
      "cell_type": "code",
      "source": [
        "!pip install git+https://www.github.com/keras-team/keras-contrib.git"
      ],
      "metadata": {
        "colab": {
          "base_uri": "https://localhost:8080/"
        },
        "id": "JxTrzgUf7R8_",
        "outputId": "ee94ddd5-82d1-49de-c886-b94cb2c710d3"
      },
      "execution_count": null,
      "outputs": [
        {
          "output_type": "stream",
          "name": "stdout",
          "text": [
            "Looking in indexes: https://pypi.org/simple, https://us-python.pkg.dev/colab-wheels/public/simple/\n",
            "Collecting git+https://www.github.com/keras-team/keras-contrib.git\n",
            "  Cloning https://www.github.com/keras-team/keras-contrib.git to /tmp/pip-req-build-4_kpoivc\n",
            "  Running command git clone -q https://www.github.com/keras-team/keras-contrib.git /tmp/pip-req-build-4_kpoivc\n",
            "Requirement already satisfied: keras in /usr/local/lib/python3.7/dist-packages (from keras-contrib==2.0.8) (2.2.4)\n",
            "Requirement already satisfied: numpy>=1.9.1 in /usr/local/lib/python3.7/dist-packages (from keras->keras-contrib==2.0.8) (1.21.6)\n",
            "Requirement already satisfied: keras-applications>=1.0.6 in /usr/local/lib/python3.7/dist-packages (from keras->keras-contrib==2.0.8) (1.0.8)\n",
            "Requirement already satisfied: h5py in /usr/local/lib/python3.7/dist-packages (from keras->keras-contrib==2.0.8) (2.10.0)\n",
            "Requirement already satisfied: keras-preprocessing>=1.0.5 in /usr/local/lib/python3.7/dist-packages (from keras->keras-contrib==2.0.8) (1.1.2)\n",
            "Requirement already satisfied: scipy>=0.14 in /usr/local/lib/python3.7/dist-packages (from keras->keras-contrib==2.0.8) (1.7.3)\n",
            "Requirement already satisfied: six>=1.9.0 in /usr/local/lib/python3.7/dist-packages (from keras->keras-contrib==2.0.8) (1.15.0)\n",
            "Requirement already satisfied: pyyaml in /usr/local/lib/python3.7/dist-packages (from keras->keras-contrib==2.0.8) (3.13)\n",
            "Building wheels for collected packages: keras-contrib\n",
            "  Building wheel for keras-contrib (setup.py) ... \u001b[?25l\u001b[?25hdone\n",
            "  Created wheel for keras-contrib: filename=keras_contrib-2.0.8-py3-none-any.whl size=101077 sha256=50c5872ffea1e23e088a3456e66b3bf10c6dc9a41ecec17151fcc40680eb6edb\n",
            "  Stored in directory: /tmp/pip-ephem-wheel-cache-tqaew83d/wheels/bb/1f/f2/b57495012683b6b20bbae94a3915ec79753111452d79886abc\n",
            "Successfully built keras-contrib\n",
            "Installing collected packages: keras-contrib\n",
            "Successfully installed keras-contrib-2.0.8\n"
          ]
        }
      ]
    },
    {
      "cell_type": "code",
      "source": [
        "!git clone https://github.com/SOMJANG/Mecab-ko-for-Google-Colab.git\n",
        "%cd Mecab-ko-for-Google-Colab\n",
        "!bash install_mecab-ko_on_colab190912.sh"
      ],
      "metadata": {
        "id": "NbkFUpfazHoP"
      },
      "execution_count": null,
      "outputs": []
    },
    {
      "cell_type": "code",
      "source": [
        "!git clone https://github.com/entelecheia/eKoNLPy.git"
      ],
      "metadata": {
        "colab": {
          "base_uri": "https://localhost:8080/"
        },
        "id": "K39Wc7mJzMoX",
        "outputId": "87af3a1e-8f60-456f-e42c-7e757b526170"
      },
      "execution_count": null,
      "outputs": [
        {
          "output_type": "stream",
          "name": "stdout",
          "text": [
            "Cloning into 'eKoNLPy'...\n",
            "remote: Enumerating objects: 3590, done.\u001b[K\n",
            "remote: Total 3590 (delta 0), reused 0 (delta 0), pack-reused 3590\u001b[K\n",
            "Receiving objects: 100% (3590/3590), 73.30 MiB | 29.50 MiB/s, done.\n",
            "Resolving deltas: 100% (2618/2618), done.\n"
          ]
        }
      ]
    },
    {
      "cell_type": "code",
      "source": [
        "%cd eKoNLPy/"
      ],
      "metadata": {
        "colab": {
          "base_uri": "https://localhost:8080/"
        },
        "id": "Pl4yEqgNzPU_",
        "outputId": "49c62afc-01d8-4f08-a30a-ebc467ed9bdc"
      },
      "execution_count": null,
      "outputs": [
        {
          "output_type": "stream",
          "name": "stdout",
          "text": [
            "/content/Mecab-ko-for-Google-Colab/eKoNLPy\n"
          ]
        }
      ]
    },
    {
      "cell_type": "code",
      "source": [
        "!python setup.py install"
      ],
      "metadata": {
        "id": "if845On0zRHj",
        "colab": {
          "base_uri": "https://localhost:8080/"
        },
        "outputId": "49ddbd00-71e3-4f2f-a044-bae6c82db89e"
      },
      "execution_count": null,
      "outputs": [
        {
          "output_type": "stream",
          "name": "stdout",
          "text": [
            "running install\n",
            "running bdist_egg\n",
            "running egg_info\n",
            "creating eKoNLPy.egg-info\n",
            "writing eKoNLPy.egg-info/PKG-INFO\n",
            "writing dependency_links to eKoNLPy.egg-info/dependency_links.txt\n",
            "writing requirements to eKoNLPy.egg-info/requires.txt\n",
            "writing top-level names to eKoNLPy.egg-info/top_level.txt\n",
            "writing manifest file 'eKoNLPy.egg-info/SOURCES.txt'\n",
            "adding license file 'LICENSE'\n",
            "writing manifest file 'eKoNLPy.egg-info/SOURCES.txt'\n",
            "installing library code to build/bdist.linux-x86_64/egg\n",
            "running install_lib\n",
            "running build_py\n",
            "creating build\n",
            "creating build/lib\n",
            "creating build/lib/ekonlpy\n",
            "copying ekonlpy/__init__.py -> build/lib/ekonlpy\n",
            "copying ekonlpy/utils.py -> build/lib/ekonlpy\n",
            "copying ekonlpy/dictionary.py -> build/lib/ekonlpy\n",
            "creating build/lib/ekonlpy/etag\n",
            "copying ekonlpy/etag/_template.py -> build/lib/ekonlpy/etag\n",
            "copying ekonlpy/etag/__init__.py -> build/lib/ekonlpy/etag\n",
            "creating build/lib/ekonlpy/data\n",
            "copying ekonlpy/data/__init__.py -> build/lib/ekonlpy/data\n",
            "copying ekonlpy/data/tagset.py -> build/lib/ekonlpy/data\n",
            "creating build/lib/ekonlpy/tag\n",
            "copying ekonlpy/tag/_postprocess.py -> build/lib/ekonlpy/tag\n",
            "copying ekonlpy/tag/__init__.py -> build/lib/ekonlpy/tag\n",
            "copying ekonlpy/tag/_mecab.py -> build/lib/ekonlpy/tag\n",
            "creating build/lib/ekonlpy/sentiment\n",
            "copying ekonlpy/sentiment/mpko.py -> build/lib/ekonlpy/sentiment\n",
            "copying ekonlpy/sentiment/__init__.py -> build/lib/ekonlpy/sentiment\n",
            "copying ekonlpy/sentiment/hiv4.py -> build/lib/ekonlpy/sentiment\n",
            "copying ekonlpy/sentiment/lm.py -> build/lib/ekonlpy/sentiment\n",
            "copying ekonlpy/sentiment/mpck.py -> build/lib/ekonlpy/sentiment\n",
            "copying ekonlpy/sentiment/base.py -> build/lib/ekonlpy/sentiment\n",
            "copying ekonlpy/sentiment/utils.py -> build/lib/ekonlpy/sentiment\n",
            "copying ekonlpy/sentiment/kosac.py -> build/lib/ekonlpy/sentiment\n",
            "copying ekonlpy/sentiment/euko.py -> build/lib/ekonlpy/sentiment\n",
            "creating build/lib/ekonlpy/topic\n",
            "copying ekonlpy/topic/__init__.py -> build/lib/ekonlpy/topic\n",
            "copying ekonlpy/topic/mptk.py -> build/lib/ekonlpy/topic\n",
            "creating build/lib/ekonlpy/data/dictionary\n",
            "copying ekonlpy/data/dictionary/UNIT.txt -> build/lib/ekonlpy/data/dictionary\n",
            "copying ekonlpy/data/dictionary/ADJECTIVES.txt -> build/lib/ekonlpy/data/dictionary\n",
            "copying ekonlpy/data/dictionary/INDUSTRY_TERMS.txt -> build/lib/ekonlpy/data/dictionary\n",
            "copying ekonlpy/data/dictionary/SYNONYM_VA.txt -> build/lib/ekonlpy/data/dictionary\n",
            "copying ekonlpy/data/dictionary/POLARITY_PHRASES.txt -> build/lib/ekonlpy/data/dictionary\n",
            "copying ekonlpy/data/dictionary/ECON_TERMS.txt -> build/lib/ekonlpy/data/dictionary\n",
            "copying ekonlpy/data/dictionary/COUNTRY.txt -> build/lib/ekonlpy/data/dictionary\n",
            "copying ekonlpy/data/dictionary/CURRENCY.txt -> build/lib/ekonlpy/data/dictionary\n",
            "copying ekonlpy/data/dictionary/SYNONYM_MAG.txt -> build/lib/ekonlpy/data/dictionary\n",
            "copying ekonlpy/data/dictionary/VERBS.txt -> build/lib/ekonlpy/data/dictionary\n",
            "copying ekonlpy/data/dictionary/ENTITY.txt -> build/lib/ekonlpy/data/dictionary\n",
            "copying ekonlpy/data/dictionary/GENERIC.txt -> build/lib/ekonlpy/data/dictionary\n",
            "copying ekonlpy/data/dictionary/SYNONYM.txt -> build/lib/ekonlpy/data/dictionary\n",
            "copying ekonlpy/data/dictionary/SYNONYM_TERMS.txt -> build/lib/ekonlpy/data/dictionary\n",
            "copying ekonlpy/data/dictionary/ADVERBS.txt -> build/lib/ekonlpy/data/dictionary\n",
            "copying ekonlpy/data/dictionary/STOPWORDS_KOR.txt -> build/lib/ekonlpy/data/dictionary\n",
            "copying ekonlpy/data/dictionary/NOUNS.txt -> build/lib/ekonlpy/data/dictionary\n",
            "copying ekonlpy/data/dictionary/STOPWORDS_CUST.txt -> build/lib/ekonlpy/data/dictionary\n",
            "copying ekonlpy/data/dictionary/INSTITUTION.txt -> build/lib/ekonlpy/data/dictionary\n",
            "copying ekonlpy/data/dictionary/LEMMA.txt -> build/lib/ekonlpy/data/dictionary\n",
            "copying ekonlpy/data/dictionary/SECTOR.txt -> build/lib/ekonlpy/data/dictionary\n",
            "copying ekonlpy/data/dictionary/ECON_PHRASES.txt -> build/lib/ekonlpy/data/dictionary\n",
            "copying ekonlpy/data/dictionary/STOPWORDS.txt -> build/lib/ekonlpy/data/dictionary\n",
            "copying ekonlpy/data/dictionary/FOREIGN_TERMS.txt -> build/lib/ekonlpy/data/dictionary\n",
            "copying ekonlpy/data/dictionary/NAMES.txt -> build/lib/ekonlpy/data/dictionary\n",
            "copying ekonlpy/data/dictionary/PROPER_NOUNS.txt -> build/lib/ekonlpy/data/dictionary\n",
            "copying ekonlpy/data/dictionary/STOPWORDS_EN.txt -> build/lib/ekonlpy/data/dictionary\n",
            "copying ekonlpy/data/dictionary/SYNONYM_PHRASES.txt -> build/lib/ekonlpy/data/dictionary\n",
            "creating build/lib/ekonlpy/data/model\n",
            "copying ekonlpy/data/model/mp_topic_titles-k36.txt -> build/lib/ekonlpy/data/model\n",
            "creating build/lib/ekonlpy/data/lexicon\n",
            "copying ekonlpy/data/lexicon/Names.txt -> build/lib/ekonlpy/data/lexicon\n",
            "copying ekonlpy/data/lexicon/DatesandNumbers.txt -> build/lib/ekonlpy/data/lexicon\n",
            "copying ekonlpy/data/lexicon/Currencies.txt -> build/lib/ekonlpy/data/lexicon\n",
            "copying ekonlpy/data/lexicon/Generic.txt -> build/lib/ekonlpy/data/lexicon\n",
            "copying ekonlpy/data/lexicon/Geographic.txt -> build/lib/ekonlpy/data/lexicon\n",
            "copying ekonlpy/data/lexicon/LM.csv -> build/lib/ekonlpy/data/lexicon\n",
            "copying ekonlpy/data/lexicon/HIV-4.csv -> build/lib/ekonlpy/data/lexicon\n",
            "creating build/lib/ekonlpy/data/lexicon/mpko\n",
            "copying ekonlpy/data/lexicon/mpko/mp_polarity_vocab.txt -> build/lib/ekonlpy/data/lexicon/mpko\n",
            "copying ekonlpy/data/lexicon/mpko/mp_polarity_wordset.txt -> build/lib/ekonlpy/data/lexicon/mpko\n",
            "copying ekonlpy/data/lexicon/mpko/mp_polarity_lexicon_lex.csv -> build/lib/ekonlpy/data/lexicon/mpko\n",
            "copying ekonlpy/data/lexicon/mpko/mp_polarity_lexicon_mkt_n3.csv -> build/lib/ekonlpy/data/lexicon/mpko\n",
            "copying ekonlpy/data/lexicon/mpko/mp_polarity_lexicon_mkt.csv -> build/lib/ekonlpy/data/lexicon/mpko\n",
            "copying ekonlpy/data/lexicon/mpko/mp_polarity_lexicon_mkt_n7.csv -> build/lib/ekonlpy/data/lexicon/mpko\n",
            "creating build/lib/ekonlpy/data/lexicon/kosac\n",
            "copying ekonlpy/data/lexicon/kosac/intensity.csv -> build/lib/ekonlpy/data/lexicon/kosac\n",
            "copying ekonlpy/data/lexicon/kosac/polarity.csv -> build/lib/ekonlpy/data/lexicon/kosac\n",
            "copying ekonlpy/data/lexicon/kosac/expressive-type.csv -> build/lib/ekonlpy/data/lexicon/kosac\n",
            "creating build/lib/ekonlpy/data/lexicon/euko\n",
            "copying ekonlpy/data/lexicon/euko/mp_uncertainty_lexicon_mkt.csv -> build/lib/ekonlpy/data/lexicon/euko\n",
            "copying ekonlpy/data/lexicon/euko/mp_uncertainty_lexicon_lex.csv -> build/lib/ekonlpy/data/lexicon/euko\n",
            "copying ekonlpy/data/model/MPKC.nbc -> build/lib/ekonlpy/data/model\n",
            "copying ekonlpy/data/model/mp_topic_model-k36.lda.state -> build/lib/ekonlpy/data/model\n",
            "copying ekonlpy/data/model/mp_topic_model-k36.lda.expElogbeta.npy -> build/lib/ekonlpy/data/model\n",
            "copying ekonlpy/data/model/mp_corpus.dict -> build/lib/ekonlpy/data/model\n",
            "copying ekonlpy/data/model/mp_topic_model-k36.lda -> build/lib/ekonlpy/data/model\n",
            "creating build/bdist.linux-x86_64\n",
            "creating build/bdist.linux-x86_64/egg\n",
            "creating build/bdist.linux-x86_64/egg/ekonlpy\n",
            "creating build/bdist.linux-x86_64/egg/ekonlpy/etag\n",
            "copying build/lib/ekonlpy/etag/_template.py -> build/bdist.linux-x86_64/egg/ekonlpy/etag\n",
            "copying build/lib/ekonlpy/etag/__init__.py -> build/bdist.linux-x86_64/egg/ekonlpy/etag\n",
            "copying build/lib/ekonlpy/__init__.py -> build/bdist.linux-x86_64/egg/ekonlpy\n",
            "creating build/bdist.linux-x86_64/egg/ekonlpy/data\n",
            "creating build/bdist.linux-x86_64/egg/ekonlpy/data/dictionary\n",
            "copying build/lib/ekonlpy/data/dictionary/UNIT.txt -> build/bdist.linux-x86_64/egg/ekonlpy/data/dictionary\n",
            "copying build/lib/ekonlpy/data/dictionary/ADJECTIVES.txt -> build/bdist.linux-x86_64/egg/ekonlpy/data/dictionary\n",
            "copying build/lib/ekonlpy/data/dictionary/INDUSTRY_TERMS.txt -> build/bdist.linux-x86_64/egg/ekonlpy/data/dictionary\n",
            "copying build/lib/ekonlpy/data/dictionary/SYNONYM_VA.txt -> build/bdist.linux-x86_64/egg/ekonlpy/data/dictionary\n",
            "copying build/lib/ekonlpy/data/dictionary/POLARITY_PHRASES.txt -> build/bdist.linux-x86_64/egg/ekonlpy/data/dictionary\n",
            "copying build/lib/ekonlpy/data/dictionary/ECON_TERMS.txt -> build/bdist.linux-x86_64/egg/ekonlpy/data/dictionary\n",
            "copying build/lib/ekonlpy/data/dictionary/COUNTRY.txt -> build/bdist.linux-x86_64/egg/ekonlpy/data/dictionary\n",
            "copying build/lib/ekonlpy/data/dictionary/CURRENCY.txt -> build/bdist.linux-x86_64/egg/ekonlpy/data/dictionary\n",
            "copying build/lib/ekonlpy/data/dictionary/SYNONYM_MAG.txt -> build/bdist.linux-x86_64/egg/ekonlpy/data/dictionary\n",
            "copying build/lib/ekonlpy/data/dictionary/VERBS.txt -> build/bdist.linux-x86_64/egg/ekonlpy/data/dictionary\n",
            "copying build/lib/ekonlpy/data/dictionary/ENTITY.txt -> build/bdist.linux-x86_64/egg/ekonlpy/data/dictionary\n",
            "copying build/lib/ekonlpy/data/dictionary/GENERIC.txt -> build/bdist.linux-x86_64/egg/ekonlpy/data/dictionary\n",
            "copying build/lib/ekonlpy/data/dictionary/SYNONYM.txt -> build/bdist.linux-x86_64/egg/ekonlpy/data/dictionary\n",
            "copying build/lib/ekonlpy/data/dictionary/SYNONYM_TERMS.txt -> build/bdist.linux-x86_64/egg/ekonlpy/data/dictionary\n",
            "copying build/lib/ekonlpy/data/dictionary/ADVERBS.txt -> build/bdist.linux-x86_64/egg/ekonlpy/data/dictionary\n",
            "copying build/lib/ekonlpy/data/dictionary/STOPWORDS_KOR.txt -> build/bdist.linux-x86_64/egg/ekonlpy/data/dictionary\n",
            "copying build/lib/ekonlpy/data/dictionary/NOUNS.txt -> build/bdist.linux-x86_64/egg/ekonlpy/data/dictionary\n",
            "copying build/lib/ekonlpy/data/dictionary/STOPWORDS_CUST.txt -> build/bdist.linux-x86_64/egg/ekonlpy/data/dictionary\n",
            "copying build/lib/ekonlpy/data/dictionary/INSTITUTION.txt -> build/bdist.linux-x86_64/egg/ekonlpy/data/dictionary\n",
            "copying build/lib/ekonlpy/data/dictionary/LEMMA.txt -> build/bdist.linux-x86_64/egg/ekonlpy/data/dictionary\n",
            "copying build/lib/ekonlpy/data/dictionary/SECTOR.txt -> build/bdist.linux-x86_64/egg/ekonlpy/data/dictionary\n",
            "copying build/lib/ekonlpy/data/dictionary/ECON_PHRASES.txt -> build/bdist.linux-x86_64/egg/ekonlpy/data/dictionary\n",
            "copying build/lib/ekonlpy/data/dictionary/STOPWORDS.txt -> build/bdist.linux-x86_64/egg/ekonlpy/data/dictionary\n",
            "copying build/lib/ekonlpy/data/dictionary/FOREIGN_TERMS.txt -> build/bdist.linux-x86_64/egg/ekonlpy/data/dictionary\n",
            "copying build/lib/ekonlpy/data/dictionary/NAMES.txt -> build/bdist.linux-x86_64/egg/ekonlpy/data/dictionary\n",
            "copying build/lib/ekonlpy/data/dictionary/PROPER_NOUNS.txt -> build/bdist.linux-x86_64/egg/ekonlpy/data/dictionary\n",
            "copying build/lib/ekonlpy/data/dictionary/STOPWORDS_EN.txt -> build/bdist.linux-x86_64/egg/ekonlpy/data/dictionary\n",
            "copying build/lib/ekonlpy/data/dictionary/SYNONYM_PHRASES.txt -> build/bdist.linux-x86_64/egg/ekonlpy/data/dictionary\n",
            "copying build/lib/ekonlpy/data/__init__.py -> build/bdist.linux-x86_64/egg/ekonlpy/data\n",
            "creating build/bdist.linux-x86_64/egg/ekonlpy/data/model\n",
            "copying build/lib/ekonlpy/data/model/MPKC.nbc -> build/bdist.linux-x86_64/egg/ekonlpy/data/model\n",
            "copying build/lib/ekonlpy/data/model/mp_topic_model-k36.lda.state -> build/bdist.linux-x86_64/egg/ekonlpy/data/model\n",
            "copying build/lib/ekonlpy/data/model/mp_topic_model-k36.lda.expElogbeta.npy -> build/bdist.linux-x86_64/egg/ekonlpy/data/model\n",
            "copying build/lib/ekonlpy/data/model/mp_corpus.dict -> build/bdist.linux-x86_64/egg/ekonlpy/data/model\n",
            "copying build/lib/ekonlpy/data/model/mp_topic_model-k36.lda -> build/bdist.linux-x86_64/egg/ekonlpy/data/model\n",
            "copying build/lib/ekonlpy/data/model/mp_topic_titles-k36.txt -> build/bdist.linux-x86_64/egg/ekonlpy/data/model\n",
            "creating build/bdist.linux-x86_64/egg/ekonlpy/data/lexicon\n",
            "creating build/bdist.linux-x86_64/egg/ekonlpy/data/lexicon/mpko\n",
            "copying build/lib/ekonlpy/data/lexicon/mpko/mp_polarity_lexicon_lex.csv -> build/bdist.linux-x86_64/egg/ekonlpy/data/lexicon/mpko\n",
            "copying build/lib/ekonlpy/data/lexicon/mpko/mp_polarity_lexicon_mkt_n3.csv -> build/bdist.linux-x86_64/egg/ekonlpy/data/lexicon/mpko\n",
            "copying build/lib/ekonlpy/data/lexicon/mpko/mp_polarity_vocab.txt -> build/bdist.linux-x86_64/egg/ekonlpy/data/lexicon/mpko\n",
            "copying build/lib/ekonlpy/data/lexicon/mpko/mp_polarity_lexicon_mkt.csv -> build/bdist.linux-x86_64/egg/ekonlpy/data/lexicon/mpko\n",
            "copying build/lib/ekonlpy/data/lexicon/mpko/mp_polarity_wordset.txt -> build/bdist.linux-x86_64/egg/ekonlpy/data/lexicon/mpko\n",
            "copying build/lib/ekonlpy/data/lexicon/mpko/mp_polarity_lexicon_mkt_n7.csv -> build/bdist.linux-x86_64/egg/ekonlpy/data/lexicon/mpko\n",
            "creating build/bdist.linux-x86_64/egg/ekonlpy/data/lexicon/kosac\n",
            "copying build/lib/ekonlpy/data/lexicon/kosac/intensity.csv -> build/bdist.linux-x86_64/egg/ekonlpy/data/lexicon/kosac\n",
            "copying build/lib/ekonlpy/data/lexicon/kosac/polarity.csv -> build/bdist.linux-x86_64/egg/ekonlpy/data/lexicon/kosac\n",
            "copying build/lib/ekonlpy/data/lexicon/kosac/expressive-type.csv -> build/bdist.linux-x86_64/egg/ekonlpy/data/lexicon/kosac\n",
            "creating build/bdist.linux-x86_64/egg/ekonlpy/data/lexicon/euko\n",
            "copying build/lib/ekonlpy/data/lexicon/euko/mp_uncertainty_lexicon_mkt.csv -> build/bdist.linux-x86_64/egg/ekonlpy/data/lexicon/euko\n",
            "copying build/lib/ekonlpy/data/lexicon/euko/mp_uncertainty_lexicon_lex.csv -> build/bdist.linux-x86_64/egg/ekonlpy/data/lexicon/euko\n",
            "copying build/lib/ekonlpy/data/lexicon/Names.txt -> build/bdist.linux-x86_64/egg/ekonlpy/data/lexicon\n",
            "copying build/lib/ekonlpy/data/lexicon/LM.csv -> build/bdist.linux-x86_64/egg/ekonlpy/data/lexicon\n",
            "copying build/lib/ekonlpy/data/lexicon/HIV-4.csv -> build/bdist.linux-x86_64/egg/ekonlpy/data/lexicon\n",
            "copying build/lib/ekonlpy/data/lexicon/DatesandNumbers.txt -> build/bdist.linux-x86_64/egg/ekonlpy/data/lexicon\n",
            "copying build/lib/ekonlpy/data/lexicon/Currencies.txt -> build/bdist.linux-x86_64/egg/ekonlpy/data/lexicon\n",
            "copying build/lib/ekonlpy/data/lexicon/Generic.txt -> build/bdist.linux-x86_64/egg/ekonlpy/data/lexicon\n",
            "copying build/lib/ekonlpy/data/lexicon/Geographic.txt -> build/bdist.linux-x86_64/egg/ekonlpy/data/lexicon\n",
            "copying build/lib/ekonlpy/data/tagset.py -> build/bdist.linux-x86_64/egg/ekonlpy/data\n",
            "creating build/bdist.linux-x86_64/egg/ekonlpy/tag\n",
            "copying build/lib/ekonlpy/tag/_postprocess.py -> build/bdist.linux-x86_64/egg/ekonlpy/tag\n",
            "copying build/lib/ekonlpy/tag/__init__.py -> build/bdist.linux-x86_64/egg/ekonlpy/tag\n",
            "copying build/lib/ekonlpy/tag/_mecab.py -> build/bdist.linux-x86_64/egg/ekonlpy/tag\n",
            "copying build/lib/ekonlpy/utils.py -> build/bdist.linux-x86_64/egg/ekonlpy\n",
            "copying build/lib/ekonlpy/dictionary.py -> build/bdist.linux-x86_64/egg/ekonlpy\n",
            "creating build/bdist.linux-x86_64/egg/ekonlpy/sentiment\n",
            "copying build/lib/ekonlpy/sentiment/mpko.py -> build/bdist.linux-x86_64/egg/ekonlpy/sentiment\n",
            "copying build/lib/ekonlpy/sentiment/__init__.py -> build/bdist.linux-x86_64/egg/ekonlpy/sentiment\n",
            "copying build/lib/ekonlpy/sentiment/hiv4.py -> build/bdist.linux-x86_64/egg/ekonlpy/sentiment\n",
            "copying build/lib/ekonlpy/sentiment/lm.py -> build/bdist.linux-x86_64/egg/ekonlpy/sentiment\n",
            "copying build/lib/ekonlpy/sentiment/mpck.py -> build/bdist.linux-x86_64/egg/ekonlpy/sentiment\n",
            "copying build/lib/ekonlpy/sentiment/base.py -> build/bdist.linux-x86_64/egg/ekonlpy/sentiment\n",
            "copying build/lib/ekonlpy/sentiment/utils.py -> build/bdist.linux-x86_64/egg/ekonlpy/sentiment\n",
            "copying build/lib/ekonlpy/sentiment/kosac.py -> build/bdist.linux-x86_64/egg/ekonlpy/sentiment\n",
            "copying build/lib/ekonlpy/sentiment/euko.py -> build/bdist.linux-x86_64/egg/ekonlpy/sentiment\n",
            "creating build/bdist.linux-x86_64/egg/ekonlpy/topic\n",
            "copying build/lib/ekonlpy/topic/__init__.py -> build/bdist.linux-x86_64/egg/ekonlpy/topic\n",
            "copying build/lib/ekonlpy/topic/mptk.py -> build/bdist.linux-x86_64/egg/ekonlpy/topic\n",
            "byte-compiling build/bdist.linux-x86_64/egg/ekonlpy/etag/_template.py to _template.cpython-37.pyc\n",
            "byte-compiling build/bdist.linux-x86_64/egg/ekonlpy/etag/__init__.py to __init__.cpython-37.pyc\n",
            "byte-compiling build/bdist.linux-x86_64/egg/ekonlpy/__init__.py to __init__.cpython-37.pyc\n",
            "byte-compiling build/bdist.linux-x86_64/egg/ekonlpy/data/__init__.py to __init__.cpython-37.pyc\n",
            "byte-compiling build/bdist.linux-x86_64/egg/ekonlpy/data/tagset.py to tagset.cpython-37.pyc\n",
            "byte-compiling build/bdist.linux-x86_64/egg/ekonlpy/tag/_postprocess.py to _postprocess.cpython-37.pyc\n",
            "byte-compiling build/bdist.linux-x86_64/egg/ekonlpy/tag/__init__.py to __init__.cpython-37.pyc\n",
            "byte-compiling build/bdist.linux-x86_64/egg/ekonlpy/tag/_mecab.py to _mecab.cpython-37.pyc\n",
            "byte-compiling build/bdist.linux-x86_64/egg/ekonlpy/utils.py to utils.cpython-37.pyc\n",
            "byte-compiling build/bdist.linux-x86_64/egg/ekonlpy/dictionary.py to dictionary.cpython-37.pyc\n",
            "byte-compiling build/bdist.linux-x86_64/egg/ekonlpy/sentiment/mpko.py to mpko.cpython-37.pyc\n",
            "byte-compiling build/bdist.linux-x86_64/egg/ekonlpy/sentiment/__init__.py to __init__.cpython-37.pyc\n",
            "byte-compiling build/bdist.linux-x86_64/egg/ekonlpy/sentiment/hiv4.py to hiv4.cpython-37.pyc\n",
            "byte-compiling build/bdist.linux-x86_64/egg/ekonlpy/sentiment/lm.py to lm.cpython-37.pyc\n",
            "byte-compiling build/bdist.linux-x86_64/egg/ekonlpy/sentiment/mpck.py to mpck.cpython-37.pyc\n",
            "byte-compiling build/bdist.linux-x86_64/egg/ekonlpy/sentiment/base.py to base.cpython-37.pyc\n",
            "byte-compiling build/bdist.linux-x86_64/egg/ekonlpy/sentiment/utils.py to utils.cpython-37.pyc\n",
            "byte-compiling build/bdist.linux-x86_64/egg/ekonlpy/sentiment/kosac.py to kosac.cpython-37.pyc\n",
            "byte-compiling build/bdist.linux-x86_64/egg/ekonlpy/sentiment/euko.py to euko.cpython-37.pyc\n",
            "byte-compiling build/bdist.linux-x86_64/egg/ekonlpy/topic/__init__.py to __init__.cpython-37.pyc\n",
            "byte-compiling build/bdist.linux-x86_64/egg/ekonlpy/topic/mptk.py to mptk.cpython-37.pyc\n",
            "creating build/bdist.linux-x86_64/egg/EGG-INFO\n",
            "copying eKoNLPy.egg-info/PKG-INFO -> build/bdist.linux-x86_64/egg/EGG-INFO\n",
            "copying eKoNLPy.egg-info/SOURCES.txt -> build/bdist.linux-x86_64/egg/EGG-INFO\n",
            "copying eKoNLPy.egg-info/dependency_links.txt -> build/bdist.linux-x86_64/egg/EGG-INFO\n",
            "copying eKoNLPy.egg-info/requires.txt -> build/bdist.linux-x86_64/egg/EGG-INFO\n",
            "copying eKoNLPy.egg-info/top_level.txt -> build/bdist.linux-x86_64/egg/EGG-INFO\n",
            "zip_safe flag not set; analyzing archive contents...\n",
            "ekonlpy.__pycache__.utils.cpython-37: module references __file__\n",
            "creating dist\n",
            "creating 'dist/eKoNLPy-0.5.30-py3.7.egg' and adding 'build/bdist.linux-x86_64/egg' to it\n",
            "removing 'build/bdist.linux-x86_64/egg' (and everything under it)\n",
            "Processing eKoNLPy-0.5.30-py3.7.egg\n",
            "creating /usr/local/lib/python3.7/dist-packages/eKoNLPy-0.5.30-py3.7.egg\n",
            "Extracting eKoNLPy-0.5.30-py3.7.egg to /usr/local/lib/python3.7/dist-packages\n",
            "Adding eKoNLPy 0.5.30 to easy-install.pth file\n",
            "\n",
            "Installed /usr/local/lib/python3.7/dist-packages/eKoNLPy-0.5.30-py3.7.egg\n",
            "Processing dependencies for eKoNLPy==0.5.30\n",
            "Searching for numpy==1.21.6\n",
            "Best match: numpy 1.21.6\n",
            "Adding numpy 1.21.6 to easy-install.pth file\n",
            "Installing f2py script to /usr/local/bin\n",
            "Installing f2py3 script to /usr/local/bin\n",
            "Installing f2py3.7 script to /usr/local/bin\n",
            "\n",
            "Using /usr/local/lib/python3.7/dist-packages\n",
            "Searching for scipy==1.7.3\n",
            "Best match: scipy 1.7.3\n",
            "Adding scipy 1.7.3 to easy-install.pth file\n",
            "\n",
            "Using /usr/local/lib/python3.7/dist-packages\n",
            "Searching for gensim==3.6.0\n",
            "Best match: gensim 3.6.0\n",
            "Adding gensim 3.6.0 to easy-install.pth file\n",
            "\n",
            "Using /usr/local/lib/python3.7/dist-packages\n",
            "Searching for nltk==3.7\n",
            "Best match: nltk 3.7\n",
            "Adding nltk 3.7 to easy-install.pth file\n",
            "Installing nltk script to /usr/local/bin\n",
            "\n",
            "Using /usr/local/lib/python3.7/dist-packages\n",
            "Searching for konlpy==0.6.0\n",
            "Best match: konlpy 0.6.0\n",
            "Adding konlpy 0.6.0 to easy-install.pth file\n",
            "\n",
            "Using /usr/local/lib/python3.7/dist-packages\n",
            "Searching for smart-open==5.2.1\n",
            "Best match: smart-open 5.2.1\n",
            "Adding smart-open 5.2.1 to easy-install.pth file\n",
            "\n",
            "Using /usr/local/lib/python3.7/dist-packages\n",
            "Searching for six==1.15.0\n",
            "Best match: six 1.15.0\n",
            "Adding six 1.15.0 to easy-install.pth file\n",
            "\n",
            "Using /usr/local/lib/python3.7/dist-packages\n",
            "Searching for tqdm==4.64.0\n",
            "Best match: tqdm 4.64.0\n",
            "Adding tqdm 4.64.0 to easy-install.pth file\n",
            "Installing tqdm script to /usr/local/bin\n",
            "\n",
            "Using /usr/local/lib/python3.7/dist-packages\n",
            "Searching for regex==2022.6.2\n",
            "Best match: regex 2022.6.2\n",
            "Adding regex 2022.6.2 to easy-install.pth file\n",
            "\n",
            "Using /usr/local/lib/python3.7/dist-packages\n",
            "Searching for joblib==1.1.0\n",
            "Best match: joblib 1.1.0\n",
            "Adding joblib 1.1.0 to easy-install.pth file\n",
            "\n",
            "Using /usr/local/lib/python3.7/dist-packages\n",
            "Searching for click==7.1.2\n",
            "Best match: click 7.1.2\n",
            "Adding click 7.1.2 to easy-install.pth file\n",
            "\n",
            "Using /usr/local/lib/python3.7/dist-packages\n",
            "Searching for JPype1==1.4.0\n",
            "Best match: JPype1 1.4.0\n",
            "Adding JPype1 1.4.0 to easy-install.pth file\n",
            "\n",
            "Using /usr/local/lib/python3.7/dist-packages\n",
            "Searching for lxml==4.9.1\n",
            "Best match: lxml 4.9.1\n",
            "Adding lxml 4.9.1 to easy-install.pth file\n",
            "\n",
            "Using /usr/local/lib/python3.7/dist-packages\n",
            "Searching for typing-extensions==4.1.1\n",
            "Best match: typing-extensions 4.1.1\n",
            "Adding typing-extensions 4.1.1 to easy-install.pth file\n",
            "\n",
            "Using /usr/local/lib/python3.7/dist-packages\n",
            "Finished processing dependencies for eKoNLPy==0.5.30\n"
          ]
        }
      ]
    },
    {
      "cell_type": "markdown",
      "source": [
        "#단어사전 추가 (by csv)\n",
        "\n",
        "user-nnp.csv 파일을 mecab-ko~~ 폴더 밑에 넣고\n",
        "make install\n",
        "\n",
        "https://bit.ly/3k0ZH53\n"
      ],
      "metadata": {
        "id": "xC8tPFmeHkuM"
      }
    },
    {
      "cell_type": "code",
      "source": [
        "!ls {FILES_DIR}/user_nnp.csv"
      ],
      "metadata": {
        "colab": {
          "base_uri": "https://localhost:8080/"
        },
        "id": "0PWrjB_XJrEY",
        "outputId": "f4752aec-f060-4779-8e63-419dc4d27482"
      },
      "execution_count": null,
      "outputs": [
        {
          "output_type": "stream",
          "name": "stdout",
          "text": [
            "/content/drive/MyDrive/military-chatbot/files/user_nnp.csv\n"
          ]
        }
      ]
    },
    {
      "cell_type": "code",
      "source": [
        "!pwd"
      ],
      "metadata": {
        "colab": {
          "base_uri": "https://localhost:8080/"
        },
        "id": "WWCbMquYK80J",
        "outputId": "d71cfd83-454c-44f4-f6b1-7cfcead2f63d"
      },
      "execution_count": null,
      "outputs": [
        {
          "output_type": "stream",
          "name": "stdout",
          "text": [
            "/content/Mecab-ko-for-Google-Colab/eKoNLPy\n"
          ]
        }
      ]
    },
    {
      "cell_type": "code",
      "source": [
        "!cp {FILES_DIR}/user_nnp.csv /content/mecab-ko-dic-2.1.1-20180720/user-dic/"
      ],
      "metadata": {
        "id": "tjY3jsWuJHY4"
      },
      "execution_count": null,
      "outputs": []
    },
    {
      "cell_type": "code",
      "source": [
        "!echo \"Change Directory to mecab-ko-dic-2.1.1-20180720\"\n",
        "!cd /content/mecab-ko-dic-2.1.1-20180720/\n",
        "!echo \"Done\"\n",
        "\n",
        "!bash ./tools/add-userdic.sh\n",
        "\n",
        "!echo \"installing........\"\n",
        "!echo 'configure'\n",
        "! ./configure > /dev/null 2>&1\n",
        "!echo 'make'\n",
        "! make > /dev/null 2>&1\n",
        "!echo 'make install'\n",
        "! make install > /dev/null 2>&1"
      ],
      "metadata": {
        "colab": {
          "base_uri": "https://localhost:8080/"
        },
        "id": "-POl3naTHoeA",
        "outputId": "682c3db9-7fb2-406d-aa29-bccfe08024d3"
      },
      "execution_count": null,
      "outputs": [
        {
          "output_type": "stream",
          "name": "stdout",
          "text": [
            "Change Directory to mecab-ko-dic-2.1.1-20180720\n",
            "Done\n",
            "bash: ./tools/add-userdic.sh: No such file or directory\n",
            "installing........\n",
            "configure\n",
            "make\n",
            "make install\n"
          ]
        }
      ]
    },
    {
      "cell_type": "markdown",
      "source": [
        "#데이터 만들기"
      ],
      "metadata": {
        "id": "3tAvL2oUl63y"
      }
    },
    {
      "cell_type": "code",
      "source": [
        "import urllib.request\n",
        "import numpy as np\n",
        "import random\n",
        "from sklearn.utils import shuffle\n",
        "\n",
        "# from konlpy.tag import Mecab\n",
        "from ekonlpy.tag import Mecab\n",
        "mecab = Mecab()"
      ],
      "metadata": {
        "id": "k7ty18a0zWwH"
      },
      "execution_count": null,
      "outputs": []
    },
    {
      "cell_type": "code",
      "source": [
        "import pandas as pd"
      ],
      "metadata": {
        "id": "nQEIWw8LlVlP"
      },
      "execution_count": null,
      "outputs": []
    },
    {
      "cell_type": "code",
      "source": [
        "mecab.load_dictionary('/content/mecab-ko-dic-2.1.1-20180720/user-dic/user_nnp.csv',tag='NNP')"
      ],
      "metadata": {
        "id": "mLYNY6VIN-9I"
      },
      "execution_count": null,
      "outputs": []
    },
    {
      "cell_type": "code",
      "source": [
        "question_sample = [\"제5861 부대 아침메뉴\",\n",
        "\"제 5397부대 점심 식단\",\n",
        "\"제 6685부대 아침 반찬\",\n",
        "\"제7162부대 아침 메뉴 검색해\",\n",
        "\"6176 부대 아침메뉴 알려주셈\",\n",
        "\"간행물 한국의 新 자본주의 정신 위치 좀\",\n",
        "\"찰스 다윈 이 저자인 간행물\",\n",
        "\"교재편찬위원회 꺼 정기간행물\",\n",
        "\"저자가 염준근\",\n",
        "\"저자 한백사편집실\",\n",
        "\"일병 월급 궁금해\",\n",
        "\"중사 2001년에 급여 궁금함\",\n",
        "\"병장 급여 말해줘\",\n",
        "\"원사 3년전에 봉급이 얼마야\",\n",
        "\"상사 월급 얼마야\",\n",
        "\"수원부근 복지정보 있어?\",\n",
        "\"광주광역시근방 할인되는 곳 궁금함\",\n",
        "\"청량리근방 잘데 있긴해?\",\n",
        "\"논산근방 복지정보 뭐가 있어?\",\n",
        "\"충북지역 복지시설 있어?\",\n",
        "\"해병대에 부사관 몇명이려나\",\n",
        "\"해군에 군무원 몇명이려나\",\n",
        "\"공군 정원 총 몇명?\",\n",
        "\"해군 총원 몇명이야?\",\n",
        "\"육군 정원 몇명이야?\",\n",
        "\"평화빌라트에 대해 궁금해\",\n",
        "\"대봉교역 태왕아너스에 대해 궁금해\",\n",
        "\"창원시부근 해병대 군 관사 있어?\",\n",
        "\"구례군지역 아파트 뭐가 있어?\",\n",
        "\"상주시쪽에 아파트 있어?\",]\n",
        "\n",
        "for question in question_sample:\n",
        "  print(mecab.morphs(question))"
      ],
      "metadata": {
        "colab": {
          "base_uri": "https://localhost:8080/"
        },
        "id": "qabiiB0JOghs",
        "outputId": "e00652d6-4bc5-49d1-ff03-e6c21532e559"
      },
      "execution_count": null,
      "outputs": [
        {
          "output_type": "stream",
          "name": "stdout",
          "text": [
            "['제', '5861', '부대', '아침', '메뉴']\n",
            "['제', '5397', '부대', '점심', '식단']\n",
            "['제', '6685', '부대', '아침', '반찬']\n",
            "['제', '7162', '부대', '아침', '메뉴', '검색', '해']\n",
            "['6176', '부대', '아침', '메뉴', '알려', '주', '셈']\n",
            "['간행물', '한국', '의', '新', '자본주의', '정신', '위치', '좀']\n",
            "['찰스', '다윈', '이', '저자', '인', '간행물']\n",
            "['교재', '편찬', '위원회', '꺼', '정기', '간행물']\n",
            "['저자', '가', '염준근']\n",
            "['저자', '한', '백', '사', '편집실']\n",
            "['일병', '월급', '궁금', '해']\n",
            "['중사', '2001', '년', '에', '급여', '궁금', '함']\n",
            "['병장', '급여', '말', '해', '줘']\n",
            "['원사', '3', '년', '전', '에', '봉급', '이', '얼마', '야']\n",
            "['상사', '월급', '얼마', '야']\n",
            "['수원', '부근', '복지', '정보', '있', '어', '?']\n",
            "['광주광역시', '근방', '할인', '되', '는', '곳', '궁금', '함']\n",
            "['청량리', '근방', '잘', '데', '있', '긴', '해', '?']\n",
            "['논산', '근방', '복지', '정보', '뭐', '가', '있', '어', '?']\n",
            "['충북', '지역', '복지', '시설', '있', '어', '?']\n",
            "['해병대', '에', '부사관', '몇', '명', '이', '려나']\n",
            "['해군', '에', '군무원', '몇', '명', '이', '려나']\n",
            "['공군', '정원', '총', '몇', '명', '?']\n",
            "['해군', '총원', '몇', '명', '이', '야', '?']\n",
            "['육군', '정원', '몇', '명', '이', '야', '?']\n",
            "['평화', '빌라', '트', '에', '대해', '궁금', '해']\n",
            "['대봉교역', '태왕', '아', '너스', '에', '대해', '궁금', '해']\n",
            "['창원시', '부근', '해병대', '군', '관사', '있', '어', '?']\n",
            "['구례군', '지역', '아파트', '뭐', '가', '있', '어', '?']\n",
            "['상주시', '쪽', '에', '아파트', '있', '어', '?']\n"
          ]
        }
      ]
    },
    {
      "cell_type": "markdown",
      "source": [
        "#Troops 부대 troops"
      ],
      "metadata": {
        "id": "ZynP3aFloe2A"
      }
    },
    {
      "cell_type": "code",
      "source": [
        "# df_troops = pd.read_csv(WORK_DIR+'/부대.csv', encoding='cp949')\n",
        "# df_troops = pd.read_csv(FILES_DIR+'/부대.csv', encoding='cp949')\n",
        "df_troops = pd.read_csv(FILES_DIR+'/부대.csv', encoding='utf8')\n",
        "df_troops"
      ],
      "metadata": {
        "id": "tATpfCtplL78",
        "colab": {
          "base_uri": "https://localhost:8080/"
        },
        "outputId": "fa4b7b6c-bfdd-488c-f1bf-85f9746feaf5"
      },
      "execution_count": null,
      "outputs": [
        {
          "output_type": "execute_result",
          "data": {
            "text/plain": [
              "                0\n",
              "0      육군미사일전략사령부\n",
              "1            무극부대\n",
              "2       육군항공작전사령부\n",
              "3           불사조부대\n",
              "4          제1항공여단\n",
              "...           ...\n",
              "18066      9995부대\n",
              "18067      9996부대\n",
              "18068      9997부대\n",
              "18069      9998부대\n",
              "18070      9999부대\n",
              "\n",
              "[18071 rows x 1 columns]"
            ],
            "text/html": [
              "\n",
              "  <div id=\"df-6ceafd86-f2ee-46c5-975d-9b682ba3bf1e\">\n",
              "    <div class=\"colab-df-container\">\n",
              "      <div>\n",
              "<style scoped>\n",
              "    .dataframe tbody tr th:only-of-type {\n",
              "        vertical-align: middle;\n",
              "    }\n",
              "\n",
              "    .dataframe tbody tr th {\n",
              "        vertical-align: top;\n",
              "    }\n",
              "\n",
              "    .dataframe thead th {\n",
              "        text-align: right;\n",
              "    }\n",
              "</style>\n",
              "<table border=\"1\" class=\"dataframe\">\n",
              "  <thead>\n",
              "    <tr style=\"text-align: right;\">\n",
              "      <th></th>\n",
              "      <th>0</th>\n",
              "    </tr>\n",
              "  </thead>\n",
              "  <tbody>\n",
              "    <tr>\n",
              "      <th>0</th>\n",
              "      <td>육군미사일전략사령부</td>\n",
              "    </tr>\n",
              "    <tr>\n",
              "      <th>1</th>\n",
              "      <td>무극부대</td>\n",
              "    </tr>\n",
              "    <tr>\n",
              "      <th>2</th>\n",
              "      <td>육군항공작전사령부</td>\n",
              "    </tr>\n",
              "    <tr>\n",
              "      <th>3</th>\n",
              "      <td>불사조부대</td>\n",
              "    </tr>\n",
              "    <tr>\n",
              "      <th>4</th>\n",
              "      <td>제1항공여단</td>\n",
              "    </tr>\n",
              "    <tr>\n",
              "      <th>...</th>\n",
              "      <td>...</td>\n",
              "    </tr>\n",
              "    <tr>\n",
              "      <th>18066</th>\n",
              "      <td>9995부대</td>\n",
              "    </tr>\n",
              "    <tr>\n",
              "      <th>18067</th>\n",
              "      <td>9996부대</td>\n",
              "    </tr>\n",
              "    <tr>\n",
              "      <th>18068</th>\n",
              "      <td>9997부대</td>\n",
              "    </tr>\n",
              "    <tr>\n",
              "      <th>18069</th>\n",
              "      <td>9998부대</td>\n",
              "    </tr>\n",
              "    <tr>\n",
              "      <th>18070</th>\n",
              "      <td>9999부대</td>\n",
              "    </tr>\n",
              "  </tbody>\n",
              "</table>\n",
              "<p>18071 rows × 1 columns</p>\n",
              "</div>\n",
              "      <button class=\"colab-df-convert\" onclick=\"convertToInteractive('df-6ceafd86-f2ee-46c5-975d-9b682ba3bf1e')\"\n",
              "              title=\"Convert this dataframe to an interactive table.\"\n",
              "              style=\"display:none;\">\n",
              "        \n",
              "  <svg xmlns=\"http://www.w3.org/2000/svg\" height=\"24px\"viewBox=\"0 0 24 24\"\n",
              "       width=\"24px\">\n",
              "    <path d=\"M0 0h24v24H0V0z\" fill=\"none\"/>\n",
              "    <path d=\"M18.56 5.44l.94 2.06.94-2.06 2.06-.94-2.06-.94-.94-2.06-.94 2.06-2.06.94zm-11 1L8.5 8.5l.94-2.06 2.06-.94-2.06-.94L8.5 2.5l-.94 2.06-2.06.94zm10 10l.94 2.06.94-2.06 2.06-.94-2.06-.94-.94-2.06-.94 2.06-2.06.94z\"/><path d=\"M17.41 7.96l-1.37-1.37c-.4-.4-.92-.59-1.43-.59-.52 0-1.04.2-1.43.59L10.3 9.45l-7.72 7.72c-.78.78-.78 2.05 0 2.83L4 21.41c.39.39.9.59 1.41.59.51 0 1.02-.2 1.41-.59l7.78-7.78 2.81-2.81c.8-.78.8-2.07 0-2.86zM5.41 20L4 18.59l7.72-7.72 1.47 1.35L5.41 20z\"/>\n",
              "  </svg>\n",
              "      </button>\n",
              "      \n",
              "  <style>\n",
              "    .colab-df-container {\n",
              "      display:flex;\n",
              "      flex-wrap:wrap;\n",
              "      gap: 12px;\n",
              "    }\n",
              "\n",
              "    .colab-df-convert {\n",
              "      background-color: #E8F0FE;\n",
              "      border: none;\n",
              "      border-radius: 50%;\n",
              "      cursor: pointer;\n",
              "      display: none;\n",
              "      fill: #1967D2;\n",
              "      height: 32px;\n",
              "      padding: 0 0 0 0;\n",
              "      width: 32px;\n",
              "    }\n",
              "\n",
              "    .colab-df-convert:hover {\n",
              "      background-color: #E2EBFA;\n",
              "      box-shadow: 0px 1px 2px rgba(60, 64, 67, 0.3), 0px 1px 3px 1px rgba(60, 64, 67, 0.15);\n",
              "      fill: #174EA6;\n",
              "    }\n",
              "\n",
              "    [theme=dark] .colab-df-convert {\n",
              "      background-color: #3B4455;\n",
              "      fill: #D2E3FC;\n",
              "    }\n",
              "\n",
              "    [theme=dark] .colab-df-convert:hover {\n",
              "      background-color: #434B5C;\n",
              "      box-shadow: 0px 1px 3px 1px rgba(0, 0, 0, 0.15);\n",
              "      filter: drop-shadow(0px 1px 2px rgba(0, 0, 0, 0.3));\n",
              "      fill: #FFFFFF;\n",
              "    }\n",
              "  </style>\n",
              "\n",
              "      <script>\n",
              "        const buttonEl =\n",
              "          document.querySelector('#df-6ceafd86-f2ee-46c5-975d-9b682ba3bf1e button.colab-df-convert');\n",
              "        buttonEl.style.display =\n",
              "          google.colab.kernel.accessAllowed ? 'block' : 'none';\n",
              "\n",
              "        async function convertToInteractive(key) {\n",
              "          const element = document.querySelector('#df-6ceafd86-f2ee-46c5-975d-9b682ba3bf1e');\n",
              "          const dataTable =\n",
              "            await google.colab.kernel.invokeFunction('convertToInteractive',\n",
              "                                                     [key], {});\n",
              "          if (!dataTable) return;\n",
              "\n",
              "          const docLinkHtml = 'Like what you see? Visit the ' +\n",
              "            '<a target=\"_blank\" href=https://colab.research.google.com/notebooks/data_table.ipynb>data table notebook</a>'\n",
              "            + ' to learn more about interactive tables.';\n",
              "          element.innerHTML = '';\n",
              "          dataTable['output_type'] = 'display_data';\n",
              "          await google.colab.output.renderOutput(dataTable, element);\n",
              "          const docLink = document.createElement('div');\n",
              "          docLink.innerHTML = docLinkHtml;\n",
              "          element.appendChild(docLink);\n",
              "        }\n",
              "      </script>\n",
              "    </div>\n",
              "  </div>\n",
              "  "
            ]
          },
          "metadata": {},
          "execution_count": 54
        }
      ]
    },
    {
      "cell_type": "code",
      "source": [
        "# troops = [f'제{troop_id}부대' for troop_id in range(1111,9999+1)]\n",
        "# troops = troops + [f'{troop_id}부대' for troop_id in range(1111,9999+1)]\n",
        "# troops = df_troops['부대명'].to_list() + troops\n",
        "# random.sample(troops, 30)\n",
        "troops = df_troops['0'].to_list()"
      ],
      "metadata": {
        "id": "hftW3jbxmWn4"
      },
      "execution_count": null,
      "outputs": []
    },
    {
      "cell_type": "code",
      "source": [
        "troops[0:10] + troops[400:405]"
      ],
      "metadata": {
        "colab": {
          "base_uri": "https://localhost:8080/"
        },
        "id": "DVh8iHgioxkw",
        "outputId": "e2997869-88e8-4e36-c283-917e26d7b63a"
      },
      "execution_count": null,
      "outputs": [
        {
          "output_type": "execute_result",
          "data": {
            "text/plain": [
              "['육군미사일전략사령부',\n",
              " '무극부대',\n",
              " '육군항공작전사령부',\n",
              " '불사조부대',\n",
              " '제1항공여단',\n",
              " '제2항공여단',\n",
              " '항공정비여단',\n",
              " '의무후송항공대대',\n",
              " '메디온부대',\n",
              " '육군군수사령부',\n",
              " '제1218부대',\n",
              " '제1219부대',\n",
              " '제1220부대',\n",
              " '제1221부대',\n",
              " '제1222부대']"
            ]
          },
          "metadata": {},
          "execution_count": 56
        }
      ]
    },
    {
      "cell_type": "code",
      "source": [
        "# df_troops = pd.DataFrame(troops)\n",
        "# df_troops.to_csv(f'{FILES_DIR}/부대.csv',encoding='utf-8-sig',index=False)"
      ],
      "metadata": {
        "id": "NWpaVKcW1ZpG"
      },
      "execution_count": null,
      "outputs": []
    },
    {
      "cell_type": "markdown",
      "source": [
        "#Dates 날짜 dates"
      ],
      "metadata": {
        "id": "EeSDJHXuohfz"
      }
    },
    {
      "cell_type": "code",
      "source": [
        "dates = [\"오늘\",\"내일\",\"모레\",\"이번주\",\"다음주\",\"아침\",\"점심\",\"저녁\"]\n",
        "for month in range(1,12+1):\n",
        "  for day in range(1,31+1):\n",
        "    dates.append(f'{month}월{day}일')\n",
        "\n",
        "for year in range(1950,2022+1):\n",
        "  dates.append(f'{year}년')\n",
        "  dates.append(f'{year}연도')\n",
        "\n",
        "dates[0:5] + dates[500:535]"
      ],
      "metadata": {
        "id": "lmrVijptn-Qf",
        "colab": {
          "base_uri": "https://localhost:8080/"
        },
        "outputId": "0a098e96-4989-4f6e-fcf3-82a6b4dbcfc2"
      },
      "execution_count": null,
      "outputs": [
        {
          "output_type": "execute_result",
          "data": {
            "text/plain": [
              "['오늘',\n",
              " '내일',\n",
              " '모레',\n",
              " '이번주',\n",
              " '다음주',\n",
              " '2010년',\n",
              " '2010연도',\n",
              " '2011년',\n",
              " '2011연도',\n",
              " '2012년',\n",
              " '2012연도',\n",
              " '2013년',\n",
              " '2013연도',\n",
              " '2014년',\n",
              " '2014연도',\n",
              " '2015년',\n",
              " '2015연도',\n",
              " '2016년',\n",
              " '2016연도',\n",
              " '2017년',\n",
              " '2017연도',\n",
              " '2018년',\n",
              " '2018연도',\n",
              " '2019년',\n",
              " '2019연도',\n",
              " '2020년',\n",
              " '2020연도',\n",
              " '2021년',\n",
              " '2021연도',\n",
              " '2022년',\n",
              " '2022연도']"
            ]
          },
          "metadata": {},
          "execution_count": 58
        }
      ]
    },
    {
      "cell_type": "markdown",
      "source": [
        "# Facilities 시설 facilities"
      ],
      "metadata": {
        "id": "3wrqxnNjOes8"
      }
    },
    {
      "cell_type": "code",
      "source": [
        "# df_facilities = pd.read_csv(FILES_DIR+'/시설.csv', encoding='cp949')\n",
        "df_facilities = pd.read_csv(FILES_DIR+'/시설.csv', encoding='utf8')\n",
        "df_facilities"
      ],
      "metadata": {
        "id": "CQz1nwEnOocz",
        "colab": {
          "base_uri": "https://localhost:8080/"
        },
        "outputId": "2dea8aa2-e3c5-48ee-ddf3-fb9588468703"
      },
      "execution_count": null,
      "outputs": [
        {
          "output_type": "execute_result",
          "data": {
            "text/plain": [
              "                0\n",
              "0          쏠비치 진도\n",
              "1        디오션리조트호텔\n",
              "2          소노문 단양\n",
              "3       소노벨 비발디파크\n",
              "4          씨마크 호텔\n",
              "..            ...\n",
              "183    켄싱턴 지리산 남원\n",
              "184          제주항공\n",
              "185  용평리조트 피크아일랜드\n",
              "186        웰리힐리파크\n",
              "187          무등학사\n",
              "\n",
              "[188 rows x 1 columns]"
            ],
            "text/html": [
              "\n",
              "  <div id=\"df-41b73758-13b2-4cc0-b363-97e6738b144b\">\n",
              "    <div class=\"colab-df-container\">\n",
              "      <div>\n",
              "<style scoped>\n",
              "    .dataframe tbody tr th:only-of-type {\n",
              "        vertical-align: middle;\n",
              "    }\n",
              "\n",
              "    .dataframe tbody tr th {\n",
              "        vertical-align: top;\n",
              "    }\n",
              "\n",
              "    .dataframe thead th {\n",
              "        text-align: right;\n",
              "    }\n",
              "</style>\n",
              "<table border=\"1\" class=\"dataframe\">\n",
              "  <thead>\n",
              "    <tr style=\"text-align: right;\">\n",
              "      <th></th>\n",
              "      <th>0</th>\n",
              "    </tr>\n",
              "  </thead>\n",
              "  <tbody>\n",
              "    <tr>\n",
              "      <th>0</th>\n",
              "      <td>쏠비치 진도</td>\n",
              "    </tr>\n",
              "    <tr>\n",
              "      <th>1</th>\n",
              "      <td>디오션리조트호텔</td>\n",
              "    </tr>\n",
              "    <tr>\n",
              "      <th>2</th>\n",
              "      <td>소노문 단양</td>\n",
              "    </tr>\n",
              "    <tr>\n",
              "      <th>3</th>\n",
              "      <td>소노벨 비발디파크</td>\n",
              "    </tr>\n",
              "    <tr>\n",
              "      <th>4</th>\n",
              "      <td>씨마크 호텔</td>\n",
              "    </tr>\n",
              "    <tr>\n",
              "      <th>...</th>\n",
              "      <td>...</td>\n",
              "    </tr>\n",
              "    <tr>\n",
              "      <th>183</th>\n",
              "      <td>켄싱턴 지리산 남원</td>\n",
              "    </tr>\n",
              "    <tr>\n",
              "      <th>184</th>\n",
              "      <td>제주항공</td>\n",
              "    </tr>\n",
              "    <tr>\n",
              "      <th>185</th>\n",
              "      <td>용평리조트 피크아일랜드</td>\n",
              "    </tr>\n",
              "    <tr>\n",
              "      <th>186</th>\n",
              "      <td>웰리힐리파크</td>\n",
              "    </tr>\n",
              "    <tr>\n",
              "      <th>187</th>\n",
              "      <td>무등학사</td>\n",
              "    </tr>\n",
              "  </tbody>\n",
              "</table>\n",
              "<p>188 rows × 1 columns</p>\n",
              "</div>\n",
              "      <button class=\"colab-df-convert\" onclick=\"convertToInteractive('df-41b73758-13b2-4cc0-b363-97e6738b144b')\"\n",
              "              title=\"Convert this dataframe to an interactive table.\"\n",
              "              style=\"display:none;\">\n",
              "        \n",
              "  <svg xmlns=\"http://www.w3.org/2000/svg\" height=\"24px\"viewBox=\"0 0 24 24\"\n",
              "       width=\"24px\">\n",
              "    <path d=\"M0 0h24v24H0V0z\" fill=\"none\"/>\n",
              "    <path d=\"M18.56 5.44l.94 2.06.94-2.06 2.06-.94-2.06-.94-.94-2.06-.94 2.06-2.06.94zm-11 1L8.5 8.5l.94-2.06 2.06-.94-2.06-.94L8.5 2.5l-.94 2.06-2.06.94zm10 10l.94 2.06.94-2.06 2.06-.94-2.06-.94-.94-2.06-.94 2.06-2.06.94z\"/><path d=\"M17.41 7.96l-1.37-1.37c-.4-.4-.92-.59-1.43-.59-.52 0-1.04.2-1.43.59L10.3 9.45l-7.72 7.72c-.78.78-.78 2.05 0 2.83L4 21.41c.39.39.9.59 1.41.59.51 0 1.02-.2 1.41-.59l7.78-7.78 2.81-2.81c.8-.78.8-2.07 0-2.86zM5.41 20L4 18.59l7.72-7.72 1.47 1.35L5.41 20z\"/>\n",
              "  </svg>\n",
              "      </button>\n",
              "      \n",
              "  <style>\n",
              "    .colab-df-container {\n",
              "      display:flex;\n",
              "      flex-wrap:wrap;\n",
              "      gap: 12px;\n",
              "    }\n",
              "\n",
              "    .colab-df-convert {\n",
              "      background-color: #E8F0FE;\n",
              "      border: none;\n",
              "      border-radius: 50%;\n",
              "      cursor: pointer;\n",
              "      display: none;\n",
              "      fill: #1967D2;\n",
              "      height: 32px;\n",
              "      padding: 0 0 0 0;\n",
              "      width: 32px;\n",
              "    }\n",
              "\n",
              "    .colab-df-convert:hover {\n",
              "      background-color: #E2EBFA;\n",
              "      box-shadow: 0px 1px 2px rgba(60, 64, 67, 0.3), 0px 1px 3px 1px rgba(60, 64, 67, 0.15);\n",
              "      fill: #174EA6;\n",
              "    }\n",
              "\n",
              "    [theme=dark] .colab-df-convert {\n",
              "      background-color: #3B4455;\n",
              "      fill: #D2E3FC;\n",
              "    }\n",
              "\n",
              "    [theme=dark] .colab-df-convert:hover {\n",
              "      background-color: #434B5C;\n",
              "      box-shadow: 0px 1px 3px 1px rgba(0, 0, 0, 0.15);\n",
              "      filter: drop-shadow(0px 1px 2px rgba(0, 0, 0, 0.3));\n",
              "      fill: #FFFFFF;\n",
              "    }\n",
              "  </style>\n",
              "\n",
              "      <script>\n",
              "        const buttonEl =\n",
              "          document.querySelector('#df-41b73758-13b2-4cc0-b363-97e6738b144b button.colab-df-convert');\n",
              "        buttonEl.style.display =\n",
              "          google.colab.kernel.accessAllowed ? 'block' : 'none';\n",
              "\n",
              "        async function convertToInteractive(key) {\n",
              "          const element = document.querySelector('#df-41b73758-13b2-4cc0-b363-97e6738b144b');\n",
              "          const dataTable =\n",
              "            await google.colab.kernel.invokeFunction('convertToInteractive',\n",
              "                                                     [key], {});\n",
              "          if (!dataTable) return;\n",
              "\n",
              "          const docLinkHtml = 'Like what you see? Visit the ' +\n",
              "            '<a target=\"_blank\" href=https://colab.research.google.com/notebooks/data_table.ipynb>data table notebook</a>'\n",
              "            + ' to learn more about interactive tables.';\n",
              "          element.innerHTML = '';\n",
              "          dataTable['output_type'] = 'display_data';\n",
              "          await google.colab.output.renderOutput(dataTable, element);\n",
              "          const docLink = document.createElement('div');\n",
              "          docLink.innerHTML = docLinkHtml;\n",
              "          element.appendChild(docLink);\n",
              "        }\n",
              "      </script>\n",
              "    </div>\n",
              "  </div>\n",
              "  "
            ]
          },
          "metadata": {},
          "execution_count": 59
        }
      ]
    },
    {
      "cell_type": "code",
      "source": [
        "facilities = df_facilities['0'].to_list()"
      ],
      "metadata": {
        "id": "yRBcgNjWO2y7"
      },
      "execution_count": null,
      "outputs": []
    },
    {
      "cell_type": "code",
      "source": [
        "facilities[:10]"
      ],
      "metadata": {
        "id": "HUkCciDtO7cX",
        "colab": {
          "base_uri": "https://localhost:8080/"
        },
        "outputId": "82cd0e94-3127-4d84-feed-6030a495b6b4"
      },
      "execution_count": null,
      "outputs": [
        {
          "output_type": "execute_result",
          "data": {
            "text/plain": [
              "['쏠비치 진도',\n",
              " '디오션리조트호텔',\n",
              " '소노문 단양',\n",
              " '소노벨 비발디파크',\n",
              " '씨마크 호텔',\n",
              " '엘도라도',\n",
              " '아산스파비스',\n",
              " '롯데호텔',\n",
              " 'JDX 멀티스포츠',\n",
              " '켄싱턴 충주']"
            ]
          },
          "metadata": {},
          "execution_count": 61
        }
      ]
    },
    {
      "cell_type": "markdown",
      "source": [
        "# LOCATION 지역 locations"
      ],
      "metadata": {
        "id": "MJu3hUhXPOML"
      }
    },
    {
      "cell_type": "code",
      "source": [
        "df_locations = pd.read_csv(FILES_DIR+'/지역.csv', encoding='utf8')\n",
        "df_locations = df_locations.dropna()"
      ],
      "metadata": {
        "id": "PLAh-RdlPQJw"
      },
      "execution_count": null,
      "outputs": []
    },
    {
      "cell_type": "code",
      "source": [
        "locations = df_locations['0'].to_list()"
      ],
      "metadata": {
        "id": "SYtVFojePcpE"
      },
      "execution_count": null,
      "outputs": []
    },
    {
      "cell_type": "code",
      "source": [
        "locations[:10]"
      ],
      "metadata": {
        "colab": {
          "base_uri": "https://localhost:8080/"
        },
        "id": "U4dKmM-kPkB7",
        "outputId": "3392a4fe-cf0e-4bee-b578-27968e68013a"
      },
      "execution_count": null,
      "outputs": [
        {
          "output_type": "execute_result",
          "data": {
            "text/plain": [
              "['전라남도', '달서구', '강북구', '태안군', '안양시', '계양구', '부평', '마포구', '여주시', '남동구']"
            ]
          },
          "metadata": {},
          "execution_count": 64
        }
      ]
    },
    {
      "cell_type": "markdown",
      "source": [
        "# RANK 직급 ranks"
      ],
      "metadata": {
        "id": "QvaqJZ1tP27-"
      }
    },
    {
      "cell_type": "code",
      "source": [
        "df_rank = pd.read_csv(FILES_DIR+'/직급.csv', encoding='utf8')\n",
        "df_rank = df_rank.dropna()\n",
        "ranks = df_rank['0'].to_list()\n",
        "ranks[:10]"
      ],
      "metadata": {
        "colab": {
          "base_uri": "https://localhost:8080/"
        },
        "id": "NwvhtgQWP9oX",
        "outputId": "1bf49088-694f-46f4-8884-0fe8b7a207a9"
      },
      "execution_count": null,
      "outputs": [
        {
          "output_type": "execute_result",
          "data": {
            "text/plain": [
              "['장교', '부사관', '병', '군무원', '이병', '일병', '상병', '병장', '병사', '부사관']"
            ]
          },
          "metadata": {},
          "execution_count": 66
        }
      ]
    },
    {
      "cell_type": "markdown",
      "source": [
        "# Pay 급여 pays"
      ],
      "metadata": {
        "id": "04tP0mfjLPXE"
      }
    },
    {
      "cell_type": "code",
      "source": [
        "pays = [\"월급\",\"급여\",\"봉급\",\"수입\",\"연봉\"]"
      ],
      "metadata": {
        "id": "G1Yma9d_LSbY"
      },
      "execution_count": null,
      "outputs": []
    },
    {
      "cell_type": "markdown",
      "source": [
        "#Books 책/저자 books_titles books_authors"
      ],
      "metadata": {
        "id": "q5xASUbwDf3O"
      }
    },
    {
      "cell_type": "code",
      "source": [
        "# books = pd.read_csv(f\"{WORK_DIR}/도서/국방부_한국국방연구원_도서관_보유_국내외_정기간행물_목록_20210930.csv\")\n",
        "# books\n"
      ],
      "metadata": {
        "id": "v2NNilveC_nu"
      },
      "execution_count": null,
      "outputs": []
    },
    {
      "cell_type": "code",
      "source": [
        "# df_books = pd.read_csv(f\"{WORK_DIR}/도서/국방전자도서관_도서정보.csv\", encoding=\"cp949\")\n",
        "# df_books\n"
      ],
      "metadata": {
        "id": "0_Bvw1XtEIQG"
      },
      "execution_count": null,
      "outputs": []
    },
    {
      "cell_type": "code",
      "source": [
        "# df_books_titles = df_books[\"제목\"].drop_duplicates()\n",
        "# df_books_authors = df_books[\"저작자\"].drop_duplicates()"
      ],
      "metadata": {
        "id": "JSpyaHKaQsQC"
      },
      "execution_count": null,
      "outputs": []
    },
    {
      "cell_type": "code",
      "source": [
        "# df_books_titles"
      ],
      "metadata": {
        "id": "50sF1nO_Q9db"
      },
      "execution_count": null,
      "outputs": []
    },
    {
      "cell_type": "code",
      "source": [
        "# def replace_for_books(book):\n",
        "#   rep_text = str(book).strip()\n",
        "#   if \"?\" in rep_text:\n",
        "#     rep_text = np.NaN\n",
        "#   return rep_text"
      ],
      "metadata": {
        "id": "yrT3TqIYZjO7"
      },
      "execution_count": null,
      "outputs": []
    },
    {
      "cell_type": "code",
      "source": [
        "# df_books_titles = df_books_titles.apply(replace_for_books)\n",
        "# df_books_titles = df_books_titles.dropna()"
      ],
      "metadata": {
        "id": "s19KQzXdZw3b"
      },
      "execution_count": null,
      "outputs": []
    },
    {
      "cell_type": "code",
      "source": [
        "# def replace_for_author(author):\n",
        "#   rep_text = str(author).replace(\" 지음\",\"\").replace(\" 편저\",\"\").replace(\" 엮음\",\"\").replace(\" 저\",\"\").replace(\" 편\",\"\").replace(\"찬위원회\", \" 편찬위원회\").replace(\"?\",\"\").strip()\n",
        "#   if len(rep_text) <=1 :\n",
        "#     rep_text = np.NaN\n",
        "#   return rep_text\n"
      ],
      "metadata": {
        "id": "gaEbdIDkRzdd"
      },
      "execution_count": null,
      "outputs": []
    },
    {
      "cell_type": "code",
      "source": [
        "# df_books_authors = df_books_authors.apply(replace_for_author)\n",
        "# df_books_authors = df_books_authors.dropna()"
      ],
      "metadata": {
        "id": "AaM9QqcjRAqb"
      },
      "execution_count": null,
      "outputs": []
    },
    {
      "cell_type": "code",
      "source": [
        "# df_books_authors"
      ],
      "metadata": {
        "id": "Dx_cSkEwX02E"
      },
      "execution_count": null,
      "outputs": []
    },
    {
      "cell_type": "code",
      "source": [
        "# df_books_titles"
      ],
      "metadata": {
        "id": "-tXTmLsMZ252"
      },
      "execution_count": null,
      "outputs": []
    },
    {
      "cell_type": "code",
      "source": [
        "# df_books_titles.to_csv(f'{FILES_DIR}/도서.csv',encoding='utf-8-sig',index=False)\n",
        "# df_books_authors.to_csv(f'{FILES_DIR}/저자.csv',encoding='utf-8-sig',index=False)"
      ],
      "metadata": {
        "id": "qd0ugUOhTVYG"
      },
      "execution_count": null,
      "outputs": []
    },
    {
      "cell_type": "code",
      "source": [
        "df_books_titles = pd.read_csv(f'{FILES_DIR}/도서명.csv',encoding='utf-8-sig')\n",
        "df_books_authors = pd.read_csv(f'{FILES_DIR}/저자.csv',encoding='utf-8-sig')"
      ],
      "metadata": {
        "id": "zrp1kVXAae6f"
      },
      "execution_count": null,
      "outputs": []
    },
    {
      "cell_type": "code",
      "source": [
        "books_titles = df_books_titles['0'].to_list()\n",
        "books_authors = df_books_authors['0'].to_list()"
      ],
      "metadata": {
        "id": "DIrtRBX2a2vn"
      },
      "execution_count": null,
      "outputs": []
    },
    {
      "cell_type": "code",
      "source": [
        "import random"
      ],
      "metadata": {
        "id": "18cei20-6Mir"
      },
      "execution_count": null,
      "outputs": []
    },
    {
      "cell_type": "code",
      "source": [
        "random.sample(books_titles, 10)"
      ],
      "metadata": {
        "colab": {
          "base_uri": "https://localhost:8080/"
        },
        "id": "xPPxUSyuL0rJ",
        "outputId": "beba2457-a975-43fe-8cb8-ef701f36ed64"
      },
      "execution_count": null,
      "outputs": [
        {
          "output_type": "execute_result",
          "data": {
            "text/plain": [
              "['6 시그마 경영',\n",
              " '조직내 커뮤니케이션과 직무만족의 상관관계 연구',\n",
              " '내가 너를 사랑한 도시',\n",
              " '어색한 사람과 편하게 대화하는 질문법',\n",
              " '경제학 들어가기',\n",
              " '레오나르도가 조개화석을 주운 날',\n",
              " '21세기 미.중.일.러의 한반도 정책과 한국의 대응방안',\n",
              " '책은 도끼다',\n",
              " '한국성리학의 발전과 심학적,실학적 변용',\n",
              " '반복']"
            ]
          },
          "metadata": {},
          "execution_count": 82
        }
      ]
    },
    {
      "cell_type": "code",
      "source": [
        "random.sample(books_authors, 10)"
      ],
      "metadata": {
        "colab": {
          "base_uri": "https://localhost:8080/"
        },
        "id": "Jg9Han2uL3u8",
        "outputId": "ee46899c-b998-427c-dbee-9f53cfc127ac"
      },
      "execution_count": null,
      "outputs": [
        {
          "output_type": "execute_result",
          "data": {
            "text/plain": [
              "['Nair, Keshavan',\n",
              " '정정남',\n",
              " '이금이',\n",
              " '윤희윤',\n",
              " '호원숙',\n",
              " '어반,할',\n",
              " '중소기업노무연구회',\n",
              " 'ROSENBORG',\n",
              " '남태희',\n",
              " '이혜정']"
            ]
          },
          "metadata": {},
          "execution_count": 83
        }
      ]
    },
    {
      "cell_type": "markdown",
      "source": [
        "# Houses 주택 houses"
      ],
      "metadata": {
        "id": "9A1qEenxM5CN"
      }
    },
    {
      "cell_type": "code",
      "source": [
        "df_houses = pd.read_csv(FILES_DIR+'/주택.csv', encoding='utf8')\n",
        "df_houses = df_houses.dropna()\n",
        "houses = df_houses['0'].to_list()\n",
        "houses[:10]"
      ],
      "metadata": {
        "colab": {
          "base_uri": "https://localhost:8080/"
        },
        "id": "vhyBCRPmNGAU",
        "outputId": "7fe8b7eb-ac2c-4739-b141-99003593dcef"
      },
      "execution_count": null,
      "outputs": [
        {
          "output_type": "execute_result",
          "data": {
            "text/plain": [
              "['연립',\n",
              " '아파트',\n",
              " '아파트 ',\n",
              " '아파트/연립',\n",
              " '선봉캐슬',\n",
              " '온누리아파트',\n",
              " '한누리아파트',\n",
              " 'LG아파트',\n",
              " '동보아파트',\n",
              " '밀목아파트']"
            ]
          },
          "metadata": {},
          "execution_count": 84
        }
      ]
    },
    {
      "cell_type": "markdown",
      "source": [
        "# MILTYPE 군구분 miltypes"
      ],
      "metadata": {
        "id": "Z5RlV1WdNj6t"
      }
    },
    {
      "cell_type": "code",
      "source": [
        "df_miltypes = pd.read_csv(FILES_DIR+'/군구분.csv', encoding='utf8')\n",
        "df_miltypes = df_miltypes.dropna()\n",
        "miltypes = df_miltypes['0'].to_list()\n",
        "miltypes[:10]"
      ],
      "metadata": {
        "colab": {
          "base_uri": "https://localhost:8080/"
        },
        "id": "xB3QeVOQNoyq",
        "outputId": "0e5a4d82-3a88-4b03-8468-3c3b4b107d66"
      },
      "execution_count": null,
      "outputs": [
        {
          "output_type": "execute_result",
          "data": {
            "text/plain": [
              "['육군', '해군', '해병대', '공군']"
            ]
          },
          "metadata": {},
          "execution_count": 85
        }
      ]
    },
    {
      "cell_type": "markdown",
      "source": [
        "# Mecab 사전에 추가"
      ],
      "metadata": {
        "id": "s0vJ73whFJQO"
      }
    },
    {
      "cell_type": "markdown",
      "source": [
        "## 전체 개체명"
      ],
      "metadata": {
        "id": "DPN73n4ONxv1"
      }
    },
    {
      "cell_type": "code",
      "source": [
        "named_entities = troops + dates + facilities + locations + ranks + pays + books_titles + books_authors + houses + miltypes"
      ],
      "metadata": {
        "id": "QYpjGbgbNxa2"
      },
      "execution_count": null,
      "outputs": []
    },
    {
      "cell_type": "code",
      "source": [
        "random.sample(named_entities, 20)"
      ],
      "metadata": {
        "id": "EL00p1RIOrdp",
        "colab": {
          "base_uri": "https://localhost:8080/"
        },
        "outputId": "b43fca4c-acbb-444d-ae2f-00630a30626e"
      },
      "execution_count": null,
      "outputs": [
        {
          "output_type": "execute_result",
          "data": {
            "text/plain": [
              "['조선대학교학생생활지도연구소',\n",
              " '이스탄불',\n",
              " '대림아파트',\n",
              " '(당신이 속고 있는 28가지) 재테크의 비밀',\n",
              " '제3327부대',\n",
              " '교재편찬연구회',\n",
              " '경제학 프레임',\n",
              " '박일준',\n",
              " '민주정과 한국',\n",
              " '렘브란트: 빛과 혼의 화가',\n",
              " '부자의 조건 금융 IQ : 부자아빠 가난한 아빠',\n",
              " '김대중',\n",
              " '매일경제TV <건강한의사>',\n",
              " '피터 디아만디스',\n",
              " '전산관련용어편찬위원회',\n",
              " '독도연구문헌집',\n",
              " '국회도서관 연간보고서',\n",
              " '김태흥',\n",
              " '문화재 속 숨어있는 역사',\n",
              " '클라우드 컴퓨팅 설계 및 구현']"
            ]
          },
          "metadata": {},
          "execution_count": 87
        }
      ]
    },
    {
      "cell_type": "code",
      "source": [
        "# # 사전에 추가\n",
        "# for named_entity in named_entities:\n",
        "#   mecab.add_dictionary(str(named_entity), 'NNG')"
      ],
      "metadata": {
        "id": "53Wl0JZBzdww"
      },
      "execution_count": null,
      "outputs": []
    },
    {
      "cell_type": "code",
      "source": [
        "# 사전에 추가\n",
        "for named_entity in named_entities:\n",
        "  mecab.add_dictionary(str(named_entity), 'NNP')"
      ],
      "metadata": {
        "id": "l05Ww2-ihNuu"
      },
      "execution_count": null,
      "outputs": []
    },
    {
      "cell_type": "code",
      "source": [
        "mecab.morphs(\"제2547부대 12월 31일 점심 메뉴 알려줘\")"
      ],
      "metadata": {
        "colab": {
          "base_uri": "https://localhost:8080/"
        },
        "id": "y9OjERYg2UdH",
        "outputId": "66611b7b-61f9-49c5-9912-3d1e86706738"
      },
      "execution_count": null,
      "outputs": [
        {
          "output_type": "execute_result",
          "data": {
            "text/plain": [
              "['제2547부대', '12월31일', '점심', '메뉴', '알려줘']"
            ]
          },
          "metadata": {},
          "execution_count": 90
        }
      ]
    },
    {
      "cell_type": "code",
      "source": [
        "mecab.morphs(\"성공한 사장 성공한 기업 책은 어디있어?\")"
      ],
      "metadata": {
        "colab": {
          "base_uri": "https://localhost:8080/"
        },
        "id": "oM0yFgem-7Hi",
        "outputId": "47c6e44f-7278-4b46-9696-0bb66545c9dd"
      },
      "execution_count": null,
      "outputs": [
        {
          "output_type": "execute_result",
          "data": {
            "text/plain": [
              "['성공', '한', '사장', '성공', '한', '기업', '책', '은', '어디', '있', '어', '?']"
            ]
          },
          "metadata": {},
          "execution_count": 91
        }
      ]
    },
    {
      "cell_type": "code",
      "source": [
        "mecab.morphs(\"성공한사장성공한기업 책은 어디있어?\")"
      ],
      "metadata": {
        "colab": {
          "base_uri": "https://localhost:8080/"
        },
        "id": "XlKnwoDwhX55",
        "outputId": "fbb5f365-8850-4314-ee8b-4dd0fd20dc95"
      },
      "execution_count": null,
      "outputs": [
        {
          "output_type": "execute_result",
          "data": {
            "text/plain": [
              "['성공', '한', '사장', '성공', '한', '기업', '책', '은', '어디', '있', '어', '?']"
            ]
          },
          "metadata": {},
          "execution_count": 92
        }
      ]
    },
    {
      "cell_type": "code",
      "source": [
        "mecab.morphs(\"상실의 시대, 남자로 산다는 것 책은 어디있어?\")"
      ],
      "metadata": {
        "colab": {
          "base_uri": "https://localhost:8080/"
        },
        "id": "zE3tz2yUOj6y",
        "outputId": "497287d0-e65b-4b5f-db37-de0110cfa647"
      },
      "execution_count": null,
      "outputs": [
        {
          "output_type": "execute_result",
          "data": {
            "text/plain": [
              "['상실', '의', '시대', ',', '남자', '로', '산다는', '것', '책', '은', '어디', '있', '어', '?']"
            ]
          },
          "metadata": {},
          "execution_count": 93
        }
      ]
    },
    {
      "cell_type": "code",
      "source": [
        "mecab.morphs(\"베트남 10000일의 전쟁 책은 어디있어?\")"
      ],
      "metadata": {
        "colab": {
          "base_uri": "https://localhost:8080/"
        },
        "id": "5CGYNkohMUVc",
        "outputId": "91c27b15-aed4-402d-9b3f-6ebb1284e4bf"
      },
      "execution_count": null,
      "outputs": [
        {
          "output_type": "execute_result",
          "data": {
            "text/plain": [
              "['베트남', '10000', '일', '의', '전쟁', '책', '은', '어디', '있', '어', '?']"
            ]
          },
          "metadata": {},
          "execution_count": 94
        }
      ]
    },
    {
      "cell_type": "code",
      "source": [
        "mecab.morphs(\"수학연습책은 어디있어?\")"
      ],
      "metadata": {
        "colab": {
          "base_uri": "https://localhost:8080/"
        },
        "id": "Dx1aA99uMP8Z",
        "outputId": "98487a71-04ba-405f-88ee-0bf4fc72a2e4"
      },
      "execution_count": null,
      "outputs": [
        {
          "output_type": "execute_result",
          "data": {
            "text/plain": [
              "['수학연습', '책', '은', '어디', '있', '어', '?']"
            ]
          },
          "metadata": {},
          "execution_count": 95
        }
      ]
    },
    {
      "cell_type": "code",
      "source": [
        "mecab.morphs('제5317부대아침 뭐야?')"
      ],
      "metadata": {
        "colab": {
          "base_uri": "https://localhost:8080/"
        },
        "id": "4iyUOnX531rn",
        "outputId": "ab2fea08-2feb-43b1-fe1f-6ad3e0aee48e"
      },
      "execution_count": null,
      "outputs": [
        {
          "output_type": "execute_result",
          "data": {
            "text/plain": [
              "['제5317부대', '아침', '뭐', '야', '?']"
            ]
          },
          "metadata": {},
          "execution_count": 96
        }
      ]
    },
    {
      "cell_type": "code",
      "source": [
        "mecab.morphs('제 5317부대 아침 뭐야?')"
      ],
      "metadata": {
        "colab": {
          "base_uri": "https://localhost:8080/"
        },
        "id": "EOS7HpWIOdBn",
        "outputId": "12debece-ca72-4313-cb82-19955b50bd99"
      },
      "execution_count": null,
      "outputs": [
        {
          "output_type": "execute_result",
          "data": {
            "text/plain": [
              "['제5317부대', '아침', '뭐', '야', '?']"
            ]
          },
          "metadata": {},
          "execution_count": 97
        }
      ]
    },
    {
      "cell_type": "code",
      "source": [
        "# def question_generator(troops, dates):\n",
        "#     result = []\n",
        "#     questions = [\n",
        "#                 \"의 식단 알려줘\",\n",
        "#                 \"의 메뉴 뭐야?\",\n",
        "#                 \"점심 뭐 나와?\",\n",
        "#                 \"점심 뭐야?\",\n",
        "#                 \"의 저녁 뭐야?\",\n",
        "#                 \"아침 뭐야?\",\n",
        "#                 \"의 메뉴 알려줘\",\n",
        "#                 ]\n",
        "    \n",
        "#     for question in questions:\n",
        "#       for troop in troops:\n",
        "#         for date in dates:\n",
        "#           result.append(f'{troop}{question}')\n",
        "#           result.append(f'{troop} {date}{question}')\n",
        "    \n",
        "#     return result\n",
        "# questions = question_generator(troops, dates)"
      ],
      "metadata": {
        "id": "KQo8gKy-mDqy"
      },
      "execution_count": null,
      "outputs": []
    },
    {
      "cell_type": "code",
      "source": [
        "import random\n",
        "# random.sample(questions, 5)"
      ],
      "metadata": {
        "id": "ZIN1PtJKr_8H"
      },
      "execution_count": null,
      "outputs": []
    },
    {
      "cell_type": "code",
      "source": [
        "mecab.morphs('영등포구청역에 있는 맛집 좀 알려주세요.')"
      ],
      "metadata": {
        "colab": {
          "base_uri": "https://localhost:8080/"
        },
        "id": "-asMi15_t1-L",
        "outputId": "6afea7ec-5f16-4c57-9c22-bb17e81f96a1"
      },
      "execution_count": null,
      "outputs": [
        {
          "output_type": "execute_result",
          "data": {
            "text/plain": [
              "['영등포구청역', '에', '있', '는', '맛집', '좀', '알려', '주', '세요', '.']"
            ]
          },
          "metadata": {},
          "execution_count": 100
        }
      ]
    },
    {
      "cell_type": "markdown",
      "source": [
        "# Question 로딩"
      ],
      "metadata": {
        "id": "o7PgSKrJOynu"
      }
    },
    {
      "cell_type": "markdown",
      "source": [
        "\n",
        "| NAMED ENTITY | LABEL | 적용여부\n",
        "|---|---|---|\n",
        "| 부대명 | B-TROOPS | O |\n",
        "| 시간 | B-DATES | O |\n",
        "| 도서명 | B-BOOKS | O |\n",
        "| 저자명 | B-PERSON | O |\n",
        "| 직급 | B-RANK | O |\n",
        "| 급여 | B-PAY | O |\n",
        "| 시설 | B-FAC | O |\n",
        "| 지역 | B-LOC| O |\n",
        "| 주택 | B-HOUSE | O |\n",
        "| 군구분 | B-MILTYPE | O |"
      ],
      "metadata": {
        "id": "8aKv3KuXX8hp"
      }
    },
    {
      "cell_type": "code",
      "source": [
        "intents_list = ['식단','도서','급여','복지','정원','주거']\n",
        "question_file = {\n",
        "    '식단' : f\"{FILES_DIR}/train_menu.csv\",\n",
        "    '도서' : f\"{FILES_DIR}/train_book.csv\",\n",
        "    '급여' : f\"{FILES_DIR}/train_pay.csv\",\n",
        "    '복지' : f\"{FILES_DIR}/train_welfare.csv\",\n",
        "    '정원' : f\"{FILES_DIR}/train_personnel.csv\",\n",
        "    '주거' : f\"{FILES_DIR}/train_housing.csv\",\n",
        "}\n",
        "\n",
        "# named_entities = troops + dates + facilities + locations + ranks + pays + books_titles + books_authors + houses + miltypes\n",
        "intents_named_entity = {\n",
        "    '식단' : {\n",
        "        'TROOPS' : troops,\n",
        "        'DATES' : dates,\n",
        "    },\n",
        "    '도서' : {\n",
        "        'BOOKS' : books_titles,\n",
        "        'AUTHOR' : books_authors,\n",
        "    },\n",
        "    '급여' : {\n",
        "        'RANK' : ranks,\n",
        "        'PAYS' : pays,\n",
        "    },\n",
        "    '복지' : {\n",
        "        'FAC' : facilities,\n",
        "        'LOC' : locations,\n",
        "    },\n",
        "    '정원' : {\n",
        "        'MILTYPE' : miltypes,\n",
        "        'RANK' : ranks,\n",
        "    },\n",
        "    '주거' : {\n",
        "        'LOC' : locations,\n",
        "        'HOUSE' : houses,\n",
        "        'MILTYPE' : miltypes,\n",
        "    },\n",
        "}"
      ],
      "metadata": {
        "id": "Hg7Ue71xWieh"
      },
      "execution_count": null,
      "outputs": []
    },
    {
      "cell_type": "markdown",
      "source": [
        "### Not Named Entity"
      ],
      "metadata": {
        "id": "TwHfu-xOAUX7"
      }
    },
    {
      "cell_type": "code",
      "source": [
        "mecab.morphs(\"검색해\")"
      ],
      "metadata": {
        "colab": {
          "base_uri": "https://localhost:8080/"
        },
        "id": "tfmQiA-MIHnf",
        "outputId": "e4d38c63-327b-4e96-adef-b6ea17e4fa40"
      },
      "execution_count": null,
      "outputs": [
        {
          "output_type": "execute_result",
          "data": {
            "text/plain": [
              "['검색', '해']"
            ]
          },
          "metadata": {},
          "execution_count": 102
        }
      ]
    },
    {
      "cell_type": "code",
      "source": [
        "not_named_entity = []\n",
        "not_named_entity += ['근처', '주변', '부근', '근방', '쪽에',  '지역']\n",
        "not_named_entity += ['있어?', '있긴해?', '있음?', '뭐가 있어?', '있을까?']\n",
        "not_named_entity += ['시설', '복지시설', '놀만한 곳', '갈만한 곳', '할인되는 곳', '숙소', '잘데', '혜택', '복지정보']\n",
        "not_named_entity += ['알려줘', '궁금해', '궁금함', '말해줘', '알고싶어']\n",
        "not_named_entity += ['근처', '주변', '쪽에',  '지역']\n",
        "not_named_entity += ['있어?', '있음?', '뭐가 있어?', '있을까?']\n",
        "not_named_entity += ['관사', '주택', '아파트', '청약']\n",
        "not_named_entity += ['알려줘', '궁금해', '궁금함', '말해줘', '알고싶어']\n",
        "not_named_entity += ['몇명이야?', '몇명있어?', '얼마나 있음?', '몇명임?', '총 몇명?', '몇명이려나']\n",
        "not_named_entity += ['인원', '총원', '정원', '명수', '사람수', '인원수']\n",
        "not_named_entity += ['알려줘', '궁금해', '궁금함', '말해줘', '알고싶어', '답해줘']\n",
        "not_named_entity += ['되면', '은', '는', '진급시', '진급 시', '진급하면' '진급되면', '처음', '처음에', '첫']\n",
        "not_named_entity += ['요즘', '현재', '지금']    # 연도 등 시기\n",
        "not_named_entity += ['월급', '월급이', '급여', '급여가', '봉급', '봉급이', '수입', '수입이', '연봉', '연봉이']\n",
        "not_named_entity += ['궁금', '궁금쓰', '궁금함', '궁금해', '말해', '말해줘', '알고싶어', '알려줘', '어느정도', '어느 정도', '어느정도야', '어느 정도야', '어느정도임', '어느 정도임', '얼마', '얼마나', '얼마야', '얼마임', '얼마정도', '얼마 정도']\n",
        "not_named_entity += ['있어', '어디있어', '어디 있어', '있을까', '위치', '위치좀', '위치 좀', '찾아줘', ]\n",
        "not_named_entity += ['저자', '저자가', '글쓴이', '글쓴이가']                                            \n",
        "not_named_entity += ['도서', '책', '간행물', '정기간행물']\n",
        "not_named_entity += ['검색', '명', '이름', '제목']   \n",
        "not_named_entity += ['가 쓴 ', '가 저자인 ', '이 쓴 ', '이 저자인 ', '꺼 ']\n",
        "not_named_entity += ['메뉴', '식단', '반찬']\n",
        "not_named_entity += ['검색', '검색해', '검색해줘', '궁금', '궁금함', '궁금해', '말해줘', '뭐야', '뭐지', '뭘까', '알고싶어', '알고 싶어', '알려줘', '알려주셈']\n",
        "\n",
        "#중복제거\n",
        "not_named_entity = [*set(not_named_entity)]\n",
        "\n",
        "not_named_entitys = []\n",
        "for not_ne in not_named_entity:\n",
        "  not_named_entitys += mecab.morphs(not_ne)\n",
        "\n",
        "#중복제거\n",
        "not_named_entitys = [*set(not_named_entitys)]\n",
        "not_named_entitys"
      ],
      "metadata": {
        "colab": {
          "base_uri": "https://localhost:8080/"
        },
        "id": "uMGlAqQOAS3P",
        "outputId": "c2bae392-5044-4800-f1aa-f1b93d2c09f7"
      },
      "execution_count": null,
      "outputs": [
        {
          "output_type": "execute_result",
          "data": {
            "text/plain": [
              "['부근',\n",
              " '놀',\n",
              " '수',\n",
              " '있',\n",
              " '도서',\n",
              " '임',\n",
              " '줘',\n",
              " '쓴',\n",
              " '한',\n",
              " '책',\n",
              " '사람',\n",
              " '월급',\n",
              " '뭐',\n",
              " '갈만',\n",
              " '명수',\n",
              " '몇',\n",
              " '처음',\n",
              " '주',\n",
              " '수입',\n",
              " '함',\n",
              " '어',\n",
              " '저자',\n",
              " '셈',\n",
              " '총원',\n",
              " '요즘',\n",
              " '하',\n",
              " '정기',\n",
              " '만',\n",
              " '근방',\n",
              " '인원',\n",
              " '정원',\n",
              " '음',\n",
              " '알',\n",
              " '답',\n",
              " '얼마나',\n",
              " '메뉴',\n",
              " '어느',\n",
              " '식단',\n",
              " '시',\n",
              " '알려',\n",
              " '숙소',\n",
              " '정도',\n",
              " '꺼',\n",
              " '검색',\n",
              " '정보',\n",
              " '할인',\n",
              " '시설',\n",
              " '총',\n",
              " '은',\n",
              " '는',\n",
              " '관사',\n",
              " '가',\n",
              " '이',\n",
              " '주택',\n",
              " '면',\n",
              " '되',\n",
              " '인원수',\n",
              " '지역',\n",
              " '이름',\n",
              " '고',\n",
              " '려나',\n",
              " '급여',\n",
              " '주변',\n",
              " '곳',\n",
              " '아',\n",
              " '찾',\n",
              " '제목',\n",
              " '어디',\n",
              " '현재',\n",
              " '혜택',\n",
              " '쪽',\n",
              " '복지',\n",
              " '청약',\n",
              " '데',\n",
              " '지',\n",
              " '연봉',\n",
              " '간행물',\n",
              " '에',\n",
              " '싶',\n",
              " '글쓴이',\n",
              " '명',\n",
              " '위치',\n",
              " '진급',\n",
              " '아파트',\n",
              " '해',\n",
              " '얼마',\n",
              " '?',\n",
              " '반찬',\n",
              " '궁금',\n",
              " '근처',\n",
              " '인',\n",
              " '야',\n",
              " '알려줘',\n",
              " '긴',\n",
              " '뭘까',\n",
              " '잘',\n",
              " '지금',\n",
              " '봉급',\n",
              " '좀',\n",
              " '말',\n",
              " '쓰',\n",
              " '을까',\n",
              " '첫']"
            ]
          },
          "metadata": {},
          "execution_count": 103
        }
      ]
    },
    {
      "cell_type": "markdown",
      "source": [
        "### named_entity 형태소 분리\n"
      ],
      "metadata": {
        "id": "J-mAhIqjPn7i"
      }
    },
    {
      "cell_type": "code",
      "source": [
        "intents_list"
      ],
      "metadata": {
        "id": "PdWx9JgxPzxK"
      },
      "execution_count": null,
      "outputs": []
    },
    {
      "cell_type": "markdown",
      "source": [
        "#### named_entity 가 형태소 분리될 경우를 위한 추가 작업"
      ],
      "metadata": {
        "id": "a3cu1rG8RYV8"
      }
    },
    {
      "cell_type": "code",
      "source": [
        "for intent in intents_list:\n",
        "  for key in intents_named_entity[intent].keys():\n",
        "    origin = intents_named_entity[intent][key]\n",
        "    result = []\n",
        "    for named_entity in intents_named_entity[intent][key]:\n",
        "      # print(named_entity)\n",
        "      result += mecab.morphs(str(named_entity))\n",
        "    result += origin\n",
        "    result = [*set(result)]\n",
        "    intents_named_entity[intent][key] = result\n"
      ],
      "metadata": {
        "id": "idxLk_2gPnbd"
      },
      "execution_count": null,
      "outputs": []
    },
    {
      "cell_type": "markdown",
      "source": [
        "### QUESTION SAMPLING"
      ],
      "metadata": {
        "id": "HCDltI5n8d3r"
      }
    },
    {
      "cell_type": "code",
      "source": [
        "mecab.morphs(\"가나다라 몇명있어?\")"
      ],
      "metadata": {
        "colab": {
          "base_uri": "https://localhost:8080/"
        },
        "id": "nKfWfyyh_2vj",
        "outputId": "f8f3ed89-5471-4b2c-95e6-c66558a1dd6a"
      },
      "execution_count": null,
      "outputs": [
        {
          "output_type": "execute_result",
          "data": {
            "text/plain": [
              "['가나다', '라', '몇', '명', '있', '어', '?']"
            ]
          },
          "metadata": {},
          "execution_count": 128
        }
      ]
    },
    {
      "cell_type": "code",
      "source": [
        "mecab.morphs(\"제8902부대 어딨어?\")"
      ],
      "metadata": {
        "colab": {
          "base_uri": "https://localhost:8080/"
        },
        "id": "-DNEK1X3RkNt",
        "outputId": "76d5b26a-614e-4acb-ded1-253ead583cbc"
      },
      "execution_count": null,
      "outputs": [
        {
          "output_type": "execute_result",
          "data": {
            "text/plain": [
              "['제8902부대', '어딨', '어', '?']"
            ]
          },
          "metadata": {},
          "execution_count": 129
        }
      ]
    },
    {
      "cell_type": "code",
      "source": [
        "all_questions = {}\n",
        "for intents in intents_list:\n",
        "  print(intents)\n",
        "  questions = pd.read_csv(question_file[intents])\n",
        "  all_questions[intents] = questions\n",
        "  for question in random.sample(all_questions[intents]['question'].tolist(),5):\n",
        "    print(question)\n",
        "\n",
        "  print(\"===========\")"
      ],
      "metadata": {
        "id": "W8LVMmYKO2TG",
        "colab": {
          "base_uri": "https://localhost:8080/"
        },
        "outputId": "402bb07c-283a-4f08-b93c-77d8aba5020a"
      },
      "execution_count": null,
      "outputs": [
        {
          "output_type": "stream",
          "name": "stdout",
          "text": [
            "식단\n",
            "2621 부대 점심 메뉴 알려주셈\n",
            "제 5322부대 저녁 반찬\n",
            "제7296 부대 점심 식단\n",
            "제1691 부대 아침 메뉴 궁금함\n",
            "제7652 부대 저녁 식단\n",
            "===========\n",
            "도서\n",
            "글쓴이 김세중\n",
            "대혼란을 넘어 간행물\n",
            "책 이름 대통령과 언론 있어\n",
            "안충영 가 쓴 간행물 있어\n",
            "사회사상연구소 꺼 간행물 위치\n",
            "===========\n",
            "급여\n",
            "중사 봉급 어느 정도\n",
            "상병 연봉 얼마\n",
            "준위 2015년도 수입 얼마정도\n",
            "소위 9호봉 급여가 궁금해\n",
            "원사 연봉 알려줘\n",
            "===========\n",
            "복지\n",
            "창원중앙주변 혜택 궁금함\n",
            "창원근처 복지정보 궁금함\n",
            "전주지역 숙소 알고싶어\n",
            "증평부근 숙소 뭐가 있어?\n",
            "거제씨앤스카이 리조트 혜택정보 알려줘\n",
            "===========\n",
            "정원\n",
            "해병대에 대령 총 몇명?\n",
            "육군에 대위 총 몇명?\n",
            "육군에 소령 총 몇명?\n",
            "육군에 소장 총 몇명?\n",
            "해군에 대위 총 몇명?\n",
            "===========\n",
            "주거\n",
            "양천구부근 해병대 청약 있어?\n",
            "증평 미암리 코아루 휴티스에 대해 궁금함\n",
            "광양시쪽에 군 관사 있어?\n",
            "여수시지역 군 관사 있음?\n",
            "보은군쪽에 관사 있음?\n",
            "===========\n"
          ]
        }
      ]
    },
    {
      "cell_type": "code",
      "source": [
        "all_questions.keys()"
      ],
      "metadata": {
        "colab": {
          "base_uri": "https://localhost:8080/"
        },
        "id": "H1KfESfxIzxm",
        "outputId": "39512706-8cf7-4ed0-9019-0542ec6b1b19"
      },
      "execution_count": null,
      "outputs": [
        {
          "output_type": "execute_result",
          "data": {
            "text/plain": [
              "dict_keys(['식단', '도서', '급여', '복지', '정원', '주거'])"
            ]
          },
          "metadata": {},
          "execution_count": 131
        }
      ]
    },
    {
      "cell_type": "code",
      "source": [
        "intents_named_entity['식단'].keys()"
      ],
      "metadata": {
        "colab": {
          "base_uri": "https://localhost:8080/"
        },
        "id": "H6VT2en7J-hX",
        "outputId": "4ec0f3e9-9534-453c-c49c-f00744fcd979"
      },
      "execution_count": null,
      "outputs": [
        {
          "output_type": "execute_result",
          "data": {
            "text/plain": [
              "dict_keys(['TROOPS', 'DATES'])"
            ]
          },
          "metadata": {},
          "execution_count": 132
        }
      ]
    },
    {
      "cell_type": "code",
      "source": [
        "intents_list = ['식단','도서','급여','복지','정원','주거']\n",
        "# intents_list = ['식단']\n",
        "\n",
        "tokenized_sequences = []\n",
        "label_sequences = []\n",
        "\n",
        "for intent in intents_list:\n",
        "  for sample in all_questions[intent]['question']:\n",
        "    temp_sample = []\n",
        "    tokenized_sample = mecab.morphs(sample) # 토큰화\n",
        "    for word in tokenized_sample:\n",
        "      if word in not_named_entitys:\n",
        "        temp_sample.append('O')\n",
        "      else:\n",
        "        setting = False\n",
        "        for entity_key in intents_named_entity[intent].keys():\n",
        "          if word in intents_named_entity[intent][entity_key]:\n",
        "            setting = True\n",
        "            if f'B-{entity_key}' in temp_sample:\n",
        "              temp_sample.append(f'I-{entity_key}')\n",
        "            else:\n",
        "              temp_sample.append(f'B-{entity_key}')\n",
        "            break\n",
        "          # else:\n",
        "          #   temp_sample.append('O')\n",
        "        if setting is False:\n",
        "          temp_sample.append('O')\n",
        "        \n",
        "    if 'O' not in temp_sample:\n",
        "      temp_sample[-1] = 'O'\n",
        "      temp_sample[-2] = 'O'\n",
        "      print('예기치 못한 레이블링 에러 발생으로 레이블 조정. 조정 결과 :', tokenized_sample, temp_sample)\n",
        "    tokenized_sequences.append(tokenized_sample)\n",
        "    label_sequences.append(temp_sample)\n",
        "\n"
      ],
      "metadata": {
        "id": "TD7CU7kkJF__"
      },
      "execution_count": null,
      "outputs": []
    },
    {
      "cell_type": "code",
      "source": [
        "random_indexs = random.sample(range(len(tokenized_sequences)),30)\n",
        "for i in random_indexs:\n",
        "  print(tokenized_sequences[i], label_sequences[i])"
      ],
      "metadata": {
        "colab": {
          "base_uri": "https://localhost:8080/"
        },
        "id": "oVSAjcJZPjms",
        "outputId": "0baa22be-d5b4-4be9-9702-e22fd426b598"
      },
      "execution_count": null,
      "outputs": [
        {
          "output_type": "stream",
          "name": "stdout",
          "text": [
            "['2621부대', '아침', '반찬'] ['B-TROOPS', 'B-DATES', 'O']\n",
            "['책', '검색', '전략가', '의', '시나리오', '있', '어'] ['O', 'O', 'B-BOOKS', 'I-BOOKS', 'I-BOOKS', 'O', 'O']\n",
            "['무주군', '지역', '군', '관사', '있', '어', '?'] ['B-LOC', 'O', 'B-HOUSE', 'O', 'O', 'O', 'O']\n",
            "['운노', '히로시', '가', '저자', '인', '정기', '간행물', '위치', '좀'] ['B-AUTHOR', 'B-BOOKS', 'O', 'O', 'O', 'O', 'O', 'O', 'O']\n",
            "['달성', '아파트', '가동', '에', '대해', '알려줘'] ['B-HOUSE', 'O', 'I-HOUSE', 'O', 'O', 'O']\n",
            "['도서', '검색', '언론', '자유', '와', '인격', '권'] ['O', 'O', 'B-BOOKS', 'I-BOOKS', 'I-BOOKS', 'I-BOOKS', 'I-BOOKS']\n",
            "['부평구', '부근', '청약', '뭐', '가', '있', '어', '?'] ['B-LOC', 'O', 'O', 'O', 'O', 'O', 'O', 'O']\n",
            "['상병', '봉급', '말', '해'] ['B-RANK', 'O', 'O', 'O']\n",
            "['간행물', '제목', '노인장기요양보험', '의', '현황', '과', '과제'] ['O', 'O', 'B-BOOKS', 'I-BOOKS', 'I-BOOKS', 'I-BOOKS', 'I-BOOKS']\n",
            "['안양행복마을', '에', '대해', '알', '고', '싶', '어'] ['B-HOUSE', 'O', 'O', 'O', 'O', 'O', 'O']\n",
            "['제5322부대', '저녁', '반찬'] ['B-TROOPS', 'B-DATES', 'O']\n",
            "['충청북도', '근처', '혜택', '있', '긴', '해', '?'] ['B-LOC', 'O', 'O', 'O', 'O', 'O', 'O']\n",
            "['제8623부대', '아침', '반찬', '말', '해', '줘'] ['B-TROOPS', 'B-DATES', 'O', 'O', 'O', 'O']\n",
            "['김혁래', '꺼', '도서'] ['B-AUTHOR', 'O', 'O']\n",
            "['중량구', '쪽', '에', '아파트', '있', '어', '?'] ['B-LOC', 'O', 'O', 'O', 'O', 'O', 'O']\n",
            "['소령', '월급', '궁금', '쓰'] ['B-RANK', 'O', 'O', 'O']\n",
            "['저자', '가', '엘리', '프레이저'] ['O', 'O', 'B-BOOKS', 'I-BOOKS']\n",
            "['중령', '수입', '어느', '정도', '임'] ['O', 'O', 'O', 'O', 'O']\n",
            "['소령', '연봉', '어느', '정도', '임'] ['B-RANK', 'O', 'O', 'O', 'O']\n",
            "['강릉시', '쪽', '에', '관사', '있', '음', '?'] ['B-LOC', 'O', 'O', 'O', 'O', 'O', 'O']\n",
            "['칼맑스', '의', '혁명', '적', '사상', '간행물', '제목', '어디', '있', '어'] ['B-BOOKS', 'I-BOOKS', 'I-BOOKS', 'I-BOOKS', 'I-BOOKS', 'O', 'O', 'O', 'O', 'O']\n",
            "['옥천군', '주변', '주택', '있', '음', '?'] ['B-LOC', 'O', 'O', 'O', 'O', 'O']\n",
            "['오송', '지역', '주택', '있', '어', '?'] ['B-LOC', 'O', 'O', 'O', 'O', 'O']\n",
            "['평택', '부근', '잘', '데', '궁금', '함'] ['B-LOC', 'O', 'O', 'O', 'O', 'O']\n",
            "['제3182부대', '저녁', '식단'] ['B-TROOPS', 'B-DATES', 'O']\n",
            "['부안군', '지역', '해군', '관사', '있', '음', '?'] ['B-LOC', 'O', 'B-HOUSE', 'O', 'O', 'O', 'O']\n",
            "['대구', '근처', '잘', '데', '알', '고', '싶', '어'] ['B-FAC', 'O', 'O', 'O', 'O', 'O', 'O', 'O']\n",
            "['강릉', '부근', '시설', '알려줘'] ['B-LOC', 'O', 'O', 'O']\n",
            "['대구', '두산동', '호반', '써', '밋', '수성', '에', '대해', '궁금', '해'] ['B-LOC', 'B-HOUSE', 'I-HOUSE', 'I-HOUSE', 'I-HOUSE', 'I-HOUSE', 'O', 'O', 'O', 'O']\n",
            "['달성', '아파트', '마동', '에', '대해', '알', '고', '싶', '어'] ['B-HOUSE', 'O', 'I-HOUSE', 'O', 'O', 'O', 'O', 'O', 'O']\n"
          ]
        }
      ]
    },
    {
      "cell_type": "code",
      "source": [
        "ner_sentences = tokenized_sequences\n",
        "ner_tags = label_sequences"
      ],
      "metadata": {
        "id": "q4shWvmg5C91"
      },
      "execution_count": null,
      "outputs": []
    },
    {
      "cell_type": "code",
      "source": [
        "print(type(ner_sentences[0]))"
      ],
      "metadata": {
        "colab": {
          "base_uri": "https://localhost:8080/"
        },
        "id": "mmjUlw465IKF",
        "outputId": "e0acd80a-1cc1-495c-cbe5-2c4fbb22366a"
      },
      "execution_count": null,
      "outputs": [
        {
          "output_type": "stream",
          "name": "stdout",
          "text": [
            "<class 'list'>\n"
          ]
        }
      ]
    },
    {
      "cell_type": "code",
      "source": [
        "import matplotlib.pyplot as plt "
      ],
      "metadata": {
        "id": "xP-OSinf5Prj"
      },
      "execution_count": null,
      "outputs": []
    },
    {
      "cell_type": "code",
      "source": [
        "print('샘플의 최대 길이 : %d' % max(len(l) for l in ner_sentences))\n",
        "print('샘플의 평균 길이 : %f' % (sum(map(len, ner_sentences))/len(ner_sentences)))\n",
        "plt.hist([len(s) for s in ner_sentences], bins=50)\n",
        "plt.xlabel('length of samples')\n",
        "plt.ylabel('number of samples')\n",
        "plt.show()"
      ],
      "metadata": {
        "colab": {
          "base_uri": "https://localhost:8080/",
          "height": 317
        },
        "id": "xZJips3I5NRO",
        "outputId": "2b35c725-75cd-412c-8913-fade15c24685"
      },
      "execution_count": null,
      "outputs": [
        {
          "output_type": "stream",
          "name": "stdout",
          "text": [
            "샘플의 최대 길이 : 32\n",
            "샘플의 평균 길이 : 6.584949\n"
          ]
        },
        {
          "output_type": "display_data",
          "data": {
            "text/plain": [
              "<Figure size 432x288 with 1 Axes>"
            ],
            "image/png": "[encoded data removed]"
          },
          "metadata": {
            "needs_background": "light"
          }
        }
      ]
    },
    {
      "cell_type": "code",
      "source": [
        "import pandas as pd\n",
        "import numpy as np\n",
        "import matplotlib.pyplot as plt\n",
        "from sklearn import preprocessing\n",
        "from sklearn.model_selection import train_test_split\n",
        "# from tensorflow.keras.utils import to_categorical\n",
        "from keras.utils import to_categorical\n",
        "from keras.preprocessing.text import Tokenizer\n",
        "from keras.preprocessing.sequence import pad_sequences"
      ],
      "metadata": {
        "id": "Ek0NCk1m5mQL",
        "colab": {
          "base_uri": "https://localhost:8080/"
        },
        "outputId": "e4135f1e-c0d4-4a8a-e57b-8cf6af9e89a7"
      },
      "execution_count": null,
      "outputs": [
        {
          "output_type": "stream",
          "name": "stderr",
          "text": [
            "Using TensorFlow backend.\n",
            "/usr/local/lib/python3.7/dist-packages/tensorflow/python/framework/dtypes.py:516: FutureWarning: Passing (type, 1) or '1type' as a synonym of type is deprecated; in a future version of numpy, it will be understood as (type, (1,)) / '(1,)type'.\n",
            "  _np_qint8 = np.dtype([(\"qint8\", np.int8, 1)])\n",
            "/usr/local/lib/python3.7/dist-packages/tensorflow/python/framework/dtypes.py:517: FutureWarning: Passing (type, 1) or '1type' as a synonym of type is deprecated; in a future version of numpy, it will be understood as (type, (1,)) / '(1,)type'.\n",
            "  _np_quint8 = np.dtype([(\"quint8\", np.uint8, 1)])\n",
            "/usr/local/lib/python3.7/dist-packages/tensorflow/python/framework/dtypes.py:518: FutureWarning: Passing (type, 1) or '1type' as a synonym of type is deprecated; in a future version of numpy, it will be understood as (type, (1,)) / '(1,)type'.\n",
            "  _np_qint16 = np.dtype([(\"qint16\", np.int16, 1)])\n",
            "/usr/local/lib/python3.7/dist-packages/tensorflow/python/framework/dtypes.py:519: FutureWarning: Passing (type, 1) or '1type' as a synonym of type is deprecated; in a future version of numpy, it will be understood as (type, (1,)) / '(1,)type'.\n",
            "  _np_quint16 = np.dtype([(\"quint16\", np.uint16, 1)])\n",
            "/usr/local/lib/python3.7/dist-packages/tensorflow/python/framework/dtypes.py:520: FutureWarning: Passing (type, 1) or '1type' as a synonym of type is deprecated; in a future version of numpy, it will be understood as (type, (1,)) / '(1,)type'.\n",
            "  _np_qint32 = np.dtype([(\"qint32\", np.int32, 1)])\n",
            "/usr/local/lib/python3.7/dist-packages/tensorflow/python/framework/dtypes.py:525: FutureWarning: Passing (type, 1) or '1type' as a synonym of type is deprecated; in a future version of numpy, it will be understood as (type, (1,)) / '(1,)type'.\n",
            "  np_resource = np.dtype([(\"resource\", np.ubyte, 1)])\n",
            "/usr/local/lib/python3.7/dist-packages/tensorboard/compat/tensorflow_stub/dtypes.py:541: FutureWarning: Passing (type, 1) or '1type' as a synonym of type is deprecated; in a future version of numpy, it will be understood as (type, (1,)) / '(1,)type'.\n",
            "  _np_qint8 = np.dtype([(\"qint8\", np.int8, 1)])\n",
            "/usr/local/lib/python3.7/dist-packages/tensorboard/compat/tensorflow_stub/dtypes.py:542: FutureWarning: Passing (type, 1) or '1type' as a synonym of type is deprecated; in a future version of numpy, it will be understood as (type, (1,)) / '(1,)type'.\n",
            "  _np_quint8 = np.dtype([(\"quint8\", np.uint8, 1)])\n",
            "/usr/local/lib/python3.7/dist-packages/tensorboard/compat/tensorflow_stub/dtypes.py:543: FutureWarning: Passing (type, 1) or '1type' as a synonym of type is deprecated; in a future version of numpy, it will be understood as (type, (1,)) / '(1,)type'.\n",
            "  _np_qint16 = np.dtype([(\"qint16\", np.int16, 1)])\n",
            "/usr/local/lib/python3.7/dist-packages/tensorboard/compat/tensorflow_stub/dtypes.py:544: FutureWarning: Passing (type, 1) or '1type' as a synonym of type is deprecated; in a future version of numpy, it will be understood as (type, (1,)) / '(1,)type'.\n",
            "  _np_quint16 = np.dtype([(\"quint16\", np.uint16, 1)])\n",
            "/usr/local/lib/python3.7/dist-packages/tensorboard/compat/tensorflow_stub/dtypes.py:545: FutureWarning: Passing (type, 1) or '1type' as a synonym of type is deprecated; in a future version of numpy, it will be understood as (type, (1,)) / '(1,)type'.\n",
            "  _np_qint32 = np.dtype([(\"qint32\", np.int32, 1)])\n",
            "/usr/local/lib/python3.7/dist-packages/tensorboard/compat/tensorflow_stub/dtypes.py:550: FutureWarning: Passing (type, 1) or '1type' as a synonym of type is deprecated; in a future version of numpy, it will be understood as (type, (1,)) / '(1,)type'.\n",
            "  np_resource = np.dtype([(\"resource\", np.ubyte, 1)])\n"
          ]
        }
      ]
    },
    {
      "cell_type": "code",
      "source": [
        "src_tokenizer = Tokenizer(oov_token='OOV') # 모든 단어를 사용하지만 인덱스 1에는 단어 'OOV'를 할당한다.\n",
        "src_tokenizer.fit_on_texts(ner_sentences)\n",
        "tar_tokenizer = Tokenizer(lower=False) # 태깅 정보들은 내부적으로 대문자를 유지한채로 저장\n",
        "tar_tokenizer.fit_on_texts(ner_tags)"
      ],
      "metadata": {
        "id": "nWF5HNyC5Vbv"
      },
      "execution_count": null,
      "outputs": []
    },
    {
      "cell_type": "code",
      "source": [
        "vocab_size = len(src_tokenizer.word_index) + 1\n",
        "tag_size = len(tar_tokenizer.word_index) + 1\n",
        "print('단어 집합의 크기 : {}'.format(vocab_size))\n",
        "print('개체명 태깅 정보 집합의 크기 : {}'.format(tag_size))"
      ],
      "metadata": {
        "colab": {
          "base_uri": "https://localhost:8080/"
        },
        "id": "Cz0HT0nQ5ukk",
        "outputId": "b0f96637-ec3f-47c7-f4cf-ac9f88c463e7"
      },
      "execution_count": null,
      "outputs": [
        {
          "output_type": "stream",
          "name": "stdout",
          "text": [
            "단어 집합의 크기 : 14820\n",
            "개체명 태깅 정보 집합의 크기 : 16\n"
          ]
        }
      ]
    },
    {
      "cell_type": "code",
      "source": [
        "print('단어 OOV의 인덱스 : {}'.format(src_tokenizer.word_index['OOV']))"
      ],
      "metadata": {
        "colab": {
          "base_uri": "https://localhost:8080/"
        },
        "id": "zwa-rQBX5z0D",
        "outputId": "17d82c09-3fc8-4720-e775-e9c801f433dc"
      },
      "execution_count": null,
      "outputs": [
        {
          "output_type": "stream",
          "name": "stdout",
          "text": [
            "단어 OOV의 인덱스 : 1\n"
          ]
        }
      ]
    },
    {
      "cell_type": "code",
      "source": [
        "X_data = src_tokenizer.texts_to_sequences(ner_sentences)\n",
        "y_data = tar_tokenizer.texts_to_sequences(ner_tags)"
      ],
      "metadata": {
        "id": "acQ7zLJ155xv"
      },
      "execution_count": null,
      "outputs": []
    },
    {
      "cell_type": "code",
      "source": [
        "random.sample(ner_sentences,10)"
      ],
      "metadata": {
        "colab": {
          "base_uri": "https://localhost:8080/"
        },
        "id": "ayxuLA0G5-UK",
        "outputId": "db8fa5a3-3d6d-4012-8236-97c52a2223c1"
      },
      "execution_count": null,
      "outputs": [
        {
          "output_type": "execute_result",
          "data": {
            "text/plain": [
              "[['대령', '38', '호봉', '봉급', '얼마', '임'],\n",
              " ['육군', '에', '장교', '몇', '명', '이', '려나'],\n",
              " ['강릉시', '지역', '해병대', '관사', '있', '긴', '해', '?'],\n",
              " ['ADAN', ',', 'AVRAHAM', '가', '쓴', '간행물', '정기', '간행물', '제목'],\n",
              " ['대전시', '주변', '갈만', '한', '곳', '궁금', '함'],\n",
              " ['제주특별자치도', '근방', '할인', '되', '는', '곳', '궁금', '함'],\n",
              " ['경상북도', '부근', '복지', '시설', '궁금', '해'],\n",
              " ['글쓴이', '가', '일본', '통산', '산업', '성', '기계', '정보산업', '국', '간행물'],\n",
              " ['광주시', '근처', '관사', '있', '긴', '해', '?'],\n",
              " ['만종', '근처', '잘', '데', '있', '음', '?']]"
            ]
          },
          "metadata": {},
          "execution_count": 144
        }
      ]
    },
    {
      "cell_type": "code",
      "source": [
        "X_data[:3]"
      ],
      "metadata": {
        "colab": {
          "base_uri": "https://localhost:8080/"
        },
        "id": "hmXOXvSK588V",
        "outputId": "b919a8a6-586e-4de4-cbed-063e56e23d4a"
      },
      "execution_count": null,
      "outputs": [
        {
          "output_type": "execute_result",
          "data": {
            "text/plain": [
              "[[371, 36, 35], [150, 38, 37], [371, 39, 37]]"
            ]
          },
          "metadata": {},
          "execution_count": 145
        }
      ]
    },
    {
      "cell_type": "code",
      "source": [
        "word_to_index = src_tokenizer.word_index\n",
        "index_to_word = src_tokenizer.index_word\n",
        "ner_to_index = tar_tokenizer.word_index\n",
        "index_to_ner = tar_tokenizer.index_word\n",
        "index_to_ner[0] = 'PAD'"
      ],
      "metadata": {
        "id": "40qwArVl6DYe"
      },
      "execution_count": null,
      "outputs": []
    },
    {
      "cell_type": "code",
      "source": [
        "print(index_to_ner)"
      ],
      "metadata": {
        "colab": {
          "base_uri": "https://localhost:8080/"
        },
        "id": "xNbuKf6w6KCt",
        "outputId": "326220bd-8ad4-4705-dcdc-a3559ef9ff08"
      },
      "execution_count": null,
      "outputs": [
        {
          "output_type": "stream",
          "name": "stdout",
          "text": [
            "{1: 'O', 2: 'I-BOOKS', 3: 'B-LOC', 4: 'I-HOUSE', 5: 'B-BOOKS', 6: 'B-HOUSE', 7: 'B-TROOPS', 8: 'B-DATES', 9: 'B-RANK', 10: 'B-AUTHOR', 11: 'B-FAC', 12: 'I-FAC', 13: 'B-MILTYPE', 14: 'I-AUTHOR', 15: 'I-LOC', 0: 'PAD'}\n"
          ]
        }
      ]
    },
    {
      "cell_type": "code",
      "source": [
        "decoded = []\n",
        "for index in X_data[0] : # 첫번째 샘플 안의 인덱스들에 대해서\n",
        "    decoded.append(index_to_word[index]) # 다시 단어로 변환\n",
        "\n",
        "print('기존의 문장 : {}'.format(ner_sentences[0]))\n",
        "print('디코딩 문장 : {}'.format(decoded))"
      ],
      "metadata": {
        "colab": {
          "base_uri": "https://localhost:8080/"
        },
        "id": "NMMfBjgQ6MWl",
        "outputId": "0cebc45e-f5ea-498e-b1d4-917a9372801c"
      },
      "execution_count": null,
      "outputs": [
        {
          "output_type": "stream",
          "name": "stdout",
          "text": [
            "기존의 문장 : ['3389부대', '점심', '식단']\n",
            "디코딩 문장 : ['3389부대', '점심', '식단']\n"
          ]
        }
      ]
    },
    {
      "cell_type": "code",
      "source": [
        "max_len = 35\n",
        "# 모든 샘플들의 길이를 맞출 때 뒤의 공간에 숫자 0으로 채움.\n",
        "X_data = pad_sequences(X_data, padding='post', maxlen=max_len)\n",
        "y_data = pad_sequences(y_data, padding='post', maxlen=max_len)"
      ],
      "metadata": {
        "id": "mGDvrhGF6RDw"
      },
      "execution_count": null,
      "outputs": []
    },
    {
      "cell_type": "code",
      "source": [
        "X_train, X_test, y_train, y_test = train_test_split(X_data, y_data, test_size=.2, random_state=777)"
      ],
      "metadata": {
        "id": "BReLyG3A6Z55"
      },
      "execution_count": null,
      "outputs": []
    },
    {
      "cell_type": "code",
      "source": [
        "y_train = to_categorical(y_train, num_classes=tag_size)\n",
        "y_test = to_categorical(y_test, num_classes=tag_size)"
      ],
      "metadata": {
        "id": "R8nF2BVY6co8"
      },
      "execution_count": null,
      "outputs": []
    },
    {
      "cell_type": "code",
      "source": [
        "print('훈련 샘플 문장의 크기 : {}'.format(X_train.shape))\n",
        "print('훈련 샘플 레이블의 크기 : {}'.format(y_train.shape))\n",
        "print('테스트 샘플 문장의 크기 : {}'.format(X_test.shape))\n",
        "print('테스트 샘플 레이블의 크기 : {}'.format(y_test.shape))"
      ],
      "metadata": {
        "colab": {
          "base_uri": "https://localhost:8080/"
        },
        "id": "omOaXW4m6gFe",
        "outputId": "7583a178-c834-4246-874b-3859c29e60b4"
      },
      "execution_count": null,
      "outputs": [
        {
          "output_type": "stream",
          "name": "stdout",
          "text": [
            "훈련 샘플 문장의 크기 : (33827, 35)\n",
            "훈련 샘플 레이블의 크기 : (33827, 35, 16)\n",
            "테스트 샘플 문장의 크기 : (8457, 35)\n",
            "테스트 샘플 레이블의 크기 : (8457, 35, 16)\n"
          ]
        }
      ]
    },
    {
      "cell_type": "code",
      "source": [
        "!pip install seqeval"
      ],
      "metadata": {
        "colab": {
          "base_uri": "https://localhost:8080/"
        },
        "id": "iHRDimrU6kIw",
        "outputId": "62395541-d13a-4a00-e95d-f45a798a8149"
      },
      "execution_count": null,
      "outputs": [
        {
          "output_type": "stream",
          "name": "stdout",
          "text": [
            "Looking in indexes: https://pypi.org/simple, https://us-python.pkg.dev/colab-wheels/public/simple/\n",
            "Collecting seqeval\n",
            "  Downloading seqeval-1.2.2.tar.gz (43 kB)\n",
            "\u001b[?25l\r\u001b[K     |███████▌                        | 10 kB 23.8 MB/s eta 0:00:01\r\u001b[K     |███████████████                 | 20 kB 12.9 MB/s eta 0:00:01\r\u001b[K     |██████████████████████▌         | 30 kB 9.7 MB/s eta 0:00:01\r\u001b[K     |██████████████████████████████  | 40 kB 4.4 MB/s eta 0:00:01\r\u001b[K     |████████████████████████████████| 43 kB 1.5 MB/s \n",
            "\u001b[?25hRequirement already satisfied: numpy>=1.14.0 in /usr/local/lib/python3.7/dist-packages (from seqeval) (1.21.6)\n",
            "Requirement already satisfied: scikit-learn>=0.21.3 in /usr/local/lib/python3.7/dist-packages (from seqeval) (1.0.2)\n",
            "Requirement already satisfied: joblib>=0.11 in /usr/local/lib/python3.7/dist-packages (from scikit-learn>=0.21.3->seqeval) (1.1.0)\n",
            "Requirement already satisfied: scipy>=1.1.0 in /usr/local/lib/python3.7/dist-packages (from scikit-learn>=0.21.3->seqeval) (1.7.3)\n",
            "Requirement already satisfied: threadpoolctl>=2.0.0 in /usr/local/lib/python3.7/dist-packages (from scikit-learn>=0.21.3->seqeval) (3.1.0)\n",
            "Building wheels for collected packages: seqeval\n",
            "  Building wheel for seqeval (setup.py) ... \u001b[?25l\u001b[?25hdone\n",
            "  Created wheel for seqeval: filename=seqeval-1.2.2-py3-none-any.whl size=16180 sha256=e7fd719b84990047271113bf1edf1766006e9cac5321b90b15bb2d2767d1c65c\n",
            "  Stored in directory: /root/.cache/pip/wheels/05/96/ee/7cac4e74f3b19e3158dce26a20a1c86b3533c43ec72a549fd7\n",
            "Successfully built seqeval\n",
            "Installing collected packages: seqeval\n",
            "Successfully installed seqeval-1.2.2\n"
          ]
        }
      ]
    },
    {
      "cell_type": "code",
      "source": [
        "from keras.callbacks import Callback\n",
        "from seqeval.metrics import f1_score, classification_report"
      ],
      "metadata": {
        "id": "tE1ImcUx6o-D"
      },
      "execution_count": null,
      "outputs": []
    },
    {
      "cell_type": "code",
      "source": [
        "class F1score(Callback):\n",
        "    def __init__(self, value = 0.0, use_char=True):\n",
        "        super(F1score, self).__init__()\n",
        "        self.value = value\n",
        "        self.use_char = use_char\n",
        "\n",
        "    def sequences_to_tags(self, sequences): # 예측값을 index_to_ner를 사용하여 태깅 정보로 변경하는 함수.\n",
        "      result = []\n",
        "      for sequence in sequences: # 전체 시퀀스로부터 시퀀스를 하나씩 꺼낸다.\n",
        "          tag = []\n",
        "          for pred in sequence: # 시퀀스로부터 예측값을 하나씩 꺼낸다.\n",
        "              pred_index = np.argmax(pred) # 예를 들어 [0, 0, 1, 0 ,0]라면 1의 인덱스인 2를 리턴한다.\n",
        "              tag.append(index_to_ner[pred_index].replace(\"PAD\", \"O\")) # 'PAD'는 'O'로 변경\n",
        "          result.append(tag)\n",
        "      return result\n",
        "\n",
        "    # 에포크가 끝날 때마다 실행되는 함수\n",
        "    def on_epoch_end(self, epoch, logs={}):\n",
        "\n",
        "      # char Embedding을 사용하는 경우\n",
        "      if self.use_char:\n",
        "        X_test = self.validation_data[0]\n",
        "        X_char_test = self.validation_data[1]\n",
        "        y_test = self.validation_data[2]\n",
        "        y_predicted = self.model.predict([X_test, X_char_test])\n",
        "\n",
        "      else:\n",
        "        X_test = self.validation_data[0]\n",
        "        y_test = self.validation_data[1]\n",
        "        y_predicted = self.model.predict([X_test])\n",
        "\n",
        "      pred_tags = self.sequences_to_tags(y_predicted)\n",
        "      test_tags = self.sequences_to_tags(y_test)\n",
        "\n",
        "      score = f1_score(pred_tags, test_tags)\n",
        "      print(' - f1: {:04.2f}'.format(score * 100))\n",
        "      print(classification_report(test_tags, pred_tags))\n",
        "\n",
        "      # F1-score가 지금까지 중 가장 높은 경우\n",
        "      if score > self.value:\n",
        "        print('f1_score improved from %f to %f, saving model to best_model.h5'%(self.value, score))\n",
        "        self.model.save('ner_crf_best_model.h5')\n",
        "        self.value = score\n",
        "      else:\n",
        "        print('f1_score did not improve from %f'%(self.value))"
      ],
      "metadata": {
        "id": "75W4Ix9q6q3Y"
      },
      "execution_count": null,
      "outputs": []
    },
    {
      "cell_type": "code",
      "source": [
        "import pickle"
      ],
      "metadata": {
        "id": "cuxIAmS966Gh"
      },
      "execution_count": null,
      "outputs": []
    },
    {
      "cell_type": "code",
      "source": [
        "# # saving\n",
        "# with open('ner_src_tokenizer.pickle', 'wb') as handle:\n",
        "#     pickle.dump(src_tokenizer, handle, protocol=pickle.HIGHEST_PROTOCOL)"
      ],
      "metadata": {
        "id": "O3mS652K6xDu"
      },
      "execution_count": null,
      "outputs": []
    },
    {
      "cell_type": "code",
      "source": [
        "# # saving\n",
        "# with open('ner_tar_tokenizer.pickle', 'wb') as handle:\n",
        "#     pickle.dump(tar_tokenizer, handle, protocol=pickle.HIGHEST_PROTOCOL)"
      ],
      "metadata": {
        "id": "jAhI0fZ461Ue"
      },
      "execution_count": null,
      "outputs": []
    },
    {
      "cell_type": "code",
      "source": [
        "from keras.models import Sequential\n",
        "from keras.layers import LSTM, Embedding, Dense, InputLayer, TimeDistributed, Dropout, Bidirectional\n",
        "from keras.models import load_model\n",
        "from keras_contrib.layers import CRF\n",
        "from keras_contrib.losses import crf_loss\n",
        "from keras_contrib.metrics import crf_viterbi_accuracy\n",
        "# from keras.optimizers import Adam\n"
      ],
      "metadata": {
        "id": "TwuCnCMN68KT"
      },
      "execution_count": null,
      "outputs": []
    },
    {
      "cell_type": "code",
      "source": [
        "vocab_size"
      ],
      "metadata": {
        "colab": {
          "base_uri": "https://localhost:8080/"
        },
        "id": "jxi3oVsv7W42",
        "outputId": "697a66d1-6087-4940-f4a5-b07216cb7ac7"
      },
      "execution_count": null,
      "outputs": [
        {
          "output_type": "execute_result",
          "data": {
            "text/plain": [
              "14820"
            ]
          },
          "metadata": {},
          "execution_count": 158
        }
      ]
    },
    {
      "cell_type": "code",
      "source": [
        "max_len"
      ],
      "metadata": {
        "colab": {
          "base_uri": "https://localhost:8080/"
        },
        "id": "bboSAwDL7YsN",
        "outputId": "cc49e97e-dad6-49c4-c2bf-744253f4b27a"
      },
      "execution_count": null,
      "outputs": [
        {
          "output_type": "execute_result",
          "data": {
            "text/plain": [
              "35"
            ]
          },
          "metadata": {},
          "execution_count": 159
        }
      ]
    },
    {
      "cell_type": "code",
      "source": [
        "model = Sequential()\n",
        "model.add(Embedding(input_dim=vocab_size, output_dim=64, input_length=max_len, mask_zero=True))\n",
        "model.add(Bidirectional(LSTM(128, return_sequences=True)))\n",
        "model.add(TimeDistributed(Dense(50, activation=\"relu\")))\n",
        "crf = CRF(tag_size)\n",
        "model.add(crf)"
      ],
      "metadata": {
        "id": "NHUFntQh6-dk",
        "colab": {
          "base_uri": "https://localhost:8080/"
        },
        "outputId": "69145d71-a90c-49fd-a699-3a8e4deb8f10"
      },
      "execution_count": null,
      "outputs": [
        {
          "output_type": "stream",
          "name": "stderr",
          "text": [
            "WARNING:tensorflow:From /usr/local/lib/python3.7/dist-packages/keras/backend/tensorflow_backend.py:74: The name tf.get_default_graph is deprecated. Please use tf.compat.v1.get_default_graph instead.\n",
            "\n",
            "WARNING:tensorflow:From /usr/local/lib/python3.7/dist-packages/keras/backend/tensorflow_backend.py:517: The name tf.placeholder is deprecated. Please use tf.compat.v1.placeholder instead.\n",
            "\n",
            "WARNING:tensorflow:From /usr/local/lib/python3.7/dist-packages/keras/backend/tensorflow_backend.py:4138: The name tf.random_uniform is deprecated. Please use tf.random.uniform instead.\n",
            "\n",
            "WARNING:tensorflow:From /usr/local/lib/python3.7/dist-packages/keras/backend/tensorflow_backend.py:2974: add_dispatch_support.<locals>.wrapper (from tensorflow.python.ops.array_ops) is deprecated and will be removed in a future version.\n",
            "Instructions for updating:\n",
            "Use tf.where in 2.0, which has the same broadcast rule as np.where\n",
            "WARNING:tensorflow:From /usr/local/lib/python3.7/dist-packages/keras/backend/tensorflow_backend.py:133: The name tf.placeholder_with_default is deprecated. Please use tf.compat.v1.placeholder_with_default instead.\n",
            "\n"
          ]
        }
      ]
    },
    {
      "cell_type": "code",
      "source": [
        "model.compile(optimizer=\"adam\", loss=crf.loss_function, metrics=[crf.accuracy])\n",
        "history = model.fit(X_train, y_train, batch_size = 32, epochs = 10, validation_split = 0.2, verbose = 1, callbacks=[F1score(use_char=False)])"
      ],
      "metadata": {
        "colab": {
          "base_uri": "https://localhost:8080/"
        },
        "id": "R0bYGTfC7Fk9",
        "outputId": "0928f500-f62c-4bd2-9fb2-aff77ea17687"
      },
      "execution_count": null,
      "outputs": [
        {
          "output_type": "stream",
          "name": "stderr",
          "text": [
            "/usr/local/lib/python3.7/dist-packages/keras_contrib/layers/crf.py:346: UserWarning: CRF.loss_function is deprecated and it might be removed in the future. Please use losses.crf_loss instead.\n",
            "  warnings.warn('CRF.loss_function is deprecated '\n",
            "/usr/local/lib/python3.7/dist-packages/keras_contrib/layers/crf.py:353: UserWarning: CRF.accuracy is deprecated and it might be removed in the future. Please use metrics.crf_accuracy\n",
            "  warnings.warn('CRF.accuracy is deprecated and it '\n",
            "WARNING:tensorflow:From /usr/local/lib/python3.7/dist-packages/keras/optimizers.py:790: The name tf.train.Optimizer is deprecated. Please use tf.compat.v1.train.Optimizer instead.\n",
            "\n",
            "WARNING:tensorflow:From /usr/local/lib/python3.7/dist-packages/keras/backend/tensorflow_backend.py:986: The name tf.assign_add is deprecated. Please use tf.compat.v1.assign_add instead.\n",
            "\n"
          ]
        },
        {
          "output_type": "stream",
          "name": "stdout",
          "text": [
            "Train on 27061 samples, validate on 6766 samples\n",
            "Epoch 1/10\n",
            "27061/27061 [==============================] - 92s 3ms/step - loss: 14.5537 - crf_viterbi_accuracy: 0.9228 - val_loss: 14.3417 - val_crf_viterbi_accuracy: 0.9828\n",
            " - f1: 92.31\n",
            "              precision    recall  f1-score   support\n",
            "\n",
            "      AUTHOR       0.82      0.73      0.77       939\n",
            "       BOOKS       0.79      0.76      0.77      1309\n",
            "       DATES       1.00      1.00      1.00       982\n",
            "         FAC       0.91      0.98      0.94       527\n",
            "       HOUSE       0.92      0.91      0.92      1075\n",
            "         LOC       1.00      0.94      0.97      1991\n",
            "     MILTYPE       0.92      1.00      0.96       156\n",
            "        RANK       1.00      1.00      1.00       958\n",
            "      TROOPS       1.00      1.00      1.00       982\n",
            "\n",
            "   micro avg       0.93      0.91      0.92      8919\n",
            "   macro avg       0.93      0.93      0.93      8919\n",
            "weighted avg       0.93      0.91      0.92      8919\n",
            "\n",
            "f1_score improved from 0.000000 to 0.923051, saving model to best_model.h5\n",
            "Epoch 2/10\n",
            "27061/27061 [==============================] - 90s 3ms/step - loss: 14.3045 - crf_viterbi_accuracy: 0.9898 - val_loss: 14.3281 - val_crf_viterbi_accuracy: 0.9871\n",
            " - f1: 94.25\n",
            "              precision    recall  f1-score   support\n",
            "\n",
            "      AUTHOR       0.83      0.79      0.81       939\n",
            "       BOOKS       0.82      0.80      0.81      1309\n",
            "       DATES       1.00      1.00      1.00       982\n",
            "         FAC       0.97      0.99      0.98       527\n",
            "       HOUSE       0.95      0.97      0.96      1075\n",
            "         LOC       0.98      0.99      0.98      1991\n",
            "     MILTYPE       0.99      1.00      0.99       156\n",
            "        RANK       1.00      1.00      1.00       958\n",
            "      TROOPS       1.00      1.00      1.00       982\n",
            "\n",
            "   micro avg       0.94      0.94      0.94      8919\n",
            "   macro avg       0.95      0.95      0.95      8919\n",
            "weighted avg       0.94      0.94      0.94      8919\n",
            "\n",
            "f1_score improved from 0.923051 to 0.942524, saving model to best_model.h5\n",
            "Epoch 3/10\n",
            "27061/27061 [==============================] - 89s 3ms/step - loss: 14.2858 - crf_viterbi_accuracy: 0.9967 - val_loss: 14.3234 - val_crf_viterbi_accuracy: 0.9911\n",
            " - f1: 95.94\n",
            "              precision    recall  f1-score   support\n",
            "\n",
            "      AUTHOR       0.85      0.89      0.87       939\n",
            "       BOOKS       0.87      0.84      0.85      1309\n",
            "       DATES       1.00      1.00      1.00       982\n",
            "         FAC       1.00      0.99      0.99       527\n",
            "       HOUSE       0.98      0.98      0.98      1075\n",
            "         LOC       1.00      0.99      0.99      1991\n",
            "     MILTYPE       0.97      1.00      0.99       156\n",
            "        RANK       1.00      1.00      1.00       958\n",
            "      TROOPS       1.00      1.00      1.00       982\n",
            "\n",
            "   micro avg       0.96      0.96      0.96      8919\n",
            "   macro avg       0.96      0.97      0.96      8919\n",
            "weighted avg       0.96      0.96      0.96      8919\n",
            "\n",
            "f1_score improved from 0.942524 to 0.959412, saving model to best_model.h5\n",
            "Epoch 4/10\n",
            "27061/27061 [==============================] - 88s 3ms/step - loss: 14.2809 - crf_viterbi_accuracy: 0.9987 - val_loss: 14.3298 - val_crf_viterbi_accuracy: 0.9873\n",
            " - f1: 94.27\n",
            "              precision    recall  f1-score   support\n",
            "\n",
            "      AUTHOR       0.86      0.69      0.77       939\n",
            "       BOOKS       0.79      0.81      0.80      1309\n",
            "       DATES       1.00      1.00      1.00       982\n",
            "         FAC       0.97      0.99      0.98       527\n",
            "       HOUSE       0.99      0.99      0.99      1075\n",
            "         LOC       0.99      0.99      0.99      1991\n",
            "     MILTYPE       0.99      1.00      1.00       156\n",
            "        RANK       1.00      1.00      1.00       958\n",
            "      TROOPS       1.00      1.00      1.00       982\n",
            "\n",
            "   micro avg       0.95      0.94      0.94      8919\n",
            "   macro avg       0.95      0.94      0.95      8919\n",
            "weighted avg       0.95      0.94      0.94      8919\n",
            "\n",
            "f1_score did not improve from 0.959412\n",
            "Epoch 5/10\n",
            "27061/27061 [==============================] - 89s 3ms/step - loss: 14.2793 - crf_viterbi_accuracy: 0.9991 - val_loss: 14.3252 - val_crf_viterbi_accuracy: 0.9912\n",
            " - f1: 95.87\n",
            "              precision    recall  f1-score   support\n",
            "\n",
            "      AUTHOR       0.82      0.89      0.85       939\n",
            "       BOOKS       0.88      0.82      0.85      1309\n",
            "       DATES       1.00      1.00      1.00       982\n",
            "         FAC       0.99      0.99      0.99       527\n",
            "       HOUSE       0.98      0.99      0.99      1075\n",
            "         LOC       0.99      1.00      0.99      1991\n",
            "     MILTYPE       0.99      1.00      1.00       156\n",
            "        RANK       1.00      1.00      1.00       958\n",
            "      TROOPS       1.00      1.00      1.00       982\n",
            "\n",
            "   micro avg       0.96      0.96      0.96      8919\n",
            "   macro avg       0.96      0.96      0.96      8919\n",
            "weighted avg       0.96      0.96      0.96      8919\n",
            "\n",
            "f1_score did not improve from 0.959412\n",
            "Epoch 6/10\n",
            "27061/27061 [==============================] - 89s 3ms/step - loss: 14.2793 - crf_viterbi_accuracy: 0.9990 - val_loss: 14.3364 - val_crf_viterbi_accuracy: 0.9859\n",
            " - f1: 93.28\n",
            "              precision    recall  f1-score   support\n",
            "\n",
            "      AUTHOR       0.89      0.55      0.68       939\n",
            "       BOOKS       0.72      0.82      0.77      1309\n",
            "       DATES       1.00      1.00      1.00       982\n",
            "         FAC       0.99      0.99      0.99       527\n",
            "       HOUSE       0.98      0.99      0.99      1075\n",
            "         LOC       1.00      1.00      1.00      1991\n",
            "     MILTYPE       1.00      1.00      1.00       156\n",
            "        RANK       1.00      1.00      1.00       958\n",
            "      TROOPS       1.00      1.00      1.00       982\n",
            "\n",
            "   micro avg       0.94      0.92      0.93      8919\n",
            "   macro avg       0.95      0.93      0.94      8919\n",
            "weighted avg       0.94      0.92      0.93      8919\n",
            "\n",
            "f1_score did not improve from 0.959412\n",
            "Epoch 7/10\n",
            "27061/27061 [==============================] - 88s 3ms/step - loss: 14.2778 - crf_viterbi_accuracy: 0.9996 - val_loss: 14.3366 - val_crf_viterbi_accuracy: 0.9869\n",
            " - f1: 93.85\n",
            "              precision    recall  f1-score   support\n",
            "\n",
            "      AUTHOR       0.86      0.62      0.72       939\n",
            "       BOOKS       0.74      0.81      0.78      1309\n",
            "       DATES       1.00      1.00      1.00       982\n",
            "         FAC       1.00      1.00      1.00       527\n",
            "       HOUSE       0.99      0.99      0.99      1075\n",
            "         LOC       1.00      1.00      1.00      1991\n",
            "     MILTYPE       0.99      1.00      1.00       156\n",
            "        RANK       1.00      1.00      1.00       958\n",
            "      TROOPS       1.00      1.00      1.00       982\n",
            "\n",
            "   micro avg       0.95      0.93      0.94      8919\n",
            "   macro avg       0.95      0.94      0.94      8919\n",
            "weighted avg       0.95      0.93      0.94      8919\n",
            "\n",
            "f1_score did not improve from 0.959412\n",
            "Epoch 8/10\n",
            "27061/27061 [==============================] - 88s 3ms/step - loss: 14.2778 - crf_viterbi_accuracy: 0.9997 - val_loss: 14.3554 - val_crf_viterbi_accuracy: 0.9827\n",
            " - f1: 92.00\n",
            "              precision    recall  f1-score   support\n",
            "\n",
            "      AUTHOR       0.87      0.43      0.58       939\n",
            "       BOOKS       0.67      0.81      0.73      1309\n",
            "       DATES       1.00      1.00      1.00       982\n",
            "         FAC       1.00      0.99      1.00       527\n",
            "       HOUSE       0.98      0.99      0.99      1075\n",
            "         LOC       1.00      1.00      1.00      1991\n",
            "     MILTYPE       1.00      1.00      1.00       156\n",
            "        RANK       1.00      1.00      1.00       958\n",
            "      TROOPS       1.00      1.00      1.00       982\n",
            "\n",
            "   micro avg       0.93      0.91      0.92      8919\n",
            "   macro avg       0.95      0.91      0.92      8919\n",
            "weighted avg       0.94      0.91      0.91      8919\n",
            "\n",
            "f1_score did not improve from 0.959412\n",
            "Epoch 9/10\n",
            "27061/27061 [==============================] - 91s 3ms/step - loss: 14.2775 - crf_viterbi_accuracy: 0.9998 - val_loss: 14.3274 - val_crf_viterbi_accuracy: 0.9918\n",
            " - f1: 96.17\n",
            "              precision    recall  f1-score   support\n",
            "\n",
            "      AUTHOR       0.83      0.91      0.87       939\n",
            "       BOOKS       0.88      0.81      0.85      1309\n",
            "       DATES       1.00      1.00      1.00       982\n",
            "         FAC       0.99      0.99      0.99       527\n",
            "       HOUSE       0.98      0.99      0.99      1075\n",
            "         LOC       1.00      1.00      1.00      1991\n",
            "     MILTYPE       1.00      1.00      1.00       156\n",
            "        RANK       1.00      1.00      1.00       958\n",
            "      TROOPS       1.00      1.00      1.00       982\n",
            "\n",
            "   micro avg       0.96      0.96      0.96      8919\n",
            "   macro avg       0.96      0.97      0.97      8919\n",
            "weighted avg       0.96      0.96      0.96      8919\n",
            "\n",
            "f1_score improved from 0.959412 to 0.961717, saving model to best_model.h5\n",
            "Epoch 10/10\n",
            "27061/27061 [==============================] - 88s 3ms/step - loss: 14.2778 - crf_viterbi_accuracy: 0.9996 - val_loss: 14.3343 - val_crf_viterbi_accuracy: 0.9907\n",
            " - f1: 95.86\n",
            "              precision    recall  f1-score   support\n",
            "\n",
            "      AUTHOR       0.88      0.82      0.85       939\n",
            "       BOOKS       0.85      0.81      0.83      1309\n",
            "       DATES       1.00      1.00      1.00       982\n",
            "         FAC       1.00      1.00      1.00       527\n",
            "       HOUSE       1.00      1.00      1.00      1075\n",
            "         LOC       1.00      1.00      1.00      1991\n",
            "     MILTYPE       1.00      1.00      1.00       156\n",
            "        RANK       1.00      1.00      1.00       958\n",
            "      TROOPS       1.00      1.00      1.00       982\n",
            "\n",
            "   micro avg       0.97      0.95      0.96      8919\n",
            "   macro avg       0.97      0.96      0.96      8919\n",
            "weighted avg       0.96      0.95      0.96      8919\n",
            "\n",
            "f1_score did not improve from 0.961717\n"
          ]
        }
      ]
    },
    {
      "cell_type": "code",
      "source": [
        "model.save_weights(MODEL_DIR+'/ner_crf_best_weight.h5')"
      ],
      "metadata": {
        "id": "HFTku0rb74Ee"
      },
      "execution_count": null,
      "outputs": []
    },
    {
      "cell_type": "code",
      "source": [
        "# model.load_weights(MODEL_DIR+'/ner_crf_best_weight.h5')"
      ],
      "metadata": {
        "id": "2Rs-ARU49pti"
      },
      "execution_count": null,
      "outputs": []
    },
    {
      "cell_type": "code",
      "source": [
        "model.save(MODEL_DIR+'/ner_model.h5', overwrite=True, include_optimizer=True)"
      ],
      "metadata": {
        "id": "JZ1Tvksfo1ir"
      },
      "execution_count": null,
      "outputs": []
    },
    {
      "cell_type": "code",
      "source": [
        "# # saving\n",
        "with open(MODEL_DIR+'/ner_src_tokenizer.pickle', 'wb') as handle:\n",
        "    pickle.dump(src_tokenizer, handle, protocol=pickle.HIGHEST_PROTOCOL)"
      ],
      "metadata": {
        "id": "AAes2FvjrC8m"
      },
      "execution_count": null,
      "outputs": []
    },
    {
      "cell_type": "code",
      "source": [
        "# # saving\n",
        "with open(MODEL_DIR+'/ner_tar_tokenizer.pickle', 'wb') as handle:\n",
        "    pickle.dump(tar_tokenizer, handle, protocol=pickle.HIGHEST_PROTOCOL)"
      ],
      "metadata": {
        "id": "DlGRMDHJrHkw"
      },
      "execution_count": null,
      "outputs": []
    },
    {
      "cell_type": "code",
      "source": [
        "i=3 # 확인하고 싶은 테스트용 샘플의 인덱스.\n",
        "print(X_test[i])\n",
        "y_predicted = model.predict(np.array([X_test[i]])) # 입력한 테스트용 샘플에 대해서 예측 y를 리턴\n",
        "y_predicted = np.argmax(y_predicted, axis=-1) # 원-핫 인코딩을 다시 정수 인코딩으로 변경함.\n",
        "true = np.argmax(y_test[i], -1) # 원-핫 인코딩을 다시 정수 인코딩으로 변경함.\n",
        "print(y_predicted[0])\n",
        "\n",
        "print(\"{:15}|{:5}|{}\".format(\"단어\", \"실제값\", \"예측값\"))\n",
        "print(35 * \"-\")\n",
        "\n",
        "for w, t, pred in zip(X_test[i], true, y_predicted[0]):\n",
        "    if w != 0: # PAD값은 제외함.\n",
        "        print(\"{:17}: {:7} {}\".format(index_to_word[w], index_to_ner[t], index_to_ner[pred]))"
      ],
      "metadata": {
        "colab": {
          "base_uri": "https://localhost:8080/"
        },
        "id": "yfZ3OWee7_6V",
        "outputId": "1e271475-239e-4c30-86e4-4cb29fd15f9e"
      },
      "execution_count": null,
      "outputs": [
        {
          "output_type": "stream",
          "name": "stdout",
          "text": [
            "[90  4 92 89  2 32  3  0  0  0  0  0  0  0  0  0  0  0  0  0  0  0  0  0\n",
            "  0  0  0  0  0  0  0  0  0  0  0]\n",
            "[13  1  9  1  1  1  1  0  0  0  0  0  0  0  0  0  0  0  0  0  0  0  0  0\n",
            "  0  0  0  0  0  0  0  0  0  0  0]\n",
            "단어             |실제값  |예측값\n",
            "-----------------------------------\n",
            "육군               : B-MILTYPE B-MILTYPE\n",
            "에                : O       O\n",
            "병장               : B-RANK  B-RANK\n",
            "얼마나              : O       O\n",
            "있                : O       O\n",
            "음                : O       O\n",
            "?                : O       O\n"
          ]
        }
      ]
    },
    {
      "cell_type": "code",
      "source": [
        "f1score = F1score()\n",
        "\n",
        "y_predicted = model.predict([X_test])\n",
        "pred_tags = f1score.sequences_to_tags(y_predicted)\n",
        "test_tags = f1score.sequences_to_tags(y_test)"
      ],
      "metadata": {
        "id": "w94Mth1U90nr"
      },
      "execution_count": null,
      "outputs": []
    },
    {
      "cell_type": "code",
      "source": [
        "print(classification_report(test_tags, pred_tags))"
      ],
      "metadata": {
        "colab": {
          "base_uri": "https://localhost:8080/"
        },
        "id": "iIR_wHGD-Hn2",
        "outputId": "fc9b3786-8358-4297-b42e-35724912df59"
      },
      "execution_count": null,
      "outputs": [
        {
          "output_type": "stream",
          "name": "stdout",
          "text": [
            "              precision    recall  f1-score   support\n",
            "\n",
            "      AUTHOR       0.85      0.82      0.83      1121\n",
            "       BOOKS       0.84      0.79      0.81      1646\n",
            "       DATES       1.00      1.00      1.00      1196\n",
            "         FAC       1.00      0.99      1.00       664\n",
            "       HOUSE       1.00      0.99      1.00      1314\n",
            "         LOC       1.00      1.00      1.00      2513\n",
            "     MILTYPE       1.00      1.00      1.00       185\n",
            "        RANK       1.00      1.00      1.00      1218\n",
            "      TROOPS       1.00      1.00      1.00      1196\n",
            "\n",
            "   micro avg       0.96      0.95      0.95     11053\n",
            "   macro avg       0.96      0.95      0.96     11053\n",
            "weighted avg       0.96      0.95      0.95     11053\n",
            "\n"
          ]
        }
      ]
    },
    {
      "cell_type": "code",
      "source": [
        "print(\"F1-score: {:.1%}\".format(f1_score(test_tags, pred_tags)))"
      ],
      "metadata": {
        "colab": {
          "base_uri": "https://localhost:8080/"
        },
        "id": "hKGyfIqE-KgN",
        "outputId": "fa5f3b15-690f-47cf-b9e5-3a8076116604"
      },
      "execution_count": null,
      "outputs": [
        {
          "output_type": "stream",
          "name": "stdout",
          "text": [
            "F1-score: 95.5%\n"
          ]
        }
      ]
    },
    {
      "cell_type": "code",
      "source": [
        "def ner_prediction(new_sentence):\n",
        "  new_sentence = mecab.morphs(new_sentence) # 토큰화\n",
        "  encoded = src_tokenizer.texts_to_sequences([new_sentence]) # 정수 인코딩\n",
        "  pad_new = pad_sequences(encoded, maxlen = max_len, padding='post') # 패딩\n",
        "  y_predicted = model.predict(np.array(pad_new)) # 입력한 테스트용 샘플에 대해서 예측 y를 리턴\n",
        "  y_predicted = np.argmax(y_predicted, axis=-1) # 원-핫 인코딩을 다시 정수 인코딩으로 변경함.\n",
        "\n",
        "  print(\"{:15}|{:5}\".format(\"단어\", \"예측값\"))\n",
        "  print(35 * \"-\")\n",
        "\n",
        "  for w, pred in zip(new_sentence, y_predicted[0]):\n",
        "      if w != 0: # PAD값은 제외함.\n",
        "          print(\"{:17}: {:7}\".format(w, index_to_ner[pred]))"
      ],
      "metadata": {
        "id": "Vf2L3dqC-VwG"
      },
      "execution_count": null,
      "outputs": []
    },
    {
      "cell_type": "code",
      "source": [
        "ner_prediction(\"제2547부대 12월 31일 점심 메뉴 알려줘\")"
      ],
      "metadata": {
        "colab": {
          "base_uri": "https://localhost:8080/"
        },
        "id": "ZI1VqABm-NES",
        "outputId": "23b662a3-f321-4d8d-965f-aa30107eaa98"
      },
      "execution_count": null,
      "outputs": [
        {
          "output_type": "stream",
          "name": "stdout",
          "text": [
            "단어             |예측값  \n",
            "-----------------------------------\n",
            "제2547부대          : B-TROOPS\n",
            "12월31일           : B-TROOPS\n",
            "점심               : B-DATES\n",
            "메뉴               : O      \n",
            "알려줘              : O      \n"
          ]
        }
      ]
    },
    {
      "cell_type": "code",
      "source": [
        "ner_prediction(\"제2547부대 12월 31일 점심 메뉴 알려줘\")"
      ],
      "metadata": {
        "id": "aJ2xGfEzAaUR",
        "colab": {
          "base_uri": "https://localhost:8080/"
        },
        "outputId": "abf84c65-f81e-418d-ff07-16d96512392a"
      },
      "execution_count": null,
      "outputs": [
        {
          "output_type": "stream",
          "name": "stdout",
          "text": [
            "단어             |예측값  \n",
            "-----------------------------------\n",
            "제2547부대          : B-TROOPS\n",
            "12월31일           : B-TROOPS\n",
            "점심               : B-DATES\n",
            "메뉴               : O      \n",
            "알려줘              : O      \n"
          ]
        }
      ]
    },
    {
      "cell_type": "code",
      "source": [
        "for intent in intents_list:\n",
        "  for question in random.sample(all_questions[intent]['question'].tolist(),5):\n",
        "    ner_prediction(question)\n"
      ],
      "metadata": {
        "colab": {
          "base_uri": "https://localhost:8080/"
        },
        "id": "_pEtN2ursUKk",
        "outputId": "8e69c2b3-b4d7-4cb2-e0ed-d28ef83d4dbe"
      },
      "execution_count": null,
      "outputs": [
        {
          "output_type": "stream",
          "name": "stdout",
          "text": [
            "단어             |예측값  \n",
            "-----------------------------------\n",
            "1570부대           : B-TROOPS\n",
            "아침               : B-DATES\n",
            "반찬               : O      \n",
            "단어             |예측값  \n",
            "-----------------------------------\n",
            "2291부대           : B-TROOPS\n",
            "점심               : B-DATES\n",
            "식단               : O      \n",
            "궁금               : O      \n",
            "해                : O      \n",
            "단어             |예측값  \n",
            "-----------------------------------\n",
            "제5322부대          : B-TROOPS\n",
            "아침               : B-DATES\n",
            "식단               : O      \n",
            "단어             |예측값  \n",
            "-----------------------------------\n",
            "제7369부대          : B-TROOPS\n",
            "점심               : B-DATES\n",
            "식단               : O      \n",
            "궁금               : O      \n",
            "단어             |예측값  \n",
            "-----------------------------------\n",
            "제7162부대          : B-TROOPS\n",
            "저녁               : B-DATES\n",
            "반찬               : O      \n",
            "궁금               : O      \n",
            "단어             |예측값  \n",
            "-----------------------------------\n",
            "퇴마록              : B-BOOKS\n",
            "책                : O      \n",
            "검색               : O      \n",
            "단어             |예측값  \n",
            "-----------------------------------\n",
            "글쓴이              : O      \n",
            "가                : O      \n",
            "주독               : O      \n",
            "일                : B-BOOKS\n",
            "한국               : I-BOOKS\n",
            "대사관              : I-BOOKS\n",
            "문화               : I-BOOKS\n",
            "홍                : I-BOOKS\n",
            "보원               : B-AUTHOR\n",
            "간행               : I-BOOKS\n",
            "물명               : O      \n",
            "단어             |예측값  \n",
            "-----------------------------------\n",
            "저자               : O      \n",
            "전                : B-BOOKS\n",
            "상순               : B-AUTHOR\n",
            "단어             |예측값  \n",
            "-----------------------------------\n",
            "정기               : O      \n",
            "간행물              : O      \n",
            "석유               : B-BOOKS\n",
            "개발               : I-BOOKS\n",
            "시장               : I-BOOKS\n",
            "에서               : I-BOOKS\n",
            "국영               : I-BOOKS\n",
            "석유회사             : I-BOOKS\n",
            "의                : I-BOOKS\n",
            "역할               : I-BOOKS\n",
            "단어             |예측값  \n",
            "-----------------------------------\n",
            "정기               : O      \n",
            "간행물              : O      \n",
            "이름               : O      \n",
            "내                : B-BOOKS\n",
            "가                : O      \n",
            "본                : I-BOOKS\n",
            "오늘               : I-BOOKS\n",
            "의                : I-BOOKS\n",
            "중국               : I-BOOKS\n",
            "찾                : O      \n",
            "아                : O      \n",
            "줘                : O      \n",
            "단어             |예측값  \n",
            "-----------------------------------\n",
            "병장               : B-RANK \n",
            "수입               : O      \n",
            "얼마               : O      \n",
            "임                : O      \n",
            "단어             |예측값  \n",
            "-----------------------------------\n",
            "병장               : B-RANK \n",
            "되                : O      \n",
            "면                : O      \n",
            "수입               : O      \n",
            "이                : O      \n",
            "어느               : O      \n",
            "정도               : O      \n",
            "야                : O      \n",
            "단어             |예측값  \n",
            "-----------------------------------\n",
            "대령               : B-RANK \n",
            "1964연도           : O      \n",
            "에                : O      \n",
            "급여               : O      \n",
            "가                : O      \n",
            "알려줘              : O      \n",
            "단어             |예측값  \n",
            "-----------------------------------\n",
            "중령               : O      \n",
            "급여               : O      \n",
            "어느               : O      \n",
            "정도               : O      \n",
            "야                : O      \n",
            "단어             |예측값  \n",
            "-----------------------------------\n",
            "중령               : O      \n",
            "9                : O      \n",
            "년                : O      \n",
            "전                : O      \n",
            "에                : O      \n",
            "봉급               : O      \n",
            "이                : O      \n",
            "얼마               : O      \n",
            "단어             |예측값  \n",
            "-----------------------------------\n",
            "계룡               : B-FAC  \n",
            "근처               : O      \n",
            "할인               : O      \n",
            "되                : O      \n",
            "는                : O      \n",
            "곳                : O      \n",
            "알려줘              : O      \n",
            "단어             |예측값  \n",
            "-----------------------------------\n",
            "광주송정             : B-LOC  \n",
            "쪽                : O      \n",
            "에                : O      \n",
            "놀                : O      \n",
            "만                : O      \n",
            "한                : O      \n",
            "곳                : O      \n",
            "말                : O      \n",
            "해                : O      \n",
            "줘                : O      \n",
            "단어             |예측값  \n",
            "-----------------------------------\n",
            "디오션리조트호텔         : B-FAC  \n",
            "에                : O      \n",
            "대해               : O      \n",
            "말                : O      \n",
            "해                : O      \n",
            "줘                : O      \n",
            "단어             |예측값  \n",
            "-----------------------------------\n",
            "서대전              : B-LOC  \n",
            "부근               : O      \n",
            "복지               : O      \n",
            "시설               : O      \n",
            "뭐                : O      \n",
            "가                : O      \n",
            "있                : O      \n",
            "어                : O      \n",
            "?                : O      \n",
            "단어             |예측값  \n",
            "-----------------------------------\n",
            "펠릭스              : B-FAC  \n",
            "바이               : I-FAC  \n",
            "에스티              : I-FAC  \n",
            "엑스               : I-FAC  \n",
            "혜택               : O      \n",
            "정보               : O      \n",
            "궁금               : O      \n",
            "함                : O      \n",
            "단어             |예측값  \n",
            "-----------------------------------\n",
            "병장               : B-RANK \n",
            "얼마나              : O      \n",
            "있                : O      \n",
            "음                : O      \n",
            "?                : O      \n",
            "단어             |예측값  \n",
            "-----------------------------------\n",
            "해병대              : B-MILTYPE\n",
            "에                : O      \n",
            "군무원              : B-RANK \n",
            "몇                : O      \n",
            "명                : O      \n",
            "있                : O      \n",
            "어                : O      \n",
            "?                : O      \n",
            "단어             |예측값  \n",
            "-----------------------------------\n",
            "준위               : B-RANK \n",
            "몇                : O      \n",
            "명                : O      \n",
            "임                : O      \n",
            "?                : O      \n",
            "단어             |예측값  \n",
            "-----------------------------------\n",
            "해군               : B-MILTYPE\n",
            "에                : O      \n",
            "부사관              : B-RANK \n",
            "얼마나              : O      \n",
            "있                : O      \n",
            "음                : O      \n",
            "?                : O      \n",
            "단어             |예측값  \n",
            "-----------------------------------\n",
            "해군               : B-MILTYPE\n",
            "에                : O      \n",
            "준장               : B-RANK \n",
            "몇                : O      \n",
            "명                : O      \n",
            "있                : O      \n",
            "어                : O      \n",
            "?                : O      \n",
            "단어             |예측값  \n",
            "-----------------------------------\n",
            "계룡               : B-LOC  \n",
            "부근               : O      \n",
            "관사               : O      \n",
            "있                : O      \n",
            "음                : O      \n",
            "?                : O      \n",
            "단어             |예측값  \n",
            "-----------------------------------\n",
            "세종               : B-LOC  \n",
            "자이               : B-HOUSE\n",
            "더시티              : O      \n",
            "에                : O      \n",
            "대해               : O      \n",
            "알                : O      \n",
            "고                : O      \n",
            "싶                : O      \n",
            "어                : O      \n",
            "단어             |예측값  \n",
            "-----------------------------------\n",
            "퇴계원              : B-LOC  \n",
            "군숙소              : B-HOUSE\n",
            "에                : O      \n",
            "대해               : O      \n",
            "궁금               : O      \n",
            "해                : O      \n",
            "단어             |예측값  \n",
            "-----------------------------------\n",
            "오송               : B-LOC  \n",
            "부근               : O      \n",
            "관사               : O      \n",
            "있                : O      \n",
            "긴                : O      \n",
            "해                : O      \n",
            "?                : O      \n",
            "단어             |예측값  \n",
            "-----------------------------------\n",
            "천안아산             : B-LOC  \n",
            "근처               : O      \n",
            "관사               : O      \n",
            "뭐                : O      \n",
            "가                : O      \n",
            "있                : O      \n",
            "어                : O      \n",
            "?                : O      \n"
          ]
        }
      ]
    },
    {
      "cell_type": "code",
      "source": [
        ""
      ],
      "metadata": {
        "id": "f2H4Refwsrhm"
      },
      "execution_count": null,
      "outputs": []
    }
  ]
}