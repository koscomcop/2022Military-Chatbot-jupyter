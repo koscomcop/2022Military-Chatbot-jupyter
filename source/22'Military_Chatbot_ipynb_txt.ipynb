{
  "nbformat": 4,
  "nbformat_minor": 0,
  "metadata": {
    "colab": {
      "name": "22'Military_Chatbot.ipynb.txt",
      "provenance": [],
      "collapsed_sections": [],
      "include_colab_link": true
    },
    "kernelspec": {
      "name": "python3",
      "display_name": "Python 3"
    },
    "language_info": {
      "name": "python"
    }
  },
  "cells": [
    {
      "cell_type": "markdown",
      "metadata": {
        "id": "view-in-github",
        "colab_type": "text"
      },
      "source": [
        "<a href=\"https://colab.research.google.com/github/katie0809/2022Military-Chatbot-jupyter/blob/main/source/22'Military_Chatbot_ipynb_txt.ipynb\" target=\"_parent\"><img src=\"https://colab.research.google.com/assets/colab-badge.svg\" alt=\"Open In Colab\"/></a>"
      ]
    },
    {
      "cell_type": "markdown",
      "source": [
        "# Version History\n",
        "\n",
        "|version|Score|Changes|Comment|\n",
        "|-|-|-|-|\n",
        "|1.0|-|Initial model| 22.07.13 |"
      ],
      "metadata": {
        "id": "s83EElm03Q8J"
      }
    },
    {
      "cell_type": "markdown",
      "source": [
        "## Environments"
      ],
      "metadata": {
        "id": "UNrZ25sF-pjX"
      }
    },
    {
      "cell_type": "code",
      "source": [
        "API_URL_SAMPLE='https://openapi.mnd.go.kr/3232313634343937343732313632313430/xml/DS_MND_ENLSTMN_DCNT_BEF_INF/1/5/'\n",
        "HOME_PATH='/content/drive/MyDrive/'\n",
        "WORK_DIR=HOME_PATH+'/military-chatbot'\n",
        "MODEL_DIR=WORK_DIR+'/models'"
      ],
      "metadata": {
        "id": "Kh4CpLw54qAf"
      },
      "execution_count": null,
      "outputs": []
    },
    {
      "cell_type": "code",
      "source": [
        "%cd $WORK_DIR"
      ],
      "metadata": {
        "colab": {
          "base_uri": "https://localhost:8080/"
        },
        "id": "lO2aUBgD_RTq",
        "outputId": "e9f86ee2-931b-4f5b-ee9b-8e99cac3699b"
      },
      "execution_count": null,
      "outputs": [
        {
          "output_type": "stream",
          "name": "stdout",
          "text": [
            "/content/drive/MyDrive/military-chatbot\n"
          ]
        }
      ]
    },
    {
      "cell_type": "code",
      "source": [
        "!python3 --version"
      ],
      "metadata": {
        "id": "LtkqGVPM_ScM"
      },
      "execution_count": null,
      "outputs": []
    },
    {
      "cell_type": "markdown",
      "source": [
        "#### FastText"
      ],
      "metadata": {
        "id": "TDRKEhjLIR9j"
      }
    },
    {
      "cell_type": "code",
      "source": [
        "!git clone https://github.com/facebookresearch/fastText.git\n",
        "%cd $WORK_DIR/fastText"
      ],
      "metadata": {
        "colab": {
          "base_uri": "https://localhost:8080/"
        },
        "id": "A9wEuosEIUp3",
        "outputId": "9c36a0b5-f111-4f5d-d9cc-59dd460dc572"
      },
      "execution_count": null,
      "outputs": [
        {
          "output_type": "stream",
          "name": "stdout",
          "text": [
            "Cloning into 'fastText'...\n",
            "remote: Enumerating objects: 3930, done.\u001b[K\n",
            "remote: Counting objects: 100% (944/944), done.\u001b[K\n",
            "remote: Compressing objects: 100% (140/140), done.\u001b[K\n",
            "remote: Total 3930 (delta 854), reused 804 (delta 804), pack-reused 2986\u001b[K\n",
            "Receiving objects: 100% (3930/3930), 8.24 MiB | 8.53 MiB/s, done.\n",
            "Resolving deltas: 100% (2505/2505), done.\n",
            "Checking out files: 100% (526/526), done.\n",
            "/content/drive/MyDrive/military-chatbot/fastText\n"
          ]
        }
      ]
    },
    {
      "cell_type": "code",
      "source": [
        "!make"
      ],
      "metadata": {
        "colab": {
          "base_uri": "https://localhost:8080/"
        },
        "id": "k6G2lEVeJPAT",
        "outputId": "4a4fece0-1172-44f8-a15a-210ca4a2f624"
      },
      "execution_count": null,
      "outputs": [
        {
          "output_type": "stream",
          "name": "stdout",
          "text": [
            "c++ -pthread -std=c++11 -march=native -O3 -funroll-loops -DNDEBUG -c src/args.cc\n",
            "c++ -pthread -std=c++11 -march=native -O3 -funroll-loops -DNDEBUG -c src/autotune.cc\n",
            "c++ -pthread -std=c++11 -march=native -O3 -funroll-loops -DNDEBUG -c src/matrix.cc\n",
            "c++ -pthread -std=c++11 -march=native -O3 -funroll-loops -DNDEBUG -c src/dictionary.cc\n",
            "c++ -pthread -std=c++11 -march=native -O3 -funroll-loops -DNDEBUG -c src/loss.cc\n",
            "c++ -pthread -std=c++11 -march=native -O3 -funroll-loops -DNDEBUG -c src/productquantizer.cc\n",
            "c++ -pthread -std=c++11 -march=native -O3 -funroll-loops -DNDEBUG -c src/densematrix.cc\n",
            "c++ -pthread -std=c++11 -march=native -O3 -funroll-loops -DNDEBUG -c src/quantmatrix.cc\n",
            "c++ -pthread -std=c++11 -march=native -O3 -funroll-loops -DNDEBUG -c src/vector.cc\n",
            "c++ -pthread -std=c++11 -march=native -O3 -funroll-loops -DNDEBUG -c src/model.cc\n",
            "c++ -pthread -std=c++11 -march=native -O3 -funroll-loops -DNDEBUG -c src/utils.cc\n",
            "c++ -pthread -std=c++11 -march=native -O3 -funroll-loops -DNDEBUG -c src/meter.cc\n",
            "c++ -pthread -std=c++11 -march=native -O3 -funroll-loops -DNDEBUG -c src/fasttext.cc\n",
            "c++ -pthread -std=c++11 -march=native -O3 -funroll-loops -DNDEBUG args.o autotune.o matrix.o dictionary.o loss.o productquantizer.o densematrix.o quantmatrix.o vector.o model.o utils.o meter.o fasttext.o src/main.cc -o fasttext\n"
          ]
        }
      ]
    },
    {
      "cell_type": "markdown",
      "source": [
        "#### 3i4k 한국어 의도분류모델"
      ],
      "metadata": {
        "id": "vVPHTPfvIOr7"
      }
    },
    {
      "cell_type": "code",
      "execution_count": null,
      "metadata": {
        "id": "83XokwXZ3Njr",
        "colab": {
          "base_uri": "https://localhost:8080/"
        },
        "outputId": "d0a2aafe-965e-490e-e63e-132799179737"
      },
      "outputs": [
        {
          "output_type": "stream",
          "name": "stdout",
          "text": [
            "Cloning into '3i4k'...\n",
            "remote: Enumerating objects: 523, done.\u001b[K\n",
            "remote: Counting objects: 100% (31/31), done.\u001b[K\n",
            "remote: Compressing objects: 100% (31/31), done.\u001b[K\n",
            "remote: Total 523 (delta 11), reused 0 (delta 0), pack-reused 492\u001b[K\n",
            "Receiving objects: 100% (523/523), 21.41 MiB | 11.53 MiB/s, done.\n",
            "Resolving deltas: 100% (244/244), done.\n"
          ]
        }
      ],
      "source": [
        "!git clone https://github.com/warnikchow/3i4k.git"
      ]
    },
    {
      "cell_type": "code",
      "source": [
        ""
      ],
      "metadata": {
        "colab": {
          "base_uri": "https://localhost:8080/"
        },
        "id": "fGWaML-0Hx0J",
        "outputId": "c0922306-28f5-4680-95b4-cc661f69f1a3"
      },
      "execution_count": null,
      "outputs": [
        {
          "output_type": "stream",
          "name": "stdout",
          "text": [
            "Python 3.7.13\n"
          ]
        }
      ]
    },
    {
      "cell_type": "code",
      "source": [
        "%cd 3i4k\n",
        "!python3 3i4k_demo.py"
      ],
      "metadata": {
        "colab": {
          "base_uri": "https://localhost:8080/"
        },
        "id": "QjlatU6EH1g7",
        "outputId": "e3a67e89-a64a-4d0b-f4e0-0f63e855c804"
      },
      "execution_count": null,
      "outputs": [
        {
          "output_type": "stream",
          "name": "stdout",
          "text": [
            "/content/drive/MyDrive/military-chatbot/3i4k\n",
            "\n",
            "\n",
            "\n",
            "\n",
            "\n",
            "\n",
            "\n",
            "\n",
            "\n",
            "\n",
            "\n",
            "\n",
            "#########################################################\n",
            "#                                                       #\n",
            "#       Demonstration video: 3i for Korean (3i4K)       #\n",
            "#                                                       #\n",
            "#########################################################\n",
            "Traceback (most recent call last):\n",
            "  File \"3i4k_demo.py\", line 8, in <module>\n",
            "    import fasttext\n",
            "ModuleNotFoundError: No module named 'fasttext'\n"
          ]
        }
      ]
    },
    {
      "cell_type": "markdown",
      "source": [
        "# Install Libraries"
      ],
      "metadata": {
        "id": "mcTJq_fy3nw5"
      }
    },
    {
      "cell_type": "markdown",
      "source": [
        "# Import Libraries"
      ],
      "metadata": {
        "id": "INmG172-3uBm"
      }
    },
    {
      "cell_type": "code",
      "source": [
        "import pandas as pd\n",
        "import numpy as np\n",
        "import os\n",
        "import seaborn as sns\n",
        "\n",
        "import sklearn\n",
        "\n",
        "import tensorflow as tf\n",
        "from tensorflow import keras"
      ],
      "metadata": {
        "id": "3HvBhjQx3tgz"
      },
      "execution_count": null,
      "outputs": []
    },
    {
      "cell_type": "code",
      "source": [
        "print(tf.__version__)\n",
        "print(sklearn.__version__)\n",
        "print(np.__version__)\n",
        "print(pd.__version__)"
      ],
      "metadata": {
        "colab": {
          "base_uri": "https://localhost:8080/"
        },
        "id": "fDI-pe2h36Jj",
        "outputId": "c277b232-31b8-4890-e50c-95a956ac9fa5"
      },
      "execution_count": null,
      "outputs": [
        {
          "output_type": "stream",
          "name": "stdout",
          "text": [
            "2.8.2\n",
            "1.0.2\n",
            "1.21.6\n",
            "1.3.5\n"
          ]
        }
      ]
    },
    {
      "cell_type": "markdown",
      "source": [
        "# Load Files"
      ],
      "metadata": {
        "id": "GpQBk4jvAmQn"
      }
    },
    {
      "cell_type": "code",
      "source": [
        "df = pd.read_csv(WORK_DIR+'/sample.csv', encoding='cp949')\n",
        "df"
      ],
      "metadata": {
        "colab": {
          "base_uri": "https://localhost:8080/",
          "height": 650
        },
        "id": "5MYb-c7-Apwj",
        "outputId": "c069de0f-df22-4cf3-ae11-0536a0feb2bd"
      },
      "execution_count": null,
      "outputs": [
        {
          "output_type": "execute_result",
          "data": {
            "text/plain": [
              "    행번호  지역         시설명    할인행사명         시작일         종료일           연락처  \\\n",
              "0     1  서울        세종호텔  연중 객실할인  2018-09-17         NaN  02-3705-9115   \n",
              "1     2  경남      거제삼성호텔  연중 객실할인  2017-01-01         NaN  055-631-2114   \n",
              "2     3  경기    베어스타운리조트  연중 객실할인  2016-11-25         NaN   02-456-2014   \n",
              "3     4  강원      하이원리조트  연중 객실할인  2017-06-19         NaN     1588-7789   \n",
              "4     5  강원  용평리조트 객실할인  연중 객실할인  2016-07-01         NaN   02-456-2014   \n",
              "..  ...  ..         ...      ...         ...         ...           ...   \n",
              "84   85  전국   제주항공(수송사)  연중 운임할인  2016-12-02  2026-06-30  02-3419-7553   \n",
              "85   86  전국     통인익스프레스     이용할인  2018-02-01  2023-02-28     1899-0123   \n",
              "86   87  전국        로젠이사     이용할인  2018-02-01  2023-02-28     1544-0024   \n",
              "87   88  전국     대신로지스틱스     이용할인  2018-02-01  2023-02-28  02-3436-0123   \n",
              "88   89  전국       국민트랜스     이용할인  2018-02-01  2023-02-28   02-482-0071   \n",
              "\n",
              "                                 홈페이지  \\\n",
              "0          https://www.welfare.mil.kr   \n",
              "1          https://www.welfare.mil.kr   \n",
              "2   https://www.cielsportsmedia.co.kr   \n",
              "3          https://www.welfare.mil.kr   \n",
              "4          https://www.welfare.mil.kr   \n",
              "..                                ...   \n",
              "84         https://www.welfare.mil.kr   \n",
              "85         https://www.welfare.mil.kr   \n",
              "86         https://www.welfare.mil.kr   \n",
              "87         https://www.welfare.mil.kr   \n",
              "88         https://www.welfare.mil.kr   \n",
              "\n",
              "                                             상세설명  \n",
              "0                          객실: 50% 이상,연회 : 10%15%  \n",
              "1                                    객실  55%62%내외  \n",
              "2   프로모션(패키지상품)위주로  운영, 현장결재(최저가보장), 씨엘스포츠 폐쇄몰 이용  \n",
              "3                 프로모션(패키지상품)위주로  운영, 현장결재(최저가보장)  \n",
              "4    프로모션(패키지상품)위주로  운영, 현장결재(최저가보장),씨엘스포츠 폐쇄몰 이용  \n",
              "..                                            ...  \n",
              "84                                          7~25%  \n",
              "85                                         12%20%  \n",
              "86                                          7%13%  \n",
              "87                                           5%7%  \n",
              "88                                         10%14%  \n",
              "\n",
              "[89 rows x 9 columns]"
            ],
            "text/html": [
              "\n",
              "  <div id=\"df-9284abf2-2f0f-4e50-9230-43687825166c\">\n",
              "    <div class=\"colab-df-container\">\n",
              "      <div>\n",
              "<style scoped>\n",
              "    .dataframe tbody tr th:only-of-type {\n",
              "        vertical-align: middle;\n",
              "    }\n",
              "\n",
              "    .dataframe tbody tr th {\n",
              "        vertical-align: top;\n",
              "    }\n",
              "\n",
              "    .dataframe thead th {\n",
              "        text-align: right;\n",
              "    }\n",
              "</style>\n",
              "<table border=\"1\" class=\"dataframe\">\n",
              "  <thead>\n",
              "    <tr style=\"text-align: right;\">\n",
              "      <th></th>\n",
              "      <th>행번호</th>\n",
              "      <th>지역</th>\n",
              "      <th>시설명</th>\n",
              "      <th>할인행사명</th>\n",
              "      <th>시작일</th>\n",
              "      <th>종료일</th>\n",
              "      <th>연락처</th>\n",
              "      <th>홈페이지</th>\n",
              "      <th>상세설명</th>\n",
              "    </tr>\n",
              "  </thead>\n",
              "  <tbody>\n",
              "    <tr>\n",
              "      <th>0</th>\n",
              "      <td>1</td>\n",
              "      <td>서울</td>\n",
              "      <td>세종호텔</td>\n",
              "      <td>연중 객실할인</td>\n",
              "      <td>2018-09-17</td>\n",
              "      <td>NaN</td>\n",
              "      <td>02-3705-9115</td>\n",
              "      <td>https://www.welfare.mil.kr</td>\n",
              "      <td>객실: 50% 이상,연회 : 10%15%</td>\n",
              "    </tr>\n",
              "    <tr>\n",
              "      <th>1</th>\n",
              "      <td>2</td>\n",
              "      <td>경남</td>\n",
              "      <td>거제삼성호텔</td>\n",
              "      <td>연중 객실할인</td>\n",
              "      <td>2017-01-01</td>\n",
              "      <td>NaN</td>\n",
              "      <td>055-631-2114</td>\n",
              "      <td>https://www.welfare.mil.kr</td>\n",
              "      <td>객실  55%62%내외</td>\n",
              "    </tr>\n",
              "    <tr>\n",
              "      <th>2</th>\n",
              "      <td>3</td>\n",
              "      <td>경기</td>\n",
              "      <td>베어스타운리조트</td>\n",
              "      <td>연중 객실할인</td>\n",
              "      <td>2016-11-25</td>\n",
              "      <td>NaN</td>\n",
              "      <td>02-456-2014</td>\n",
              "      <td>https://www.cielsportsmedia.co.kr</td>\n",
              "      <td>프로모션(패키지상품)위주로  운영, 현장결재(최저가보장), 씨엘스포츠 폐쇄몰 이용</td>\n",
              "    </tr>\n",
              "    <tr>\n",
              "      <th>3</th>\n",
              "      <td>4</td>\n",
              "      <td>강원</td>\n",
              "      <td>하이원리조트</td>\n",
              "      <td>연중 객실할인</td>\n",
              "      <td>2017-06-19</td>\n",
              "      <td>NaN</td>\n",
              "      <td>1588-7789</td>\n",
              "      <td>https://www.welfare.mil.kr</td>\n",
              "      <td>프로모션(패키지상품)위주로  운영, 현장결재(최저가보장)</td>\n",
              "    </tr>\n",
              "    <tr>\n",
              "      <th>4</th>\n",
              "      <td>5</td>\n",
              "      <td>강원</td>\n",
              "      <td>용평리조트 객실할인</td>\n",
              "      <td>연중 객실할인</td>\n",
              "      <td>2016-07-01</td>\n",
              "      <td>NaN</td>\n",
              "      <td>02-456-2014</td>\n",
              "      <td>https://www.welfare.mil.kr</td>\n",
              "      <td>프로모션(패키지상품)위주로  운영, 현장결재(최저가보장),씨엘스포츠 폐쇄몰 이용</td>\n",
              "    </tr>\n",
              "    <tr>\n",
              "      <th>...</th>\n",
              "      <td>...</td>\n",
              "      <td>...</td>\n",
              "      <td>...</td>\n",
              "      <td>...</td>\n",
              "      <td>...</td>\n",
              "      <td>...</td>\n",
              "      <td>...</td>\n",
              "      <td>...</td>\n",
              "      <td>...</td>\n",
              "    </tr>\n",
              "    <tr>\n",
              "      <th>84</th>\n",
              "      <td>85</td>\n",
              "      <td>전국</td>\n",
              "      <td>제주항공(수송사)</td>\n",
              "      <td>연중 운임할인</td>\n",
              "      <td>2016-12-02</td>\n",
              "      <td>2026-06-30</td>\n",
              "      <td>02-3419-7553</td>\n",
              "      <td>https://www.welfare.mil.kr</td>\n",
              "      <td>7~25%</td>\n",
              "    </tr>\n",
              "    <tr>\n",
              "      <th>85</th>\n",
              "      <td>86</td>\n",
              "      <td>전국</td>\n",
              "      <td>통인익스프레스</td>\n",
              "      <td>이용할인</td>\n",
              "      <td>2018-02-01</td>\n",
              "      <td>2023-02-28</td>\n",
              "      <td>1899-0123</td>\n",
              "      <td>https://www.welfare.mil.kr</td>\n",
              "      <td>12%20%</td>\n",
              "    </tr>\n",
              "    <tr>\n",
              "      <th>86</th>\n",
              "      <td>87</td>\n",
              "      <td>전국</td>\n",
              "      <td>로젠이사</td>\n",
              "      <td>이용할인</td>\n",
              "      <td>2018-02-01</td>\n",
              "      <td>2023-02-28</td>\n",
              "      <td>1544-0024</td>\n",
              "      <td>https://www.welfare.mil.kr</td>\n",
              "      <td>7%13%</td>\n",
              "    </tr>\n",
              "    <tr>\n",
              "      <th>87</th>\n",
              "      <td>88</td>\n",
              "      <td>전국</td>\n",
              "      <td>대신로지스틱스</td>\n",
              "      <td>이용할인</td>\n",
              "      <td>2018-02-01</td>\n",
              "      <td>2023-02-28</td>\n",
              "      <td>02-3436-0123</td>\n",
              "      <td>https://www.welfare.mil.kr</td>\n",
              "      <td>5%7%</td>\n",
              "    </tr>\n",
              "    <tr>\n",
              "      <th>88</th>\n",
              "      <td>89</td>\n",
              "      <td>전국</td>\n",
              "      <td>국민트랜스</td>\n",
              "      <td>이용할인</td>\n",
              "      <td>2018-02-01</td>\n",
              "      <td>2023-02-28</td>\n",
              "      <td>02-482-0071</td>\n",
              "      <td>https://www.welfare.mil.kr</td>\n",
              "      <td>10%14%</td>\n",
              "    </tr>\n",
              "  </tbody>\n",
              "</table>\n",
              "<p>89 rows × 9 columns</p>\n",
              "</div>\n",
              "      <button class=\"colab-df-convert\" onclick=\"convertToInteractive('df-9284abf2-2f0f-4e50-9230-43687825166c')\"\n",
              "              title=\"Convert this dataframe to an interactive table.\"\n",
              "              style=\"display:none;\">\n",
              "        \n",
              "  <svg xmlns=\"http://www.w3.org/2000/svg\" height=\"24px\"viewBox=\"0 0 24 24\"\n",
              "       width=\"24px\">\n",
              "    <path d=\"M0 0h24v24H0V0z\" fill=\"none\"/>\n",
              "    <path d=\"M18.56 5.44l.94 2.06.94-2.06 2.06-.94-2.06-.94-.94-2.06-.94 2.06-2.06.94zm-11 1L8.5 8.5l.94-2.06 2.06-.94-2.06-.94L8.5 2.5l-.94 2.06-2.06.94zm10 10l.94 2.06.94-2.06 2.06-.94-2.06-.94-.94-2.06-.94 2.06-2.06.94z\"/><path d=\"M17.41 7.96l-1.37-1.37c-.4-.4-.92-.59-1.43-.59-.52 0-1.04.2-1.43.59L10.3 9.45l-7.72 7.72c-.78.78-.78 2.05 0 2.83L4 21.41c.39.39.9.59 1.41.59.51 0 1.02-.2 1.41-.59l7.78-7.78 2.81-2.81c.8-.78.8-2.07 0-2.86zM5.41 20L4 18.59l7.72-7.72 1.47 1.35L5.41 20z\"/>\n",
              "  </svg>\n",
              "      </button>\n",
              "      \n",
              "  <style>\n",
              "    .colab-df-container {\n",
              "      display:flex;\n",
              "      flex-wrap:wrap;\n",
              "      gap: 12px;\n",
              "    }\n",
              "\n",
              "    .colab-df-convert {\n",
              "      background-color: #E8F0FE;\n",
              "      border: none;\n",
              "      border-radius: 50%;\n",
              "      cursor: pointer;\n",
              "      display: none;\n",
              "      fill: #1967D2;\n",
              "      height: 32px;\n",
              "      padding: 0 0 0 0;\n",
              "      width: 32px;\n",
              "    }\n",
              "\n",
              "    .colab-df-convert:hover {\n",
              "      background-color: #E2EBFA;\n",
              "      box-shadow: 0px 1px 2px rgba(60, 64, 67, 0.3), 0px 1px 3px 1px rgba(60, 64, 67, 0.15);\n",
              "      fill: #174EA6;\n",
              "    }\n",
              "\n",
              "    [theme=dark] .colab-df-convert {\n",
              "      background-color: #3B4455;\n",
              "      fill: #D2E3FC;\n",
              "    }\n",
              "\n",
              "    [theme=dark] .colab-df-convert:hover {\n",
              "      background-color: #434B5C;\n",
              "      box-shadow: 0px 1px 3px 1px rgba(0, 0, 0, 0.15);\n",
              "      filter: drop-shadow(0px 1px 2px rgba(0, 0, 0, 0.3));\n",
              "      fill: #FFFFFF;\n",
              "    }\n",
              "  </style>\n",
              "\n",
              "      <script>\n",
              "        const buttonEl =\n",
              "          document.querySelector('#df-9284abf2-2f0f-4e50-9230-43687825166c button.colab-df-convert');\n",
              "        buttonEl.style.display =\n",
              "          google.colab.kernel.accessAllowed ? 'block' : 'none';\n",
              "\n",
              "        async function convertToInteractive(key) {\n",
              "          const element = document.querySelector('#df-9284abf2-2f0f-4e50-9230-43687825166c');\n",
              "          const dataTable =\n",
              "            await google.colab.kernel.invokeFunction('convertToInteractive',\n",
              "                                                     [key], {});\n",
              "          if (!dataTable) return;\n",
              "\n",
              "          const docLinkHtml = 'Like what you see? Visit the ' +\n",
              "            '<a target=\"_blank\" href=https://colab.research.google.com/notebooks/data_table.ipynb>data table notebook</a>'\n",
              "            + ' to learn more about interactive tables.';\n",
              "          element.innerHTML = '';\n",
              "          dataTable['output_type'] = 'display_data';\n",
              "          await google.colab.output.renderOutput(dataTable, element);\n",
              "          const docLink = document.createElement('div');\n",
              "          docLink.innerHTML = docLinkHtml;\n",
              "          element.appendChild(docLink);\n",
              "        }\n",
              "      </script>\n",
              "    </div>\n",
              "  </div>\n",
              "  "
            ]
          },
          "metadata": {},
          "execution_count": 16
        }
      ]
    },
    {
      "cell_type": "code",
      "source": [
        "word_dict = pd.read_csv(WORK_DIR+'/word_dictionary.csv', encoding='cp949')\n",
        "word_dict"
      ],
      "metadata": {
        "colab": {
          "base_uri": "https://localhost:8080/",
          "height": 419
        },
        "id": "ASg70Q6JA46u",
        "outputId": "ae7e2e06-38af-4d04-e691-57d211de1145"
      },
      "execution_count": null,
      "outputs": [
        {
          "output_type": "execute_result",
          "data": {
            "text/plain": [
              "        단어 명     물리 명                   영문 명  금칙어 분류어 여부 정의내용\n",
              "0          5        5                   FIVE  NaN    NaN   생략\n",
              "1         12       12                 TWELVE  NaN    NaN   생략\n",
              "2         13       13               THIRTEEN  NaN    NaN   생략\n",
              "3         14       14               FOURTEEN  NaN    NaN   생략\n",
              "4         15       15                FIFTEEN  NaN    NaN   생략\n",
              "...      ...      ...                    ...  ...    ...  ...\n",
              "18345  희생공헌자  SCRCTBR  SACRIFICE CONTRIBUTOR  NaN    NaN   생략\n",
              "18346    희생자   VICTIM                 VICTIM  NaN    NaN   생략\n",
              "18347  희생자심사    VCJDG         VICTIM JUDGING  NaN    NaN   생략\n",
              "18348     희소     RARN               RARENESS  NaN    NaN   생략\n",
              "18349     힌트     HINT                   HINT  NaN    NaN   생략\n",
              "\n",
              "[18350 rows x 6 columns]"
            ],
            "text/html": [
              "\n",
              "  <div id=\"df-33dab53a-b926-4329-b291-bd94e2b2ed3c\">\n",
              "    <div class=\"colab-df-container\">\n",
              "      <div>\n",
              "<style scoped>\n",
              "    .dataframe tbody tr th:only-of-type {\n",
              "        vertical-align: middle;\n",
              "    }\n",
              "\n",
              "    .dataframe tbody tr th {\n",
              "        vertical-align: top;\n",
              "    }\n",
              "\n",
              "    .dataframe thead th {\n",
              "        text-align: right;\n",
              "    }\n",
              "</style>\n",
              "<table border=\"1\" class=\"dataframe\">\n",
              "  <thead>\n",
              "    <tr style=\"text-align: right;\">\n",
              "      <th></th>\n",
              "      <th>단어 명</th>\n",
              "      <th>물리 명</th>\n",
              "      <th>영문 명</th>\n",
              "      <th>금칙어</th>\n",
              "      <th>분류어 여부</th>\n",
              "      <th>정의내용</th>\n",
              "    </tr>\n",
              "  </thead>\n",
              "  <tbody>\n",
              "    <tr>\n",
              "      <th>0</th>\n",
              "      <td>5</td>\n",
              "      <td>5</td>\n",
              "      <td>FIVE</td>\n",
              "      <td>NaN</td>\n",
              "      <td>NaN</td>\n",
              "      <td>생략</td>\n",
              "    </tr>\n",
              "    <tr>\n",
              "      <th>1</th>\n",
              "      <td>12</td>\n",
              "      <td>12</td>\n",
              "      <td>TWELVE</td>\n",
              "      <td>NaN</td>\n",
              "      <td>NaN</td>\n",
              "      <td>생략</td>\n",
              "    </tr>\n",
              "    <tr>\n",
              "      <th>2</th>\n",
              "      <td>13</td>\n",
              "      <td>13</td>\n",
              "      <td>THIRTEEN</td>\n",
              "      <td>NaN</td>\n",
              "      <td>NaN</td>\n",
              "      <td>생략</td>\n",
              "    </tr>\n",
              "    <tr>\n",
              "      <th>3</th>\n",
              "      <td>14</td>\n",
              "      <td>14</td>\n",
              "      <td>FOURTEEN</td>\n",
              "      <td>NaN</td>\n",
              "      <td>NaN</td>\n",
              "      <td>생략</td>\n",
              "    </tr>\n",
              "    <tr>\n",
              "      <th>4</th>\n",
              "      <td>15</td>\n",
              "      <td>15</td>\n",
              "      <td>FIFTEEN</td>\n",
              "      <td>NaN</td>\n",
              "      <td>NaN</td>\n",
              "      <td>생략</td>\n",
              "    </tr>\n",
              "    <tr>\n",
              "      <th>...</th>\n",
              "      <td>...</td>\n",
              "      <td>...</td>\n",
              "      <td>...</td>\n",
              "      <td>...</td>\n",
              "      <td>...</td>\n",
              "      <td>...</td>\n",
              "    </tr>\n",
              "    <tr>\n",
              "      <th>18345</th>\n",
              "      <td>희생공헌자</td>\n",
              "      <td>SCRCTBR</td>\n",
              "      <td>SACRIFICE CONTRIBUTOR</td>\n",
              "      <td>NaN</td>\n",
              "      <td>NaN</td>\n",
              "      <td>생략</td>\n",
              "    </tr>\n",
              "    <tr>\n",
              "      <th>18346</th>\n",
              "      <td>희생자</td>\n",
              "      <td>VICTIM</td>\n",
              "      <td>VICTIM</td>\n",
              "      <td>NaN</td>\n",
              "      <td>NaN</td>\n",
              "      <td>생략</td>\n",
              "    </tr>\n",
              "    <tr>\n",
              "      <th>18347</th>\n",
              "      <td>희생자심사</td>\n",
              "      <td>VCJDG</td>\n",
              "      <td>VICTIM JUDGING</td>\n",
              "      <td>NaN</td>\n",
              "      <td>NaN</td>\n",
              "      <td>생략</td>\n",
              "    </tr>\n",
              "    <tr>\n",
              "      <th>18348</th>\n",
              "      <td>희소</td>\n",
              "      <td>RARN</td>\n",
              "      <td>RARENESS</td>\n",
              "      <td>NaN</td>\n",
              "      <td>NaN</td>\n",
              "      <td>생략</td>\n",
              "    </tr>\n",
              "    <tr>\n",
              "      <th>18349</th>\n",
              "      <td>힌트</td>\n",
              "      <td>HINT</td>\n",
              "      <td>HINT</td>\n",
              "      <td>NaN</td>\n",
              "      <td>NaN</td>\n",
              "      <td>생략</td>\n",
              "    </tr>\n",
              "  </tbody>\n",
              "</table>\n",
              "<p>18350 rows × 6 columns</p>\n",
              "</div>\n",
              "      <button class=\"colab-df-convert\" onclick=\"convertToInteractive('df-33dab53a-b926-4329-b291-bd94e2b2ed3c')\"\n",
              "              title=\"Convert this dataframe to an interactive table.\"\n",
              "              style=\"display:none;\">\n",
              "        \n",
              "  <svg xmlns=\"http://www.w3.org/2000/svg\" height=\"24px\"viewBox=\"0 0 24 24\"\n",
              "       width=\"24px\">\n",
              "    <path d=\"M0 0h24v24H0V0z\" fill=\"none\"/>\n",
              "    <path d=\"M18.56 5.44l.94 2.06.94-2.06 2.06-.94-2.06-.94-.94-2.06-.94 2.06-2.06.94zm-11 1L8.5 8.5l.94-2.06 2.06-.94-2.06-.94L8.5 2.5l-.94 2.06-2.06.94zm10 10l.94 2.06.94-2.06 2.06-.94-2.06-.94-.94-2.06-.94 2.06-2.06.94z\"/><path d=\"M17.41 7.96l-1.37-1.37c-.4-.4-.92-.59-1.43-.59-.52 0-1.04.2-1.43.59L10.3 9.45l-7.72 7.72c-.78.78-.78 2.05 0 2.83L4 21.41c.39.39.9.59 1.41.59.51 0 1.02-.2 1.41-.59l7.78-7.78 2.81-2.81c.8-.78.8-2.07 0-2.86zM5.41 20L4 18.59l7.72-7.72 1.47 1.35L5.41 20z\"/>\n",
              "  </svg>\n",
              "      </button>\n",
              "      \n",
              "  <style>\n",
              "    .colab-df-container {\n",
              "      display:flex;\n",
              "      flex-wrap:wrap;\n",
              "      gap: 12px;\n",
              "    }\n",
              "\n",
              "    .colab-df-convert {\n",
              "      background-color: #E8F0FE;\n",
              "      border: none;\n",
              "      border-radius: 50%;\n",
              "      cursor: pointer;\n",
              "      display: none;\n",
              "      fill: #1967D2;\n",
              "      height: 32px;\n",
              "      padding: 0 0 0 0;\n",
              "      width: 32px;\n",
              "    }\n",
              "\n",
              "    .colab-df-convert:hover {\n",
              "      background-color: #E2EBFA;\n",
              "      box-shadow: 0px 1px 2px rgba(60, 64, 67, 0.3), 0px 1px 3px 1px rgba(60, 64, 67, 0.15);\n",
              "      fill: #174EA6;\n",
              "    }\n",
              "\n",
              "    [theme=dark] .colab-df-convert {\n",
              "      background-color: #3B4455;\n",
              "      fill: #D2E3FC;\n",
              "    }\n",
              "\n",
              "    [theme=dark] .colab-df-convert:hover {\n",
              "      background-color: #434B5C;\n",
              "      box-shadow: 0px 1px 3px 1px rgba(0, 0, 0, 0.15);\n",
              "      filter: drop-shadow(0px 1px 2px rgba(0, 0, 0, 0.3));\n",
              "      fill: #FFFFFF;\n",
              "    }\n",
              "  </style>\n",
              "\n",
              "      <script>\n",
              "        const buttonEl =\n",
              "          document.querySelector('#df-33dab53a-b926-4329-b291-bd94e2b2ed3c button.colab-df-convert');\n",
              "        buttonEl.style.display =\n",
              "          google.colab.kernel.accessAllowed ? 'block' : 'none';\n",
              "\n",
              "        async function convertToInteractive(key) {\n",
              "          const element = document.querySelector('#df-33dab53a-b926-4329-b291-bd94e2b2ed3c');\n",
              "          const dataTable =\n",
              "            await google.colab.kernel.invokeFunction('convertToInteractive',\n",
              "                                                     [key], {});\n",
              "          if (!dataTable) return;\n",
              "\n",
              "          const docLinkHtml = 'Like what you see? Visit the ' +\n",
              "            '<a target=\"_blank\" href=https://colab.research.google.com/notebooks/data_table.ipynb>data table notebook</a>'\n",
              "            + ' to learn more about interactive tables.';\n",
              "          element.innerHTML = '';\n",
              "          dataTable['output_type'] = 'display_data';\n",
              "          await google.colab.output.renderOutput(dataTable, element);\n",
              "          const docLink = document.createElement('div');\n",
              "          docLink.innerHTML = docLinkHtml;\n",
              "          element.appendChild(docLink);\n",
              "        }\n",
              "      </script>\n",
              "    </div>\n",
              "  </div>\n",
              "  "
            ]
          },
          "metadata": {},
          "execution_count": 17
        }
      ]
    },
    {
      "cell_type": "code",
      "source": [
        ""
      ],
      "metadata": {
        "id": "uQkTbZbZDrMC"
      },
      "execution_count": null,
      "outputs": []
    }
  ]
}