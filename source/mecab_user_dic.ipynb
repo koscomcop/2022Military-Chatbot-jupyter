{
 "cells": [
  {
   "cell_type": "code",
   "execution_count": 2,
   "metadata": {
    "collapsed": true,
    "jupyter": {
     "outputs_hidden": true
    },
    "tags": []
   },
   "outputs": [
    {
     "name": "stdout",
     "output_type": "stream",
     "text": [
      "absl-py==1.0.0\n",
      "aiohttp==3.8.1\n",
      "aiosignal==1.2.0\n",
      "anyio==3.6.1\n",
      "argon2-cffi==21.3.0\n",
      "argon2-cffi-bindings==21.2.0\n",
      "asttokens==2.0.5\n",
      "astunparse==1.6.3\n",
      "async-timeout==4.0.1\n",
      "attrs==21.2.0\n",
      "Babel==2.10.3\n",
      "backcall==0.2.0\n",
      "beautifulsoup4==4.6.0\n",
      "black==22.6.0\n",
      "bleach==5.0.1\n",
      "cachetools==4.2.4\n",
      "certifi==2021.10.8\n",
      "cffi==1.15.1\n",
      "charset-normalizer==2.0.7\n",
      "click==8.0.3\n",
      "coloredlogs==15.0.1\n",
      "cycler==0.11.0\n",
      "datasets==1.13.3\n",
      "debugpy==1.6.2\n",
      "decorator==5.1.1\n",
      "defusedxml==0.7.1\n",
      "dill==0.3.4\n",
      "entrypoints==0.4\n",
      "executing==0.9.1\n",
      "fastjsonschema==2.16.1\n",
      "filelock==3.4.0\n",
      "Flask==2.0.2\n",
      "Flask-API==3.0.post1\n",
      "flatbuffers==1.12\n",
      "fonttools==4.34.4\n",
      "frozenlist==1.2.0\n",
      "fsspec==2021.11.0\n",
      "future==0.18.2\n",
      "gast==0.4.0\n",
      "google-auth==2.3.3\n",
      "google-auth-oauthlib==0.4.6\n",
      "google-pasta==0.2.0\n",
      "greenlet==1.1.2\n",
      "grpcio==1.41.1\n",
      "h5py==3.7.0\n",
      "huggingface-hub==0.8.1\n",
      "humanfriendly==10.0\n",
      "idna==3.3\n",
      "importlib-metadata==4.8.2\n",
      "ipykernel==6.15.1\n",
      "ipython==8.4.0\n",
      "ipython-genutils==0.2.0\n",
      "itsdangerous==2.0.1\n",
      "jedi==0.18.1\n",
      "Jinja2==3.0.3\n",
      "joblib==1.1.0\n",
      "JPype1==1.4.0\n",
      "json5==0.9.9\n",
      "jsonschema==4.9.0\n",
      "jupyter-client==7.3.4\n",
      "jupyter-core==4.11.1\n",
      "jupyter-server==1.18.1\n",
      "jupyterlab==3.4.4\n",
      "jupyterlab-pygments==0.2.2\n",
      "jupyterlab-server==2.15.0\n",
      "keras==2.9.0\n",
      "Keras-Preprocessing==1.1.2\n",
      "kiwisolver==1.4.4\n",
      "konlpy==0.6.0\n",
      "libclang==14.0.1\n",
      "lxml==4.6.3\n",
      "Markdown==3.3.5\n",
      "MarkupSafe==2.0.1\n",
      "matplotlib==3.5.2\n",
      "matplotlib-inline==0.1.3\n",
      "mecab-python==1.0.0\n",
      "mecab-python3==1.0.5\n",
      "mistune==0.8.4\n",
      "multidict==5.2.0\n",
      "multiprocess==0.70.12.2\n",
      "mypy-extensions==0.4.3\n",
      "nbclassic==0.4.3\n",
      "nbclient==0.6.6\n",
      "nbconvert==6.5.0\n",
      "nbformat==5.4.0\n",
      "nest-asyncio==1.5.5\n",
      "nltk==3.7\n",
      "notebook==6.4.12\n",
      "notebook-shim==0.1.0\n",
      "numpy==1.21.4\n",
      "oauthlib==3.1.1\n",
      "opt-einsum==3.3.0\n",
      "packaging==21.2\n",
      "pandas==1.3.4\n",
      "pandocfilters==1.5.0\n",
      "parso==0.8.3\n",
      "pathspec==0.9.0\n",
      "pexpect==4.8.0\n",
      "pickleshare==0.7.5\n",
      "Pillow==9.2.0\n",
      "platformdirs==2.5.2\n",
      "prometheus-client==0.14.1\n",
      "prompt-toolkit==3.0.30\n",
      "protobuf==3.19.1\n",
      "psutil==5.9.1\n",
      "ptyprocess==0.7.0\n",
      "pure-eval==0.2.2\n",
      "pyarrow==6.0.0\n",
      "pyasn1==0.4.8\n",
      "pyasn1-modules==0.2.8\n",
      "pycparser==2.21\n",
      "Pygments==2.12.0\n",
      "PyMySQL==1.0.2\n",
      "pyparsing==2.4.7\n",
      "pyrsistent==0.18.1\n",
      "python-dateutil==2.8.2\n",
      "pytorch-lightning==1.2.2\n",
      "pytz==2021.3\n",
      "PyYAML==6.0\n",
      "pyzmq==23.2.0\n",
      "regex==2021.11.10\n",
      "requests==2.26.0\n",
      "requests-oauthlib==1.3.0\n",
      "rsa==4.7.2\n",
      "sacremoses==0.0.46\n",
      "scikit-learn==0.24.2\n",
      "scipy==1.7.2\n",
      "seaborn==0.11.2\n",
      "Send2Trash==1.8.0\n",
      "sentence-transformers==2.2.2\n",
      "sentencepiece==0.1.96\n",
      "six==1.16.0\n",
      "sklearn==0.0\n",
      "sniffio==1.2.0\n",
      "SQLAlchemy==1.3.13\n",
      "stack-data==0.3.0\n",
      "tensorboard==2.9.1\n",
      "tensorboard-data-server==0.6.1\n",
      "tensorboard-plugin-wit==1.8.0\n",
      "tensorflow==2.9.1\n",
      "tensorflow-estimator==2.9.0\n",
      "tensorflow-hub==0.12.0\n",
      "tensorflow-io-gcs-filesystem==0.26.0\n",
      "termcolor==1.1.0\n",
      "terminado==0.15.0\n",
      "threadpoolctl==3.0.0\n",
      "tinycss2==1.1.1\n",
      "tokenizers==0.10.3\n",
      "tomli==2.0.1\n",
      "torch==1.12.0\n",
      "torchtext==0.8.1\n",
      "torchvision==0.13.0\n",
      "tornado==6.2\n",
      "tqdm==4.62.3\n",
      "traitlets==5.3.0\n",
      "transformers==4.11.3\n",
      "typing_extensions==4.0.0\n",
      "unicodecsv==0.14.1\n",
      "urllib3==1.26.7\n",
      "wcwidth==0.2.5\n",
      "webencodings==0.5.1\n",
      "websocket-client==1.3.3\n",
      "Werkzeug==2.0.2\n",
      "wrapt==1.14.1\n",
      "xxhash==2.0.2\n",
      "yarl==1.7.2\n",
      "zipp==3.6.0\n"
     ]
    }
   ],
   "source": [
    "!pip freeze"
   ]
  },
  {
   "cell_type": "code",
   "execution_count": 10,
   "metadata": {},
   "outputs": [
    {
     "name": "stdout",
     "output_type": "stream",
     "text": [
      "/root/2022_chatbot/assets\n"
     ]
    }
   ],
   "source": [
    "import pandas as pd\n",
    "import numpy as np\n",
    "import os\n",
    "# from konlpy import Mecab\n",
    "\n",
    "!pwd"
   ]
  },
  {
   "cell_type": "code",
   "execution_count": 44,
   "metadata": {},
   "outputs": [
    {
     "name": "stdout",
     "output_type": "stream",
     "text": [
      "/root/2022_chatbot/assets\n",
      "mecab_user_dic.ipynb  tmp\n"
     ]
    }
   ],
   "source": [
    "WORK_DIR=\"/root/2022_chatbot/assets\"\n",
    "MECAB_DIR=\"/root/2022_chatbot/mecab-ko-dic-2.1.1-20180720\"\n",
    "\n",
    "%cd $WORK_DIR\n",
    "!ls"
   ]
  },
  {
   "cell_type": "code",
   "execution_count": 7,
   "metadata": {},
   "outputs": [
    {
     "data": {
      "text/plain": [
       "['대우,,,,NNP,*,F,대우,*,*,*,*,*\\n',\n",
       " '구글,,,,NNP,*,T,구글,*,*,*,*,*\\n',\n",
       " '모바일서비스팀,,,,NNP,*,F,모바일서비스팀,*,*,*,*,*']"
      ]
     },
     "execution_count": 7,
     "metadata": {},
     "output_type": "execute_result"
    }
   ],
   "source": [
    "# 미리 만들어둔 사용자 사전 nnp파일 read\n",
    "with open(WORK_DIR+\"/nnp.csv\", 'r', encoding='utf-8') as f:\n",
    "  file_new = f.readlines()\n",
    "file_new"
   ]
  },
  {
   "cell_type": "code",
   "execution_count": null,
   "metadata": {},
   "outputs": [],
   "source": []
  },
  {
   "cell_type": "code",
   "execution_count": 32,
   "metadata": {},
   "outputs": [
    {
     "data": {
      "text/plain": [
       "'롱'"
      ]
     },
     "execution_count": 32,
     "metadata": {},
     "output_type": "execute_result"
    }
   ],
   "source": [
    "'메,롱'[-1]"
   ]
  },
  {
   "cell_type": "markdown",
   "metadata": {},
   "source": [
    "## Sample - 계급 추가"
   ]
  },
  {
   "cell_type": "code",
   "execution_count": 41,
   "metadata": {},
   "outputs": [
    {
     "data": {
      "text/plain": [
       "True"
      ]
     },
     "execution_count": 41,
     "metadata": {},
     "output_type": "execute_result"
    }
   ],
   "source": [
    "def is_hangul(word):\n",
    "    for w in word:\n",
    "        if 44032 > ord(w) or ord(w) > 55203:\n",
    "            if w != ' ':\n",
    "                return False\n",
    "    \n",
    "    return True\n",
    "\n",
    "def has_coda(word):\n",
    "    return (ord(word[-1])-44032) %28 == 0\n",
    "\n",
    "# 종성유무 반환 함수\n",
    "has_coda('대령')\n",
    "is_hangul('메 롱')"
   ]
  },
  {
   "cell_type": "code",
   "execution_count": 11,
   "metadata": {},
   "outputs": [
    {
     "data": {
      "text/html": [
       "<div>\n",
       "<style scoped>\n",
       "    .dataframe tbody tr th:only-of-type {\n",
       "        vertical-align: middle;\n",
       "    }\n",
       "\n",
       "    .dataframe tbody tr th {\n",
       "        vertical-align: top;\n",
       "    }\n",
       "\n",
       "    .dataframe thead th {\n",
       "        text-align: right;\n",
       "    }\n",
       "</style>\n",
       "<table border=\"1\" class=\"dataframe\">\n",
       "  <thead>\n",
       "    <tr style=\"text-align: right;\">\n",
       "      <th></th>\n",
       "      <th>0</th>\n",
       "    </tr>\n",
       "  </thead>\n",
       "  <tbody>\n",
       "    <tr>\n",
       "      <th>0</th>\n",
       "      <td>소장</td>\n",
       "    </tr>\n",
       "    <tr>\n",
       "      <th>1</th>\n",
       "      <td>준장</td>\n",
       "    </tr>\n",
       "    <tr>\n",
       "      <th>2</th>\n",
       "      <td>대령</td>\n",
       "    </tr>\n",
       "    <tr>\n",
       "      <th>3</th>\n",
       "      <td>중령</td>\n",
       "    </tr>\n",
       "    <tr>\n",
       "      <th>4</th>\n",
       "      <td>소령</td>\n",
       "    </tr>\n",
       "    <tr>\n",
       "      <th>5</th>\n",
       "      <td>대위</td>\n",
       "    </tr>\n",
       "    <tr>\n",
       "      <th>6</th>\n",
       "      <td>중위</td>\n",
       "    </tr>\n",
       "    <tr>\n",
       "      <th>7</th>\n",
       "      <td>소위</td>\n",
       "    </tr>\n",
       "    <tr>\n",
       "      <th>8</th>\n",
       "      <td>준위</td>\n",
       "    </tr>\n",
       "    <tr>\n",
       "      <th>9</th>\n",
       "      <td>원사</td>\n",
       "    </tr>\n",
       "    <tr>\n",
       "      <th>10</th>\n",
       "      <td>상사</td>\n",
       "    </tr>\n",
       "    <tr>\n",
       "      <th>11</th>\n",
       "      <td>중사</td>\n",
       "    </tr>\n",
       "    <tr>\n",
       "      <th>12</th>\n",
       "      <td>하사</td>\n",
       "    </tr>\n",
       "    <tr>\n",
       "      <th>13</th>\n",
       "      <td>병장</td>\n",
       "    </tr>\n",
       "    <tr>\n",
       "      <th>14</th>\n",
       "      <td>상병</td>\n",
       "    </tr>\n",
       "    <tr>\n",
       "      <th>15</th>\n",
       "      <td>일병</td>\n",
       "    </tr>\n",
       "    <tr>\n",
       "      <th>16</th>\n",
       "      <td>이병</td>\n",
       "    </tr>\n",
       "  </tbody>\n",
       "</table>\n",
       "</div>"
      ],
      "text/plain": [
       "     0\n",
       "0   소장\n",
       "1   준장\n",
       "2   대령\n",
       "3   중령\n",
       "4   소령\n",
       "5   대위\n",
       "6   중위\n",
       "7   소위\n",
       "8   준위\n",
       "9   원사\n",
       "10  상사\n",
       "11  중사\n",
       "12  하사\n",
       "13  병장\n",
       "14  상병\n",
       "15  일병\n",
       "16  이병"
      ]
     },
     "execution_count": 11,
     "metadata": {},
     "output_type": "execute_result"
    }
   ],
   "source": [
    "sample_df = pd.read_csv(WORK_DIR+'/tmp/계급.csv')\n",
    "sample_df"
   ]
  },
  {
   "cell_type": "code",
   "execution_count": 17,
   "metadata": {},
   "outputs": [
    {
     "name": "stdout",
     "output_type": "stream",
     "text": [
      "소장,,,,NNP,*,T,소장,*,*,*,*\n",
      "준장,,,,NNP,*,T,준장,*,*,*,*\n",
      "대령,,,,NNP,*,T,대령,*,*,*,*\n",
      "중령,,,,NNP,*,T,중령,*,*,*,*\n",
      "소령,,,,NNP,*,T,소령,*,*,*,*\n",
      "대위,,,,NNP,*,F,대위,*,*,*,*\n",
      "중위,,,,NNP,*,F,중위,*,*,*,*\n",
      "소위,,,,NNP,*,F,소위,*,*,*,*\n",
      "준위,,,,NNP,*,F,준위,*,*,*,*\n",
      "원사,,,,NNP,*,F,원사,*,*,*,*\n",
      "상사,,,,NNP,*,F,상사,*,*,*,*\n",
      "중사,,,,NNP,*,F,중사,*,*,*,*\n",
      "하사,,,,NNP,*,F,하사,*,*,*,*\n",
      "병장,,,,NNP,*,T,병장,*,*,*,*\n",
      "상병,,,,NNP,*,T,상병,*,*,*,*\n",
      "일병,,,,NNP,*,T,일병,*,*,*,*\n",
      "이병,,,,NNP,*,T,이병,*,*,*,*\n"
     ]
    }
   ],
   "source": [
    "with open(WORK_DIR+\"/nnp.csv\", 'w', encoding='utf-8') as f:\n",
    "    for w in sample_df['0']:\n",
    "        coda = 'F' if has_coda(w) else 'T'\n",
    "        line = f'{w},,,,NNP,*,{coda},{w},*,*,*,*\\n'\n",
    "        f.write(line)\n",
    "\n",
    "%cat nnp.csv"
   ]
  },
  {
   "cell_type": "code",
   "execution_count": null,
   "metadata": {},
   "outputs": [],
   "source": []
  },
  {
   "cell_type": "markdown",
   "metadata": {},
   "source": [
    "## nnp 단어추가"
   ]
  },
  {
   "cell_type": "code",
   "execution_count": 43,
   "metadata": {},
   "outputs": [
    {
     "name": "stdout",
     "output_type": "stream",
     "text": [
      "[군구분] # of data : 4 ===================>\n",
      "[지역] # of data : 284 ===================>\n",
      "[저자] # of data : 68741 ===================>\n",
      "[시설] # of data : 188 ===================>\n",
      "[주택] # of data : 2093 ===================>\n",
      "[부대번호] # of data : 169 ===================>\n",
      "[부대] # of data : 18071 ===================>\n",
      "[직급] # of data : 23 ===================>\n",
      "[계급] # of data : 17 ===================>\n",
      "[식단] # of data : 18 ===================>\n",
      "[도서명] # of data : 118643 ===================>\n"
     ]
    }
   ],
   "source": [
    "with open(WORK_DIR+\"/nnp.csv\", 'w', encoding='utf-8') as f:\n",
    "    for dirname, _, filenames in os.walk(WORK_DIR+'/tmp'):\n",
    "        for filename in filenames:\n",
    "            filepath = os.path.join(dirname, filename)\n",
    "            sample_df = pd.read_csv(filepath)\n",
    "            \n",
    "            fnm = filename.split(\".\")[0]\n",
    "            print(f'[{fnm}] # of data : {len(sample_df.index)} ===================>')\n",
    "            tag = 'NNP'\n",
    "            nm = '*'\n",
    "            \n",
    "            if fnm=='저자':\n",
    "                nm = '인명'\n",
    "            elif fnm=='지역':\n",
    "                nm = '지명'\n",
    "            \n",
    "            for w in sample_df['0']:\n",
    "                try:\n",
    "                    if is_hangul(w) == True:\n",
    "                        coda = 'F' if has_coda(w) else 'T'\n",
    "                        line = f'{w},,,,NNP,{nm},{coda},{w},*,*,*,*,*\\n'\n",
    "                        f.write(line)  \n",
    "                except:\n",
    "                    continue"
   ]
  },
  {
   "cell_type": "code",
   "execution_count": null,
   "metadata": {},
   "outputs": [],
   "source": []
  },
  {
   "cell_type": "code",
   "execution_count": null,
   "metadata": {},
   "outputs": [],
   "source": []
  },
  {
   "cell_type": "markdown",
   "metadata": {},
   "source": [
    "## 우선순위 단어 조정"
   ]
  },
  {
   "cell_type": "code",
   "execution_count": 46,
   "metadata": {},
   "outputs": [
    {
     "name": "stdout",
     "output_type": "stream",
     "text": [
      "/root/2022_chatbot/mecab-ko-dic-2.1.1-20180720\n"
     ]
    }
   ],
   "source": [
    "%cd $MECAB_DIR"
   ]
  },
  {
   "cell_type": "code",
   "execution_count": 52,
   "metadata": {},
   "outputs": [],
   "source": [
    "with open(\"user-nnp.csv\", 'r', encoding='utf-8') as f:\n",
    "    userdic = f.readlines()"
   ]
  },
  {
   "cell_type": "code",
   "execution_count": 54,
   "metadata": {},
   "outputs": [
    {
     "data": {
      "text/plain": [
       "['육군,1786,3546,2456,NNP,*,T,육군,*,*,*,*,*\\n',\n",
       " '해군,1786,3546,2568,NNP,*,T,해군,*,*,*,*,*\\n',\n",
       " '해병대,1786,3545,2937,NNP,*,F,해병대,*,*,*,*,*\\n',\n",
       " '공군,1786,3546,2411,NNP,*,T,공군,*,*,*,*,*\\n',\n",
       " '전라남도,1789,3552,5497,NNP,지명,F,전라남도,*,*,*,*,*\\n',\n",
       " '달서구,1789,3552,5497,NNP,지명,F,달서구,*,*,*,*,*\\n',\n",
       " '강북구,1789,3552,5497,NNP,지명,F,강북구,*,*,*,*,*\\n',\n",
       " '태안군,1789,3553,5497,NNP,지명,T,태안군,*,*,*,*,*\\n',\n",
       " '안양시,1789,3552,4268,NNP,지명,F,안양시,*,*,*,*,*\\n',\n",
       " '계양구,1789,3552,5497,NNP,지명,F,계양구,*,*,*,*,*\\n']"
      ]
     },
     "execution_count": 54,
     "metadata": {},
     "output_type": "execute_result"
    }
   ],
   "source": [
    "userdic[:10]"
   ]
  },
  {
   "cell_type": "code",
   "execution_count": 59,
   "metadata": {},
   "outputs": [],
   "source": [
    "sample_line = userdic[0]\n",
    "arr = sample_line.split(',')"
   ]
  },
  {
   "cell_type": "code",
   "execution_count": 62,
   "metadata": {},
   "outputs": [
    {
     "data": {
      "text/plain": [
       "'육군,1786,3546,0,NNP,*,T,육군,*,*,*,*,*\\n'"
      ]
     },
     "execution_count": 62,
     "metadata": {},
     "output_type": "execute_result"
    }
   ],
   "source": [
    "arr[3] = '0'\n",
    "ret = ','.join(arr)\n",
    "ret"
   ]
  },
  {
   "cell_type": "code",
   "execution_count": 64,
   "metadata": {},
   "outputs": [],
   "source": [
    "with open(\"user_nnp_new.csv\", 'w', encoding='utf-8') as f:\n",
    "    for line in userdic:\n",
    "        arr = line.split(',')    \n",
    "        arr[3] = '0'\n",
    "        f.write(','.join(arr))"
   ]
  },
  {
   "cell_type": "code",
   "execution_count": null,
   "metadata": {},
   "outputs": [],
   "source": []
  }
 ],
 "metadata": {
  "kernelspec": {
   "display_name": "test_venv",
   "language": "python",
   "name": ".venv"
  },
  "language_info": {
   "codemirror_mode": {
    "name": "ipython",
    "version": 3
   },
   "file_extension": ".py",
   "mimetype": "text/x-python",
   "name": "python",
   "nbconvert_exporter": "python",
   "pygments_lexer": "ipython3",
   "version": "3.9.13"
  }
 },
 "nbformat": 4,
 "nbformat_minor": 4
}
