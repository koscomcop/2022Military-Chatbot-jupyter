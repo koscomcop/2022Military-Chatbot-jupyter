{
 "cells": [
  {
   "cell_type": "code",
   "execution_count": 3,
   "metadata": {
    "collapsed": true,
    "jupyter": {
     "outputs_hidden": true
    },
    "tags": []
   },
   "outputs": [
    {
     "name": "stdout",
     "output_type": "stream",
     "text": [
      "absl-py==1.0.0\n",
      "aiohttp==3.8.1\n",
      "aiosignal==1.2.0\n",
      "anyio==3.6.1\n",
      "argon2-cffi==21.3.0\n",
      "argon2-cffi-bindings==21.2.0\n",
      "asttokens==2.0.5\n",
      "astunparse==1.6.3\n",
      "async-timeout==4.0.1\n",
      "attrs==21.2.0\n",
      "Babel==2.10.3\n",
      "backcall==0.2.0\n",
      "beautifulsoup4==4.6.0\n",
      "black==22.6.0\n",
      "bleach==5.0.1\n",
      "cachetools==4.2.4\n",
      "certifi==2021.10.8\n",
      "cffi==1.15.1\n",
      "charset-normalizer==2.0.7\n",
      "click==8.0.3\n",
      "coloredlogs==15.0.1\n",
      "cssselect==1.1.0\n",
      "cycler==0.11.0\n",
      "datasets==1.13.3\n",
      "debugpy==1.6.2\n",
      "decorator==5.1.1\n",
      "defusedxml==0.7.1\n",
      "dill==0.3.4\n",
      "entrypoints==0.4\n",
      "executing==0.9.1\n",
      "fastjsonschema==2.16.1\n",
      "feedfinder2==0.0.4\n",
      "feedparser==6.0.10\n",
      "filelock==3.4.0\n",
      "Flask==2.0.2\n",
      "Flask-API==3.0.post1\n",
      "flatbuffers==1.12\n",
      "fonttools==4.34.4\n",
      "frozenlist==1.2.0\n",
      "fsspec==2021.11.0\n",
      "future==0.18.2\n",
      "gast==0.4.0\n",
      "google-auth==2.3.3\n",
      "google-auth-oauthlib==0.4.6\n",
      "google-pasta==0.2.0\n",
      "greenlet==1.1.2\n",
      "grpcio==1.41.1\n",
      "h5py==3.7.0\n",
      "huggingface-hub==0.8.1\n",
      "humanfriendly==10.0\n",
      "idna==3.3\n",
      "importlib-metadata==4.8.2\n",
      "ipykernel==6.15.1\n",
      "ipython==8.4.0\n",
      "ipython-genutils==0.2.0\n",
      "itsdangerous==2.0.1\n",
      "jedi==0.18.1\n",
      "jieba3k==0.35.1\n",
      "Jinja2==3.0.3\n",
      "joblib==1.1.0\n",
      "JPype1==1.4.0\n",
      "json5==0.9.9\n",
      "jsonschema==4.9.0\n",
      "jupyter-client==7.3.4\n",
      "jupyter-core==4.11.1\n",
      "jupyter-server==1.18.1\n",
      "jupyterlab==3.4.4\n",
      "jupyterlab-pygments==0.2.2\n",
      "jupyterlab-server==2.15.0\n",
      "keras==2.9.0\n",
      "keras-contrib @ git+https://www.github.com/keras-team/keras-contrib.git@3fc5ef709e061416f4bc8a92ca3750c824b5d2b0\n",
      "Keras-Preprocessing==1.1.2\n",
      "kiwisolver==1.4.4\n",
      "konlpy==0.6.0\n",
      "libclang==14.0.1\n",
      "lxml==4.6.3\n",
      "Markdown==3.3.5\n",
      "MarkupSafe==2.0.1\n",
      "matplotlib==3.5.2\n",
      "matplotlib-inline==0.1.3\n",
      "mecab-python==1.0.0\n",
      "mecab-python3==1.0.5\n",
      "mistune==0.8.4\n",
      "multidict==5.2.0\n",
      "multiprocess==0.70.12.2\n",
      "mypy-extensions==0.4.3\n",
      "nbclassic==0.4.3\n",
      "nbclient==0.6.6\n",
      "nbconvert==6.5.0\n",
      "nbformat==5.4.0\n",
      "nest-asyncio==1.5.5\n",
      "newspaper3k==0.2.8\n",
      "nltk==3.7\n",
      "notebook==6.4.12\n",
      "notebook-shim==0.1.0\n",
      "numpy==1.21.4\n",
      "oauthlib==3.1.1\n",
      "opt-einsum==3.3.0\n",
      "packaging==21.2\n",
      "pandas==1.3.4\n",
      "pandocfilters==1.5.0\n",
      "parso==0.8.3\n",
      "pathspec==0.9.0\n",
      "pexpect==4.8.0\n",
      "pickleshare==0.7.5\n",
      "Pillow==9.2.0\n",
      "platformdirs==2.5.2\n",
      "prometheus-client==0.14.1\n",
      "prompt-toolkit==3.0.30\n",
      "protobuf==3.19.1\n",
      "psutil==5.9.1\n",
      "ptyprocess==0.7.0\n",
      "pure-eval==0.2.2\n",
      "pyarrow==6.0.0\n",
      "pyasn1==0.4.8\n",
      "pyasn1-modules==0.2.8\n",
      "pycparser==2.21\n",
      "Pygments==2.12.0\n",
      "PyMySQL==1.0.2\n",
      "pyparsing==2.4.7\n",
      "pyrsistent==0.18.1\n",
      "python-dateutil==2.8.2\n",
      "pytorch-lightning==1.2.2\n",
      "pytz==2021.3\n",
      "PyYAML==6.0\n",
      "pyzmq==23.2.0\n",
      "regex==2021.11.10\n",
      "requests==2.26.0\n",
      "requests-file==1.5.1\n",
      "requests-oauthlib==1.3.0\n",
      "rsa==4.7.2\n",
      "sacremoses==0.0.46\n",
      "scikit-learn==0.24.2\n",
      "scipy==1.7.2\n",
      "seaborn==0.11.2\n",
      "Send2Trash==1.8.0\n",
      "sentence-transformers==2.2.2\n",
      "sentencepiece==0.1.96\n",
      "seqeval==1.2.2\n",
      "sgmllib3k==1.0.0\n",
      "six==1.16.0\n",
      "sklearn==0.0\n",
      "sniffio==1.2.0\n",
      "SQLAlchemy==1.3.13\n",
      "stack-data==0.3.0\n",
      "tensorboard==2.9.1\n",
      "tensorboard-data-server==0.6.1\n",
      "tensorboard-plugin-wit==1.8.0\n",
      "tensorflow==2.9.1\n",
      "tensorflow-addons==0.17.1\n",
      "tensorflow-estimator==2.9.0\n",
      "tensorflow-hub==0.12.0\n",
      "tensorflow-io-gcs-filesystem==0.26.0\n",
      "termcolor==1.1.0\n",
      "terminado==0.15.0\n",
      "tf2crf==0.1.33\n",
      "threadpoolctl==3.0.0\n",
      "tinycss2==1.1.1\n",
      "tinysegmenter==0.3\n",
      "tldextract==3.3.1\n",
      "tokenizers==0.10.3\n",
      "tomli==2.0.1\n",
      "torch==1.12.0\n",
      "torchtext==0.8.1\n",
      "torchvision==0.13.0\n",
      "tornado==6.2\n",
      "tqdm==4.62.3\n",
      "traitlets==5.3.0\n",
      "transformers==4.11.3\n",
      "typeguard==2.13.3\n",
      "typing_extensions==4.0.0\n",
      "unicodecsv==0.14.1\n",
      "urllib3==1.26.7\n",
      "wcwidth==0.2.5\n",
      "webencodings==0.5.1\n",
      "websocket-client==1.3.3\n",
      "Werkzeug==2.0.2\n",
      "wordcloud==1.8.2.2\n",
      "wrapt==1.14.1\n",
      "xxhash==2.0.2\n",
      "yarl==1.7.2\n",
      "zipp==3.6.0\n"
     ]
    }
   ],
   "source": [
    "!pip freeze"
   ]
  },
  {
   "cell_type": "code",
   "execution_count": 1,
   "metadata": {},
   "outputs": [
    {
     "name": "stdout",
     "output_type": "stream",
     "text": [
      "/root/2022_chatbot/assets/2022Military-Chatbot-jupyter/source\n"
     ]
    }
   ],
   "source": [
    "import pandas as pd\n",
    "import numpy as np\n",
    "import os\n",
    "# from konlpy import Mecab\n",
    "\n",
    "!pwd"
   ]
  },
  {
   "cell_type": "code",
   "execution_count": null,
   "metadata": {},
   "outputs": [
    {
     "name": "stdout",
     "output_type": "stream",
     "text": [
      "/root/2022_chatbot/assets\n",
      "2022Military-Chatbot-jupyter  tmp\t      user_nnp_backup.csv\n",
      "nnp.csv\t\t\t      Untitled.ipynb  _user-nnp.csv\n"
     ]
    }
   ],
   "source": [
    "WORK_DIR=\"/root/2022_chatbot/assets\"\n",
    "MECAB_DIR=\"/root/2022_chatbot/mecab-ko-dic-2.1.1-20180720\"\n",
    "\n",
    "%cd $WORK_DIR\n",
    "!ls"
   ]
  },
  {
   "cell_type": "code",
   "execution_count": 9,
   "metadata": {},
   "outputs": [
    {
     "data": {
      "text/plain": [
       "['대우,,,,NNP,*,F,대우,*,*,*,*,*\\n',\n",
       " '구글,,,,NNP,*,T,구글,*,*,*,*,*\\n',\n",
       " '모바일서비스팀,,,,NNP,*,F,모바일서비스팀,*,*,*,*,*']"
      ]
     },
     "execution_count": 9,
     "metadata": {},
     "output_type": "execute_result"
    }
   ],
   "source": [
    "# 미리 만들어둔 사용자 사전 nnp파일 read\n",
    "with open(WORK_DIR+\"/nnp.csv\", 'r', encoding='utf-8') as f:\n",
    "  file_new = f.readlines()\n",
    "file_new"
   ]
  },
  {
   "cell_type": "code",
   "execution_count": null,
   "metadata": {},
   "outputs": [],
   "source": []
  },
  {
   "cell_type": "code",
   "execution_count": 72,
   "metadata": {},
   "outputs": [],
   "source": [
    "from konlpy.tag import Mecab\n",
    "mecab = Mecab()"
   ]
  },
  {
   "cell_type": "code",
   "execution_count": 33,
   "metadata": {},
   "outputs": [
    {
     "data": {
      "text/plain": [
       "['살아남', '는다는', '것', '에', '대하', '여']"
      ]
     },
     "execution_count": 33,
     "metadata": {},
     "output_type": "execute_result"
    }
   ],
   "source": [
    "mecab.morphs(\"살아남는다는 것에 대하여\")"
   ]
  },
  {
   "cell_type": "code",
   "execution_count": 40,
   "metadata": {},
   "outputs": [
    {
     "data": {
      "text/plain": [
       "['양', '주옥', '정신', '도시', '3', '차', '노', '블랜드', '에듀', '포레']"
      ]
     },
     "execution_count": 40,
     "metadata": {},
     "output_type": "execute_result"
    }
   ],
   "source": [
    "mecab.morphs(\"양주옥정신도시 3차 노블랜드 에듀포레\")"
   ]
  },
  {
   "cell_type": "code",
   "execution_count": 54,
   "metadata": {},
   "outputs": [
    {
     "data": {
      "text/plain": [
       "45208"
      ]
     },
     "execution_count": 54,
     "metadata": {},
     "output_type": "execute_result"
    }
   ],
   "source": [
    "ord(\"나\")"
   ]
  },
  {
   "cell_type": "markdown",
   "metadata": {},
   "source": [
    "## Sample - 계급 추가"
   ]
  },
  {
   "cell_type": "code",
   "execution_count": 57,
   "metadata": {},
   "outputs": [
    {
     "data": {
      "text/plain": [
       "True"
      ]
     },
     "execution_count": 57,
     "metadata": {},
     "output_type": "execute_result"
    }
   ],
   "source": [
    "def is_hangul(word):\n",
    "    for w in word:\n",
    "        if (44032 <= ord(w) and ord(w) <= 55203) or w == ' ' or (ord(w) >= 48 and ord(w) <= 57) or (ord(w) >= 65 and ord(w) <= 122):\n",
    "            pass\n",
    "        else:\n",
    "            return False\n",
    "    \n",
    "    return True\n",
    "\n",
    "def has_coda(word):\n",
    "    return (ord(word[-1])-44032) %28 == 0\n",
    "\n",
    "# 종성유무 반환 함수\n",
    "has_coda('대령')\n",
    "is_hangul('메 롱')\n",
    "is_hangul('메 롱3')"
   ]
  },
  {
   "cell_type": "code",
   "execution_count": 58,
   "metadata": {},
   "outputs": [
    {
     "data": {
      "text/html": [
       "<div>\n",
       "<style scoped>\n",
       "    .dataframe tbody tr th:only-of-type {\n",
       "        vertical-align: middle;\n",
       "    }\n",
       "\n",
       "    .dataframe tbody tr th {\n",
       "        vertical-align: top;\n",
       "    }\n",
       "\n",
       "    .dataframe thead th {\n",
       "        text-align: right;\n",
       "    }\n",
       "</style>\n",
       "<table border=\"1\" class=\"dataframe\">\n",
       "  <thead>\n",
       "    <tr style=\"text-align: right;\">\n",
       "      <th></th>\n",
       "      <th>0</th>\n",
       "    </tr>\n",
       "  </thead>\n",
       "  <tbody>\n",
       "    <tr>\n",
       "      <th>0</th>\n",
       "      <td>소장</td>\n",
       "    </tr>\n",
       "    <tr>\n",
       "      <th>1</th>\n",
       "      <td>준장</td>\n",
       "    </tr>\n",
       "    <tr>\n",
       "      <th>2</th>\n",
       "      <td>대령</td>\n",
       "    </tr>\n",
       "    <tr>\n",
       "      <th>3</th>\n",
       "      <td>중령</td>\n",
       "    </tr>\n",
       "    <tr>\n",
       "      <th>4</th>\n",
       "      <td>소령</td>\n",
       "    </tr>\n",
       "    <tr>\n",
       "      <th>5</th>\n",
       "      <td>대위</td>\n",
       "    </tr>\n",
       "    <tr>\n",
       "      <th>6</th>\n",
       "      <td>중위</td>\n",
       "    </tr>\n",
       "    <tr>\n",
       "      <th>7</th>\n",
       "      <td>소위</td>\n",
       "    </tr>\n",
       "    <tr>\n",
       "      <th>8</th>\n",
       "      <td>준위</td>\n",
       "    </tr>\n",
       "    <tr>\n",
       "      <th>9</th>\n",
       "      <td>원사</td>\n",
       "    </tr>\n",
       "    <tr>\n",
       "      <th>10</th>\n",
       "      <td>상사</td>\n",
       "    </tr>\n",
       "    <tr>\n",
       "      <th>11</th>\n",
       "      <td>중사</td>\n",
       "    </tr>\n",
       "    <tr>\n",
       "      <th>12</th>\n",
       "      <td>하사</td>\n",
       "    </tr>\n",
       "    <tr>\n",
       "      <th>13</th>\n",
       "      <td>병장</td>\n",
       "    </tr>\n",
       "    <tr>\n",
       "      <th>14</th>\n",
       "      <td>상병</td>\n",
       "    </tr>\n",
       "    <tr>\n",
       "      <th>15</th>\n",
       "      <td>일병</td>\n",
       "    </tr>\n",
       "    <tr>\n",
       "      <th>16</th>\n",
       "      <td>이병</td>\n",
       "    </tr>\n",
       "  </tbody>\n",
       "</table>\n",
       "</div>"
      ],
      "text/plain": [
       "     0\n",
       "0   소장\n",
       "1   준장\n",
       "2   대령\n",
       "3   중령\n",
       "4   소령\n",
       "5   대위\n",
       "6   중위\n",
       "7   소위\n",
       "8   준위\n",
       "9   원사\n",
       "10  상사\n",
       "11  중사\n",
       "12  하사\n",
       "13  병장\n",
       "14  상병\n",
       "15  일병\n",
       "16  이병"
      ]
     },
     "execution_count": 58,
     "metadata": {},
     "output_type": "execute_result"
    }
   ],
   "source": [
    "sample_df = pd.read_csv(WORK_DIR+'/tmp/계급.csv')\n",
    "sample_df"
   ]
  },
  {
   "cell_type": "code",
   "execution_count": 15,
   "metadata": {},
   "outputs": [
    {
     "name": "stdout",
     "output_type": "stream",
     "text": [
      "소장,,,,NNP,*,T,소장,*,*,*,*\n",
      "준장,,,,NNP,*,T,준장,*,*,*,*\n",
      "대령,,,,NNP,*,T,대령,*,*,*,*\n",
      "중령,,,,NNP,*,T,중령,*,*,*,*\n",
      "소령,,,,NNP,*,T,소령,*,*,*,*\n",
      "대위,,,,NNP,*,F,대위,*,*,*,*\n",
      "중위,,,,NNP,*,F,중위,*,*,*,*\n",
      "소위,,,,NNP,*,F,소위,*,*,*,*\n",
      "준위,,,,NNP,*,F,준위,*,*,*,*\n",
      "원사,,,,NNP,*,F,원사,*,*,*,*\n",
      "상사,,,,NNP,*,F,상사,*,*,*,*\n",
      "중사,,,,NNP,*,F,중사,*,*,*,*\n",
      "하사,,,,NNP,*,F,하사,*,*,*,*\n",
      "병장,,,,NNP,*,T,병장,*,*,*,*\n",
      "상병,,,,NNP,*,T,상병,*,*,*,*\n",
      "일병,,,,NNP,*,T,일병,*,*,*,*\n",
      "이병,,,,NNP,*,T,이병,*,*,*,*\n"
     ]
    }
   ],
   "source": [
    "with open(WORK_DIR+\"/nnp.csv\", 'w', encoding='utf-8') as f:\n",
    "    for w in sample_df['0']:\n",
    "        coda = 'F' if has_coda(w) else 'T'\n",
    "        line = f'{w},,,,NNP,*,{coda},{w},*,*,*,*\\n'\n",
    "        f.write(line)\n",
    "\n",
    "%cat nnp.csv"
   ]
  },
  {
   "cell_type": "code",
   "execution_count": null,
   "metadata": {},
   "outputs": [],
   "source": []
  },
  {
   "cell_type": "markdown",
   "metadata": {},
   "source": [
    "## nnp 단어추가"
   ]
  },
  {
   "cell_type": "code",
   "execution_count": 59,
   "metadata": {},
   "outputs": [
    {
     "name": "stdout",
     "output_type": "stream",
     "text": [
      "[저자_cp949] # of data : 68047 ===================>\n",
      "[군구분] # of data : 4 ===================>\n",
      "[지역] # of data : 284 ===================>\n",
      "[시설] # of data : 188 ===================>\n",
      "[주택] # of data : 2093 ===================>\n",
      "[부대번호] # of data : 169 ===================>\n",
      "[부대] # of data : 18071 ===================>\n",
      "[도서명_cp949] # of data : 118643 ===================>\n",
      "[직급] # of data : 23 ===================>\n",
      "[계급] # of data : 17 ===================>\n",
      "[식단] # of data : 18 ===================>\n"
     ]
    }
   ],
   "source": [
    "with open(WORK_DIR+\"/nnp.csv\", 'w', encoding='utf-8') as f:\n",
    "    for dirname, _, filenames in os.walk(WORK_DIR+'/tmp'):\n",
    "        for filename in filenames:\n",
    "            filepath = os.path.join(dirname, filename)\n",
    "            sample_df = pd.read_csv(filepath)\n",
    "            \n",
    "            fnm = filename.split(\".\")[0]\n",
    "            print(f'[{fnm}] # of data : {len(sample_df.index)} ===================>')\n",
    "            tag = 'NNP'\n",
    "            nm = '*'\n",
    "            \n",
    "            if fnm=='저자':\n",
    "                nm = '인명'\n",
    "            elif fnm=='지역':\n",
    "                nm = '지명'\n",
    "            \n",
    "            for w in sample_df['0']:\n",
    "                try:\n",
    "                    if is_hangul(w) == True:\n",
    "                        coda = 'F' if has_coda(w) else 'T'\n",
    "                        line = f'{w},,,,NNP,{nm},{coda},{w},*,*,*,*,*\\n'\n",
    "                        f.write(line)  \n",
    "                except:\n",
    "                    continue"
   ]
  },
  {
   "cell_type": "code",
   "execution_count": null,
   "metadata": {},
   "outputs": [],
   "source": []
  },
  {
   "cell_type": "code",
   "execution_count": null,
   "metadata": {},
   "outputs": [],
   "source": []
  },
  {
   "cell_type": "markdown",
   "metadata": {},
   "source": [
    "## 우선순위 단어 조정\n",
    "#### 사전추가 전 테스트"
   ]
  },
  {
   "cell_type": "code",
   "execution_count": 10,
   "metadata": {},
   "outputs": [],
   "source": [
    "tests = pd.read_csv(\"/root/2022_chatbot/rest-server/tests/assets/x_test.csv\")"
   ]
  },
  {
   "cell_type": "code",
   "execution_count": 14,
   "metadata": {},
   "outputs": [
    {
     "name": "stdout",
     "output_type": "stream",
     "text": [
      "자기 전에 통화하면 썸이야? => ['자기', '전', '에', '통화', '하', '면', '썸', '이', '야', '?']\n",
      "가평군부근 군 관사 있을까? => ['가평군', '부근', '군', '관사', '있', '을까', '?']\n",
      "상사 7호봉 연봉 어느정도임 => ['상사', '7', '호봉', '연봉', '어느', '정도', '임']\n",
      "하사 33호봉 봉급 궁금함 => ['하사', '33', '호봉', '봉급', '궁금', '함']\n",
      "서비스센터 가야하게 생겼네 => ['서비스', '센터', '가', '야하', '게', '생겼', '네']\n",
      "가격 쓰여져 있는 전단지 같은거 있으면 주시겠어요? => ['가격', '쓰여져', '있', '는', '전단지', '같', '은', '거', '있', '으면', '주', '시', '겠', '어요', '?']\n",
      "사랑하는데 꼭 결혼해야할지는 모르겠어요 => ['사랑', '하', '는데', '꼭', '결혼', '해야', '할지', '는', '모르', '겠', '어요']\n",
      "담배끊었었는데 담배 피고 싶다 => ['담배', '끊', '었었', '는데', '담배', '피', '고', '싶', '다']\n",
      "자취방 있나요? => ['자취방', '있', '나요', '?']\n",
      "로스먼, 요한나 이 쓴 간행물 있을까 => ['로스먼', ',', '요한나', '이', '쓴', '간행물', '있', '을까']\n",
      "Clancy,Tom 이 저자인 도서 정기간행물이름 => ['Clancy', ',', 'Tom', '이', '저자', '인', '도서', '정기', '간행물', '이름']\n",
      "장학금 가능할까? => ['장학금', '가능', '할까', '?']\n",
      "백산주택에 대해 알고싶어 => ['백산', '주택', '에', '대해', '알', '고', '싶', '어']\n",
      "카드로 계산해도 괜찮나요? => ['카드', '로', '계산', '해도', '괜찮', '나요', '?']\n",
      "군대 기다릴 수 있을까 => ['군대', '기다릴', '수', '있', '을까']\n",
      "오송지역 복지정보 있을까? => ['오송', '지역', '복지', '정보', '있', '을까', '?']\n",
      "처음에는 별로 였는데 호감 간다 => ['처음', '에', '는', '별로', '였', '는데', '호감', '간다']\n",
      "야이 겁나게 미운 여자야!! => ['야이', '겁나게', '미운', '여자', '야', '!', '!']\n",
      "젊은 사람들 입는 건 어떤게 잘 나가요? => ['젊', '은', '사람', '들', '입', '는', '건', '어떤', '게', '잘', '나가', '요', '?']\n",
      "경산아이파크에 대해 말해줘 => ['경산', '아이파크', '에', '대해', '말', '해', '줘']\n",
      "대전광역시지역 놀만한 곳 알려줘 => ['대전광역시', '지역', '놀', '만', '한', '곳', '알려줘']\n",
      "나 무시하는 사람 어떻게 해? => ['나', '무시', '하', '는', '사람', '어떻게', '해', '?']\n",
      "제5861 부대 점심식단 => ['제', '5861', '부대', '점심', '식단']\n",
      "앞으로 5년, 빚 없는 사람만이 살아남는다 도서명 있어 => ['앞', '으로', '5', '년', ',', '빚', '없', '는', '사람', '만', '이', '살아남', '는다', '도', '서명', '있', '어']\n",
      "정기간행물명 이중섭 평전 => ['정기', '간행', '물명', '이중섭', '평전']\n",
      "병장 1975년도에 수입 얼마 정도 => ['병장', '1975', '년', '도', '에', '수입', '얼마', '정도']\n",
      "제 8623 부대 점심 메뉴 => ['제', '8623', '부대', '점심', '메뉴']\n",
      "제7369부대 점심 반찬 => ['제', '7369', '부대', '점심', '반찬']\n",
      "제2621부대 저녁식단 => ['제', '2621', '부대', '저녁', '식단']\n",
      "제 6335부대 저녁 메뉴 말해줘 => ['제', '6335', '부대', '저녁', '메뉴', '말', '해', '줘']\n",
      "창원쪽에 갈만한 곳 있음? => ['창원', '쪽', '에', '갈', '만', '한', '곳', '있', '음', '?']\n",
      "하사 월급 얼마나 => ['하사', '월급', '얼마나']\n",
      "통신전자 용어해설집 간행물이름 => ['통신', '전자', '용어', '해설집', '간행물', '이름']\n",
      "내일 만나자고 해볼까? => ['내일', '만나', '자고', '해', '볼까', '?']\n",
      "제7296부대 저녁 식단 => ['제', '7296', '부대', '저녁', '식단']\n",
      "포레나 양평에 대해 말해줘 => ['포레', '나', '양평', '에', '대해', '말', '해', '줘']\n",
      "택배가 안 와 => ['택배', '가', '안', '와']\n",
      "썸이 너무 길어 => ['썸', '이', '너무', '길', '어']\n",
      "제 5861 부대 저녁 메뉴 알고 싶어 => ['제', '5861', '부대', '저녁', '메뉴', '알', '고', '싶', '어']\n",
      "달성아파트 마동에 대해 말해줘 => ['달성', '아파트', '마동', '에', '대해', '말', '해', '줘']\n",
      "덕계 범양마더빌 매입아파트에 대해 알려줘 => ['덕계', '범양', '마더', '빌', '매입', '아파트', '에', '대해', '알려줘']\n",
      "중위 급여 얼마정도 => ['중위', '급여', '얼마', '정도']\n",
      "그럼 많이 달겠네요? => ['그럼', '많이', '달', '겠', '네요', '?']\n",
      "제3296부대 아침 메뉴 => ['제', '3296', '부대', '아침', '메뉴']\n",
      "제3296부대 점심반찬 뭘까 => ['제', '3296', '부대', '점심', '반찬', '뭘까']\n",
      "한국군의 유엔 상비체제(UNSAS)참여 방안에 관한 연구 도서검색 => ['한국군', '의', '유엔', '상비', '체제', '(', 'UNSAS', ')', '참여', '방', '안', '에', '관한', '연구', '도', '서검', '색']\n",
      "3182부대 아침 식단 => ['3182', '부대', '아침', '식단']\n",
      "총 몇 분이 오시는 건가요? => ['총', '몇', '분', '이', '오', '시', '는', '건가요', '?']\n",
      "마린빌 1차에 대해 궁금해 => ['마린', '빌', '1', '차', '에', '대해', '궁금', '해']\n",
      "보통 얼마나 가나요? => ['보통', '얼마나', '가', '나요', '?']\n",
      "포기하니 공허하네. => ['포기', '하', '니', '공허', '하', '네', '.']\n",
      "3박4일 놀러가고 싶다 => ['3', '박', '4', '일', '놀', '러', '가', '고', '싶', '다']\n",
      "오송부근 숙소 있음? => ['오송', '부근', '숙소', '있', '음', '?']\n",
      "글쓴이가 조규창 도서 이름 => ['글쓴이', '가', '조규창', '도서', '이름']\n",
      "병장 봉급이 말해줘 => ['병장', '봉급', '이', '말', '해', '줘']\n",
      "린 마굴리스 꺼 간행물 => ['린', '마굴리스', '꺼', '간행물']\n",
      "무궁화아파트에 대해 궁금해 => ['무궁화', '아파트', '에', '대해', '궁금', '해']\n",
      "김천구미지역 잘데 알려줘 => ['김천', '구미', '지역', '잘', '데', '알려줘']\n",
      "소위 수입이 얼마 정도 => ['소위', '수입', '이', '얼마', '정도']\n",
      "원통아르미소아파트에 대해 말해줘 => ['원통', '아르', '미소', '아파트', '에', '대해', '말', '해', '줘']\n",
      "광명쪽에 갈만한 곳 있긴해? => ['광명', '쪽', '에', '갈', '만', '한', '곳', '있', '긴', '해', '?']\n",
      "제6335 부대 점심 식단 => ['제', '6335', '부대', '점심', '식단']\n",
      "울릉군주변 관사 뭐가 있어? => ['울릉군', '주변', '관사', '뭐', '가', '있', '어', '?']\n",
      "제9030 부대 아침반찬 말해줘 => ['제', '9030', '부대', '아침', '반찬', '말', '해', '줘']\n",
      "썸 타긴 하는데 어색한 사이야. 톡 어떻게 계속 이어가? => ['썸', '타', '긴', '하', '는데', '어색', '한', '사이', '야', '.', '톡', '어떻게', '계속', '이', '어', '가', '?']\n",
      "수능 잘 보는 방법 => ['수능', '잘', '보', '는', '방법']\n",
      "6282 부대 아침메뉴 => ['6282', '부대', '아침', '메뉴']\n",
      "포항쪽에 할인되는 곳 궁금해 => ['포항', '쪽', '에', '할인', '되', '는', '곳', '궁금', '해']\n",
      "준위 9호봉 월급이 알려줘 => ['준위', '9', '호봉', '월급', '이', '알려줘']\n",
      "우산 없는데 같이 쓰자고 할까 너무 진부한가 => ['우산', '없', '는데', '같이', '쓰', '자고', '할까', '너무', '진부', '한가']\n",
      "제3007 부대 아침 메뉴 뭐지 => ['제', '3007', '부대', '아침', '메뉴', '뭐', '지']\n",
      "대령 10호봉 월급 알고싶어 => ['대령', '10', '호봉', '월급', '알', '고', '싶', '어']\n",
      "계속 엇갈리는 느낌 => ['계속', '엇갈리', '는', '느낌']\n",
      "주공 5차 아파트에 대해 알고싶어 => ['주공', '5', '차', '아파트', '에', '대해', '알', '고', '싶', '어']\n",
      "처음 배우는건가요 아니면 좀 했었었나요? => ['처음', '배우', '는', '건가요', '아니', '면', '좀', '했었었', '나요', '?']\n",
      "미대 가는데 비용이 많이 들어요? => ['미대', '가', '는데', '비용', '이', '많이', '들', '어요', '?']\n",
      "강화군근방 공군 주택 있어? => ['강화군', '근방', '공군', '주택', '있', '어', '?']\n",
      "괜찮을줄 알았는데 => ['괜찮', '을', '줄', '알', '았', '는데']\n",
      "면도하기 귀찮 => ['면도', '하', '기', '귀찮']\n",
      "제7162 부대 저녁 메뉴 => ['제', '7162', '부대', '저녁', '메뉴']\n",
      "제3007부대 아침메뉴 => ['제', '3007', '부대', '아침', '메뉴']\n",
      "창원중앙주변 숙소 궁금함 => ['창원', '중앙', '주변', '숙소', '궁금', '함']\n",
      "충청북도부근 시설 뭐가 있어? => ['충청북도', '부근', '시설', '뭐', '가', '있', '어', '?']\n",
      "창원근처 놀만한 곳 알고싶어 => ['창', '원근처', '놀', '만', '한', '곳', '알', '고', '싶', '어']\n",
      "헤어진지 6일째 => ['헤어진지', '6', '일', '째']\n",
      "상처 받기 싫다 => ['상처', '받', '기', '싫', '다']\n",
      "경상주변 군 관사 있을까? => ['경상', '주변', '군', '관사', '있', '을까', '?']\n",
      "2171 부대 점심반찬 뭐지 => ['2171', '부대', '점심', '반찬', '뭐', '지']\n",
      "여기 화장실은 없나요? => ['여기', '화장실', '은', '없', '나요', '?']\n",
      "우산 또 안가지고 왔다 => ['우산', '또', '안', '가지', '고', '왔', '다']\n",
      "배송 중이래 => ['배송', '중', '이', '래']\n",
      "구리시지역 청약 있긴해? => ['구리시', '지역', '청약', '있', '긴', '해', '?']\n",
      "더샵 거제디클리브에 대해 궁금함 => ['더샵', '거제', '디', '클리브', '에', '대해', '궁금', '함']\n",
      "부강근방 복지정보 뭐가 있어? => ['부강', '근방', '복지', '정보', '뭐', '가', '있', '어', '?']\n",
      "동서울근방 복지시설 있음? => ['동서', '울근', '방', '복지', '시설', '있', '음', '?']\n",
      "선물 포장 가능한가요? => ['선물', '포장', '가능', '한가요', '?']\n",
      "충주지웰아파트에 대해 말해줘 => ['충주', '지', '웰', '아파트', '에', '대해', '말', '해', '줘']\n",
      "수원 센트럴 아이파크 자이에 대해 알고싶어 => ['수원', '센트럴', '아이파크', '자이', '에', '대해', '알', '고', '싶', '어']\n",
      "갈비 재우려고 하는데 사과를 넣나요, 배를 넣나요? => ['갈비', '재우', '려고', '하', '는데', '사과', '를', '넣', '나요', ',', '배', '를', '넣', '나요', '?']\n",
      "원주부근 잘데 있을까? => ['원주', '부근', '잘', '데', '있', '을까', '?']\n"
     ]
    }
   ],
   "source": [
    "from konlpy.tag import Mecab\n",
    "mecab = Mecab()\n",
    "\n",
    "# for i in range(len(tests)):\n",
    "for i in range(100,200):\n",
    "    ctx = tests['question'][i]\n",
    "    print(f\"{ctx} => {mecab.morphs(ctx)}\")"
   ]
  },
  {
   "cell_type": "code",
   "execution_count": null,
   "metadata": {},
   "outputs": [],
   "source": []
  },
  {
   "cell_type": "markdown",
   "metadata": {},
   "source": [
    "#### nnp => user-nnp 변환"
   ]
  },
  {
   "cell_type": "code",
   "execution_count": 22,
   "metadata": {},
   "outputs": [
    {
     "name": "stdout",
     "output_type": "stream",
     "text": [
      "/root/2022_chatbot/mecab-ko-dic-2.1.1-20180720\n"
     ]
    }
   ],
   "source": [
    "%cd $MECAB_DIR"
   ]
  },
  {
   "cell_type": "code",
   "execution_count": 35,
   "metadata": {},
   "outputs": [],
   "source": [
    "with open(\"user-person.csv\", 'r', encoding='utf-8') as f:\n",
    "    userdic = f.readlines()"
   ]
  },
  {
   "cell_type": "code",
   "execution_count": 36,
   "metadata": {},
   "outputs": [
    {
     "data": {
      "text/plain": [
       "['Academy of Management,1786,3546,2953,NNP,*,T,Academy of Management,*,*,*,*,*\\n',\n",
       " 'Sage Publications,1786,3546,2953,NNP,*,T,Sage Publications,*,*,*,*,*\\n',\n",
       " 'Air Force Research Institute,1786,3546,2953,NNP,*,T,Air Force Research Institute,*,*,*,*,*\\n',\n",
       " 'Key Publishing Ltd,1786,3545,2953,NNP,*,F,Key Publishing Ltd,*,*,*,*,*\\n',\n",
       " 'American Economic Association,1786,3546,2953,NNP,*,T,American Economic Association,*,*,*,*,*\\n',\n",
       " 'Cambridge University Press,1786,3546,2953,NNP,*,T,Cambridge University Press,*,*,*,*,*\\n',\n",
       " 'University of Chicago Press,1786,3546,2953,NNP,*,T,University of Chicago Press,*,*,*,*,*\\n',\n",
       " 'University of California Press,1786,3546,2953,NNP,*,T,University of California Press,*,*,*,*,*\\n',\n",
       " 'Comparative Politics,1786,3546,2953,NNP,*,T,Comparative Politics,*,*,*,*,*\\n',\n",
       " 'Current History,1786,3546,2953,NNP,*,T,Current History,*,*,*,*,*\\n']"
      ]
     },
     "execution_count": 36,
     "metadata": {},
     "output_type": "execute_result"
    }
   ],
   "source": [
    "userdic[:10]"
   ]
  },
  {
   "cell_type": "code",
   "execution_count": 37,
   "metadata": {},
   "outputs": [],
   "source": [
    "sample_line = userdic[0]\n",
    "arr = sample_line.split(',')"
   ]
  },
  {
   "cell_type": "code",
   "execution_count": 38,
   "metadata": {},
   "outputs": [
    {
     "data": {
      "text/plain": [
       "'Academy of Management,1786,3546,0,NNP,*,T,Academy of Management,*,*,*,*,*\\n'"
      ]
     },
     "execution_count": 38,
     "metadata": {},
     "output_type": "execute_result"
    }
   ],
   "source": [
    "arr[3] = '0'\n",
    "ret = ','.join(arr)\n",
    "ret"
   ]
  },
  {
   "cell_type": "code",
   "execution_count": 39,
   "metadata": {},
   "outputs": [],
   "source": [
    "with open(\"user-person.csv\", 'w', encoding='utf-8') as f:\n",
    "    for line in userdic:\n",
    "        arr = line.split(',')    \n",
    "        arr[3] = '0'\n",
    "        f.write(','.join(arr))"
   ]
  },
  {
   "cell_type": "code",
   "execution_count": 40,
   "metadata": {},
   "outputs": [
    {
     "data": {
      "text/plain": [
       "['Academy of Management,1786,3546,0,NNP,*,T,Academy of Management,*,*,*,*,*\\n',\n",
       " 'Sage Publications,1786,3546,0,NNP,*,T,Sage Publications,*,*,*,*,*\\n',\n",
       " 'Air Force Research Institute,1786,3546,0,NNP,*,T,Air Force Research Institute,*,*,*,*,*\\n',\n",
       " 'Key Publishing Ltd,1786,3545,0,NNP,*,F,Key Publishing Ltd,*,*,*,*,*\\n',\n",
       " 'American Economic Association,1786,3546,0,NNP,*,T,American Economic Association,*,*,*,*,*\\n',\n",
       " 'Cambridge University Press,1786,3546,0,NNP,*,T,Cambridge University Press,*,*,*,*,*\\n',\n",
       " 'University of Chicago Press,1786,3546,0,NNP,*,T,University of Chicago Press,*,*,*,*,*\\n',\n",
       " 'University of California Press,1786,3546,0,NNP,*,T,University of California Press,*,*,*,*,*\\n',\n",
       " 'Comparative Politics,1786,3546,0,NNP,*,T,Comparative Politics,*,*,*,*,*\\n',\n",
       " 'Current History,1786,3546,0,NNP,*,T,Current History,*,*,*,*,*\\n']"
      ]
     },
     "execution_count": 40,
     "metadata": {},
     "output_type": "execute_result"
    }
   ],
   "source": [
    "with open(\"user-person.csv\", 'r', encoding='utf-8') as f:\n",
    "    userdic2 = f.readlines()\n",
    "userdic2[:10]"
   ]
  },
  {
   "cell_type": "code",
   "execution_count": null,
   "metadata": {},
   "outputs": [],
   "source": []
  },
  {
   "cell_type": "code",
   "execution_count": null,
   "metadata": {},
   "outputs": [],
   "source": []
  },
  {
   "cell_type": "markdown",
   "metadata": {},
   "source": [
    "#### 사용자 사전 추가 후"
   ]
  },
  {
   "cell_type": "code",
   "execution_count": 42,
   "metadata": {},
   "outputs": [
    {
     "name": "stdout",
     "output_type": "stream",
     "text": [
      "자기 전에 통화하면 썸이야? => ['자기', '전', '에', '통화', '하', '면', '썸', '이', '야', '?']\n",
      "가평군부근 군 관사 있을까? => ['가평군', '부근', '군', '관사', '있', '을까', '?']\n",
      "상사 7호봉 연봉 어느정도임 => ['상사', '7', '호봉', '연봉', '어느', '정도', '임']\n",
      "하사 33호봉 봉급 궁금함 => ['하사', '33', '호봉', '봉급', '궁금', '함']\n",
      "서비스센터 가야하게 생겼네 => ['서비스', '센터', '가', '야하', '게', '생겼', '네']\n",
      "가격 쓰여져 있는 전단지 같은거 있으면 주시겠어요? => ['가격', '쓰여져', '있', '는', '전단지', '같', '은', '거', '있', '으면', '주', '시', '겠', '어요', '?']\n",
      "사랑하는데 꼭 결혼해야할지는 모르겠어요 => ['사랑', '하', '는데', '꼭', '결혼', '해야', '할지', '는', '모르', '겠', '어요']\n",
      "담배끊었었는데 담배 피고 싶다 => ['담배', '끊', '었었', '는데', '담배', '피', '고', '싶', '다']\n",
      "자취방 있나요? => ['자취방', '있', '나요', '?']\n",
      "로스먼, 요한나 이 쓴 간행물 있을까 => ['로스먼', ',', '요한나', '이', '쓴', '간행물', '있', '을까']\n",
      "Clancy,Tom 이 저자인 도서 정기간행물이름 => ['Clancy', ',', 'Tom', '이', '저자', '인', '도서', '정기', '간행물', '이름']\n",
      "장학금 가능할까? => ['장학금', '가능', '할까', '?']\n",
      "백산주택에 대해 알고싶어 => ['백산주택', '에', '대해', '알', '고', '싶', '어']\n",
      "카드로 계산해도 괜찮나요? => ['카드', '로', '계산', '해도', '괜찮', '나요', '?']\n",
      "군대 기다릴 수 있을까 => ['군대', '기다릴', '수', '있', '을까']\n",
      "오송지역 복지정보 있을까? => ['오송', '지역', '복지', '정보', '있', '을까', '?']\n",
      "처음에는 별로 였는데 호감 간다 => ['처음', '에', '는', '별로', '였', '는데', '호감', '간다']\n",
      "야이 겁나게 미운 여자야!! => ['야이', '겁나게', '미운', '여자', '야', '!', '!']\n",
      "젊은 사람들 입는 건 어떤게 잘 나가요? => ['젊', '은', '사람', '들', '입', '는', '건', '어떤', '게', '잘', '나가', '요', '?']\n",
      "경산아이파크에 대해 말해줘 => ['경산아이파크', '에', '대해', '말', '해', '줘']\n",
      "대전광역시지역 놀만한 곳 알려줘 => ['대전광역시', '지역', '놀', '만', '한', '곳', '알려줘']\n",
      "나 무시하는 사람 어떻게 해? => ['나', '무시', '하', '는', '사람', '어떻게', '해', '?']\n",
      "제5861 부대 점심식단 => ['제5861 부대', '점심식단']\n",
      "앞으로 5년, 빚 없는 사람만이 살아남는다 도서명 있어 => ['앞', '으로', '5', '년', ',', '빚', '없', '는', '사람', '만', '이', '살아남', '는다', '도', '서명', '있', '어']\n",
      "정기간행물명 이중섭 평전 => ['정기', '간행', '물명', '이중섭', '평전']\n",
      "병장 1975년도에 수입 얼마 정도 => ['병장', '1975', '년', '도', '에', '수입', '얼마', '정도']\n",
      "제 8623 부대 점심 메뉴 => ['제 8623 부대', '점심 메뉴']\n",
      "제7369부대 점심 반찬 => ['제7369부대', '점심 반찬']\n",
      "제2621부대 저녁식단 => ['제2621부대', '저녁식단']\n",
      "제 6335부대 저녁 메뉴 말해줘 => ['제 6335부대', '저녁 메뉴', '말', '해', '줘']\n",
      "창원쪽에 갈만한 곳 있음? => ['창원', '쪽', '에', '갈', '만', '한', '곳', '있', '음', '?']\n",
      "하사 월급 얼마나 => ['하사', '월급', '얼마나']\n",
      "통신전자 용어해설집 간행물이름 => ['통신', '전자', '용어', '해설집', '간행물', '이름']\n",
      "내일 만나자고 해볼까? => ['내일', '만나', '자고', '해', '볼까', '?']\n",
      "제7296부대 저녁 식단 => ['제7296부대', '저녁 식단']\n",
      "포레나 양평에 대해 말해줘 => ['포레나 양평', '에', '대해', '말', '해', '줘']\n",
      "택배가 안 와 => ['택배', '가', '안', '와']\n",
      "썸이 너무 길어 => ['썸', '이', '너무', '길', '어']\n",
      "제 5861 부대 저녁 메뉴 알고 싶어 => ['제 5861 부대', '저녁 메뉴', '알', '고', '싶', '어']\n",
      "달성아파트 마동에 대해 말해줘 => ['달성아파트 마동', '에', '대해', '말', '해', '줘']\n",
      "덕계 범양마더빌 매입아파트에 대해 알려줘 => ['덕계 범양마더빌 매입아파트', '에', '대해', '알려줘']\n",
      "중위 급여 얼마정도 => ['중위', '급여', '얼마', '정도']\n",
      "그럼 많이 달겠네요? => ['그럼', '많이', '달', '겠', '네요', '?']\n",
      "제3296부대 아침 메뉴 => ['제3296부대', '아침 메뉴']\n",
      "제3296부대 점심반찬 뭘까 => ['제3296부대', '점심반찬', '뭘까']\n",
      "한국군의 유엔 상비체제(UNSAS)참여 방안에 관한 연구 도서검색 => ['한국군', '의', '유엔', '상비', '체제', '(', 'UN', 'SAS', ')', '참여', '방', '안', '에', '관한', '연구', '도서', '검색']\n",
      "3182부대 아침 식단 => ['3182부대', '아침 식단']\n",
      "총 몇 분이 오시는 건가요? => ['총', '몇', '분', '이', '오', '시', '는', '건가요', '?']\n",
      "마린빌 1차에 대해 궁금해 => ['마린빌 1차', '에', '대해', '궁금', '해']\n",
      "보통 얼마나 가나요? => ['보통', '얼마나', '가', '나요', '?']\n",
      "포기하니 공허하네. => ['포기', '하', '니', '공허', '하', '네', '.']\n",
      "3박4일 놀러가고 싶다 => ['3', '박', '4', '일', '놀', '러', '가', '고', '싶', '다']\n",
      "오송부근 숙소 있음? => ['오송', '부근', '숙소', '있', '음', '?']\n",
      "글쓴이가 조규창 도서 이름 => ['글쓴이', '가', '조규창', '도서', '이름']\n",
      "병장 봉급이 말해줘 => ['병장', '봉급', '이', '말', '해', '줘']\n",
      "린 마굴리스 꺼 간행물 => ['린 마굴리스', '꺼', '간행물']\n",
      "무궁화아파트에 대해 궁금해 => ['무궁화아파트', '에', '대해', '궁금', '해']\n",
      "김천구미지역 잘데 알려줘 => ['김천구미', '지역', '잘', '데', '알려줘']\n",
      "소위 수입이 얼마 정도 => ['소위', '수입', '이', '얼마', '정도']\n",
      "원통아르미소아파트에 대해 말해줘 => ['원통아르미소아파트', '에', '대해', '말', '해', '줘']\n",
      "광명쪽에 갈만한 곳 있긴해? => ['광명', '쪽', '에', '갈', '만', '한', '곳', '있', '긴', '해', '?']\n",
      "제6335 부대 점심 식단 => ['제6335 부대', '점심 식단']\n",
      "울릉군주변 관사 뭐가 있어? => ['울릉군', '주변', '관사', '뭐', '가', '있', '어', '?']\n",
      "제9030 부대 아침반찬 말해줘 => ['제9030 부대', '아침반찬', '말', '해', '줘']\n",
      "썸 타긴 하는데 어색한 사이야. 톡 어떻게 계속 이어가? => ['썸', '타', '긴', '하', '는데', '어색', '한', '사이', '야', '.', '톡', '어떻게', '계속', '이', '어', '가', '?']\n",
      "수능 잘 보는 방법 => ['수능', '잘', '보', '는', '방법']\n",
      "6282 부대 아침메뉴 => ['6282 부대', '아침메뉴']\n",
      "포항쪽에 할인되는 곳 궁금해 => ['포항', '쪽', '에', '할인', '되', '는', '곳', '궁금', '해']\n",
      "준위 9호봉 월급이 알려줘 => ['준위', '9', '호봉', '월급', '이', '알려줘']\n",
      "우산 없는데 같이 쓰자고 할까 너무 진부한가 => ['우산', '없', '는데', '같이', '쓰', '자고', '할까', '너무', '진부', '한가']\n",
      "제3007 부대 아침 메뉴 뭐지 => ['제3007 부대', '아침 메뉴', '뭐', '지']\n",
      "대령 10호봉 월급 알고싶어 => ['대령', '10', '호봉', '월급', '알', '고', '싶', '어']\n",
      "계속 엇갈리는 느낌 => ['계속', '엇갈리', '는', '느낌']\n",
      "주공 5차 아파트에 대해 알고싶어 => ['주공 5차 아파트', '에', '대해', '알', '고', '싶', '어']\n",
      "처음 배우는건가요 아니면 좀 했었었나요? => ['처음', '배우', '는', '건가요', '아니', '면', '좀', '했었었', '나요', '?']\n",
      "미대 가는데 비용이 많이 들어요? => ['미대', '가', '는데', '비용', '이', '많이', '들', '어요', '?']\n",
      "강화군근방 공군 주택 있어? => ['강화군', '근방', '공군', '주택', '있', '어', '?']\n",
      "괜찮을줄 알았는데 => ['괜찮', '을', '줄', '알', '았', '는데']\n",
      "면도하기 귀찮 => ['면도', '하', '기', '귀찮']\n",
      "제7162 부대 저녁 메뉴 => ['제7162 부대', '저녁 메뉴']\n",
      "제3007부대 아침메뉴 => ['제3007부대', '아침메뉴']\n",
      "창원중앙주변 숙소 궁금함 => ['창원중앙', '주변', '숙소', '궁금', '함']\n",
      "충청북도부근 시설 뭐가 있어? => ['충청북도', '부근', '시설', '뭐', '가', '있', '어', '?']\n",
      "창원근처 놀만한 곳 알고싶어 => ['창원', '근처', '놀', '만', '한', '곳', '알', '고', '싶', '어']\n",
      "헤어진지 6일째 => ['헤어진지', '6', '일', '째']\n",
      "상처 받기 싫다 => ['상처', '받', '기', '싫', '다']\n",
      "경상주변 군 관사 있을까? => ['경상', '주변', '군', '관사', '있', '을까', '?']\n",
      "2171 부대 점심반찬 뭐지 => ['2171 부대', '점심반찬', '뭐', '지']\n",
      "여기 화장실은 없나요? => ['여기', '화장실', '은', '없', '나요', '?']\n",
      "우산 또 안가지고 왔다 => ['우산', '또', '안', '가지', '고', '왔', '다']\n",
      "배송 중이래 => ['배송', '중', '이', '래']\n",
      "구리시지역 청약 있긴해? => ['구리시', '지역', '청약', '있', '긴', '해', '?']\n",
      "더샵 거제디클리브에 대해 궁금함 => ['더샵 거제디클리브', '에', '대해', '궁금', '함']\n",
      "부강근방 복지정보 뭐가 있어? => ['부강', '근방', '복지', '정보', '뭐', '가', '있', '어', '?']\n",
      "동서울근방 복지시설 있음? => ['동서울', '근방', '복지', '시설', '있', '음', '?']\n",
      "선물 포장 가능한가요? => ['선물', '포장', '가능', '한가요', '?']\n",
      "충주지웰아파트에 대해 말해줘 => ['충주지웰아파트', '에', '대해', '말', '해', '줘']\n",
      "수원 센트럴 아이파크 자이에 대해 알고싶어 => ['수원 센트럴 아이파크 자이', '에', '대해', '알', '고', '싶', '어']\n",
      "갈비 재우려고 하는데 사과를 넣나요, 배를 넣나요? => ['갈비', '재우', '려고', '하', '는데', '사과', '를', '넣', '나요', ',', '배', '를', '넣', '나요', '?']\n",
      "원주부근 잘데 있을까? => ['원주', '부근', '잘', '데', '있', '을까', '?']\n"
     ]
    }
   ],
   "source": [
    "from konlpy.tag import Mecab\n",
    "mecab = Mecab()\n",
    "\n",
    "# for i in range(len(tests)):\n",
    "for i in range(100,200):\n",
    "    ctx = tests['question'][i]\n",
    "    print(f\"{ctx} => {mecab.morphs(ctx)}\")"
   ]
  },
  {
   "cell_type": "code",
   "execution_count": null,
   "metadata": {},
   "outputs": [],
   "source": []
  }
 ],
 "metadata": {
  "kernelspec": {
   "display_name": "test_venv",
   "language": "python",
   "name": ".venv"
  },
  "language_info": {
   "codemirror_mode": {
    "name": "ipython",
    "version": 3
   },
   "file_extension": ".py",
   "mimetype": "text/x-python",
   "name": "python",
   "nbconvert_exporter": "python",
   "pygments_lexer": "ipython3",
   "version": "3.9.13"
  }
 },
 "nbformat": 4,
 "nbformat_minor": 4
}
