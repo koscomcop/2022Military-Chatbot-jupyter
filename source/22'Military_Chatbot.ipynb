{
 "cells": [
  {
   "cell_type": "markdown",
   "metadata": {
    "colab_type": "text",
    "id": "view-in-github"
   },
   "source": [
    "<a href=\"https://colab.research.google.com/github/katie0809/2022Military-Chatbot-jupyter/blob/main/source/22'Military_Chatbot.ipynb\" target=\"_parent\"><img src=\"https://colab.research.google.com/assets/colab-badge.svg\" alt=\"Open In Colab\"/></a>"
   ]
  },
  {
   "cell_type": "markdown",
   "metadata": {
    "id": "s83EElm03Q8J"
   },
   "source": [
    "# Version History\n",
    "\n",
    "|version|Score|Changes|Comment|\n",
    "|-|-|-|-|\n",
    "|1.0|-|Initial model| 22.07.13 |"
   ]
  },
  {
   "cell_type": "markdown",
   "metadata": {
    "id": "UNrZ25sF-pjX"
   },
   "source": [
    "## Environments"
   ]
  },
  {
   "cell_type": "code",
   "execution_count": 1,
   "metadata": {
    "colab": {
     "base_uri": "https://localhost:8080/"
    },
    "id": "ChqTImzBz4o1",
    "outputId": "b62c36ff-96c5-45d1-eb1c-1fd66980600d"
   },
   "outputs": [
    {
     "name": "stdout",
     "output_type": "stream",
     "text": [
      "Mounted at /content/drive\n"
     ]
    }
   ],
   "source": [
    "from google.colab import drive\n",
    "drive.mount('/content/drive')"
   ]
  },
  {
   "cell_type": "code",
   "execution_count": 1,
   "metadata": {
    "id": "Kh4CpLw54qAf"
   },
   "outputs": [],
   "source": [
    "##### SETTINGS FOR COLAB\n",
    "# API_URL_SAMPLE='https://openapi.mnd.go.kr/3232313634343937343732313632313430/xml/DS_MND_ENLSTMN_DCNT_BEF_INF/1/5/'\n",
    "# HOME_PATH='/content/drive/MyDrive'\n",
    "# WORK_DIR=HOME_PATH+'/Colab Notebooks'\n",
    "# FILES_DIR='/assets'\n",
    "# MODEL_DIR=WORK_DIR+'/models'\n",
    "\n",
    "##### SETTINGS FOR LOCAL\n",
    "API_URL_SAMPLE='https://openapi.mnd.go.kr/3232313634343937343732313632313430/xml/DS_MND_ENLSTMN_DCNT_BEF_INF/1/5/'\n",
    "HOME_PATH='E:\\\\Workspace\\\\Git'\n",
    "WORK_DIR=HOME_PATH+'/2022Military-Chatbot-jupyter'\n",
    "FILES_DIR='/assets'\n",
    "MODEL_DIR=WORK_DIR+'/models'"
   ]
  },
  {
   "cell_type": "code",
   "execution_count": 2,
   "metadata": {
    "colab": {
     "base_uri": "https://localhost:8080/"
    },
    "id": "lO2aUBgD_RTq",
    "outputId": "7913442e-13b7-4598-ca3b-f1a35b82f1a3"
   },
   "outputs": [
    {
     "name": "stdout",
     "output_type": "stream",
     "text": [
      "E:\\Workspace\\Git\\2022Military-Chatbot-jupyter\n"
     ]
    }
   ],
   "source": [
    "%cd $WORK_DIR"
   ]
  },
  {
   "cell_type": "code",
   "execution_count": 3,
   "metadata": {
    "colab": {
     "base_uri": "https://localhost:8080/"
    },
    "id": "LtkqGVPM_ScM",
    "outputId": "d611d181-4720-4f31-d6bb-c5714c90797e"
   },
   "outputs": [
    {
     "name": "stdout",
     "output_type": "stream",
     "text": [
      "Python 3.8.10\n"
     ]
    }
   ],
   "source": [
    "!python3 --version"
   ]
  },
  {
   "cell_type": "markdown",
   "metadata": {
    "id": "q7w4hKmc60x8"
   },
   "source": [
    "## Mecab 설치(Colab)\n",
    ":한국어 형태소분석기 "
   ]
  },
  {
   "cell_type": "code",
   "execution_count": 4,
   "metadata": {
    "colab": {
     "base_uri": "https://localhost:8080/"
    },
    "id": "9zNMbRZa67a7",
    "outputId": "9a2d492a-60d0-4b31-930c-e8f759fc795d"
   },
   "outputs": [
    {
     "name": "stderr",
     "output_type": "stream",
     "text": [
      "--2022-07-27 09:00:46--  https://www.dropbox.com/s/9xls0tgtf3edgns/mecab-0.996-ko-0.9.2.tar.gz?dl=1\n",
      "Resolving www.dropbox.com (www.dropbox.com)... 162.125.84.18, 2620:100:6034:18::a27d:5412\n",
      "Connecting to www.dropbox.com (www.dropbox.com)|162.125.84.18|:443... connected.\n",
      "Unable to establish SSL connection.\n",
      "--2022-07-27 09:01:02--  https://www.dropbox.com/s/i8girnk5p80076c/mecab-ko-dic-2.1.1-20180720.tar.gz?dl=1\n",
      "Resolving www.dropbox.com (www.dropbox.com)... 162.125.84.18, 2620:100:6034:18::a27d:5412\n",
      "Connecting to www.dropbox.com (www.dropbox.com)|162.125.84.18|:443... connected.\n",
      "Unable to establish SSL connection.\n",
      "Cloning into 'mecab-python-0.996'...\n",
      "fatal: unable to access 'https://bitbucket.org/eunjeon/mecab-python-0.996.git/': server certificate verification failed. CAfile: none CRLfile: none\n",
      "-bash: line 21: pip: command not found\n"
     ]
    }
   ],
   "source": [
    "!curl -s https://raw.githubusercontent.com/teddylee777/machine-learning/master/99-Misc/01-Colab/mecab-colab.sh | bash"
   ]
  },
  {
   "cell_type": "markdown",
   "metadata": {},
   "source": [
    "## Mecab 설치(Window 10)\n",
    "- pip install로 konlpy 설치 후 아래 링크 따라서 Mecab 설치\n",
    "- https://uwgdqo.tistory.com/363"
   ]
  },
  {
   "cell_type": "markdown",
   "metadata": {},
   "source": [
    "#### 동작 확인 "
   ]
  },
  {
   "cell_type": "code",
   "execution_count": 4,
   "metadata": {},
   "outputs": [],
   "source": [
    "# 정상 동작 확인\n",
    "from konlpy.tag import Okt, Mecab\n",
    "\n",
    "okt = Okt()\n",
    "# mecab = Mecab() # for Mecab installed in colab\n",
    "mecab = Mecab(dicpath=r\"C:/mecab/mecab-ko-dic\") # for Mecab installed in local PC"
   ]
  },
  {
   "cell_type": "code",
   "execution_count": 5,
   "metadata": {
    "colab": {
     "base_uri": "https://localhost:8080/"
    },
    "id": "0cJ-kDdl7R9V",
    "outputId": "724d8d32-3ad8-40ea-ac54-7e5bd03877b6"
   },
   "outputs": [
    {
     "data": {
      "text/plain": [
       "['한글',\n",
       " '형태소',\n",
       " '분석',\n",
       " '기',\n",
       " '(',\n",
       " '오',\n",
       " '케이티',\n",
       " ')',\n",
       " '로',\n",
       " '테스트',\n",
       " '를',\n",
       " '해보았습니다',\n",
       " '.',\n",
       " '정상',\n",
       " '설치',\n",
       " '및',\n",
       " '동작',\n",
       " '이',\n",
       " '잘',\n",
       " '됩니다',\n",
       " '.']"
      ]
     },
     "execution_count": 5,
     "metadata": {},
     "output_type": "execute_result"
    }
   ],
   "source": [
    "okt.morphs('한글 형태소 분석기(오케이티)로 테스트를 해보았습니다. 정상 설치 및 동작이 잘 됩니다.')"
   ]
  },
  {
   "cell_type": "code",
   "execution_count": 6,
   "metadata": {
    "colab": {
     "base_uri": "https://localhost:8080/"
    },
    "id": "tg8Jve807erk",
    "outputId": "af9b7509-b8b3-4237-d352-39b4f022f72a"
   },
   "outputs": [
    {
     "data": {
      "text/plain": [
       "['한글',\n",
       " '형태소',\n",
       " '분석기',\n",
       " '(',\n",
       " '미',\n",
       " '켑',\n",
       " ')',\n",
       " '로',\n",
       " '테스트',\n",
       " '를',\n",
       " '해',\n",
       " '보',\n",
       " '았',\n",
       " '습니다',\n",
       " '.',\n",
       " '정상',\n",
       " '설치',\n",
       " '및',\n",
       " '동작',\n",
       " '이',\n",
       " '잘',\n",
       " '됩니다',\n",
       " '.']"
      ]
     },
     "execution_count": 6,
     "metadata": {},
     "output_type": "execute_result"
    }
   ],
   "source": [
    "mecab.morphs('한글 형태소 분석기(미켑)로 테스트를 해보았습니다. 정상 설치 및 동작이 잘 됩니다.')"
   ]
  },
  {
   "cell_type": "code",
   "execution_count": null,
   "metadata": {
    "id": "-gIYcE3d7ed0"
   },
   "outputs": [],
   "source": []
  },
  {
   "cell_type": "markdown",
   "metadata": {
    "id": "PrNlJElX8Pll"
   },
   "source": [
    "### Mecab 사용자 사전 추가 \n",
    "- 예시 : '모바일서비스팀' 사용자 사전 추가 "
   ]
  },
  {
   "cell_type": "code",
   "execution_count": 13,
   "metadata": {
    "colab": {
     "base_uri": "https://localhost:8080/"
    },
    "id": "MLNaJes58dYi",
    "outputId": "753dbe9e-3e06-46a5-808b-d8636773b7f5"
   },
   "outputs": [
    {
     "data": {
      "text/plain": [
       "['코스콤', '모바일', '서비스', '팀', '은', '맨날', '야근', '한다', '.']"
      ]
     },
     "execution_count": 13,
     "metadata": {},
     "output_type": "execute_result"
    }
   ],
   "source": [
    "mecab.morphs('코스콤 모바일서비스팀은 맨날 야근한다.')"
   ]
  },
  {
   "cell_type": "code",
   "execution_count": 24,
   "metadata": {
    "colab": {
     "base_uri": "https://localhost:8080/"
    },
    "id": "tfiZl42b8dPd",
    "outputId": "a9a72e68-349a-4dc2-dd09-5c7cb6abb5f9"
   },
   "outputs": [
    {
     "name": "stdout",
     "output_type": "stream",
     "text": [
      "C:\\mecab\n"
     ]
    },
    {
     "name": "stderr",
     "output_type": "stream",
     "text": [
      "'ls'은(는) 내부 또는 외부 명령, 실행할 수 있는 프로그램, 또는\n",
      "배치 파일이 아닙니다.\n"
     ]
    }
   ],
   "source": [
    "# mecab-ko-dic이 다운되어있는 위치로 이동 \n",
    "\n",
    "##### COLAB\n",
    "# MECAB_DIR=\"/tmp/mecab-ko-dic-2.1.1-20180720/\"\n",
    "# %cd /tmp/mecab-ko-dic-2.1.1-20180720/\n",
    "\n",
    "#### LOCAL PC\n",
    "MECAB_DIR=\"C:\\mecab\"\n",
    "%cd $MECAB_DIR\n",
    "!ls"
   ]
  },
  {
   "cell_type": "code",
   "execution_count": 25,
   "metadata": {
    "colab": {
     "base_uri": "https://localhost:8080/"
    },
    "id": "2Ojn1IRM8dFE",
    "outputId": "3c9a6df8-a520-4f56-cbc4-c54cd3549c36"
   },
   "outputs": [
    {
     "data": {
      "text/plain": [
       "['대우,,,,NNP,*,F,대우,*,*,*,*,*\\n',\n",
       " '구글,,,,NNP,*,T,구글,*,*,*,*,*\\n',\n",
       " '모바일서비스팀,,,,NNP,*,F,모바일서비스팀,*,*,*,*,*']"
      ]
     },
     "execution_count": 25,
     "metadata": {},
     "output_type": "execute_result"
    }
   ],
   "source": [
    "# 미리 만들어둔 사용자 사전 nnp파일 read\n",
    "with open(WORK_DIR+\"/files/nnp.csv\", 'r', encoding='utf-8') as f:\n",
    "  file_new = f.readlines()\n",
    "file_new"
   ]
  },
  {
   "cell_type": "code",
   "execution_count": 30,
   "metadata": {
    "colab": {
     "base_uri": "https://localhost:8080/"
    },
    "id": "bDaNQD8wriHp",
    "outputId": "f88885d8-9bbe-4e7f-9df1-ffd70db53021"
   },
   "outputs": [
    {
     "name": "stderr",
     "output_type": "stream",
     "text": [
      "UsageError: Line magic function `%cat` not found.\n"
     ]
    }
   ],
   "source": [
    "# 기존 /user-dic/nnp.csv 파일에 내용 추가한다 \n",
    "with open(MECAB_DIR+\"/user-dic/nnp.csv\", 'w', encoding='utf-8') as f:\n",
    "  for line in file_new:\n",
    "    f.write(line)\n",
    "\n",
    "%cat ./user-dic/nnp.csv"
   ]
  },
  {
   "cell_type": "code",
   "execution_count": 32,
   "metadata": {
    "colab": {
     "base_uri": "https://localhost:8080/"
    },
    "id": "8U6K21Dqrh5u",
    "outputId": "fbebb772-d046-4d7e-d628-c1302f95035f"
   },
   "outputs": [
    {
     "name": "stderr",
     "output_type": "stream",
     "text": [
      "./tools/add-userdic-win.ps1: line 1: =: command not found\n",
      "./tools/add-userdic-win.ps1: line 26: unexpected EOF while looking for matching `\"'\n",
      "./tools/add-userdic-win.ps1: line 39: syntax error: unexpected end of file\n"
     ]
    }
   ],
   "source": [
    "# mecab의 tool 사용해 추가한 내용으로 다시 빌드\n",
    "# !bash ./tools/add-userdic.sh\n",
    "!bash ./tools/add-userdic-win.ps1"
   ]
  },
  {
   "cell_type": "code",
   "execution_count": 31,
   "metadata": {
    "colab": {
     "base_uri": "https://localhost:8080/"
    },
    "id": "43tQ9tGbrhnu",
    "outputId": "15157582-8e42-4d66-a2aa-aaa4978cdb70"
   },
   "outputs": [
    {
     "name": "stdout",
     "output_type": "stream",
     "text": [
      "make[1]: Entering directory '/tmp/mecab-ko-dic-2.1.1-20180720'\n",
      "make[1]: Nothing to be done for 'install-exec-am'.\n",
      " /bin/mkdir -p '/usr/local/lib/mecab/dic/mecab-ko-dic'\n",
      " /usr/bin/install -c -m 644 model.bin matrix.bin char.bin sys.dic unk.dic left-id.def right-id.def rewrite.def pos-id.def dicrc '/usr/local/lib/mecab/dic/mecab-ko-dic'\n",
      "make[1]: Leaving directory '/tmp/mecab-ko-dic-2.1.1-20180720'\n"
     ]
    }
   ],
   "source": [
    "# !make install\n",
    "!bash ./tools/compile-win.ps1"
   ]
  },
  {
   "cell_type": "code",
   "execution_count": 7,
   "metadata": {
    "colab": {
     "base_uri": "https://localhost:8080/"
    },
    "id": "NPNFhgrXs6bh",
    "outputId": "db8432b0-fc57-4066-8a5c-4f28f127c6df"
   },
   "outputs": [
    {
     "data": {
      "text/plain": [
       "['코스콤', '모바일서비스팀', '은', '맨날', '야근', '한다', '.']"
      ]
     },
     "execution_count": 7,
     "metadata": {},
     "output_type": "execute_result"
    }
   ],
   "source": [
    "# 사용자 사전은 적용됐지만 단어 분해시 우선순위가 낮아서 원하는 형태로 적용되지 않음 \n",
    "# /tmp/mecab-ko-dic-2.1.1-20180720/tools# ./mecab-bestn.sh \n",
    "# #표현층,품사,의미부류,좌문맥ID,우문맥ID,낱말비용,연접비용,누적비용\n",
    "# 모바일서비스팀 \n",
    "# 모바일서비스팀  NNP,,1786,3545,2953,-1885,1068\n",
    "# EOS\n",
    "# 모바일  NNP,,1786,3546,2953,-1885,1068\n",
    "# 서비스  NNG,,1780,3533,1916,281,3265\n",
    "# 팀      NNG,,1780,3534,2188,269,5722\n",
    "# EOS\n",
    "\n",
    "# !bash ./tools/mecab-bestn.sh\n",
    "mecab.morphs('코스콤 모바일서비스팀은 맨날 야근한다.')"
   ]
  },
  {
   "cell_type": "code",
   "execution_count": 33,
   "metadata": {
    "colab": {
     "base_uri": "https://localhost:8080/"
    },
    "id": "tKOUX8R8s50f",
    "outputId": "2fd98e0c-7438-4cf5-e961-ee518c84a4cc"
   },
   "outputs": [
    {
     "name": "stdout",
     "output_type": "stream",
     "text": [
      "대우,,,,NNP,*,F,대우,*,*,*,*,*\n",
      "\n",
      "구글,,,,NNP,*,T,구글,*,*,*,*,*\n",
      "\n",
      "모바일서비스팀,,,,NNP,*,F,모바일서비스팀,*,*,*,*,*\n"
     ]
    }
   ],
   "source": [
    "# 우선순위 조정(단어비용 낮추기) => https://mondayus.tistory.com/46\n",
    "!sudo make clean\n",
    "!sudo make install"
   ]
  },
  {
   "cell_type": "code",
   "execution_count": 8,
   "metadata": {
    "colab": {
     "base_uri": "https://localhost:8080/"
    },
    "id": "Ki5Yaapaw736",
    "outputId": "aa4f879a-f243-4f91-8639-2f55eed5c57a"
   },
   "outputs": [
    {
     "data": {
      "text/plain": [
       "['코스콤', '모바일서비스팀', '은', '맨날', '야근', '한다', '.']"
      ]
     },
     "execution_count": 8,
     "metadata": {},
     "output_type": "execute_result"
    }
   ],
   "source": [
    "# 결과확인 \n",
    "# 모바일서비스팀 \n",
    "# 모바일서비스팀  NNP,,1786,3545,0,-1885,-1885\n",
    "# EOS\n",
    "# 모바일  NNP,,1786,3546,2953,-1885,1068\n",
    "# 서비스  NNG,,1780,3533,1916,281,3265\n",
    "# 팀      NNG,,1780,3534,2188,269,5722\n",
    "# EOS\n",
    "mecab.morphs('코스콤 모바일서비스팀은 맨날 야근한다.')"
   ]
  },
  {
   "cell_type": "code",
   "execution_count": null,
   "metadata": {
    "id": "Gog4rkjbw7t7"
   },
   "outputs": [],
   "source": []
  },
  {
   "cell_type": "code",
   "execution_count": null,
   "metadata": {
    "id": "rvef7028w7jg"
   },
   "outputs": [],
   "source": []
  },
  {
   "cell_type": "markdown",
   "metadata": {
    "id": "TDRKEhjLIR9j"
   },
   "source": [
    "#### FastText\n",
    ": https://pypi.org/project/fasttext/"
   ]
  },
  {
   "cell_type": "code",
   "execution_count": null,
   "metadata": {
    "colab": {
     "base_uri": "https://localhost:8080/"
    },
    "id": "A9wEuosEIUp3",
    "outputId": "e9ce006c-3ade-4c3c-fd9c-d03115fb76cb"
   },
   "outputs": [
    {
     "name": "stdout",
     "output_type": "stream",
     "text": [
      "/content/drive/MyDrive/Colab Notebooks\n"
     ]
    }
   ],
   "source": [
    "# !git clone https://github.com/facebookresearch/fastText.git\n",
    "%cd $WORK_DIR\n",
    "# !wget https://files.pythonhosted.org/packages/a4/86/ff826211bc9e28d4c371668b30b4b2c38a09127e5e73017b1c0cd52f9dfa/fasttext-0.8.3.tar.gz\n",
    "# !tar -xvf fasttext-0.8.3.tar.gz"
   ]
  },
  {
   "cell_type": "code",
   "execution_count": null,
   "metadata": {
    "colab": {
     "base_uri": "https://localhost:8080/"
    },
    "id": "k6G2lEVeJPAT",
    "outputId": "028e4d79-9ed4-4b3b-9b8b-a32af15c6f34"
   },
   "outputs": [
    {
     "name": "stdout",
     "output_type": "stream",
     "text": [
      "/content/drive/MyDrive/Colab Notebooks/fasttext-0.8.3\n",
      "Looking in indexes: https://pypi.org/simple, https://us-python.pkg.dev/colab-wheels/public/simple/\n",
      "Processing /content/drive/MyDrive/Colab Notebooks/fasttext-0.8.3\n",
      "\u001b[33m  DEPRECATION: A future pip version will change local packages to be built in-place without first copying to a temporary directory. We recommend you use --use-feature=in-tree-build to test your packages with this new behavior before it becomes the default.\n",
      "   pip 21.3 will remove support for this functionality. You can find discussion regarding this at https://github.com/pypa/pip/issues/7555.\u001b[0m\n",
      "Requirement already satisfied: numpy>=1 in /usr/local/lib/python3.7/dist-packages (from fasttext==0.8.3) (1.21.6)\n",
      "Requirement already satisfied: future in /usr/local/lib/python3.7/dist-packages (from fasttext==0.8.3) (0.16.0)\n",
      "Building wheels for collected packages: fasttext\n",
      "  Building wheel for fasttext (setup.py) ... \u001b[?25l\u001b[?25hdone\n",
      "  Created wheel for fasttext: filename=fasttext-0.8.3-cp37-cp37m-linux_x86_64.whl size=1090234 sha256=6bf9cdee02f3fbfc4fcc4ee8b86618769cb1cc22bec5b3490e0884e82728d358\n",
      "  Stored in directory: /root/.cache/pip/wheels/04/f5/eb/01dae2ec6c6262cc2e650bb47ddb89100623ad833336ad2568\n",
      "Successfully built fasttext\n",
      "Installing collected packages: fasttext\n",
      "Successfully installed fasttext-0.8.3\n"
     ]
    }
   ],
   "source": [
    "%cd $WORK_DIR/fasttext-0.8.3\n",
    "!pip install ."
   ]
  },
  {
   "cell_type": "code",
   "execution_count": null,
   "metadata": {
    "id": "5t3pgFM-5Wif"
   },
   "outputs": [],
   "source": []
  },
  {
   "cell_type": "markdown",
   "metadata": {
    "id": "vVPHTPfvIOr7"
   },
   "source": [
    "#### 3i4k 한국어 문장 의도분류모델"
   ]
  },
  {
   "cell_type": "code",
   "execution_count": null,
   "metadata": {
    "colab": {
     "base_uri": "https://localhost:8080/"
    },
    "id": "83XokwXZ3Njr",
    "outputId": "3aaec285-e753-49b9-a030-ca1db9aa67e2"
   },
   "outputs": [
    {
     "name": "stdout",
     "output_type": "stream",
     "text": [
      "/content/drive/MyDrive/Colab Notebooks\n"
     ]
    }
   ],
   "source": [
    "# 소스 다운로드\n",
    "%cd $WORK_DIR\n",
    "# !git clone https://github.com/warnikchow/3i4k.git"
   ]
  },
  {
   "cell_type": "code",
   "execution_count": null,
   "metadata": {
    "colab": {
     "base_uri": "https://localhost:8080/"
    },
    "id": "QjlatU6EH1g7",
    "outputId": "1e511ba4-c6b6-4d7b-dd05-3308737545a2"
   },
   "outputs": [
    {
     "name": "stdout",
     "output_type": "stream",
     "text": [
      "/content/drive/MyDrive/Colab Notebooks/3i4k\n",
      "Looking in indexes: https://pypi.org/simple, https://us-python.pkg.dev/colab-wheels/public/simple/\n",
      "Requirement already satisfied: fasttext==0.8.3 in /usr/local/lib/python3.7/dist-packages (from -r Requirements.txt (line 1)) (0.8.3)\n",
      "Collecting Keras==2.1.2\n",
      "  Downloading Keras-2.1.2-py2.py3-none-any.whl (304 kB)\n",
      "\u001b[K     |████████████████████████████████| 304 kB 5.1 MB/s \n",
      "\u001b[?25hCollecting nltk==3.3\n",
      "  Downloading nltk-3.3.0.zip (1.4 MB)\n",
      "\u001b[K     |████████████████████████████████| 1.4 MB 77.5 MB/s \n",
      "\u001b[?25hCollecting numpy==1.14.3\n",
      "  Downloading numpy-1.14.3.zip (4.9 MB)\n",
      "\u001b[K     |████████████████████████████████| 4.9 MB 81.4 MB/s \n",
      "\u001b[?25hCollecting librosa==0.6.1\n",
      "  Downloading librosa-0.6.1.tar.gz (1.6 MB)\n",
      "\u001b[K     |████████████████████████████████| 1.6 MB 70.2 MB/s \n",
      "\u001b[31mERROR: Could not find a version that satisfies the requirement tensorflow-gpu==1.4.1 (from versions: 1.13.1, 1.13.2, 1.14.0, 1.15.0, 1.15.2, 1.15.3, 1.15.4, 1.15.5, 2.0.0, 2.0.1, 2.0.2, 2.0.3, 2.0.4, 2.1.0, 2.1.1, 2.1.2, 2.1.3, 2.1.4, 2.2.0, 2.2.1, 2.2.2, 2.2.3, 2.3.0, 2.3.1, 2.3.2, 2.3.3, 2.3.4, 2.4.0, 2.4.1, 2.4.2, 2.4.3, 2.4.4, 2.5.0, 2.5.1, 2.5.2, 2.5.3, 2.6.0, 2.6.1, 2.6.2, 2.6.3, 2.6.4, 2.6.5, 2.7.0rc0, 2.7.0rc1, 2.7.0, 2.7.1, 2.7.2, 2.7.3, 2.8.0rc0, 2.8.0rc1, 2.8.0, 2.8.1, 2.8.2, 2.9.0rc0, 2.9.0rc1, 2.9.0rc2, 2.9.0, 2.9.1)\u001b[0m\n",
      "\u001b[31mERROR: No matching distribution found for tensorflow-gpu==1.4.1\u001b[0m\n",
      "\u001b[?25h"
     ]
    }
   ],
   "source": [
    "# 3i4k 의존모듈 설치 \n",
    "%cd $WORK_DIR/3i4k\n",
    "!pip install -r Requirements.txt"
   ]
  },
  {
   "cell_type": "code",
   "execution_count": null,
   "metadata": {
    "colab": {
     "base_uri": "https://localhost:8080/"
    },
    "id": "13nLQVP284eL",
    "outputId": "55cf4bba-d200-4902-91a5-de356c802330"
   },
   "outputs": [
    {
     "name": "stdout",
     "output_type": "stream",
     "text": [
      "Found existing installation: tensorflow 2.8.2+zzzcolab20220527125636\n",
      "Uninstalling tensorflow-2.8.2+zzzcolab20220527125636:\n",
      "  Would remove:\n",
      "    /usr/local/bin/estimator_ckpt_converter\n",
      "    /usr/local/bin/import_pb_to_tensorboard\n",
      "    /usr/local/bin/saved_model_cli\n",
      "    /usr/local/bin/tensorboard\n",
      "    /usr/local/bin/tf_upgrade_v2\n",
      "    /usr/local/bin/tflite_convert\n",
      "    /usr/local/bin/toco\n",
      "    /usr/local/bin/toco_from_protos\n",
      "    /usr/local/lib/python3.7/dist-packages/tensorflow-2.8.2+zzzcolab20220527125636.dist-info/*\n",
      "    /usr/local/lib/python3.7/dist-packages/tensorflow/*\n",
      "Proceed (y/n)? y\n",
      "  Successfully uninstalled tensorflow-2.8.2+zzzcolab20220527125636\n",
      "Looking in indexes: https://pypi.org/simple, https://us-python.pkg.dev/colab-wheels/public/simple/\n",
      "Collecting tensorflow==1.15\n",
      "  Downloading tensorflow-1.15.0-cp37-cp37m-manylinux2010_x86_64.whl (412.3 MB)\n",
      "\u001b[K     |████████████████████████████████| 412.3 MB 21 kB/s \n",
      "\u001b[?25hRequirement already satisfied: keras-preprocessing>=1.0.5 in /usr/local/lib/python3.7/dist-packages (from tensorflow==1.15) (1.1.2)\n",
      "Requirement already satisfied: six>=1.10.0 in /usr/local/lib/python3.7/dist-packages (from tensorflow==1.15) (1.15.0)\n",
      "Requirement already satisfied: absl-py>=0.7.0 in /usr/local/lib/python3.7/dist-packages (from tensorflow==1.15) (1.1.0)\n",
      "Requirement already satisfied: wheel>=0.26 in /usr/local/lib/python3.7/dist-packages (from tensorflow==1.15) (0.37.1)\n",
      "Requirement already satisfied: protobuf>=3.6.1 in /usr/local/lib/python3.7/dist-packages (from tensorflow==1.15) (3.17.3)\n",
      "Requirement already satisfied: numpy<2.0,>=1.16.0 in /usr/local/lib/python3.7/dist-packages (from tensorflow==1.15) (1.21.6)\n",
      "Collecting gast==0.2.2\n",
      "  Downloading gast-0.2.2.tar.gz (10 kB)\n",
      "Collecting tensorflow-estimator==1.15.1\n",
      "  Downloading tensorflow_estimator-1.15.1-py2.py3-none-any.whl (503 kB)\n",
      "\u001b[K     |████████████████████████████████| 503 kB 76.6 MB/s \n",
      "\u001b[?25hRequirement already satisfied: grpcio>=1.8.6 in /usr/local/lib/python3.7/dist-packages (from tensorflow==1.15) (1.47.0)\n",
      "Requirement already satisfied: wrapt>=1.11.1 in /usr/local/lib/python3.7/dist-packages (from tensorflow==1.15) (1.14.1)\n",
      "Requirement already satisfied: opt-einsum>=2.3.2 in /usr/local/lib/python3.7/dist-packages (from tensorflow==1.15) (3.3.0)\n",
      "Requirement already satisfied: termcolor>=1.1.0 in /usr/local/lib/python3.7/dist-packages (from tensorflow==1.15) (1.1.0)\n",
      "Requirement already satisfied: astor>=0.6.0 in /usr/local/lib/python3.7/dist-packages (from tensorflow==1.15) (0.8.1)\n",
      "Collecting keras-applications>=1.0.8\n",
      "  Downloading Keras_Applications-1.0.8-py3-none-any.whl (50 kB)\n",
      "\u001b[K     |████████████████████████████████| 50 kB 8.2 MB/s \n",
      "\u001b[?25hCollecting tensorboard<1.16.0,>=1.15.0\n",
      "  Downloading tensorboard-1.15.0-py3-none-any.whl (3.8 MB)\n",
      "\u001b[K     |████████████████████████████████| 3.8 MB 75.2 MB/s \n",
      "\u001b[?25hRequirement already satisfied: google-pasta>=0.1.6 in /usr/local/lib/python3.7/dist-packages (from tensorflow==1.15) (0.2.0)\n",
      "Requirement already satisfied: h5py in /usr/local/lib/python3.7/dist-packages (from keras-applications>=1.0.8->tensorflow==1.15) (2.10.0)\n",
      "Requirement already satisfied: setuptools>=41.0.0 in /usr/local/lib/python3.7/dist-packages (from tensorboard<1.16.0,>=1.15.0->tensorflow==1.15) (57.4.0)\n",
      "Requirement already satisfied: markdown>=2.6.8 in /usr/local/lib/python3.7/dist-packages (from tensorboard<1.16.0,>=1.15.0->tensorflow==1.15) (3.3.7)\n",
      "Requirement already satisfied: werkzeug>=0.11.15 in /usr/local/lib/python3.7/dist-packages (from tensorboard<1.16.0,>=1.15.0->tensorflow==1.15) (1.0.1)\n",
      "Requirement already satisfied: importlib-metadata>=4.4 in /usr/local/lib/python3.7/dist-packages (from markdown>=2.6.8->tensorboard<1.16.0,>=1.15.0->tensorflow==1.15) (4.12.0)\n",
      "Requirement already satisfied: typing-extensions>=3.6.4 in /usr/local/lib/python3.7/dist-packages (from importlib-metadata>=4.4->markdown>=2.6.8->tensorboard<1.16.0,>=1.15.0->tensorflow==1.15) (4.1.1)\n",
      "Requirement already satisfied: zipp>=0.5 in /usr/local/lib/python3.7/dist-packages (from importlib-metadata>=4.4->markdown>=2.6.8->tensorboard<1.16.0,>=1.15.0->tensorflow==1.15) (3.8.0)\n",
      "Building wheels for collected packages: gast\n",
      "  Building wheel for gast (setup.py) ... \u001b[?25l\u001b[?25hdone\n",
      "  Created wheel for gast: filename=gast-0.2.2-py3-none-any.whl size=7554 sha256=7d78737374998cb3bb91763c17200439b53ae80d398768063a9a6f3dce76c65b\n",
      "  Stored in directory: /root/.cache/pip/wheels/21/7f/02/420f32a803f7d0967b48dd823da3f558c5166991bfd204eef3\n",
      "Successfully built gast\n",
      "Installing collected packages: tensorflow-estimator, tensorboard, keras-applications, gast, tensorflow\n",
      "  Attempting uninstall: tensorflow-estimator\n",
      "    Found existing installation: tensorflow-estimator 2.8.0\n",
      "    Uninstalling tensorflow-estimator-2.8.0:\n",
      "      Successfully uninstalled tensorflow-estimator-2.8.0\n",
      "  Attempting uninstall: tensorboard\n",
      "    Found existing installation: tensorboard 2.8.0\n",
      "    Uninstalling tensorboard-2.8.0:\n",
      "      Successfully uninstalled tensorboard-2.8.0\n",
      "  Attempting uninstall: gast\n",
      "    Found existing installation: gast 0.5.3\n",
      "    Uninstalling gast-0.5.3:\n",
      "      Successfully uninstalled gast-0.5.3\n",
      "\u001b[31mERROR: pip's dependency resolver does not currently take into account all the packages that are installed. This behaviour is the source of the following dependency conflicts.\n",
      "tensorflow-probability 0.16.0 requires gast>=0.3.2, but you have gast 0.2.2 which is incompatible.\n",
      "kapre 0.3.7 requires librosa>=0.7.2, but you have librosa 0.6.1 which is incompatible.\n",
      "kapre 0.3.7 requires tensorflow>=2.0.0, but you have tensorflow 1.15.0 which is incompatible.\u001b[0m\n",
      "Successfully installed gast-0.2.2 keras-applications-1.0.8 tensorboard-1.15.0 tensorflow-1.15.0 tensorflow-estimator-1.15.1\n"
     ]
    }
   ],
   "source": [
    "# Tensorflow 버전 하향\n",
    "!pip uninstall tensorflow\n",
    "!pip install tensorflow==1.15"
   ]
  },
  {
   "cell_type": "code",
   "execution_count": null,
   "metadata": {
    "colab": {
     "base_uri": "https://localhost:8080/"
    },
    "id": "ow1v2SdUjFGo",
    "outputId": "611bf54f-590c-4cc1-c0f2-898b8633f469"
   },
   "outputs": [
    {
     "name": "stdout",
     "output_type": "stream",
     "text": [
      "Looking in indexes: https://pypi.org/simple, https://us-python.pkg.dev/colab-wheels/public/simple/\n",
      "Requirement already satisfied: Keras==2.1.2 in /usr/local/lib/python3.7/dist-packages (2.1.2)\n",
      "Requirement already satisfied: six>=1.9.0 in /usr/local/lib/python3.7/dist-packages (from Keras==2.1.2) (1.15.0)\n",
      "Requirement already satisfied: numpy>=1.9.1 in /usr/local/lib/python3.7/dist-packages (from Keras==2.1.2) (1.21.6)\n",
      "Requirement already satisfied: pyyaml in /usr/local/lib/python3.7/dist-packages (from Keras==2.1.2) (3.13)\n",
      "Requirement already satisfied: scipy>=0.14 in /usr/local/lib/python3.7/dist-packages (from Keras==2.1.2) (1.7.3)\n",
      "Looking in indexes: https://pypi.org/simple, https://us-python.pkg.dev/colab-wheels/public/simple/\n",
      "Requirement already satisfied: nltk==3.3 in /usr/local/lib/python3.7/dist-packages (3.3)\n",
      "Requirement already satisfied: six in /usr/local/lib/python3.7/dist-packages (from nltk==3.3) (1.15.0)\n",
      "Looking in indexes: https://pypi.org/simple, https://us-python.pkg.dev/colab-wheels/public/simple/\n",
      "Requirement already satisfied: librosa==0.6.1 in /usr/local/lib/python3.7/dist-packages (0.6.1)\n",
      "Requirement already satisfied: scikit-learn!=0.19.0,>=0.14.0 in /usr/local/lib/python3.7/dist-packages (from librosa==0.6.1) (1.0.2)\n",
      "Requirement already satisfied: audioread>=2.0.0 in /usr/local/lib/python3.7/dist-packages (from librosa==0.6.1) (2.1.9)\n",
      "Requirement already satisfied: resampy>=0.2.0 in /usr/local/lib/python3.7/dist-packages (from librosa==0.6.1) (0.3.1)\n",
      "Requirement already satisfied: decorator>=3.0.0 in /usr/local/lib/python3.7/dist-packages (from librosa==0.6.1) (4.4.2)\n",
      "Requirement already satisfied: six>=1.3 in /usr/local/lib/python3.7/dist-packages (from librosa==0.6.1) (1.15.0)\n",
      "Requirement already satisfied: joblib>=0.7.0 in /usr/local/lib/python3.7/dist-packages (from librosa==0.6.1) (1.1.0)\n",
      "Requirement already satisfied: numpy>=1.8.0 in /usr/local/lib/python3.7/dist-packages (from librosa==0.6.1) (1.21.6)\n",
      "Requirement already satisfied: scipy>=0.14.0 in /usr/local/lib/python3.7/dist-packages (from librosa==0.6.1) (1.7.3)\n",
      "Requirement already satisfied: numba>=0.38.0 in /usr/local/lib/python3.7/dist-packages (from librosa==0.6.1) (0.48.0)\n",
      "Requirement already satisfied: setuptools in /usr/local/lib/python3.7/dist-packages (from numba>=0.38.0->librosa==0.6.1) (57.4.0)\n",
      "Requirement already satisfied: llvmlite<0.32.0,>=0.31.0dev0 in /usr/local/lib/python3.7/dist-packages (from numba>=0.38.0->librosa==0.6.1) (0.31.0)\n",
      "Requirement already satisfied: threadpoolctl>=2.0.0 in /usr/local/lib/python3.7/dist-packages (from scikit-learn!=0.19.0,>=0.14.0->librosa==0.6.1) (3.1.0)\n",
      "Looking in indexes: https://pypi.org/simple, https://us-python.pkg.dev/colab-wheels/public/simple/\n",
      "Requirement already satisfied: numba==0.48.0 in /usr/local/lib/python3.7/dist-packages (0.48.0)\n",
      "Requirement already satisfied: llvmlite<0.32.0,>=0.31.0dev0 in /usr/local/lib/python3.7/dist-packages (from numba==0.48.0) (0.31.0)\n",
      "Requirement already satisfied: setuptools in /usr/local/lib/python3.7/dist-packages (from numba==0.48.0) (57.4.0)\n",
      "Requirement already satisfied: numpy>=1.15 in /usr/local/lib/python3.7/dist-packages (from numba==0.48.0) (1.21.6)\n",
      "Looking in indexes: https://pypi.org/simple, https://us-python.pkg.dev/colab-wheels/public/simple/\n",
      "Collecting h5py==2.10.0\n",
      "  Downloading h5py-2.10.0-cp37-cp37m-manylinux1_x86_64.whl (2.9 MB)\n",
      "\u001b[K     |████████████████████████████████| 2.9 MB 5.0 MB/s \n",
      "\u001b[?25hRequirement already satisfied: numpy>=1.7 in /usr/local/lib/python3.7/dist-packages (from h5py==2.10.0) (1.21.6)\n",
      "Requirement already satisfied: six in /usr/local/lib/python3.7/dist-packages (from h5py==2.10.0) (1.15.0)\n",
      "Installing collected packages: h5py\n",
      "  Attempting uninstall: h5py\n",
      "    Found existing installation: h5py 3.1.0\n",
      "    Uninstalling h5py-3.1.0:\n",
      "      Successfully uninstalled h5py-3.1.0\n",
      "\u001b[31mERROR: pip's dependency resolver does not currently take into account all the packages that are installed. This behaviour is the source of the following dependency conflicts.\n",
      "tensorflow 2.8.2+zzzcolab20220527125636 requires keras<2.9,>=2.8.0rc0, but you have keras 2.1.2 which is incompatible.\n",
      "kapre 0.3.7 requires librosa>=0.7.2, but you have librosa 0.6.1 which is incompatible.\u001b[0m\n",
      "Successfully installed h5py-2.10.0\n"
     ]
    }
   ],
   "source": [
    "!pip install Keras==2.1.2\n",
    "!pip install nltk==3.3\n",
    "!pip install librosa==0.6.1\n",
    "!pip3 install numba==0.48.0\n",
    "!pip install h5py==2.10.0"
   ]
  },
  {
   "cell_type": "code",
   "execution_count": null,
   "metadata": {
    "id": "uUhGlNmTIl0-"
   },
   "outputs": [],
   "source": [
    "# Word Vectors 다운로드 \n",
    "# %cd $WORK_DIR/3i4k\n",
    "# !mkdir vectors\n",
    "# %cd vectors\n",
    "# !wget -O model_drama.bin --no-check-certificate \"https://drive.google.com/file/d/1jHbjOcnaLourFzNuP47yGQVhBTq6Wgor\"\n",
    "# !unzip vectors.zip"
   ]
  },
  {
   "cell_type": "code",
   "execution_count": null,
   "metadata": {
    "colab": {
     "base_uri": "https://localhost:8080/"
    },
    "id": "uDCpCi7b5bby",
    "outputId": "6b5ee5d9-32a2-4347-b8df-071c5fd3da72"
   },
   "outputs": [
    {
     "name": "stdout",
     "output_type": "stream",
     "text": [
      "/content/drive/MyDrive/Colab Notebooks/3i4k\n",
      "\n",
      "\n",
      "\n",
      "\n",
      "\n",
      "\n",
      "\n",
      "\n",
      "\n",
      "\n",
      "\n",
      "\n",
      "#########################################################\n",
      "#                                                       #\n",
      "#       Demonstration video: 3i for Korean (3i4K)       #\n",
      "#                                                       #\n",
      "#########################################################\n",
      "Using TensorFlow backend.\n",
      "WARNING:tensorflow:From 3i4k_demo.py:19: The name tf.ConfigProto is deprecated. Please use tf.compat.v1.ConfigProto instead.\n",
      "\n",
      "WARNING:tensorflow:From 3i4k_demo.py:21: The name tf.Session is deprecated. Please use tf.compat.v1.Session instead.\n",
      "\n",
      "2022-07-19 10:16:19.545749: I tensorflow/core/platform/cpu_feature_guard.cc:142] Your CPU supports instructions that this TensorFlow binary was not compiled to use: AVX2 AVX512F FMA\n",
      "2022-07-19 10:16:19.550074: I tensorflow/core/platform/profile_utils/cpu_utils.cc:94] CPU Frequency: 2200220000 Hz\n",
      "2022-07-19 10:16:19.550659: I tensorflow/compiler/xla/service/service.cc:168] XLA service 0x47178bc0 initialized for platform Host (this does not guarantee that XLA will be used). Devices:\n",
      "2022-07-19 10:16:19.550690: I tensorflow/compiler/xla/service/service.cc:176]   StreamExecutor device (0): Host, Default Version\n",
      "2022-07-19 10:16:19.552364: I tensorflow/stream_executor/platform/default/dso_loader.cc:44] Successfully opened dynamic library libcuda.so.1\n",
      "2022-07-19 10:16:19.681824: I tensorflow/compiler/xla/service/service.cc:168] XLA service 0x47179640 initialized for platform CUDA (this does not guarantee that XLA will be used). Devices:\n",
      "2022-07-19 10:16:19.681875: I tensorflow/compiler/xla/service/service.cc:176]   StreamExecutor device (0): A100-SXM4-40GB, Compute Capability 8.0\n",
      "2022-07-19 10:16:19.684000: I tensorflow/core/common_runtime/gpu/gpu_device.cc:1618] Found device 0 with properties: \n",
      "name: A100-SXM4-40GB major: 8 minor: 0 memoryClockRate(GHz): 1.41\n",
      "pciBusID: 0000:00:04.0\n",
      "2022-07-19 10:16:19.693835: I tensorflow/stream_executor/platform/default/dso_loader.cc:44] Successfully opened dynamic library libcudart.so.10.0\n",
      "2022-07-19 10:16:19.840972: I tensorflow/stream_executor/platform/default/dso_loader.cc:44] Successfully opened dynamic library libcublas.so.10.0\n",
      "2022-07-19 10:16:19.907705: I tensorflow/stream_executor/platform/default/dso_loader.cc:44] Successfully opened dynamic library libcufft.so.10.0\n",
      "2022-07-19 10:16:19.925894: I tensorflow/stream_executor/platform/default/dso_loader.cc:44] Successfully opened dynamic library libcurand.so.10.0\n",
      "2022-07-19 10:16:20.099589: I tensorflow/stream_executor/platform/default/dso_loader.cc:44] Successfully opened dynamic library libcusolver.so.10.0\n",
      "2022-07-19 10:16:20.201248: I tensorflow/stream_executor/platform/default/dso_loader.cc:44] Successfully opened dynamic library libcusparse.so.10.0\n",
      "2022-07-19 10:16:20.531077: I tensorflow/stream_executor/platform/default/dso_loader.cc:44] Successfully opened dynamic library libcudnn.so.7\n",
      "2022-07-19 10:16:20.535117: I tensorflow/core/common_runtime/gpu/gpu_device.cc:1746] Adding visible gpu devices: 0\n",
      "2022-07-19 10:16:20.535203: I tensorflow/stream_executor/platform/default/dso_loader.cc:44] Successfully opened dynamic library libcudart.so.10.0\n",
      "2022-07-19 10:16:20.537811: I tensorflow/core/common_runtime/gpu/gpu_device.cc:1159] Device interconnect StreamExecutor with strength 1 edge matrix:\n",
      "2022-07-19 10:16:20.537845: I tensorflow/core/common_runtime/gpu/gpu_device.cc:1165]      0 \n",
      "2022-07-19 10:16:20.537859: I tensorflow/core/common_runtime/gpu/gpu_device.cc:1178] 0:   N \n",
      "2022-07-19 10:16:20.541745: W tensorflow/core/common_runtime/gpu/gpu_bfc_allocator.cc:39] Overriding allow_growth setting because the TF_FORCE_GPU_ALLOW_GROWTH environment variable is set. Original config value was 0.\n",
      "2022-07-19 10:16:20.541792: I tensorflow/core/common_runtime/gpu/gpu_device.cc:1304] Created TensorFlow device (/job:localhost/replica:0/task:0/device:GPU:0 with 405 MB memory) -> physical GPU (device: 0, name: A100-SXM4-40GB, pci bus id: 0000:00:04.0, compute capability: 8.0)\n",
      "Importing models...\n",
      "\n",
      "WARNING:tensorflow:From /usr/local/lib/python3.7/dist-packages/keras/backend/tensorflow_backend.py:497: The name tf.placeholder is deprecated. Please use tf.compat.v1.placeholder instead.\n",
      "\n",
      "WARNING:tensorflow:From /usr/local/lib/python3.7/dist-packages/keras/backend/tensorflow_backend.py:64: The name tf.get_default_graph is deprecated. Please use tf.compat.v1.get_default_graph instead.\n",
      "\n",
      "WARNING:tensorflow:From /usr/local/lib/python3.7/dist-packages/keras/backend/tensorflow_backend.py:3636: The name tf.random_uniform is deprecated. Please use tf.random.uniform instead.\n",
      "\n",
      "WARNING:tensorflow:From /usr/local/lib/python3.7/dist-packages/keras/backend/tensorflow_backend.py:3019: calling dropout (from tensorflow.python.ops.nn_ops) with keep_prob is deprecated and will be removed in a future version.\n",
      "Instructions for updating:\n",
      "Please use `rate` instead of `keep_prob`. Rate should be set to `rate = 1 - keep_prob`.\n",
      "WARNING:tensorflow:From /usr/local/lib/python3.7/dist-packages/keras/backend/tensorflow_backend.py:1247: calling reduce_sum_v1 (from tensorflow.python.ops.math_ops) with keep_dims is deprecated and will be removed in a future version.\n",
      "Instructions for updating:\n",
      "keep_dims is deprecated, use keepdims instead\n",
      "XXX lineno: 11, opcode: 0\n",
      "Traceback (most recent call last):\n",
      "  File \"3i4k_demo.py\", line 28, in <module>\n",
      "    model_fci  = load_model('model/rec_self_char_dense_drop-24-0.8882.hdf5')\n",
      "  File \"/usr/local/lib/python3.7/dist-packages/keras/models.py\", line 240, in load_model\n",
      "    model = model_from_config(model_config, custom_objects=custom_objects)\n",
      "  File \"/usr/local/lib/python3.7/dist-packages/keras/models.py\", line 314, in model_from_config\n",
      "    return layer_module.deserialize(config, custom_objects=custom_objects)\n",
      "  File \"/usr/local/lib/python3.7/dist-packages/keras/layers/__init__.py\", line 55, in deserialize\n",
      "    printable_module_name='layer')\n",
      "  File \"/usr/local/lib/python3.7/dist-packages/keras/utils/generic_utils.py\", line 140, in deserialize_keras_object\n",
      "    list(custom_objects.items())))\n",
      "  File \"/usr/local/lib/python3.7/dist-packages/keras/engine/topology.py\", line 2500, in from_config\n",
      "    process_node(layer, node_data)\n",
      "  File \"/usr/local/lib/python3.7/dist-packages/keras/engine/topology.py\", line 2459, in process_node\n",
      "    layer(input_tensors, **kwargs)\n",
      "  File \"/usr/local/lib/python3.7/dist-packages/keras/engine/topology.py\", line 603, in __call__\n",
      "    output = self.call(inputs, **kwargs)\n",
      "  File \"/usr/local/lib/python3.7/dist-packages/keras/layers/core.py\", line 651, in call\n",
      "    return self.function(inputs, **arguments)\n",
      "  File \"<stdin>\", line 11, in <lambda>\n",
      "SystemError: unknown opcode\n"
     ]
    }
   ],
   "source": [
    "%cd $WORK_DIR/3i4k\n",
    "!python3 3i4k_demo.py"
   ]
  },
  {
   "cell_type": "code",
   "execution_count": null,
   "metadata": {
    "id": "Uu2AcoiM6Jon"
   },
   "outputs": [],
   "source": [
    "from classify import pred_only_text"
   ]
  },
  {
   "cell_type": "code",
   "execution_count": null,
   "metadata": {
    "id": "srZUog90Q4lp"
   },
   "outputs": [],
   "source": [
    "print(pred_only_text('배고프다 점심 뭐먹지?'))"
   ]
  },
  {
   "cell_type": "markdown",
   "metadata": {
    "id": "mcTJq_fy3nw5"
   },
   "source": [
    "# Install Libraries"
   ]
  },
  {
   "cell_type": "code",
   "execution_count": 12,
   "metadata": {},
   "outputs": [],
   "source": [
    "# !pip install pandas\n",
    "# !pip install numpy\n",
    "# !pip install seaborn\n",
    "# !pip install sklearn\n",
    "# !pip install tensorflow"
   ]
  },
  {
   "cell_type": "markdown",
   "metadata": {
    "id": "INmG172-3uBm"
   },
   "source": [
    "# Import Libraries"
   ]
  },
  {
   "cell_type": "code",
   "execution_count": 63,
   "metadata": {
    "id": "3HvBhjQx3tgz"
   },
   "outputs": [],
   "source": [
    "import pandas as pd\n",
    "import numpy as np\n",
    "import os\n",
    "import seaborn as sns\n",
    "import matplotlib.pyplot as plt\n",
    "\n",
    "import sklearn\n",
    "from sklearn import preprocessing\n",
    "from sklearn.model_selection import train_test_split\n",
    "\n",
    "import tensorflow as tf\n",
    "from tensorflow import keras\n",
    "from tensorflow.keras.utils import to_categorical\n",
    "from tensorflow.keras.preprocessing.text import Tokenizer\n",
    "from tensorflow.keras.preprocessing.sequence import pad_sequences"
   ]
  },
  {
   "cell_type": "code",
   "execution_count": 64,
   "metadata": {
    "colab": {
     "base_uri": "https://localhost:8080/"
    },
    "id": "fDI-pe2h36Jj",
    "outputId": "c277b232-31b8-4890-e50c-95a956ac9fa5"
   },
   "outputs": [
    {
     "name": "stdout",
     "output_type": "stream",
     "text": [
      "2.2.0\n",
      "0.22.1\n",
      "1.18.1\n",
      "1.0.1\n",
      "2.3.0-tf\n"
     ]
    }
   ],
   "source": [
    "print(tf.__version__)\n",
    "print(sklearn.__version__)\n",
    "print(np.__version__)\n",
    "print(pd.__version__)\n",
    "print(tf.keras.__version__)"
   ]
  },
  {
   "cell_type": "code",
   "execution_count": 101,
   "metadata": {},
   "outputs": [
    {
     "data": {
      "text/plain": [
       "0"
      ]
     },
     "execution_count": 101,
     "metadata": {},
     "output_type": "execute_result"
    }
   ],
   "source": [
    "ddd = dict()\n",
    "dd['dhdh'] = 'r'\n",
    "dd['dhddh'] = 'r'\n",
    "len(ddd)"
   ]
  },
  {
   "cell_type": "markdown",
   "metadata": {
    "id": "GpQBk4jvAmQn"
   },
   "source": [
    "# Dataset Load\n",
    "- 데이터셋 class 부여\n",
    "- 데이터셋 전체 통합 후 섞기"
   ]
  },
  {
   "cell_type": "code",
   "execution_count": 129,
   "metadata": {
    "colab": {
     "base_uri": "https://localhost:8080/",
     "height": 650
    },
    "id": "5MYb-c7-Apwj",
    "outputId": "c069de0f-df22-4cf3-ae11-0536a0feb2bd"
   },
   "outputs": [],
   "source": [
    "def load_dataset(path=WORK_DIR, prefix='train_'):\n",
    "    idxs = dict()\n",
    "    ret = pd.DataFrame(columns=['question', 'class', 'label'])\n",
    "    for dirname, _, filenames in os.walk(path):\n",
    "        for filename in filenames:\n",
    "            if filename.startswith(prefix):\n",
    "                filepath = os.path.join(dirname, filename)\n",
    "                df = pd.read_csv(filepath)\n",
    "                df_class = filename.split('_')[1].split('.')[0]\n",
    "                df_label = len(idxs)\n",
    "                \n",
    "                df['class'] = df_class\n",
    "                df['label'] = df_label\n",
    "                idxs[df_label] = df_class\n",
    "                \n",
    "                ret = pd.concat([ret, df])\n",
    "    return ret, idxs"
   ]
  },
  {
   "cell_type": "code",
   "execution_count": 130,
   "metadata": {
    "colab": {
     "base_uri": "https://localhost:8080/",
     "height": 419
    },
    "id": "ASg70Q6JA46u",
    "outputId": "ae7e2e06-38af-4d04-e691-57d211de1145"
   },
   "outputs": [
    {
     "data": {
      "text/html": [
       "<div>\n",
       "<style scoped>\n",
       "    .dataframe tbody tr th:only-of-type {\n",
       "        vertical-align: middle;\n",
       "    }\n",
       "\n",
       "    .dataframe tbody tr th {\n",
       "        vertical-align: top;\n",
       "    }\n",
       "\n",
       "    .dataframe thead th {\n",
       "        text-align: right;\n",
       "    }\n",
       "</style>\n",
       "<table border=\"1\" class=\"dataframe\">\n",
       "  <thead>\n",
       "    <tr style=\"text-align: right;\">\n",
       "      <th></th>\n",
       "      <th>question</th>\n",
       "      <th>class</th>\n",
       "      <th>label</th>\n",
       "    </tr>\n",
       "  </thead>\n",
       "  <tbody>\n",
       "    <tr>\n",
       "      <th>0</th>\n",
       "      <td>국방컨벤션 혜택정보 궁금해</td>\n",
       "      <td>welfare</td>\n",
       "      <td>2</td>\n",
       "    </tr>\n",
       "    <tr>\n",
       "      <th>1</th>\n",
       "      <td>부산시부근 시설 궁금함</td>\n",
       "      <td>welfare</td>\n",
       "      <td>2</td>\n",
       "    </tr>\n",
       "    <tr>\n",
       "      <th>2</th>\n",
       "      <td>저희 집에서도 레슨이 가능할까요?</td>\n",
       "      <td>chat</td>\n",
       "      <td>0</td>\n",
       "    </tr>\n",
       "    <tr>\n",
       "      <th>3</th>\n",
       "      <td>대구주변 혜택 있긴해?</td>\n",
       "      <td>welfare</td>\n",
       "      <td>2</td>\n",
       "    </tr>\n",
       "    <tr>\n",
       "      <th>4</th>\n",
       "      <td>중령 연봉 알고싶어</td>\n",
       "      <td>pay</td>\n",
       "      <td>1</td>\n",
       "    </tr>\n",
       "    <tr>\n",
       "      <th>...</th>\n",
       "      <td>...</td>\n",
       "      <td>...</td>\n",
       "      <td>...</td>\n",
       "    </tr>\n",
       "    <tr>\n",
       "      <th>16555</th>\n",
       "      <td>종류 상관없이 고를 수 있습니까?</td>\n",
       "      <td>chat</td>\n",
       "      <td>0</td>\n",
       "    </tr>\n",
       "    <tr>\n",
       "      <th>16556</th>\n",
       "      <td>익산쪽에 복지시설 알고싶어</td>\n",
       "      <td>welfare</td>\n",
       "      <td>2</td>\n",
       "    </tr>\n",
       "    <tr>\n",
       "      <th>16557</th>\n",
       "      <td>그란데 사이즈로 부탁드립니다</td>\n",
       "      <td>chat</td>\n",
       "      <td>0</td>\n",
       "    </tr>\n",
       "    <tr>\n",
       "      <th>16558</th>\n",
       "      <td>잇몸에 피가 나거나, 붓는 증상이 있으신가요?</td>\n",
       "      <td>chat</td>\n",
       "      <td>0</td>\n",
       "    </tr>\n",
       "    <tr>\n",
       "      <th>16559</th>\n",
       "      <td>몇 분이신가요?</td>\n",
       "      <td>chat</td>\n",
       "      <td>0</td>\n",
       "    </tr>\n",
       "  </tbody>\n",
       "</table>\n",
       "<p>16560 rows × 3 columns</p>\n",
       "</div>"
      ],
      "text/plain": [
       "                        question    class label\n",
       "0                 국방컨벤션 혜택정보 궁금해  welfare     2\n",
       "1                   부산시부근 시설 궁금함  welfare     2\n",
       "2             저희 집에서도 레슨이 가능할까요?     chat     0\n",
       "3                   대구주변 혜택 있긴해?  welfare     2\n",
       "4                     중령 연봉 알고싶어      pay     1\n",
       "...                          ...      ...   ...\n",
       "16555         종류 상관없이 고를 수 있습니까?     chat     0\n",
       "16556             익산쪽에 복지시설 알고싶어  welfare     2\n",
       "16557            그란데 사이즈로 부탁드립니다     chat     0\n",
       "16558  잇몸에 피가 나거나, 붓는 증상이 있으신가요?     chat     0\n",
       "16559                   몇 분이신가요?     chat     0\n",
       "\n",
       "[16560 rows x 3 columns]"
      ]
     },
     "execution_count": 130,
     "metadata": {},
     "output_type": "execute_result"
    }
   ],
   "source": [
    "train, idxs = load_dataset()\n",
    "train = train.sample(frac=1).reset_index(drop=True)\n",
    "train"
   ]
  },
  {
   "cell_type": "code",
   "execution_count": 131,
   "metadata": {},
   "outputs": [
    {
     "data": {
      "text/plain": [
       "<matplotlib.axes._subplots.AxesSubplot at 0x244dcdb1848>"
      ]
     },
     "execution_count": 131,
     "metadata": {},
     "output_type": "execute_result"
    },
    {
     "data": {
      "image/png": "[encoded data removed]",
      "text/plain": [
       "<Figure size 432x288 with 1 Axes>"
      ]
     },
     "metadata": {
      "needs_background": "light"
     },
     "output_type": "display_data"
    }
   ],
   "source": [
    "sns.countplot(train['class'])"
   ]
  },
  {
   "cell_type": "code",
   "execution_count": 132,
   "metadata": {},
   "outputs": [
    {
     "data": {
      "text/plain": [
       "{0: 'chat', 1: 'pay', 2: 'welfare'}"
      ]
     },
     "execution_count": 132,
     "metadata": {},
     "output_type": "execute_result"
    }
   ],
   "source": [
    "idxs"
   ]
  },
  {
   "cell_type": "code",
   "execution_count": null,
   "metadata": {},
   "outputs": [],
   "source": []
  },
  {
   "cell_type": "markdown",
   "metadata": {},
   "source": [
    "## 질문 전처리"
   ]
  },
  {
   "cell_type": "code",
   "execution_count": 133,
   "metadata": {},
   "outputs": [
    {
     "data": {
      "text/plain": [
       "0                                 [국방, 컨벤션, 혜택, 정보, 궁금, 해]\n",
       "1                                     [부산시, 부근, 시설, 궁금, 함]\n",
       "2                        [저희, 집, 에서, 도, 레슨, 이, 가능, 할까요, ?]\n",
       "3                                 [대구, 주변, 혜택, 있, 긴, 해, ?]\n",
       "4                                     [중령, 연봉, 알, 고, 싶, 어]\n",
       "                               ...                        \n",
       "16555                         [종류, 상관없이, 고를, 수, 있, 습니까, ?]\n",
       "16556                       [익산, 쪽, 에, 복지, 시설, 알, 고, 싶, 어]\n",
       "16557                                [그란데, 사이즈, 로, 부탁드립니다]\n",
       "16558    [잇몸, 에, 피, 가, 나, 거나, ,, 붓, 는, 증상, 이, 있, 으신, 가요...\n",
       "16559                                    [몇, 분, 이, 신가요, ?]\n",
       "Name: question, Length: 16560, dtype: object"
      ]
     },
     "execution_count": 133,
     "metadata": {},
     "output_type": "execute_result"
    }
   ],
   "source": [
    "questions = train['question'].apply(mecab.morphs)\n",
    "questions"
   ]
  },
  {
   "cell_type": "code",
   "execution_count": 134,
   "metadata": {},
   "outputs": [
    {
     "name": "stdout",
     "output_type": "stream",
     "text": [
      "MAX LEN : 56\n",
      "AVG LEN : 7.925724637681159\n"
     ]
    },
    {
     "data": {
      "image/png": "[encoded data removed]",
      "text/plain": [
       "<Figure size 432x288 with 1 Axes>"
      ]
     },
     "metadata": {
      "needs_background": "light"
     },
     "output_type": "display_data"
    }
   ],
   "source": [
    "# 질문 분포 확인\n",
    "sns.distplot(questions.apply(len))\n",
    "print('MAX LEN :',max(len(l) for l in questions))\n",
    "print('AVG LEN :',sum(map(len, questions))/len(questions))"
   ]
  },
  {
   "cell_type": "code",
   "execution_count": 135,
   "metadata": {},
   "outputs": [],
   "source": [
    "# max_len = max(len(l) for l in questions) # 일상질문으로 인한 long tail\n",
    "max_len = 20"
   ]
  },
  {
   "cell_type": "markdown",
   "metadata": {},
   "source": [
    "## 토큰화"
   ]
  },
  {
   "cell_type": "code",
   "execution_count": 136,
   "metadata": {},
   "outputs": [],
   "source": [
    "tokenizer = Tokenizer()\n",
    "tokenizer.fit_on_texts(questions)"
   ]
  },
  {
   "cell_type": "code",
   "execution_count": 137,
   "metadata": {},
   "outputs": [],
   "source": [
    "train2 = tokenizer.texts_to_sequences(questions)"
   ]
  },
  {
   "cell_type": "code",
   "execution_count": 138,
   "metadata": {},
   "outputs": [
    {
     "data": {
      "text/plain": [
       "[[1079, 1080, 17, 19, 8, 5],\n",
       " [497, 73, 48, 8, 26],\n",
       " [441, 257, 130, 18, 2058, 7, 51, 260, 1],\n",
       " [408, 68, 17, 3, 95, 5, 1],\n",
       " [141, 40, 24, 12, 21, 13]]"
      ]
     },
     "execution_count": 138,
     "metadata": {},
     "output_type": "execute_result"
    }
   ],
   "source": [
    "train2[:5]"
   ]
  },
  {
   "cell_type": "code",
   "execution_count": 139,
   "metadata": {},
   "outputs": [
    {
     "name": "stdout",
     "output_type": "stream",
     "text": [
      "총 의도의 개수는 :  3\n",
      "총 단어의 개수는 :  5262\n"
     ]
    }
   ],
   "source": [
    "intent_label_size = train['label'].nunique()\n",
    "vocab_size = len(tokenizer.word_index) + 1\n",
    "print(\"총 의도의 개수는 : \", intent_label_size)\n",
    "print(\"총 단어의 개수는 : \", vocab_size)"
   ]
  },
  {
   "cell_type": "code",
   "execution_count": null,
   "metadata": {},
   "outputs": [],
   "source": []
  },
  {
   "cell_type": "markdown",
   "metadata": {},
   "source": [
    "## 패딩"
   ]
  },
  {
   "cell_type": "code",
   "execution_count": 140,
   "metadata": {},
   "outputs": [],
   "source": [
    "padded = pad_sequences(train2, maxlen=max_len)"
   ]
  },
  {
   "cell_type": "code",
   "execution_count": null,
   "metadata": {},
   "outputs": [],
   "source": []
  },
  {
   "cell_type": "code",
   "execution_count": null,
   "metadata": {},
   "outputs": [],
   "source": []
  },
  {
   "cell_type": "code",
   "execution_count": null,
   "metadata": {},
   "outputs": [],
   "source": []
  },
  {
   "cell_type": "markdown",
   "metadata": {},
   "source": [
    "# 학습 셋 분리"
   ]
  },
  {
   "cell_type": "code",
   "execution_count": 141,
   "metadata": {},
   "outputs": [],
   "source": [
    "from sklearn.model_selection import train_test_split\n",
    "\n",
    "# Dataframe을 ratio비율로 분할해 반환\n",
    "def df_split(df, ratio=0.2):\n",
    "    idx = np.round(len(df) * ratio)\n",
    "    return df[:idx], df[idx:]\n",
    "\n",
    "# x_train, x_valid, y_train, y_valid 반환\n",
    "def train_valid_split(x_df, y_df, ratio=0.2):\n",
    "    return train_test_split(x_df, y_df, test_size=ratio, random_state=42, stratify=y_df)"
   ]
  },
  {
   "cell_type": "code",
   "execution_count": 142,
   "metadata": {},
   "outputs": [
    {
     "data": {
      "text/plain": [
       "array([[   0,    0,    0, ...,    4,  143,    1],\n",
       "       [   0,    0,    0, ...,   81, 1732,   32],\n",
       "       [   0,    0,    0, ...,   17,    8,   26],\n",
       "       ...,\n",
       "       [   0,    0,    0, ...,    3,    6,    1],\n",
       "       [   0,    0,    0, ...,   31,   49,    1],\n",
       "       [   0,    0,    0, ..., 1597,   20,   32]])"
      ]
     },
     "metadata": {},
     "output_type": "display_data"
    },
    {
     "data": {
      "text/plain": [
       "array([[   0,    0,    0, ...,    4, 2448,    1],\n",
       "       [   0,    0,    0, ...,  221,    6,    1],\n",
       "       [   0,    0,    0, ...,   19,    8,    5],\n",
       "       ...,\n",
       "       [   0,    0,    0, ...,    9,   32,    1],\n",
       "       [   0,    0,    0, ...,    3,  100,    1],\n",
       "       [   0,    0,    0, ...,   14,    6,    1]])"
      ]
     },
     "metadata": {},
     "output_type": "display_data"
    }
   ],
   "source": [
    "x_train, x_valid, y_train, y_valid = train_valid_split(padded, train['label'])\n",
    "display(x_train, x_valid)"
   ]
  },
  {
   "cell_type": "code",
   "execution_count": null,
   "metadata": {},
   "outputs": [],
   "source": []
  },
  {
   "cell_type": "markdown",
   "metadata": {},
   "source": [
    "## Target 인코딩"
   ]
  },
  {
   "cell_type": "code",
   "execution_count": 143,
   "metadata": {},
   "outputs": [],
   "source": [
    "y_train = to_categorical(y_train, num_classes=intent_label_size)\n",
    "y_valid = to_categorical(y_valid, num_classes=intent_label_size)"
   ]
  },
  {
   "cell_type": "code",
   "execution_count": null,
   "metadata": {},
   "outputs": [],
   "source": []
  },
  {
   "cell_type": "markdown",
   "metadata": {},
   "source": [
    "# 모델 학습\n",
    "## 1-GRU"
   ]
  },
  {
   "cell_type": "code",
   "execution_count": 164,
   "metadata": {},
   "outputs": [],
   "source": [
    "import pickle\n",
    "from tensorflow.keras.layers import Embedding, Dense, GRU\n",
    "from tensorflow.keras.models import Sequential\n",
    "from tensorflow.keras.models import load_model\n",
    "from tensorflow.keras.callbacks import EarlyStopping, ModelCheckpoint\n",
    "from tensorflow.keras.metrics import Precision, Recall, AUC"
   ]
  },
  {
   "cell_type": "code",
   "execution_count": 145,
   "metadata": {},
   "outputs": [],
   "source": [
    "model = Sequential()\n",
    "model.add(Embedding(vocab_size, 32))\n",
    "model.add(GRU(32))\n",
    "model.add(Dense(intent_label_size, activation='softmax'))"
   ]
  },
  {
   "cell_type": "code",
   "execution_count": 146,
   "metadata": {},
   "outputs": [],
   "source": [
    "es = EarlyStopping(monitor='val_loss', mode='min', verbose=1, patience=4)\n",
    "mc = ModelCheckpoint(WORK_DIR+'/models/intent_model.h5', monitor='val_acc', mode='max', verbose=1, save_best_only=True)"
   ]
  },
  {
   "cell_type": "code",
   "execution_count": 168,
   "metadata": {},
   "outputs": [
    {
     "name": "stdout",
     "output_type": "stream",
     "text": [
      "Epoch 1/5\n",
      "825/828 [============================>.] - ETA: 0s - loss: 1.0160e-08 - acc: 1.0000 - mae: 9.2717e-09- ETA: 0s - loss: 1.1013e-08 - acc: 1.0000 -\n",
      "Epoch 00001: val_acc did not improve from 1.00000\n",
      "828/828 [==============================] - 9s 11ms/step - loss: 1.0132e-08 - acc: 1.0000 - mae: 9.2470e-09 - val_loss: 7.3991e-07 - val_acc: 1.0000 - val_mae: 4.9463e-07\n",
      "Epoch 2/5\n",
      "824/828 [============================>.] - ETA: 0s - loss: 1.1122e-09 - acc: 1.0000 - mae: 2.1418e-09\n",
      "Epoch 00002: val_acc did not improve from 1.00000\n",
      "828/828 [==============================] - 9s 11ms/step - loss: 1.1068e-09 - acc: 1.0000 - mae: 2.1362e-09 - val_loss: 4.4564e-07 - val_acc: 1.0000 - val_mae: 2.9805e-07\n",
      "Epoch 3/5\n",
      "828/828 [==============================] - ETA: 0s - loss: 4.4991e-10 - acc: 1.0000 - mae: 1.2204e-09\n",
      "Epoch 00003: val_acc did not improve from 1.00000\n",
      "828/828 [==============================] - 9s 11ms/step - loss: 4.4991e-10 - acc: 1.0000 - mae: 1.2204e-09 - val_loss: 3.2115e-07 - val_acc: 1.0000 - val_mae: 2.1478e-07\n",
      "Epoch 4/5\n",
      "824/828 [============================>.] - ETA: 0s - loss: 2.8934e-10 - acc: 1.0000 - mae: 8.6084e-10\n",
      "Epoch 00004: val_acc did not improve from 1.00000\n",
      "828/828 [==============================] - 9s 11ms/step - loss: 2.9694e-10 - acc: 1.0000 - mae: 8.6648e-10 - val_loss: 2.6537e-07 - val_acc: 1.0000 - val_mae: 1.7750e-07\n",
      "Epoch 5/5\n",
      "828/828 [==============================] - ETA: 0s - loss: 2.2496e-10 - acc: 1.0000 - mae: 6.6499e-10\n",
      "Epoch 00005: val_acc did not improve from 1.00000\n",
      "828/828 [==============================] - 9s 11ms/step - loss: 2.2496e-10 - acc: 1.0000 - mae: 6.6499e-10 - val_loss: 2.2538e-07 - val_acc: 1.0000 - val_mae: 1.5073e-07\n"
     ]
    }
   ],
   "source": [
    "model.compile(optimizer='adam', loss='categorical_crossentropy', metrics=['acc', 'mae'])\n",
    "history = model.fit(x_train, y_train,\n",
    "                    validation_data=(x_valid, y_valid),\n",
    "                    epochs=5, \n",
    "                    callbacks=[es, mc], \n",
    "                    batch_size=16)"
   ]
  },
  {
   "cell_type": "code",
   "execution_count": null,
   "metadata": {},
   "outputs": [],
   "source": []
  },
  {
   "cell_type": "markdown",
   "metadata": {},
   "source": [
    "## 2-BERT"
   ]
  },
  {
   "cell_type": "code",
   "execution_count": 4,
   "metadata": {},
   "outputs": [],
   "source": [
    "# WARNING 비활성화\n",
    "import warnings\n",
    "warnings.filterwarnings('ignore')"
   ]
  },
  {
   "cell_type": "markdown",
   "metadata": {},
   "source": [
    "#### Load Pretrained Bert"
   ]
  },
  {
   "cell_type": "code",
   "execution_count": 171,
   "metadata": {},
   "outputs": [],
   "source": [
    "import tensorflow_hub as hub\n",
    "\n",
    "bert_layer = hub.KerasLayer('https://tfhub.dev/tensorflow/bert_en_uncased_L-24_H-1024_A-16/1', trainable=True)\n",
    "vocab_file = bert_layer.resolved_object.vocab_file.asset_path.numpy()"
   ]
  },
  {
   "cell_type": "code",
   "execution_count": 179,
   "metadata": {},
   "outputs": [
    {
     "name": "stdout",
     "output_type": "stream",
     "text": [
      "404: Not Found\n"
     ]
    },
    {
     "name": "stderr",
     "output_type": "stream",
     "text": [
      "  % Total    % Received % Xferd  Average Speed   Time    Time     Time  Current\n",
      "                                 Dload  Upload   Total   Spent    Left  Speed\n",
      "\n",
      "  0     0    0     0    0     0      0      0 --:--:-- --:--:-- --:--:--     0\n",
      "100    14  100    14    0     0    170      0 --:--:-- --:--:-- --:--:--   172\n"
     ]
    }
   ],
   "source": [
    "!curl \"https://raw.githubusercontent.com/tensorflow/models/master/official/nlp/bert/tokenization.py\""
   ]
  },
  {
   "cell_type": "code",
   "execution_count": null,
   "metadata": {},
   "outputs": [],
   "source": []
  },
  {
   "cell_type": "markdown",
   "metadata": {},
   "source": [
    "## Build Bert Model"
   ]
  },
  {
   "cell_type": "code",
   "execution_count": null,
   "metadata": {},
   "outputs": [],
   "source": []
  },
  {
   "cell_type": "code",
   "execution_count": null,
   "metadata": {},
   "outputs": [],
   "source": []
  },
  {
   "cell_type": "markdown",
   "metadata": {},
   "source": [
    "#### Load Bert Tokenizer"
   ]
  },
  {
   "cell_type": "code",
   "execution_count": 449,
   "metadata": {},
   "outputs": [],
   "source": [
    "import torch\n",
    "from transformers import BertModel, BertConfig, BertTokenizer, BertForSequenceClassification"
   ]
  },
  {
   "cell_type": "markdown",
   "metadata": {},
   "source": [
    "#### Sequence Classification 을 위한 BERT"
   ]
  },
  {
   "cell_type": "code",
   "execution_count": 450,
   "metadata": {},
   "outputs": [],
   "source": [
    "tokenizer = BertTokenizer(WORK_DIR+'/files/vocab.txt')\n",
    "config = BertConfig.from_json_file(WORK_DIR+\"/files/config_bertseqclassification.json\")\n",
    "model = BertForSequenceClassification(config)"
   ]
  },
  {
   "cell_type": "code",
   "execution_count": null,
   "metadata": {},
   "outputs": [],
   "source": []
  },
  {
   "cell_type": "markdown",
   "metadata": {},
   "source": [
    "#### 입출력 예제"
   ]
  },
  {
   "cell_type": "code",
   "execution_count": 451,
   "metadata": {},
   "outputs": [],
   "source": [
    "text = ['소령 월급은 얼마니', '중령 월급은 얼마니', '여의도 근처 놀데있으려나?', '배고파.. 오늘 저녁 뭐먹지', '수원에 놀데있어?']\n",
    "target = torch.tensor([0,0,1,2,1])"
   ]
  },
  {
   "cell_type": "code",
   "execution_count": 452,
   "metadata": {},
   "outputs": [
    {
     "data": {
      "text/plain": [
       "{'input_ids': [[101, 1461, 30011, 29994, 30010, 30025, 1463, 30015, 30022, 29991, 30017, 30024, 29999, 30017, 30021, 1463, 30008, 30022, 29995, 30006, 29992, 30019, 102, 0, 0, 0, 0], [101, 1464, 30014, 30025, 29994, 30010, 30025, 1463, 30015, 30022, 29991, 30017, 30024, 29999, 30017, 30021, 1463, 30008, 30022, 29995, 30006, 29992, 30019, 102, 0, 0, 0], [101, 1463, 30010, 29999, 30018, 29993, 30011, 1455, 30017, 30021, 30001, 30008, 100, 1029, 102, 0, 0, 0, 0, 0, 0, 0, 0, 0, 0, 0, 0], [101, 1460, 30007, 29991, 30011, 30004, 30006, 1012, 1012, 1463, 30011, 29992, 30017, 30022, 1464, 30008, 29992, 30010, 30020, 1459, 30015, 29995, 30008, 30020, 30000, 30019, 102], [101, 1461, 30014, 29999, 30015, 30021, 29999, 30009, 100, 1029, 102, 0, 0, 0, 0, 0, 0, 0, 0, 0, 0, 0, 0, 0, 0, 0, 0]], 'token_type_ids': [[0, 0, 0, 0, 0, 0, 0, 0, 0, 0, 0, 0, 0, 0, 0, 0, 0, 0, 0, 0, 0, 0, 0, 0, 0, 0, 0], [0, 0, 0, 0, 0, 0, 0, 0, 0, 0, 0, 0, 0, 0, 0, 0, 0, 0, 0, 0, 0, 0, 0, 0, 0, 0, 0], [0, 0, 0, 0, 0, 0, 0, 0, 0, 0, 0, 0, 0, 0, 0, 0, 0, 0, 0, 0, 0, 0, 0, 0, 0, 0, 0], [0, 0, 0, 0, 0, 0, 0, 0, 0, 0, 0, 0, 0, 0, 0, 0, 0, 0, 0, 0, 0, 0, 0, 0, 0, 0, 0], [0, 0, 0, 0, 0, 0, 0, 0, 0, 0, 0, 0, 0, 0, 0, 0, 0, 0, 0, 0, 0, 0, 0, 0, 0, 0, 0]], 'attention_mask': [[1, 1, 1, 1, 1, 1, 1, 1, 1, 1, 1, 1, 1, 1, 1, 1, 1, 1, 1, 1, 1, 1, 1, 0, 0, 0, 0], [1, 1, 1, 1, 1, 1, 1, 1, 1, 1, 1, 1, 1, 1, 1, 1, 1, 1, 1, 1, 1, 1, 1, 1, 0, 0, 0], [1, 1, 1, 1, 1, 1, 1, 1, 1, 1, 1, 1, 1, 1, 1, 0, 0, 0, 0, 0, 0, 0, 0, 0, 0, 0, 0], [1, 1, 1, 1, 1, 1, 1, 1, 1, 1, 1, 1, 1, 1, 1, 1, 1, 1, 1, 1, 1, 1, 1, 1, 1, 1, 1], [1, 1, 1, 1, 1, 1, 1, 1, 1, 1, 1, 0, 0, 0, 0, 0, 0, 0, 0, 0, 0, 0, 0, 0, 0, 0, 0]]}"
      ]
     },
     "execution_count": 452,
     "metadata": {},
     "output_type": "execute_result"
    }
   ],
   "source": [
    "encoded_input = tokenizer(text, padding=True)\n",
    "encoded_input"
   ]
  },
  {
   "cell_type": "code",
   "execution_count": 453,
   "metadata": {},
   "outputs": [
    {
     "data": {
      "text/plain": [
       "BertConfig {\n",
       "  \"architectures\": [\n",
       "    \"BertForSequenceClassification\"\n",
       "  ],\n",
       "  \"attention_probs_dropout_prob\": 0.1,\n",
       "  \"classifier_dropout\": null,\n",
       "  \"finetuning_task\": \"yelp_polarity\",\n",
       "  \"gradient_checkpointing\": false,\n",
       "  \"hidden_act\": \"gelu\",\n",
       "  \"hidden_dropout_prob\": 0.1,\n",
       "  \"hidden_size\": 768,\n",
       "  \"id2label\": {\n",
       "    \"0\": \"LABEL_0\",\n",
       "    \"1\": \"LABEL_1\",\n",
       "    \"2\": \"LABEL_2\"\n",
       "  },\n",
       "  \"initializer_range\": 0.02,\n",
       "  \"intermediate_size\": 3072,\n",
       "  \"label2id\": {\n",
       "    \"LABEL_0\": 0,\n",
       "    \"LABEL_1\": 1,\n",
       "    \"LABEL_2\": 2\n",
       "  },\n",
       "  \"layer_norm_eps\": 1e-12,\n",
       "  \"max_position_embeddings\": 512,\n",
       "  \"model_type\": \"bert\",\n",
       "  \"num_attention_heads\": 12,\n",
       "  \"num_hidden_layers\": 12,\n",
       "  \"pad_token_id\": 0,\n",
       "  \"position_embedding_type\": \"absolute\",\n",
       "  \"transformers_version\": \"4.20.1\",\n",
       "  \"type_vocab_size\": 2,\n",
       "  \"use_cache\": true,\n",
       "  \"vocab_size\": 30522\n",
       "}"
      ]
     },
     "execution_count": 453,
     "metadata": {},
     "output_type": "execute_result"
    }
   ],
   "source": [
    "model.config"
   ]
  },
  {
   "cell_type": "code",
   "execution_count": 454,
   "metadata": {},
   "outputs": [],
   "source": [
    "train_inputs = torch.tensor(encoded_input['input_ids'])\n",
    "train_labels = torch.tensor(target)\n",
    "train_masks = torch.tensor(encoded_input['attention_mask'])"
   ]
  },
  {
   "cell_type": "code",
   "execution_count": 455,
   "metadata": {},
   "outputs": [],
   "source": [
    "outputs = model_seq(train_inputs, train_masks, token_type_ids=None, labels=target)"
   ]
  },
  {
   "cell_type": "code",
   "execution_count": 456,
   "metadata": {},
   "outputs": [
    {
     "data": {
      "text/plain": [
       "SequenceClassifierOutput(loss=tensor(1.2129, grad_fn=<NllLossBackward0>), logits=tensor([[-0.0795, -0.0783,  0.5641],\n",
       "        [-0.0488,  0.1285,  0.3108],\n",
       "        [ 0.1150, -0.1663,  0.3463],\n",
       "        [ 0.1898, -0.3048,  0.4282],\n",
       "        [ 0.1737,  0.1019,  0.3484]], grad_fn=<AddmmBackward0>), hidden_states=None, attentions=None)"
      ]
     },
     "execution_count": 456,
     "metadata": {},
     "output_type": "execute_result"
    }
   ],
   "source": [
    "outputs"
   ]
  },
  {
   "cell_type": "code",
   "execution_count": null,
   "metadata": {},
   "outputs": [],
   "source": []
  },
  {
   "cell_type": "code",
   "execution_count": null,
   "metadata": {},
   "outputs": [],
   "source": []
  },
  {
   "cell_type": "markdown",
   "metadata": {},
   "source": [
    "## Train BERT"
   ]
  },
  {
   "cell_type": "code",
   "execution_count": 444,
   "metadata": {},
   "outputs": [],
   "source": [
    "from transformers import AdamW\n",
    "optimizer = AdamW(model.parameters(),\n",
    "                  lr = 2e-5, # 학습률\n",
    "                  eps = 1e-8 # 0으로 나누는 것을 방지하기 위한 epsilon 값\n",
    "                )"
   ]
  },
  {
   "cell_type": "code",
   "execution_count": 445,
   "metadata": {},
   "outputs": [],
   "source": [
    "loss = outputs[0]\n",
    "loss.backward()\n",
    "torch.nn.utils.clip_grad_norm_(model_seq.parameters(), 1.0)\n",
    "optimizer.step()"
   ]
  },
  {
   "cell_type": "code",
   "execution_count": 446,
   "metadata": {},
   "outputs": [],
   "source": [
    "# model.eval()"
   ]
  },
  {
   "cell_type": "code",
   "execution_count": 447,
   "metadata": {},
   "outputs": [
    {
     "data": {
      "text/plain": [
       "{'input_ids': [[101, 1461, 30011, 29994, 30010, 30025, 1463, 30015, 30022, 29991, 30017, 30024, 29999, 30017, 30021, 1463, 30008, 30022, 29995, 30006, 29992, 30019, 102, 0], [101, 1464, 30014, 30025, 29994, 30010, 30025, 1463, 30015, 30022, 29991, 30017, 30024, 29999, 30017, 30021, 1463, 30008, 30022, 29995, 30006, 29992, 30019, 102], [101, 1459, 30009, 29994, 30011, 30025, 100, 102, 0, 0, 0, 0, 0, 0, 0, 0, 0, 0, 0, 0, 0, 0, 0, 0]], 'token_type_ids': [[0, 0, 0, 0, 0, 0, 0, 0, 0, 0, 0, 0, 0, 0, 0, 0, 0, 0, 0, 0, 0, 0, 0, 0], [0, 0, 0, 0, 0, 0, 0, 0, 0, 0, 0, 0, 0, 0, 0, 0, 0, 0, 0, 0, 0, 0, 0, 0], [0, 0, 0, 0, 0, 0, 0, 0, 0, 0, 0, 0, 0, 0, 0, 0, 0, 0, 0, 0, 0, 0, 0, 0]], 'attention_mask': [[1, 1, 1, 1, 1, 1, 1, 1, 1, 1, 1, 1, 1, 1, 1, 1, 1, 1, 1, 1, 1, 1, 1, 0], [1, 1, 1, 1, 1, 1, 1, 1, 1, 1, 1, 1, 1, 1, 1, 1, 1, 1, 1, 1, 1, 1, 1, 1], [1, 1, 1, 1, 1, 1, 1, 1, 0, 0, 0, 0, 0, 0, 0, 0, 0, 0, 0, 0, 0, 0, 0, 0]]}"
      ]
     },
     "execution_count": 447,
     "metadata": {},
     "output_type": "execute_result"
    }
   ],
   "source": [
    "test_input = tokenizer(['소령 월급은 얼마니', '중령 월급은 얼마니', '메롱 띠용삐용'], padding=True)\n",
    "test_inputs = torch.tensor(test_input['input_ids'])\n",
    "test_masks = torch.tensor(test_input['attention_mask'])\n",
    "test_input"
   ]
  },
  {
   "cell_type": "code",
   "execution_count": 448,
   "metadata": {},
   "outputs": [
    {
     "data": {
      "text/plain": [
       "SequenceClassifierOutput(loss=None, logits=tensor([[ 0.0555, -0.2256,  0.3133],\n",
       "        [-0.2305, -0.1767,  0.3153],\n",
       "        [ 0.0902, -0.4346,  0.4534]], grad_fn=<AddmmBackward0>), hidden_states=None, attentions=None)"
      ]
     },
     "execution_count": 448,
     "metadata": {},
     "output_type": "execute_result"
    }
   ],
   "source": [
    "preds = model_seq(test_inputs, test_masks)\n",
    "preds"
   ]
  },
  {
   "cell_type": "code",
   "execution_count": 188,
   "metadata": {
    "collapsed": true,
    "jupyter": {
     "outputs_hidden": true
    }
   },
   "outputs": [
    {
     "ename": "RuntimeError",
     "evalue": "Can't call numpy() on Tensor that requires grad. Use tensor.detach().numpy() instead.",
     "output_type": "error",
     "traceback": [
      "\u001b[1;31m---------------------------------------------------------------------------\u001b[0m",
      "\u001b[1;31mTypeError\u001b[0m                                 Traceback (most recent call last)",
      "\u001b[1;32mE:\\Anaconda\\lib\\site-packages\\numpy\\core\\fromnumeric.py\u001b[0m in \u001b[0;36m_wrapfunc\u001b[1;34m(obj, method, *args, **kwds)\u001b[0m\n\u001b[0;32m     60\u001b[0m     \u001b[1;32mtry\u001b[0m\u001b[1;33m:\u001b[0m\u001b[1;33m\u001b[0m\u001b[1;33m\u001b[0m\u001b[0m\n\u001b[1;32m---> 61\u001b[1;33m         \u001b[1;32mreturn\u001b[0m \u001b[0mbound\u001b[0m\u001b[1;33m(\u001b[0m\u001b[1;33m*\u001b[0m\u001b[0margs\u001b[0m\u001b[1;33m,\u001b[0m \u001b[1;33m**\u001b[0m\u001b[0mkwds\u001b[0m\u001b[1;33m)\u001b[0m\u001b[1;33m\u001b[0m\u001b[1;33m\u001b[0m\u001b[0m\n\u001b[0m\u001b[0;32m     62\u001b[0m     \u001b[1;32mexcept\u001b[0m \u001b[0mTypeError\u001b[0m\u001b[1;33m:\u001b[0m\u001b[1;33m\u001b[0m\u001b[1;33m\u001b[0m\u001b[0m\n",
      "\u001b[1;31mTypeError\u001b[0m: argmax() got an unexpected keyword argument 'axis'",
      "\nDuring handling of the above exception, another exception occurred:\n",
      "\u001b[1;31mRuntimeError\u001b[0m                              Traceback (most recent call last)",
      "\u001b[1;32m<ipython-input-188-1a62c99996ba>\u001b[0m in \u001b[0;36m<module>\u001b[1;34m\u001b[0m\n\u001b[0;32m      1\u001b[0m \u001b[1;32mimport\u001b[0m \u001b[0mnumpy\u001b[0m \u001b[1;32mas\u001b[0m \u001b[0mnp\u001b[0m\u001b[1;33m\u001b[0m\u001b[1;33m\u001b[0m\u001b[0m\n\u001b[1;32m----> 2\u001b[1;33m \u001b[0mnp\u001b[0m\u001b[1;33m.\u001b[0m\u001b[0margmax\u001b[0m\u001b[1;33m(\u001b[0m\u001b[0mpreds\u001b[0m\u001b[1;33m[\u001b[0m\u001b[1;36m0\u001b[0m\u001b[1;33m]\u001b[0m\u001b[1;33m,\u001b[0m \u001b[0maxis\u001b[0m\u001b[1;33m=\u001b[0m\u001b[1;36m1\u001b[0m\u001b[1;33m)\u001b[0m\u001b[1;33m.\u001b[0m\u001b[0mflatten\u001b[0m\u001b[1;33m(\u001b[0m\u001b[1;33m)\u001b[0m\u001b[1;33m\u001b[0m\u001b[1;33m\u001b[0m\u001b[0m\n\u001b[0m",
      "\u001b[1;32m<__array_function__ internals>\u001b[0m in \u001b[0;36margmax\u001b[1;34m(*args, **kwargs)\u001b[0m\n",
      "\u001b[1;32mE:\\Anaconda\\lib\\site-packages\\numpy\\core\\fromnumeric.py\u001b[0m in \u001b[0;36margmax\u001b[1;34m(a, axis, out)\u001b[0m\n\u001b[0;32m   1184\u001b[0m \u001b[1;33m\u001b[0m\u001b[0m\n\u001b[0;32m   1185\u001b[0m     \"\"\"\n\u001b[1;32m-> 1186\u001b[1;33m     \u001b[1;32mreturn\u001b[0m \u001b[0m_wrapfunc\u001b[0m\u001b[1;33m(\u001b[0m\u001b[0ma\u001b[0m\u001b[1;33m,\u001b[0m \u001b[1;34m'argmax'\u001b[0m\u001b[1;33m,\u001b[0m \u001b[0maxis\u001b[0m\u001b[1;33m=\u001b[0m\u001b[0maxis\u001b[0m\u001b[1;33m,\u001b[0m \u001b[0mout\u001b[0m\u001b[1;33m=\u001b[0m\u001b[0mout\u001b[0m\u001b[1;33m)\u001b[0m\u001b[1;33m\u001b[0m\u001b[1;33m\u001b[0m\u001b[0m\n\u001b[0m\u001b[0;32m   1187\u001b[0m \u001b[1;33m\u001b[0m\u001b[0m\n\u001b[0;32m   1188\u001b[0m \u001b[1;33m\u001b[0m\u001b[0m\n",
      "\u001b[1;32mE:\\Anaconda\\lib\\site-packages\\numpy\\core\\fromnumeric.py\u001b[0m in \u001b[0;36m_wrapfunc\u001b[1;34m(obj, method, *args, **kwds)\u001b[0m\n\u001b[0;32m     68\u001b[0m         \u001b[1;31m# Call _wrapit from within the except clause to ensure a potential\u001b[0m\u001b[1;33m\u001b[0m\u001b[1;33m\u001b[0m\u001b[1;33m\u001b[0m\u001b[0m\n\u001b[0;32m     69\u001b[0m         \u001b[1;31m# exception has a traceback chain.\u001b[0m\u001b[1;33m\u001b[0m\u001b[1;33m\u001b[0m\u001b[1;33m\u001b[0m\u001b[0m\n\u001b[1;32m---> 70\u001b[1;33m         \u001b[1;32mreturn\u001b[0m \u001b[0m_wrapit\u001b[0m\u001b[1;33m(\u001b[0m\u001b[0mobj\u001b[0m\u001b[1;33m,\u001b[0m \u001b[0mmethod\u001b[0m\u001b[1;33m,\u001b[0m \u001b[1;33m*\u001b[0m\u001b[0margs\u001b[0m\u001b[1;33m,\u001b[0m \u001b[1;33m**\u001b[0m\u001b[0mkwds\u001b[0m\u001b[1;33m)\u001b[0m\u001b[1;33m\u001b[0m\u001b[1;33m\u001b[0m\u001b[0m\n\u001b[0m\u001b[0;32m     71\u001b[0m \u001b[1;33m\u001b[0m\u001b[0m\n\u001b[0;32m     72\u001b[0m \u001b[1;33m\u001b[0m\u001b[0m\n",
      "\u001b[1;32mE:\\Anaconda\\lib\\site-packages\\numpy\\core\\fromnumeric.py\u001b[0m in \u001b[0;36m_wrapit\u001b[1;34m(obj, method, *args, **kwds)\u001b[0m\n\u001b[0;32m     45\u001b[0m     \u001b[1;32mexcept\u001b[0m \u001b[0mAttributeError\u001b[0m\u001b[1;33m:\u001b[0m\u001b[1;33m\u001b[0m\u001b[1;33m\u001b[0m\u001b[0m\n\u001b[0;32m     46\u001b[0m         \u001b[0mwrap\u001b[0m \u001b[1;33m=\u001b[0m \u001b[1;32mNone\u001b[0m\u001b[1;33m\u001b[0m\u001b[1;33m\u001b[0m\u001b[0m\n\u001b[1;32m---> 47\u001b[1;33m     \u001b[0mresult\u001b[0m \u001b[1;33m=\u001b[0m \u001b[0mgetattr\u001b[0m\u001b[1;33m(\u001b[0m\u001b[0masarray\u001b[0m\u001b[1;33m(\u001b[0m\u001b[0mobj\u001b[0m\u001b[1;33m)\u001b[0m\u001b[1;33m,\u001b[0m \u001b[0mmethod\u001b[0m\u001b[1;33m)\u001b[0m\u001b[1;33m(\u001b[0m\u001b[1;33m*\u001b[0m\u001b[0margs\u001b[0m\u001b[1;33m,\u001b[0m \u001b[1;33m**\u001b[0m\u001b[0mkwds\u001b[0m\u001b[1;33m)\u001b[0m\u001b[1;33m\u001b[0m\u001b[1;33m\u001b[0m\u001b[0m\n\u001b[0m\u001b[0;32m     48\u001b[0m     \u001b[1;32mif\u001b[0m \u001b[0mwrap\u001b[0m\u001b[1;33m:\u001b[0m\u001b[1;33m\u001b[0m\u001b[1;33m\u001b[0m\u001b[0m\n\u001b[0;32m     49\u001b[0m         \u001b[1;32mif\u001b[0m \u001b[1;32mnot\u001b[0m \u001b[0misinstance\u001b[0m\u001b[1;33m(\u001b[0m\u001b[0mresult\u001b[0m\u001b[1;33m,\u001b[0m \u001b[0mmu\u001b[0m\u001b[1;33m.\u001b[0m\u001b[0mndarray\u001b[0m\u001b[1;33m)\u001b[0m\u001b[1;33m:\u001b[0m\u001b[1;33m\u001b[0m\u001b[1;33m\u001b[0m\u001b[0m\n",
      "\u001b[1;32mE:\\Anaconda\\lib\\site-packages\\numpy\\core\\_asarray.py\u001b[0m in \u001b[0;36masarray\u001b[1;34m(a, dtype, order)\u001b[0m\n\u001b[0;32m     83\u001b[0m \u001b[1;33m\u001b[0m\u001b[0m\n\u001b[0;32m     84\u001b[0m     \"\"\"\n\u001b[1;32m---> 85\u001b[1;33m     \u001b[1;32mreturn\u001b[0m \u001b[0marray\u001b[0m\u001b[1;33m(\u001b[0m\u001b[0ma\u001b[0m\u001b[1;33m,\u001b[0m \u001b[0mdtype\u001b[0m\u001b[1;33m,\u001b[0m \u001b[0mcopy\u001b[0m\u001b[1;33m=\u001b[0m\u001b[1;32mFalse\u001b[0m\u001b[1;33m,\u001b[0m \u001b[0morder\u001b[0m\u001b[1;33m=\u001b[0m\u001b[0morder\u001b[0m\u001b[1;33m)\u001b[0m\u001b[1;33m\u001b[0m\u001b[1;33m\u001b[0m\u001b[0m\n\u001b[0m\u001b[0;32m     86\u001b[0m \u001b[1;33m\u001b[0m\u001b[0m\n\u001b[0;32m     87\u001b[0m \u001b[1;33m\u001b[0m\u001b[0m\n",
      "\u001b[1;32mE:\\Anaconda\\lib\\site-packages\\torch\\_tensor.py\u001b[0m in \u001b[0;36m__array__\u001b[1;34m(self, dtype)\u001b[0m\n\u001b[0;32m    755\u001b[0m             \u001b[1;32mreturn\u001b[0m \u001b[0mhandle_torch_function\u001b[0m\u001b[1;33m(\u001b[0m\u001b[0mTensor\u001b[0m\u001b[1;33m.\u001b[0m\u001b[0m__array__\u001b[0m\u001b[1;33m,\u001b[0m \u001b[1;33m(\u001b[0m\u001b[0mself\u001b[0m\u001b[1;33m,\u001b[0m\u001b[1;33m)\u001b[0m\u001b[1;33m,\u001b[0m \u001b[0mself\u001b[0m\u001b[1;33m,\u001b[0m \u001b[0mdtype\u001b[0m\u001b[1;33m=\u001b[0m\u001b[0mdtype\u001b[0m\u001b[1;33m)\u001b[0m\u001b[1;33m\u001b[0m\u001b[1;33m\u001b[0m\u001b[0m\n\u001b[0;32m    756\u001b[0m         \u001b[1;32mif\u001b[0m \u001b[0mdtype\u001b[0m \u001b[1;32mis\u001b[0m \u001b[1;32mNone\u001b[0m\u001b[1;33m:\u001b[0m\u001b[1;33m\u001b[0m\u001b[1;33m\u001b[0m\u001b[0m\n\u001b[1;32m--> 757\u001b[1;33m             \u001b[1;32mreturn\u001b[0m \u001b[0mself\u001b[0m\u001b[1;33m.\u001b[0m\u001b[0mnumpy\u001b[0m\u001b[1;33m(\u001b[0m\u001b[1;33m)\u001b[0m\u001b[1;33m\u001b[0m\u001b[1;33m\u001b[0m\u001b[0m\n\u001b[0m\u001b[0;32m    758\u001b[0m         \u001b[1;32melse\u001b[0m\u001b[1;33m:\u001b[0m\u001b[1;33m\u001b[0m\u001b[1;33m\u001b[0m\u001b[0m\n\u001b[0;32m    759\u001b[0m             \u001b[1;32mreturn\u001b[0m \u001b[0mself\u001b[0m\u001b[1;33m.\u001b[0m\u001b[0mnumpy\u001b[0m\u001b[1;33m(\u001b[0m\u001b[1;33m)\u001b[0m\u001b[1;33m.\u001b[0m\u001b[0mastype\u001b[0m\u001b[1;33m(\u001b[0m\u001b[0mdtype\u001b[0m\u001b[1;33m,\u001b[0m \u001b[0mcopy\u001b[0m\u001b[1;33m=\u001b[0m\u001b[1;32mFalse\u001b[0m\u001b[1;33m)\u001b[0m\u001b[1;33m\u001b[0m\u001b[1;33m\u001b[0m\u001b[0m\n",
      "\u001b[1;31mRuntimeError\u001b[0m: Can't call numpy() on Tensor that requires grad. Use tensor.detach().numpy() instead."
     ]
    }
   ],
   "source": [
    "import numpy as np\n",
    "np.argmax(preds[0], axis=1).flatten()"
   ]
  },
  {
   "cell_type": "code",
   "execution_count": null,
   "metadata": {},
   "outputs": [],
   "source": [
    "# 학습\n",
    "# 정확도 계산 함수\n",
    "def flat_accuracy(preds, labels):\n",
    "    \n",
    "    pred_flat = np.argmax(preds, axis=1).flatten()\n",
    "    labels_flat = labels.flatten()\n",
    "\n",
    "    return np.sum(pred_flat == labels_flat) / len(labels_flat)"
   ]
  },
  {
   "cell_type": "code",
   "execution_count": 62,
   "metadata": {},
   "outputs": [],
   "source": [
    "def build_model(bert_layer, max_len):\n",
    "    \n",
    "    encoded_input = tokenizer(text, return_tensors='pt')\n",
    "    outputs = bert_layer(**encoded_input)\n",
    "    clf_output = outputs.last_hidden_state[:, 0, :]\n",
    "    output = Dense(1, activation='sigmoid')(clf_output)\n",
    "    model = Model([input_tk, input_mask, input_seg], output)\n",
    "    model.compile(metrics=['acc'], loss='binary_crossentropy', optimizer=Adam(lr=0.00001))\n",
    "    \n",
    "    return model"
   ]
  },
  {
   "cell_type": "code",
   "execution_count": null,
   "metadata": {},
   "outputs": [],
   "source": []
  },
  {
   "cell_type": "code",
   "execution_count": null,
   "metadata": {},
   "outputs": [],
   "source": []
  },
  {
   "cell_type": "markdown",
   "metadata": {},
   "source": [
    "## 모델 저장"
   ]
  },
  {
   "cell_type": "code",
   "execution_count": 148,
   "metadata": {},
   "outputs": [
    {
     "name": "stdout",
     "output_type": "stream",
     "text": [
      "104/104 [==============================] - 1s 9ms/step - loss: 2.1329e-04 - acc: 1.0000\n",
      "\n",
      " 테스트 정확도: 1.0000\n"
     ]
    }
   ],
   "source": [
    "loaded_model = load_model(WORK_DIR+'/models/intent_model.h5')\n",
    "print(\"\\n 테스트 정확도: %.4f\" % (loaded_model.evaluate(x_valid, y_valid)[1]))"
   ]
  },
  {
   "cell_type": "code",
   "execution_count": null,
   "metadata": {},
   "outputs": [],
   "source": []
  },
  {
   "cell_type": "markdown",
   "metadata": {},
   "source": [
    "## 토크나이저 저장"
   ]
  },
  {
   "cell_type": "code",
   "execution_count": 149,
   "metadata": {},
   "outputs": [],
   "source": [
    "# saving\n",
    "with open(WORK_DIR+'/files/intent_tokenizer.pickle', 'wb') as handle:\n",
    "    pickle.dump(tokenizer, handle, protocol=pickle.HIGHEST_PROTOCOL)"
   ]
  },
  {
   "cell_type": "code",
   "execution_count": 150,
   "metadata": {},
   "outputs": [],
   "source": [
    "with open(WORK_DIR+'/files/intent_tokenizer.pickle', 'rb') as handle:\n",
    "    loaded_tokenizer = pickle.load(handle)"
   ]
  },
  {
   "cell_type": "code",
   "execution_count": null,
   "metadata": {},
   "outputs": [],
   "source": []
  },
  {
   "cell_type": "markdown",
   "metadata": {},
   "source": [
    "# 테스트"
   ]
  },
  {
   "cell_type": "code",
   "execution_count": 151,
   "metadata": {},
   "outputs": [],
   "source": [
    "def predict(new_sentence, label_to_intent=idxs):\n",
    "  new_sentence = mecab.morphs(new_sentence) # 토큰화\n",
    "  encoded = loaded_tokenizer.texts_to_sequences([new_sentence]) # 정수 인코딩\n",
    "  pad_new = pad_sequences(encoded, maxlen = max_len) # 패딩\n",
    "  y_predicted = loaded_model.predict(pad_new) # 예측\n",
    "  max_predicted = np.argmax(y_predicted, axis=-1) # 원-핫 인코딩을 다시 정수 인코딩으로 변경함.\n",
    "  return label_to_intent[max_predicted[0]], y_predicted"
   ]
  },
  {
   "cell_type": "code",
   "execution_count": 152,
   "metadata": {},
   "outputs": [
    {
     "data": {
      "text/plain": [
       "('pay', array([[0.01460196, 0.98327684, 0.00212127]], dtype=float32))"
      ]
     },
     "execution_count": 152,
     "metadata": {},
     "output_type": "execute_result"
    }
   ],
   "source": [
    "predict('봉급 얼마임?')"
   ]
  },
  {
   "cell_type": "code",
   "execution_count": 153,
   "metadata": {},
   "outputs": [
    {
     "data": {
      "text/plain": [
       "('welfare', array([[0.49624124, 0.00063655, 0.5031222 ]], dtype=float32))"
      ]
     },
     "execution_count": 153,
     "metadata": {},
     "output_type": "execute_result"
    }
   ],
   "source": [
    "predict('여의도 근처 놀데 있나?')"
   ]
  },
  {
   "cell_type": "code",
   "execution_count": 154,
   "metadata": {},
   "outputs": [
    {
     "data": {
      "text/plain": [
       "('welfare',\n",
       " array([[7.7501778e-03, 2.6911750e-04, 9.9198067e-01]], dtype=float32))"
      ]
     },
     "execution_count": 154,
     "metadata": {},
     "output_type": "execute_result"
    }
   ],
   "source": [
    "predict('소노캄에 뭐있어?')"
   ]
  },
  {
   "cell_type": "code",
   "execution_count": 155,
   "metadata": {},
   "outputs": [
    {
     "data": {
      "text/plain": [
       "('chat', array([[9.9920541e-01, 1.4409085e-04, 6.5045519e-04]], dtype=float32))"
      ]
     },
     "execution_count": 155,
     "metadata": {},
     "output_type": "execute_result"
    }
   ],
   "source": [
    "predict('요즘 대위는 얼마정도 받으려나..')"
   ]
  },
  {
   "cell_type": "code",
   "execution_count": 156,
   "metadata": {},
   "outputs": [
    {
     "data": {
      "text/plain": [
       "('pay', array([[1.2856015e-04, 9.9976009e-01, 1.1130963e-04]], dtype=float32))"
      ]
     },
     "execution_count": 156,
     "metadata": {},
     "output_type": "execute_result"
    }
   ],
   "source": [
    "predict('소령 3호봉 얼마받는지 궁금쓰')"
   ]
  },
  {
   "cell_type": "code",
   "execution_count": 157,
   "metadata": {},
   "outputs": [
    {
     "data": {
      "text/plain": [
       "('chat', array([[9.9979275e-01, 1.2850716e-05, 1.9441132e-04]], dtype=float32))"
      ]
     },
     "execution_count": 157,
     "metadata": {},
     "output_type": "execute_result"
    }
   ],
   "source": [
    "predict('배고파 저녁뭐먹지?')"
   ]
  },
  {
   "cell_type": "code",
   "execution_count": null,
   "metadata": {},
   "outputs": [],
   "source": []
  }
 ],
 "metadata": {
  "accelerator": "GPU",
  "colab": {
   "background_execution": "on",
   "collapsed_sections": [
    "TDRKEhjLIR9j",
    "vVPHTPfvIOr7"
   ],
   "include_colab_link": true,
   "machine_shape": "hm",
   "name": "22'Military_Chatbot.ipynb",
   "provenance": []
  },
  "gpuClass": "standard",
  "kernelspec": {
   "display_name": "Python 3",
   "language": "python",
   "name": "python3"
  },
  "language_info": {
   "codemirror_mode": {
    "name": "ipython",
    "version": 3
   },
   "file_extension": ".py",
   "mimetype": "text/x-python",
   "name": "python",
   "nbconvert_exporter": "python",
   "pygments_lexer": "ipython3",
   "version": "3.7.6"
  }
 },
 "nbformat": 4,
 "nbformat_minor": 4
}
